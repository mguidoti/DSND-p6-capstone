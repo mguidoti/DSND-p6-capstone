{
 "metadata": {
  "language_info": {
   "codemirror_mode": {
    "name": "ipython",
    "version": 3
   },
   "file_extension": ".py",
   "mimetype": "text/x-python",
   "name": "python",
   "nbconvert_exporter": "python",
   "pygments_lexer": "ipython3",
   "version": "3.7.7-final"
  },
  "orig_nbformat": 2,
  "kernelspec": {
   "name": "python37764bitp6capstonepipenv5669ae6087ed4b09baa5acbea9b4f0de",
   "display_name": "Python 3.7.7 64-bit ('p6-capstone': pipenv)"
  }
 },
 "nbformat": 4,
 "nbformat_minor": 2,
 "cells": [
  {
   "source": [
    "# General"
   ],
   "cell_type": "markdown",
   "metadata": {}
  },
  {
   "source": [
    "## Importing Libraries and Modules"
   ],
   "cell_type": "markdown",
   "metadata": {}
  },
  {
   "cell_type": "code",
   "execution_count": 2,
   "metadata": {},
   "outputs": [],
   "source": [
    "import pandas as pd\n",
    "import matplotlib as plt\n",
    "\n",
    "import pickle\n",
    "\n",
    "from sqlalchemy import create_engine\n",
    "\n",
    "import etl.extract.tb as tb_proc \n",
    "import etl.extract.wos as wos_parser\n",
    "import etl.transform.transform as transform\n",
    "import etl.transform.doaj as doaj\n",
    "import etl.transform.sherpa_romeo as sherpa\n",
    "import etl.load as load\n",
    "import test_units.test_extract as test_ext\n",
    "import test_units.test_transform as test_tf"
   ]
  },
  {
   "source": [
    "## CRISP-DM"
   ],
   "cell_type": "markdown",
   "metadata": {}
  },
  {
   "source": [
    "## ETL"
   ],
   "cell_type": "markdown",
   "metadata": {}
  },
  {
   "source": [
    "### (E)xtraction\n"
   ],
   "cell_type": "markdown",
   "metadata": {}
  },
  {
   "source": [
    "#### Web of Science/Zoological Records\n",
    "WoS do not provide an API, as far as I know, and has strict access policies across the board of all of their products. Thus, I downloaded the search results using their GUI, manually, and coded a parser from scratch that loads the data from the 150+ files into a SQLite database.\n",
    "\n",
    "The specifics on how I queried this system is in the report, Methods section."
   ],
   "cell_type": "markdown",
   "metadata": {}
  },
  {
   "cell_type": "code",
   "execution_count": 3,
   "metadata": {},
   "outputs": [],
   "source": [
    "# Parse data, creates df\n",
    "# I commented out this command when I was working on the notebook, to accelerate the process of reloading this dataset\n",
    "#wos = wos_parser.create_df()\n",
    "\n",
    "# This is commented out because it generates a over 200Mb file that I couldn't push to GitHub, so I'm leaving it here \n",
    "#wos_parser.to_pickle(wos, 'data/wos.p')\n",
    "\n",
    "# Use the non-provided pickle file to reload this, if necessary (faster than re-parsing it!)\n",
    "wos = pd.read_pickle('data/wos.p')"
   ]
  },
  {
   "cell_type": "code",
   "execution_count": 4,
   "metadata": {},
   "outputs": [
    {
     "output_type": "execute_result",
     "data": {
      "text/plain": "  Publication Type Zoological Record Accession Number Document Type  \\\n0                J                    ZOOR14707048981       Article   \n1                J                    ZOOR14707048982       Article   \n2                J                    ZOOR14707048983       Article   \n3                J                    ZOOR14707048985       Article   \n4                J                    ZOOR14707048986       Article   \n\n                                               Title  \\\n0  Orthopterans of the Reserva Biologica Alberto ...   \n1  Further considerations on the genus Ananteris ...   \n2  Description of a new species of the genus Mela...   \n3  New arachnids from Puerto Rico (Arachnida: Amb...   \n4  Description of new hypogean taxa of Laparoceru...   \n\n                                       Foreign Title  \\\n0  Ortopteros de la Reserva Biologica Alberto Man...   \n1                                                NaN   \n2  Descripcion de una nueva especie del genero Me...   \n3  Nuevos aracnidos de Puerto Rico (Arachnida: Am...   \n4  Descripcion de nuevos Laparocerus hipogeos de ...   \n\n                                             Authors             Source  \\\n0                    Barranco, Pablo (pbvega@ual.es)  Boletin de la SEA   \n1  Lourenco, Wilson R. (arache@mnhn.fr), Duhem, B...  Boletin de la SEA   \n2             Ferrer, Julio, Tovar, Alejandro Castro  Boletin de la SEA   \n3            de Armas, Luis F. (zoologia.ies@ama.cu)  Boletin de la SEA   \n4  Machado, Antonio (a.machado@telefonica.net), G...  Boletin de la SEA   \n\n  Volume Page Span Publication Date  ... Journal URL Item URL Notes  NaN  \\\n0     47     21-32      31 Dec 2010  ...         NaN      NaN   NaN  NaN   \n1     47     33-38      31 Dec 2010  ...         NaN      NaN   NaN  NaN   \n2     47     39-44      31 Dec 2010  ...         NaN      NaN   NaN  NaN   \n3     47     55-64      31 Dec 2010  ...         NaN      NaN   NaN  NaN   \n4     47     65-69      31 Dec 2010  ...         NaN      NaN   NaN  NaN   \n\n  Book Authors Publisher Publisher Address  \\\n0          NaN       NaN               NaN   \n1          NaN       NaN               NaN   \n2          NaN       NaN               NaN   \n3          NaN       NaN               NaN   \n4          NaN       NaN               NaN   \n\n  International Standard Book Number (ISBN) Editors Group Authors  \n0                                       NaN     NaN           NaN  \n1                                       NaN     NaN           NaN  \n2                                       NaN     NaN           NaN  \n3                                       NaN     NaN           NaN  \n4                                       NaN     NaN           NaN  \n\n[5 rows x 42 columns]",
      "text/html": "<div>\n<style scoped>\n    .dataframe tbody tr th:only-of-type {\n        vertical-align: middle;\n    }\n\n    .dataframe tbody tr th {\n        vertical-align: top;\n    }\n\n    .dataframe thead th {\n        text-align: right;\n    }\n</style>\n<table border=\"1\" class=\"dataframe\">\n  <thead>\n    <tr style=\"text-align: right;\">\n      <th></th>\n      <th>Publication Type</th>\n      <th>Zoological Record Accession Number</th>\n      <th>Document Type</th>\n      <th>Title</th>\n      <th>Foreign Title</th>\n      <th>Authors</th>\n      <th>Source</th>\n      <th>Volume</th>\n      <th>Page Span</th>\n      <th>Publication Date</th>\n      <th>...</th>\n      <th>Journal URL</th>\n      <th>Item URL</th>\n      <th>Notes</th>\n      <th>NaN</th>\n      <th>Book Authors</th>\n      <th>Publisher</th>\n      <th>Publisher Address</th>\n      <th>International Standard Book Number (ISBN)</th>\n      <th>Editors</th>\n      <th>Group Authors</th>\n    </tr>\n  </thead>\n  <tbody>\n    <tr>\n      <th>0</th>\n      <td>J</td>\n      <td>ZOOR14707048981</td>\n      <td>Article</td>\n      <td>Orthopterans of the Reserva Biologica Alberto ...</td>\n      <td>Ortopteros de la Reserva Biologica Alberto Man...</td>\n      <td>Barranco, Pablo (pbvega@ual.es)</td>\n      <td>Boletin de la SEA</td>\n      <td>47</td>\n      <td>21-32</td>\n      <td>31 Dec 2010</td>\n      <td>...</td>\n      <td>NaN</td>\n      <td>NaN</td>\n      <td>NaN</td>\n      <td>NaN</td>\n      <td>NaN</td>\n      <td>NaN</td>\n      <td>NaN</td>\n      <td>NaN</td>\n      <td>NaN</td>\n      <td>NaN</td>\n    </tr>\n    <tr>\n      <th>1</th>\n      <td>J</td>\n      <td>ZOOR14707048982</td>\n      <td>Article</td>\n      <td>Further considerations on the genus Ananteris ...</td>\n      <td>NaN</td>\n      <td>Lourenco, Wilson R. (arache@mnhn.fr), Duhem, B...</td>\n      <td>Boletin de la SEA</td>\n      <td>47</td>\n      <td>33-38</td>\n      <td>31 Dec 2010</td>\n      <td>...</td>\n      <td>NaN</td>\n      <td>NaN</td>\n      <td>NaN</td>\n      <td>NaN</td>\n      <td>NaN</td>\n      <td>NaN</td>\n      <td>NaN</td>\n      <td>NaN</td>\n      <td>NaN</td>\n      <td>NaN</td>\n    </tr>\n    <tr>\n      <th>2</th>\n      <td>J</td>\n      <td>ZOOR14707048983</td>\n      <td>Article</td>\n      <td>Description of a new species of the genus Mela...</td>\n      <td>Descripcion de una nueva especie del genero Me...</td>\n      <td>Ferrer, Julio, Tovar, Alejandro Castro</td>\n      <td>Boletin de la SEA</td>\n      <td>47</td>\n      <td>39-44</td>\n      <td>31 Dec 2010</td>\n      <td>...</td>\n      <td>NaN</td>\n      <td>NaN</td>\n      <td>NaN</td>\n      <td>NaN</td>\n      <td>NaN</td>\n      <td>NaN</td>\n      <td>NaN</td>\n      <td>NaN</td>\n      <td>NaN</td>\n      <td>NaN</td>\n    </tr>\n    <tr>\n      <th>3</th>\n      <td>J</td>\n      <td>ZOOR14707048985</td>\n      <td>Article</td>\n      <td>New arachnids from Puerto Rico (Arachnida: Amb...</td>\n      <td>Nuevos aracnidos de Puerto Rico (Arachnida: Am...</td>\n      <td>de Armas, Luis F. (zoologia.ies@ama.cu)</td>\n      <td>Boletin de la SEA</td>\n      <td>47</td>\n      <td>55-64</td>\n      <td>31 Dec 2010</td>\n      <td>...</td>\n      <td>NaN</td>\n      <td>NaN</td>\n      <td>NaN</td>\n      <td>NaN</td>\n      <td>NaN</td>\n      <td>NaN</td>\n      <td>NaN</td>\n      <td>NaN</td>\n      <td>NaN</td>\n      <td>NaN</td>\n    </tr>\n    <tr>\n      <th>4</th>\n      <td>J</td>\n      <td>ZOOR14707048986</td>\n      <td>Article</td>\n      <td>Description of new hypogean taxa of Laparoceru...</td>\n      <td>Descripcion de nuevos Laparocerus hipogeos de ...</td>\n      <td>Machado, Antonio (a.machado@telefonica.net), G...</td>\n      <td>Boletin de la SEA</td>\n      <td>47</td>\n      <td>65-69</td>\n      <td>31 Dec 2010</td>\n      <td>...</td>\n      <td>NaN</td>\n      <td>NaN</td>\n      <td>NaN</td>\n      <td>NaN</td>\n      <td>NaN</td>\n      <td>NaN</td>\n      <td>NaN</td>\n      <td>NaN</td>\n      <td>NaN</td>\n      <td>NaN</td>\n    </tr>\n  </tbody>\n</table>\n<p>5 rows × 42 columns</p>\n</div>"
     },
     "metadata": {},
     "execution_count": 4
    }
   ],
   "source": [
    "# Checking if it loaded\n",
    "wos.head()"
   ]
  },
  {
   "source": [
    "#### TreatmentBank (Plazi)\n",
    "TreatmentBank has a powerful API with GUI. I used it to built the target query, and copied/pasted their URL into my code. From there I processed the results, adding them into a SQLite database. "
   ],
   "cell_type": "markdown",
   "metadata": {}
  },
  {
   "cell_type": "code",
   "execution_count": 5,
   "metadata": {
    "tags": []
   },
   "outputs": [],
   "source": [
    "# Process the hard-coded API call and creates a database from it\n",
    "# I'm commenting out because the SQLite db was provided and it contains a snapshot of the data I analyzed. As this includes an API call, running this now might get new data, changing my results\n",
    "\n",
    "#tb_proc.create_db(tb_proc.get_data())\n",
    "\n",
    "# Alternatively, I can simply load the .db\n",
    "db_connect = create_engine('sqlite:///data/tb.db')\n",
    "\n",
    "tb = pd.read_sql(\"docs\", con=db_connect)"
   ]
  },
  {
   "cell_type": "code",
   "execution_count": 6,
   "metadata": {},
   "outputs": [
    {
     "output_type": "execute_result",
     "data": {
      "text/plain": "   id                                            authors  year  \\\n0   1  Fernandez-Triana, Jose L & Whitfield, James B ...  2014   \n1   2      Barrales-Alcala, Diego A. & Francke, Oscar F.  2018   \n2   3  Guevara-Guerrero, Gonzalo & Bonito, Gregory & ...  2018   \n3   4  Balke, Michael & Ruthensteiner, Bernhard & War...  2015   \n4   5          Costa, Wilson J. E. M. & Amorim, Pedro F.  2018   \n\n                                               title  \\\n0  First record of the genus Venanus (Hymenoptera...   \n1  A new Sky Island species of Vaejovis C. L. Koc...   \n2  Tuberaztecorum sp. nov., a truffle species fro...   \n3  Two new species of Limbodessus diving beetles ...   \n4  Cryptic species diversity in the Hypsolebiasma...   \n\n                     journal volume issue start_page end_page num_treats  \n0  Biodiversity Data Journal      2     0       4167     4167          4  \n1                    ZooKeys    760     0         37       53          2  \n2                   MycoKeys     30     0         61       72          2  \n3  Biodiversity Data Journal      3     0       7096     7096          4  \n4                    ZooKeys    777     0        141      158          4  ",
      "text/html": "<div>\n<style scoped>\n    .dataframe tbody tr th:only-of-type {\n        vertical-align: middle;\n    }\n\n    .dataframe tbody tr th {\n        vertical-align: top;\n    }\n\n    .dataframe thead th {\n        text-align: right;\n    }\n</style>\n<table border=\"1\" class=\"dataframe\">\n  <thead>\n    <tr style=\"text-align: right;\">\n      <th></th>\n      <th>id</th>\n      <th>authors</th>\n      <th>year</th>\n      <th>title</th>\n      <th>journal</th>\n      <th>volume</th>\n      <th>issue</th>\n      <th>start_page</th>\n      <th>end_page</th>\n      <th>num_treats</th>\n    </tr>\n  </thead>\n  <tbody>\n    <tr>\n      <th>0</th>\n      <td>1</td>\n      <td>Fernandez-Triana, Jose L &amp; Whitfield, James B ...</td>\n      <td>2014</td>\n      <td>First record of the genus Venanus (Hymenoptera...</td>\n      <td>Biodiversity Data Journal</td>\n      <td>2</td>\n      <td>0</td>\n      <td>4167</td>\n      <td>4167</td>\n      <td>4</td>\n    </tr>\n    <tr>\n      <th>1</th>\n      <td>2</td>\n      <td>Barrales-Alcala, Diego A. &amp; Francke, Oscar F.</td>\n      <td>2018</td>\n      <td>A new Sky Island species of Vaejovis C. L. Koc...</td>\n      <td>ZooKeys</td>\n      <td>760</td>\n      <td>0</td>\n      <td>37</td>\n      <td>53</td>\n      <td>2</td>\n    </tr>\n    <tr>\n      <th>2</th>\n      <td>3</td>\n      <td>Guevara-Guerrero, Gonzalo &amp; Bonito, Gregory &amp; ...</td>\n      <td>2018</td>\n      <td>Tuberaztecorum sp. nov., a truffle species fro...</td>\n      <td>MycoKeys</td>\n      <td>30</td>\n      <td>0</td>\n      <td>61</td>\n      <td>72</td>\n      <td>2</td>\n    </tr>\n    <tr>\n      <th>3</th>\n      <td>4</td>\n      <td>Balke, Michael &amp; Ruthensteiner, Bernhard &amp; War...</td>\n      <td>2015</td>\n      <td>Two new species of Limbodessus diving beetles ...</td>\n      <td>Biodiversity Data Journal</td>\n      <td>3</td>\n      <td>0</td>\n      <td>7096</td>\n      <td>7096</td>\n      <td>4</td>\n    </tr>\n    <tr>\n      <th>4</th>\n      <td>5</td>\n      <td>Costa, Wilson J. E. M. &amp; Amorim, Pedro F.</td>\n      <td>2018</td>\n      <td>Cryptic species diversity in the Hypsolebiasma...</td>\n      <td>ZooKeys</td>\n      <td>777</td>\n      <td>0</td>\n      <td>141</td>\n      <td>158</td>\n      <td>4</td>\n    </tr>\n  </tbody>\n</table>\n</div>"
     },
     "metadata": {},
     "execution_count": 6
    }
   ],
   "source": [
    "# Checking if it loaded\n",
    "tb.head()"
   ]
  },
  {
   "source": [
    "#### Zoobank\n",
    "As explained, I performed a web scraping to collect data from Zoobank. For this, I used a Scrapy project, with custom Item, ItemLoader, in- and output processors and ItemPipeline. These can't quite be run from here, as far as I know, I can only create a CrawlerProcess that won't have these functionalities. This was then saved into a SQLite database, which is alternatively loaded here."
   ],
   "cell_type": "markdown",
   "metadata": {}
  },
  {
   "cell_type": "code",
   "execution_count": 7,
   "metadata": {},
   "outputs": [],
   "source": [
    "# Load the .db created from the web scraping\n",
    "db_connect = create_engine('sqlite:///data/zb.db')\n",
    "\n",
    "zb = pd.read_sql(\"docs\", con=db_connect)"
   ]
  },
  {
   "cell_type": "code",
   "execution_count": 8,
   "metadata": {},
   "outputs": [
    {
     "output_type": "execute_result",
     "data": {
      "text/plain": "   id                                            authors  year  \\\n0   1  Achatz, Johannes G., Matthew D. Hooge, A. Wall...  2010   \n1   2   Affilastro, Andrés A. O. & Ignacio Garcia-Mauro.  2010   \n2   3                                   Ahyong, Shane T.  2010   \n3   4  Ahyong, Shane T., Keiji Baba, Enrique Macphers...  2010   \n4   5                     Aibek, Ulykpan & Seiki Yamane.  2010   \n\n                                               title  \\\n0  Systematic revision of acoels with 9+0 sperm u...   \n1  A new Bothriurus (Scorpiones, Bothriuridae) fr...   \n2  The marine fauna of New Zealand: king crabs of...   \n3  A new classification of the Galatheoidea (Crus...   \n4  Discovery of the Subgenera Austrolasius and De...   \n\n                                             journal  bibref_details volume  \\\n0  Journal of Zoological Systematics and Evolutio...     48(1): 9-32     48   \n1                                            Zootaxa     2488: 52-64   2488   \n2                                                 No                          \n3                                            Zootaxa     2676: 57-68   2676   \n4          Japanese Journal of systematic entomology  16(2): 197-202     16   \n\n  issue start_page end_page from_year  \n0     1          9       32      2010  \n1               52       64      2010  \n2                                2010  \n3               57       68      2010  \n4     2        197      202      2010  ",
      "text/html": "<div>\n<style scoped>\n    .dataframe tbody tr th:only-of-type {\n        vertical-align: middle;\n    }\n\n    .dataframe tbody tr th {\n        vertical-align: top;\n    }\n\n    .dataframe thead th {\n        text-align: right;\n    }\n</style>\n<table border=\"1\" class=\"dataframe\">\n  <thead>\n    <tr style=\"text-align: right;\">\n      <th></th>\n      <th>id</th>\n      <th>authors</th>\n      <th>year</th>\n      <th>title</th>\n      <th>journal</th>\n      <th>bibref_details</th>\n      <th>volume</th>\n      <th>issue</th>\n      <th>start_page</th>\n      <th>end_page</th>\n      <th>from_year</th>\n    </tr>\n  </thead>\n  <tbody>\n    <tr>\n      <th>0</th>\n      <td>1</td>\n      <td>Achatz, Johannes G., Matthew D. Hooge, A. Wall...</td>\n      <td>2010</td>\n      <td>Systematic revision of acoels with 9+0 sperm u...</td>\n      <td>Journal of Zoological Systematics and Evolutio...</td>\n      <td>48(1): 9-32</td>\n      <td>48</td>\n      <td>1</td>\n      <td>9</td>\n      <td>32</td>\n      <td>2010</td>\n    </tr>\n    <tr>\n      <th>1</th>\n      <td>2</td>\n      <td>Affilastro, Andrés A. O. &amp; Ignacio Garcia-Mauro.</td>\n      <td>2010</td>\n      <td>A new Bothriurus (Scorpiones, Bothriuridae) fr...</td>\n      <td>Zootaxa</td>\n      <td>2488: 52-64</td>\n      <td>2488</td>\n      <td></td>\n      <td>52</td>\n      <td>64</td>\n      <td>2010</td>\n    </tr>\n    <tr>\n      <th>2</th>\n      <td>3</td>\n      <td>Ahyong, Shane T.</td>\n      <td>2010</td>\n      <td>The marine fauna of New Zealand: king crabs of...</td>\n      <td>No</td>\n      <td></td>\n      <td></td>\n      <td></td>\n      <td></td>\n      <td></td>\n      <td>2010</td>\n    </tr>\n    <tr>\n      <th>3</th>\n      <td>4</td>\n      <td>Ahyong, Shane T., Keiji Baba, Enrique Macphers...</td>\n      <td>2010</td>\n      <td>A new classification of the Galatheoidea (Crus...</td>\n      <td>Zootaxa</td>\n      <td>2676: 57-68</td>\n      <td>2676</td>\n      <td></td>\n      <td>57</td>\n      <td>68</td>\n      <td>2010</td>\n    </tr>\n    <tr>\n      <th>4</th>\n      <td>5</td>\n      <td>Aibek, Ulykpan &amp; Seiki Yamane.</td>\n      <td>2010</td>\n      <td>Discovery of the Subgenera Austrolasius and De...</td>\n      <td>Japanese Journal of systematic entomology</td>\n      <td>16(2): 197-202</td>\n      <td>16</td>\n      <td>2</td>\n      <td>197</td>\n      <td>202</td>\n      <td>2010</td>\n    </tr>\n  </tbody>\n</table>\n</div>"
     },
     "metadata": {},
     "execution_count": 8
    }
   ],
   "source": [
    "# Checking if it loaded\n",
    "zb.head()"
   ]
  },
  {
   "source": [
    "#### Exploratory Analyses: Extraction Tests\n",
    "Here I will make a series of tests to check if I'm getting all the data that I was supposed to be getting. For that, I'm going to use Python's assert, and some manual observations.\n"
   ],
   "cell_type": "markdown",
   "metadata": {}
  },
  {
   "source": [
    "##### Web of Science/Zoological Records\n",
    "These were the observed results from the WoS GUI, per year:\n",
    "\n",
    "- 2010: 7207 results\n",
    "- 2011: 7480 results\n",
    "- 2012: 7604 results\n",
    "- 2013: 7655 results\n",
    "- 2014: 7456 results\n",
    "- 2015: 7983 results\n",
    "- 2016: 7859 results\n",
    "- 2017: 8023 results\n",
    "- 2018: 7973 results\n",
    "- 2019: 7664 results\n",
    "- 2020: 3548 results\n"
   ],
   "cell_type": "markdown",
   "metadata": {}
  },
  {
   "cell_type": "code",
   "execution_count": 9,
   "metadata": {},
   "outputs": [],
   "source": [
    "# Create a dict with year: official results, to be used on a data consistency test\n",
    "wos_results = {\n",
    "    '2010': 7207,\n",
    "    '2011': 7480,\n",
    "    '2012': 7604,\n",
    "    '2013': 7655,\n",
    "    '2014': 7456,\n",
    "    '2015': 7983,\n",
    "    '2016': 7859,\n",
    "    '2017': 8023,\n",
    "    '2018': 7973,\n",
    "    '2019': 7664,\n",
    "    '2020': 3548,\n",
    "}"
   ]
  },
  {
   "cell_type": "code",
   "execution_count": 10,
   "metadata": {},
   "outputs": [
    {
     "output_type": "execute_result",
     "data": {
      "text/plain": "Index([                                     'Publication Type',\n                          'Zoological Record Accession Number',\n                                               'Document Type',\n                                                       'Title',\n                                               'Foreign Title',\n                                                     'Authors',\n                                                      'Source',\n                                                      'Volume',\n                                                   'Page Span',\n                                            'Publication Date',\n                                              'Year Published',\n                                                    'Language',\n                                 'Usage Count (Last 180 Days)',\n                                    'Usage Count (Since 2013)',\n                                                    'Abstract',\n                                              'Author Address',\n                                              'E-mail Address',\n       'ORCID Identifier (Open Researcher and Contributor ID)',\n                                              'Research Areas',\n                 'International Standard Serial Number (ISSN)',\n                                                 'Broad Terms',\n                                            'Descriptors Data',\n                                                  'Taxa Notes',\n                                                  'Super Taxa',\n                                                 'Systematics',\n                                   'Unique Article Identifier',\n                              'Date this report was generated',\n                                                       'Issue',\n                                       'Open Access Indicator',\n                             'Digital Object Identifier (DOI)',\n                                         'ResearcherID Number',\n                                                  'Supplement',\n                                                 'Journal URL',\n                                                    'Item URL',\n                                                       'Notes',\n                                                          None,\n                                                'Book Authors',\n                                                   'Publisher',\n                                           'Publisher Address',\n                   'International Standard Book Number (ISBN)',\n                                                     'Editors',\n                                               'Group Authors'],\n      dtype='object')"
     },
     "metadata": {},
     "execution_count": 10
    }
   ],
   "source": [
    "# Checkout column names to get the right one: 'Year Published'\n",
    "wos.columns"
   ]
  },
  {
   "cell_type": "code",
   "execution_count": 11,
   "metadata": {},
   "outputs": [],
   "source": [
    "# Create a pandas.Series with the ordered counts of the 'Year Published' column\n",
    "wos_years_count = wos['Year Published'].value_counts().sort_index()"
   ]
  },
  {
   "cell_type": "code",
   "execution_count": 12,
   "metadata": {
    "tags": []
   },
   "outputs": [
    {
     "output_type": "stream",
     "name": "stdout",
     "text": "--------------------------------------------------------------------------\nTesting for... WOS/ZOOLOGICAL RECORDS\n--------------------------------------------------------------------------\nSUCCESS! Total count was equal between the processed and official results!\n--------------------------------------------------------------------------\nSUCCESS! the year 2010 seems to be fine!\nSUCCESS! the year 2011 seems to be fine!\nSUCCESS! the year 2012 seems to be fine!\nSUCCESS! the year 2013 seems to be fine!\nSUCCESS! the year 2014 seems to be fine!\nSUCCESS! the year 2015 seems to be fine!\nSUCCESS! the year 2016 seems to be fine!\nSUCCESS! the year 2017 seems to be fine!\nSUCCESS! the year 2018 seems to be fine!\nSUCCESS! the year 2019 seems to be fine!\nSUCCESS! the year 2020 seems to be fine!\n--------------------------------------------------------------------------\n"
    }
   ],
   "source": [
    "# Calling the test with WoS/Zoological Record data\n",
    "test_ext.check_consistency(\"WoS/Zoological Records\", wos_years_count, wos_results)"
   ]
  },
  {
   "source": [
    "##### TreatmentBank\n",
    "I can't make new API calls. The reason why is that as the data is live I might risk to get more data than I have got when I first run this, which could cause different results. \n",
    "\n",
    "That's why I saved a .pickle file with the entire response of the API on the routine call, besides the .db resulting of the processing of this data. As such, I can compare the total number of records in both (and per year!) to check if my processing missed something or not, using the same function applied to WoS data."
   ],
   "cell_type": "markdown",
   "metadata": {}
  },
  {
   "cell_type": "code",
   "execution_count": 13,
   "metadata": {},
   "outputs": [],
   "source": [
    "# Creating a dict with the counts of records per year, based on the total response saved from the API call to TreatmentBank\n",
    "\n",
    "# Open .pickle\n",
    "with open('data/tb_response.p', 'rb') as p_file:\n",
    "        tb_response = pickle.load(p_file)\n",
    "\n",
    "tb_response_years_count = dict()\n",
    "\n",
    "# Iterate over the full response, and create the counting\n",
    "for result in tb_response['data']:\n",
    "    try:\n",
    "        tb_response_years_count[result['BibYear']] += 1\n",
    "    except:\n",
    "        tb_response_years_count[result['BibYear']] = 1"
   ]
  },
  {
   "cell_type": "code",
   "execution_count": 14,
   "metadata": {},
   "outputs": [],
   "source": [
    "# Create a pandas.Series with the ordered counts of the 'year' column\n",
    "tb_years_count = tb['year'].value_counts().sort_index()"
   ]
  },
  {
   "cell_type": "code",
   "execution_count": 15,
   "metadata": {
    "tags": []
   },
   "outputs": [
    {
     "output_type": "stream",
     "name": "stdout",
     "text": "--------------------------------------------------------------------------\nTesting for... TREATMENTBANK\n--------------------------------------------------------------------------\nSUCCESS! Total count was equal between the processed and official results!\n--------------------------------------------------------------------------\nSUCCESS! the year 2014 seems to be fine!\nSUCCESS! the year 2018 seems to be fine!\nSUCCESS! the year 2015 seems to be fine!\nSUCCESS! the year 2016 seems to be fine!\nSUCCESS! the year 2013 seems to be fine!\nSUCCESS! the year 2017 seems to be fine!\nSUCCESS! the year 2011 seems to be fine!\nSUCCESS! the year 2012 seems to be fine!\nSUCCESS! the year 2020 seems to be fine!\nSUCCESS! the year 2010 seems to be fine!\nSUCCESS! the year 2019 seems to be fine!\n--------------------------------------------------------------------------\n"
    }
   ],
   "source": [
    "# Calling the test with TreatmentBank data\n",
    "test_ext.check_consistency(\"TreatmentBank\", tb_years_count, tb_response_years_count)"
   ]
  },
  {
   "source": [
    "##### Zoobank\n",
    "These were the observed results from the Zoobank, per year:\n",
    "\n",
    "- 2010: 1128 results\n",
    "- 2011: 1430 results\n",
    "- 2012: 2482 results\n",
    "- 2013: 4293 results\n",
    "- 2014: 4829 results\n",
    "- 2015: 5552 results\n",
    "- 2016: 5732 results\n",
    "- 2017: 6098 results\n",
    "- 2018: 6401 results\n",
    "- 2019: 6386 results\n",
    "- 2020: 4554 results"
   ],
   "cell_type": "markdown",
   "metadata": {}
  },
  {
   "cell_type": "code",
   "execution_count": 16,
   "metadata": {},
   "outputs": [],
   "source": [
    "# Create a dict with year: official results, to be used on a data consistency test\n",
    "zb_results = {\n",
    "    '2010': 1128,\n",
    "    '2011': 1430,\n",
    "    '2012': 2482,\n",
    "    '2013': 4293,\n",
    "    '2014': 4829,\n",
    "    '2015': 5552,\n",
    "    '2016': 5732,\n",
    "    '2017': 6098,\n",
    "    '2018': 6401,\n",
    "    '2019': 6386,\n",
    "    '2020': 4554,\n",
    "}"
   ]
  },
  {
   "cell_type": "code",
   "execution_count": 17,
   "metadata": {},
   "outputs": [
    {
     "output_type": "execute_result",
     "data": {
      "text/plain": "['id',\n 'authors',\n 'year',\n 'title',\n 'journal',\n 'bibref_details',\n 'volume',\n 'issue',\n 'start_page',\n 'end_page',\n 'from_year']"
     },
     "metadata": {},
     "execution_count": 17
    }
   ],
   "source": [
    "# Check the existing columns in this dataframe\n",
    "list(zb.columns)"
   ]
  },
  {
   "source": [
    "Here there is one interesting caveat. Zoobank allow users to register papers from the past, and when queried by year, it shows not the publications published on that year, but the publications **registred** on that year. \n",
    "\n",
    "As such, we might have all sort of years in the column 'year'."
   ],
   "cell_type": "markdown",
   "metadata": {}
  },
  {
   "cell_type": "code",
   "execution_count": 18,
   "metadata": {},
   "outputs": [
    {
     "output_type": "execute_result",
     "data": {
      "text/plain": "1847       2\n1877       2\n1878       1\n1880       2\n1881       1\n1883       1\n1887       2\n1888       2\n1889       3\n1894       1\n1896       2\n1898       2\n1902       1\n1905       1\n1917       1\n1919       3\n1923       1\n1927       3\n1932       1\n1933       1\n1936       1\n1937       5\n1951       4\n1952       3\n1960       1\n1962       1\n1967       1\n1969       1\n1972       2\n1986       1\n1989       1\n1996       2\n1999       4\n2001       1\n2002       1\n2003       9\n2004       1\n2008       1\n2009       4\n2010    1023\n2011    1318\n2012    2387\n2013    4253\n2014    4774\n2015    5550\n2016    5779\n2017    6119\n2018    6434\n2019    6497\n2020    4674\nName: year, dtype: int64"
     },
     "metadata": {},
     "execution_count": 18
    }
   ],
   "source": [
    "# Create a pandas.Series with the ordered counts of the 'year' column\n",
    "zb_years_count = zb['year'].value_counts().sort_index()\n",
    "\n",
    "# Check results\n",
    "zb_years_count"
   ]
  },
  {
   "source": [
    "To address this situation, I included a column on zb.db called 'from_year', which extracts the year being queried on the response.url, inside the parser() of the spider used to scrape Zoobank, and add to this column. \n",
    "\n",
    "This means that we can get the total (included) per year, to compare with the official results."
   ],
   "cell_type": "markdown",
   "metadata": {}
  },
  {
   "cell_type": "code",
   "execution_count": 19,
   "metadata": {},
   "outputs": [
    {
     "output_type": "execute_result",
     "data": {
      "text/plain": "2010    1128\n2011    1430\n2012    2482\n2013    4293\n2014    4829\n2015    5552\n2016    5732\n2017    6098\n2018    6401\n2019    6386\n2020    4554\nName: from_year, dtype: int64"
     },
     "metadata": {},
     "execution_count": 19
    }
   ],
   "source": [
    "# Create a pandas.Series with the ordered counts of the 'Year Published' column\n",
    "zb_years_count = zb['from_year'].value_counts().sort_index()\n",
    "\n",
    "# Check results\n",
    "zb_years_count"
   ]
  },
  {
   "cell_type": "code",
   "execution_count": 20,
   "metadata": {
    "tags": []
   },
   "outputs": [
    {
     "output_type": "stream",
     "name": "stdout",
     "text": "--------------------------------------------------------------------------\nTesting for... ZOOBANK\n--------------------------------------------------------------------------\nSUCCESS! Total count was equal between the processed and official results!\n--------------------------------------------------------------------------\nSUCCESS! the year 2010 seems to be fine!\nSUCCESS! the year 2011 seems to be fine!\nSUCCESS! the year 2012 seems to be fine!\nSUCCESS! the year 2013 seems to be fine!\nSUCCESS! the year 2014 seems to be fine!\nSUCCESS! the year 2015 seems to be fine!\nSUCCESS! the year 2016 seems to be fine!\nSUCCESS! the year 2017 seems to be fine!\nSUCCESS! the year 2018 seems to be fine!\nSUCCESS! the year 2019 seems to be fine!\nSUCCESS! the year 2020 seems to be fine!\n--------------------------------------------------------------------------\n"
    }
   ],
   "source": [
    "# Now that I have both dictionary with official results and the pandas.Series with the processed results, I can call the unit test function\n",
    "test_ext.check_consistency(\"Zoobank\", zb_years_count, zb_results) "
   ]
  },
  {
   "source": [
    "It seems that the data I processed into databases are consistent with the data observed on the sources and that the processing were completed flawlessly. \n",
    "\n",
    "It's time to move on."
   ],
   "cell_type": "markdown",
   "metadata": {}
  },
  {
   "source": [
    "### (T)ransform\n",
    "\n",
    "I'm aiming one single pandas.DataFrame with the counts of papers for each one of the three data sources, grouped per journal, with years on the columns. Thus, it's a MultiIndex dataframe (journal x Source/Year). But to achieve this, I want first check the following aspects of these data for all three sources:\n",
    "\n",
    "1. Check for duplicates\n",
    "2. Check the amount of NaN on the to-be-used 'year' columns\n",
    "3. Group by journal and check the data quality of the journals' names\n"
   ],
   "cell_type": "markdown",
   "metadata": {}
  },
  {
   "source": [
    "#### Exploratory Analyses: Before Transform\n"
   ],
   "cell_type": "markdown",
   "metadata": {}
  },
  {
   "source": [
    "##### Web of Science/Zoological Records"
   ],
   "cell_type": "markdown",
   "metadata": {}
  },
  {
   "cell_type": "code",
   "execution_count": 21,
   "metadata": {},
   "outputs": [
    {
     "output_type": "execute_result",
     "data": {
      "text/plain": "Index([                                     'Publication Type',\n                          'Zoological Record Accession Number',\n                                               'Document Type',\n                                                       'Title',\n                                               'Foreign Title',\n                                                     'Authors',\n                                                      'Source',\n                                                      'Volume',\n                                                   'Page Span',\n                                            'Publication Date',\n                                              'Year Published',\n                                                    'Language',\n                                 'Usage Count (Last 180 Days)',\n                                    'Usage Count (Since 2013)',\n                                                    'Abstract',\n                                              'Author Address',\n                                              'E-mail Address',\n       'ORCID Identifier (Open Researcher and Contributor ID)',\n                                              'Research Areas',\n                 'International Standard Serial Number (ISSN)',\n                                                 'Broad Terms',\n                                            'Descriptors Data',\n                                                  'Taxa Notes',\n                                                  'Super Taxa',\n                                                 'Systematics',\n                                   'Unique Article Identifier',\n                              'Date this report was generated',\n                                                       'Issue',\n                                       'Open Access Indicator',\n                             'Digital Object Identifier (DOI)',\n                                         'ResearcherID Number',\n                                                  'Supplement',\n                                                 'Journal URL',\n                                                    'Item URL',\n                                                       'Notes',\n                                                          None,\n                                                'Book Authors',\n                                                   'Publisher',\n                                           'Publisher Address',\n                   'International Standard Book Number (ISBN)',\n                                                     'Editors',\n                                               'Group Authors'],\n      dtype='object')"
     },
     "metadata": {},
     "execution_count": 21
    }
   ],
   "source": [
    "# First, check the available columns again\n",
    "wos.columns"
   ]
  },
  {
   "source": [
    "###### Duplicates\n",
    "\n",
    "With this I can see that the column 'Digital Object Identifier (DOI)' might contain a persistent, unique identifier, but not all papers will have it. So I'll perform two different checks for duplicates for this source:\n",
    "\n",
    "1. Based on 'Digital Object Identifier (DOI)'\n",
    "2. Based on the columns: 'Source', 'Year Published', 'Volume', 'Issue', 'Page Span'"
   ],
   "cell_type": "markdown",
   "metadata": {}
  },
  {
   "cell_type": "code",
   "execution_count": 22,
   "metadata": {},
   "outputs": [
    {
     "output_type": "execute_result",
     "data": {
      "text/plain": "-72484"
     },
     "metadata": {},
     "execution_count": 22
    }
   ],
   "source": [
    "# Method 01 - DOI\n",
    "\n",
    "# First, select the ones that has DOIs\n",
    "wos_duplicates = wos.dropna(subset=['Digital Object Identifier (DOI)'], how='all', inplace=False)\n",
    "\n",
    "# Checks if there were any NaNs in this column\n",
    "wos_duplicates.shape[0] - wos.shape[0]"
   ]
  },
  {
   "source": [
    "This high number simply means that there are a lot of NaNs in the column 'Digital Object Identifier (DOI) - which is actually expected. Moving on..."
   ],
   "cell_type": "markdown",
   "metadata": {}
  },
  {
   "cell_type": "code",
   "execution_count": 23,
   "metadata": {},
   "outputs": [
    {
     "output_type": "execute_result",
     "data": {
      "text/plain": "False    7964\nTrue        4\ndtype: int64"
     },
     "metadata": {},
     "execution_count": 23
    }
   ],
   "source": [
    "# Then, search for duplicates. 'True' will indicate the existence of them.\n",
    "wos_duplicates.duplicated(subset=['Digital Object Identifier (DOI)'], keep=False).value_counts()"
   ]
  },
  {
   "cell_type": "code",
   "execution_count": 24,
   "metadata": {},
   "outputs": [
    {
     "output_type": "execute_result",
     "data": {
      "text/plain": "      Publication Type Zoological Record Accession Number Document Type  \\\n77                   J                    ZOOR14704030516       Article   \n10549                J                    ZOOR14707054161       Article   \n11930                J                    ZOOR14705036582       Article   \n12433                J                    ZOOR14705041437       Article   \n\n                                                   Title Foreign Title  \\\n77     A New Genus of the Spider Family Caponiidae (A...           NaN   \n10549  Apseudes talpa revisited (Crustacea; Tanaidace...           NaN   \n11930  The Goblin Spider Genus Aprusia Simon, 1893 (A...           NaN   \n12433  Tanaidaceans (Crustacea) from the Central Paci...           NaN   \n\n                                                 Authors  \\\n77     Sanchez-Ruiz, Alexander (alex@bioeco.ciges.inf...   \n10549  Larsen, Kim (tanaids@hotmail.com), Bertocci, I...   \n11930  Grismado, Cristian J. (grismado@macn.gov.ar), ...   \n12433                  Larsen, Kim (tanaids@hotmail.com)   \n\n                          Source Volume Page Span Publication Date  ...  \\\n77     American Museum Novitates   3705      1-44      Dec 29 2010  ...   \n10549                    Zootaxa   2886     19-30      23 May 2011  ...   \n11930  American Museum Novitates   3706      1-21       Feb 3 2011  ...   \n12433                    ZooKeys     87     19-41             2011  ...   \n\n                                             Journal URL  \\\n77                                                   NaN   \n10549  http://www.mapress.com/zootaxa/list/2011/2886....   \n11930                                                NaN   \n12433  http://www.pensoft.net/journals/zookeys/http:/...   \n\n                                                Item URL Notes       NaN  \\\n77                                                   NaN   NaN       NaN   \n10549  http://www.mapress.com/zootaxa/2011/2/zt02886p...   NaN  21594100   \n11930                                                NaN   NaN       NaN   \n12433  http://www.pensoft.net/journal_home_page.php?j...   NaN  21594100   \n\n      Book Authors Publisher Publisher Address  \\\n77             NaN       NaN               NaN   \n10549          NaN       NaN               NaN   \n11930          NaN       NaN               NaN   \n12433          NaN       NaN               NaN   \n\n      International Standard Book Number (ISBN) Editors Group Authors  \n77                                          NaN     NaN           NaN  \n10549                                       NaN     NaN           NaN  \n11930                                       NaN     NaN           NaN  \n12433                                       NaN     NaN           NaN  \n\n[4 rows x 42 columns]",
      "text/html": "<div>\n<style scoped>\n    .dataframe tbody tr th:only-of-type {\n        vertical-align: middle;\n    }\n\n    .dataframe tbody tr th {\n        vertical-align: top;\n    }\n\n    .dataframe thead th {\n        text-align: right;\n    }\n</style>\n<table border=\"1\" class=\"dataframe\">\n  <thead>\n    <tr style=\"text-align: right;\">\n      <th></th>\n      <th>Publication Type</th>\n      <th>Zoological Record Accession Number</th>\n      <th>Document Type</th>\n      <th>Title</th>\n      <th>Foreign Title</th>\n      <th>Authors</th>\n      <th>Source</th>\n      <th>Volume</th>\n      <th>Page Span</th>\n      <th>Publication Date</th>\n      <th>...</th>\n      <th>Journal URL</th>\n      <th>Item URL</th>\n      <th>Notes</th>\n      <th>NaN</th>\n      <th>Book Authors</th>\n      <th>Publisher</th>\n      <th>Publisher Address</th>\n      <th>International Standard Book Number (ISBN)</th>\n      <th>Editors</th>\n      <th>Group Authors</th>\n    </tr>\n  </thead>\n  <tbody>\n    <tr>\n      <th>77</th>\n      <td>J</td>\n      <td>ZOOR14704030516</td>\n      <td>Article</td>\n      <td>A New Genus of the Spider Family Caponiidae (A...</td>\n      <td>NaN</td>\n      <td>Sanchez-Ruiz, Alexander (alex@bioeco.ciges.inf...</td>\n      <td>American Museum Novitates</td>\n      <td>3705</td>\n      <td>1-44</td>\n      <td>Dec 29 2010</td>\n      <td>...</td>\n      <td>NaN</td>\n      <td>NaN</td>\n      <td>NaN</td>\n      <td>NaN</td>\n      <td>NaN</td>\n      <td>NaN</td>\n      <td>NaN</td>\n      <td>NaN</td>\n      <td>NaN</td>\n      <td>NaN</td>\n    </tr>\n    <tr>\n      <th>10549</th>\n      <td>J</td>\n      <td>ZOOR14707054161</td>\n      <td>Article</td>\n      <td>Apseudes talpa revisited (Crustacea; Tanaidace...</td>\n      <td>NaN</td>\n      <td>Larsen, Kim (tanaids@hotmail.com), Bertocci, I...</td>\n      <td>Zootaxa</td>\n      <td>2886</td>\n      <td>19-30</td>\n      <td>23 May 2011</td>\n      <td>...</td>\n      <td>http://www.mapress.com/zootaxa/list/2011/2886....</td>\n      <td>http://www.mapress.com/zootaxa/2011/2/zt02886p...</td>\n      <td>NaN</td>\n      <td>21594100</td>\n      <td>NaN</td>\n      <td>NaN</td>\n      <td>NaN</td>\n      <td>NaN</td>\n      <td>NaN</td>\n      <td>NaN</td>\n    </tr>\n    <tr>\n      <th>11930</th>\n      <td>J</td>\n      <td>ZOOR14705036582</td>\n      <td>Article</td>\n      <td>The Goblin Spider Genus Aprusia Simon, 1893 (A...</td>\n      <td>NaN</td>\n      <td>Grismado, Cristian J. (grismado@macn.gov.ar), ...</td>\n      <td>American Museum Novitates</td>\n      <td>3706</td>\n      <td>1-21</td>\n      <td>Feb 3 2011</td>\n      <td>...</td>\n      <td>NaN</td>\n      <td>NaN</td>\n      <td>NaN</td>\n      <td>NaN</td>\n      <td>NaN</td>\n      <td>NaN</td>\n      <td>NaN</td>\n      <td>NaN</td>\n      <td>NaN</td>\n      <td>NaN</td>\n    </tr>\n    <tr>\n      <th>12433</th>\n      <td>J</td>\n      <td>ZOOR14705041437</td>\n      <td>Article</td>\n      <td>Tanaidaceans (Crustacea) from the Central Paci...</td>\n      <td>NaN</td>\n      <td>Larsen, Kim (tanaids@hotmail.com)</td>\n      <td>ZooKeys</td>\n      <td>87</td>\n      <td>19-41</td>\n      <td>2011</td>\n      <td>...</td>\n      <td>http://www.pensoft.net/journals/zookeys/http:/...</td>\n      <td>http://www.pensoft.net/journal_home_page.php?j...</td>\n      <td>NaN</td>\n      <td>21594100</td>\n      <td>NaN</td>\n      <td>NaN</td>\n      <td>NaN</td>\n      <td>NaN</td>\n      <td>NaN</td>\n      <td>NaN</td>\n    </tr>\n  </tbody>\n</table>\n<p>4 rows × 42 columns</p>\n</div>"
     },
     "metadata": {},
     "execution_count": 24
    }
   ],
   "source": [
    "# Checking these four duplicates...\n",
    "wos_duplicates[wos_duplicates.duplicated(subset=['Digital Object Identifier (DOI)'], keep=False)]"
   ]
  },
  {
   "cell_type": "code",
   "execution_count": 25,
   "metadata": {},
   "outputs": [
    {
     "output_type": "execute_result",
     "data": {
      "text/plain": "77               10.1206/3705.2\n10549    10.3897/zookeys.87.784\n11930            10.1206/3705.2\n12433    10.3897/zookeys.87.784\nName: Digital Object Identifier (DOI), dtype: object"
     },
     "metadata": {},
     "execution_count": 25
    }
   ],
   "source": [
    "# They doesn't seem to be duplicates. Check their DOIs\n",
    "wos_duplicates[wos_duplicates.duplicated(subset=['Digital Object Identifier (DOI)'], keep=False)]['Digital Object Identifier (DOI)']"
   ]
  },
  {
   "source": [
    "They have the same DOI, but they are clearly different papers (if you look into title, authors, and everything else!) So, **false-positives**, despite the same DOIs. Moving on..."
   ],
   "cell_type": "markdown",
   "metadata": {}
  },
  {
   "cell_type": "code",
   "execution_count": 26,
   "metadata": {},
   "outputs": [
    {
     "output_type": "execute_result",
     "data": {
      "text/plain": "0"
     },
     "metadata": {},
     "execution_count": 26
    }
   ],
   "source": [
    "# Method 02\n",
    "\n",
    "# Stores records that is not NaN on all selected fields\n",
    "wos_duplicates = wos.dropna(subset=['Source', 'Year Published', 'Volume', 'Issue', 'Page Span'], how='all', inplace=False)\n",
    "\n",
    "# Compare the lenght of the original df with this recently created one. Zero means no record that met the criteria was found\n",
    "wos_duplicates.shape[0] - wos.shape[0]"
   ]
  },
  {
   "cell_type": "code",
   "execution_count": 27,
   "metadata": {},
   "outputs": [
    {
     "output_type": "execute_result",
     "data": {
      "text/plain": "False    80194\nTrue       258\ndtype: int64"
     },
     "metadata": {},
     "execution_count": 27
    }
   ],
   "source": [
    "# If there are no all-NaNs, then, check for duplicates\n",
    "wos_duplicates.duplicated(subset=['Source', 'Year Published', 'Volume', 'Issue', 'Page Span'], keep=False).value_counts()"
   ]
  },
  {
   "cell_type": "code",
   "execution_count": 28,
   "metadata": {},
   "outputs": [
    {
     "output_type": "execute_result",
     "data": {
      "text/plain": "      Publication Type Zoological Record Accession Number Document Type  \\\n1296                 J                    ZOOR15410067947       Article   \n2504                 J                    ZOOR14801000011       Article   \n2505                 J                    ZOOR14801000012       Article   \n5670                 J                    ZOOR15009042744       Article   \n5671                 J                    ZOOR15009042745       Article   \n...                ...                                ...           ...   \n80071                J                    ZOOR15604029227       Article   \n80119                J                    ZOOR15607047778       Article   \n80121                J                    ZOOR15607048143       Article   \n80122                J                    ZOOR15607047772       Article   \n80123                J                    ZOOR15607047402       Article   \n\n                                                   Title  \\\n1296   Bryozoans from the Jurginskaya Formation (Fame...   \n2504   THE GENUS PSORTHASPIS (HYMENOPTERA: POMPILIDAE...   \n2505   Three new species of Hyphessobrycon group hete...   \n5670   THE GENUS PSORTHASPIS (HYMENOPTERA: POMPILIDAE...   \n5671   Three new species of Hyphessobrycon group hete...   \n...                                                  ...   \n80071  Description of a new species of the genus Acro...   \n80119  Cercyon Leach, 1817 (Coleoptera: Hydrophilidae...   \n80121  Veliidae (Insecta: Heteroptera: Gerromorpha) f...   \n80122  Three new species of Bruggmanniella Tavares, 1...   \n80123  Diolcogaster choi sp. nov. from Brazil, a new ...   \n\n                                           Foreign Title  \\\n1296                                                 NaN   \n2504                                                 NaN   \n2505   Tres nuevas especies de Hyphessobrycon grupo h...   \n5670                                                 NaN   \n5671   TRES NUEVAS ESPECIES DE Hyphessobrycon GRUPO h...   \n...                                                  ...   \n80071                                                NaN   \n80119                                                NaN   \n80121                                                NaN   \n80122                                                NaN   \n80123                                                NaN   \n\n                                                 Authors  \\\n1296             Tolokonnikova, Zoya (zalatoi@yandex.ru)   \n2504   Rodriquez, Juanita (juanitarodrigueza@gmail.co...   \n2505   Garcia-Alzate, Carlos A. (cagarcia@uniquindio....   \n5670   Rodriguez, Juanita (juanitarodrigueza@gmail.co...   \n5671   Garcia-Alzate, Carlos A. (cagarcia@uniquindio....   \n...                                                  ...   \n80071  Okamoto, Makoto (epigonidae@gmail.com), Willia...   \n80119  Clarkson, Bruno, Mise, Kleber M., Almeida, Luc...   \n80121  Morales, Irina (irina.morales@uptc.edu.co), Mo...   \n80122  Rodrigues, Alene Ramos (alenerodrigues@yahoo.c...   \n80123  Salgado-Neto, Geraldo (gsalgado@bol.com.br), M...   \n\n                                  Source Volume Page Span Publication Date  \\\n1296                            Geologos     16   139-152         Oct 2010   \n2504                            Caldasia     32   435-441    July-Dec 2010   \n2505                            Caldasia     32   443-461    July-Dec 2010   \n5670                            Caldasia     32   435-441             2010   \n5671                            Caldasia     32   443-461             2010   \n...                                  ...    ...       ...              ...   \n80071            Ichthyological Research     67     39-49         Jan 2020   \n80119  Revista Brasileira de Entomologia     64       1-8             2020   \n80121  Revista Brasileira de Entomologia     64       1-6             2020   \n80122  Revista Brasileira de Entomologia     64       1-8             2020   \n80123  Revista Brasileira de Entomologia     64       1-6             2020   \n\n       ... Journal URL Item URL Notes  NaN Book Authors Publisher  \\\n1296   ...         NaN      NaN   NaN  NaN          NaN       NaN   \n2504   ...         NaN      NaN   NaN  NaN          NaN       NaN   \n2505   ...         NaN      NaN   NaN  NaN          NaN       NaN   \n5670   ...         NaN      NaN   NaN  NaN          NaN       NaN   \n5671   ...         NaN      NaN   NaN  NaN          NaN       NaN   \n...    ...         ...      ...   ...  ...          ...       ...   \n80071  ...         NaN      NaN   NaN  NaN          NaN       NaN   \n80119  ...         NaN      NaN   NaN  NaN          NaN       NaN   \n80121  ...         NaN      NaN   NaN  NaN          NaN       NaN   \n80122  ...         NaN      NaN   NaN  NaN          NaN       NaN   \n80123  ...         NaN      NaN   NaN  NaN          NaN       NaN   \n\n      Publisher Address International Standard Book Number (ISBN) Editors  \\\n1296                NaN                                       NaN     NaN   \n2504                NaN                                       NaN     NaN   \n2505                NaN                                       NaN     NaN   \n5670                NaN                                       NaN     NaN   \n5671                NaN                                       NaN     NaN   \n...                 ...                                       ...     ...   \n80071               NaN                                       NaN     NaN   \n80119               NaN                                       NaN     NaN   \n80121               NaN                                       NaN     NaN   \n80122               NaN                                       NaN     NaN   \n80123               NaN                                       NaN     NaN   \n\n      Group Authors  \n1296            NaN  \n2504            NaN  \n2505            NaN  \n5670            NaN  \n5671            NaN  \n...             ...  \n80071           NaN  \n80119           NaN  \n80121           NaN  \n80122           NaN  \n80123           NaN  \n\n[258 rows x 42 columns]",
      "text/html": "<div>\n<style scoped>\n    .dataframe tbody tr th:only-of-type {\n        vertical-align: middle;\n    }\n\n    .dataframe tbody tr th {\n        vertical-align: top;\n    }\n\n    .dataframe thead th {\n        text-align: right;\n    }\n</style>\n<table border=\"1\" class=\"dataframe\">\n  <thead>\n    <tr style=\"text-align: right;\">\n      <th></th>\n      <th>Publication Type</th>\n      <th>Zoological Record Accession Number</th>\n      <th>Document Type</th>\n      <th>Title</th>\n      <th>Foreign Title</th>\n      <th>Authors</th>\n      <th>Source</th>\n      <th>Volume</th>\n      <th>Page Span</th>\n      <th>Publication Date</th>\n      <th>...</th>\n      <th>Journal URL</th>\n      <th>Item URL</th>\n      <th>Notes</th>\n      <th>NaN</th>\n      <th>Book Authors</th>\n      <th>Publisher</th>\n      <th>Publisher Address</th>\n      <th>International Standard Book Number (ISBN)</th>\n      <th>Editors</th>\n      <th>Group Authors</th>\n    </tr>\n  </thead>\n  <tbody>\n    <tr>\n      <th>1296</th>\n      <td>J</td>\n      <td>ZOOR15410067947</td>\n      <td>Article</td>\n      <td>Bryozoans from the Jurginskaya Formation (Fame...</td>\n      <td>NaN</td>\n      <td>Tolokonnikova, Zoya (zalatoi@yandex.ru)</td>\n      <td>Geologos</td>\n      <td>16</td>\n      <td>139-152</td>\n      <td>Oct 2010</td>\n      <td>...</td>\n      <td>NaN</td>\n      <td>NaN</td>\n      <td>NaN</td>\n      <td>NaN</td>\n      <td>NaN</td>\n      <td>NaN</td>\n      <td>NaN</td>\n      <td>NaN</td>\n      <td>NaN</td>\n      <td>NaN</td>\n    </tr>\n    <tr>\n      <th>2504</th>\n      <td>J</td>\n      <td>ZOOR14801000011</td>\n      <td>Article</td>\n      <td>THE GENUS PSORTHASPIS (HYMENOPTERA: POMPILIDAE...</td>\n      <td>NaN</td>\n      <td>Rodriquez, Juanita (juanitarodrigueza@gmail.co...</td>\n      <td>Caldasia</td>\n      <td>32</td>\n      <td>435-441</td>\n      <td>July-Dec 2010</td>\n      <td>...</td>\n      <td>NaN</td>\n      <td>NaN</td>\n      <td>NaN</td>\n      <td>NaN</td>\n      <td>NaN</td>\n      <td>NaN</td>\n      <td>NaN</td>\n      <td>NaN</td>\n      <td>NaN</td>\n      <td>NaN</td>\n    </tr>\n    <tr>\n      <th>2505</th>\n      <td>J</td>\n      <td>ZOOR14801000012</td>\n      <td>Article</td>\n      <td>Three new species of Hyphessobrycon group hete...</td>\n      <td>Tres nuevas especies de Hyphessobrycon grupo h...</td>\n      <td>Garcia-Alzate, Carlos A. (cagarcia@uniquindio....</td>\n      <td>Caldasia</td>\n      <td>32</td>\n      <td>443-461</td>\n      <td>July-Dec 2010</td>\n      <td>...</td>\n      <td>NaN</td>\n      <td>NaN</td>\n      <td>NaN</td>\n      <td>NaN</td>\n      <td>NaN</td>\n      <td>NaN</td>\n      <td>NaN</td>\n      <td>NaN</td>\n      <td>NaN</td>\n      <td>NaN</td>\n    </tr>\n    <tr>\n      <th>5670</th>\n      <td>J</td>\n      <td>ZOOR15009042744</td>\n      <td>Article</td>\n      <td>THE GENUS PSORTHASPIS (HYMENOPTERA: POMPILIDAE...</td>\n      <td>NaN</td>\n      <td>Rodriguez, Juanita (juanitarodrigueza@gmail.co...</td>\n      <td>Caldasia</td>\n      <td>32</td>\n      <td>435-441</td>\n      <td>2010</td>\n      <td>...</td>\n      <td>NaN</td>\n      <td>NaN</td>\n      <td>NaN</td>\n      <td>NaN</td>\n      <td>NaN</td>\n      <td>NaN</td>\n      <td>NaN</td>\n      <td>NaN</td>\n      <td>NaN</td>\n      <td>NaN</td>\n    </tr>\n    <tr>\n      <th>5671</th>\n      <td>J</td>\n      <td>ZOOR15009042745</td>\n      <td>Article</td>\n      <td>Three new species of Hyphessobrycon group hete...</td>\n      <td>TRES NUEVAS ESPECIES DE Hyphessobrycon GRUPO h...</td>\n      <td>Garcia-Alzate, Carlos A. (cagarcia@uniquindio....</td>\n      <td>Caldasia</td>\n      <td>32</td>\n      <td>443-461</td>\n      <td>2010</td>\n      <td>...</td>\n      <td>NaN</td>\n      <td>NaN</td>\n      <td>NaN</td>\n      <td>NaN</td>\n      <td>NaN</td>\n      <td>NaN</td>\n      <td>NaN</td>\n      <td>NaN</td>\n      <td>NaN</td>\n      <td>NaN</td>\n    </tr>\n    <tr>\n      <th>...</th>\n      <td>...</td>\n      <td>...</td>\n      <td>...</td>\n      <td>...</td>\n      <td>...</td>\n      <td>...</td>\n      <td>...</td>\n      <td>...</td>\n      <td>...</td>\n      <td>...</td>\n      <td>...</td>\n      <td>...</td>\n      <td>...</td>\n      <td>...</td>\n      <td>...</td>\n      <td>...</td>\n      <td>...</td>\n      <td>...</td>\n      <td>...</td>\n      <td>...</td>\n      <td>...</td>\n    </tr>\n    <tr>\n      <th>80071</th>\n      <td>J</td>\n      <td>ZOOR15604029227</td>\n      <td>Article</td>\n      <td>Description of a new species of the genus Acro...</td>\n      <td>NaN</td>\n      <td>Okamoto, Makoto (epigonidae@gmail.com), Willia...</td>\n      <td>Ichthyological Research</td>\n      <td>67</td>\n      <td>39-49</td>\n      <td>Jan 2020</td>\n      <td>...</td>\n      <td>NaN</td>\n      <td>NaN</td>\n      <td>NaN</td>\n      <td>NaN</td>\n      <td>NaN</td>\n      <td>NaN</td>\n      <td>NaN</td>\n      <td>NaN</td>\n      <td>NaN</td>\n      <td>NaN</td>\n    </tr>\n    <tr>\n      <th>80119</th>\n      <td>J</td>\n      <td>ZOOR15607047778</td>\n      <td>Article</td>\n      <td>Cercyon Leach, 1817 (Coleoptera: Hydrophilidae...</td>\n      <td>NaN</td>\n      <td>Clarkson, Bruno, Mise, Kleber M., Almeida, Luc...</td>\n      <td>Revista Brasileira de Entomologia</td>\n      <td>64</td>\n      <td>1-8</td>\n      <td>2020</td>\n      <td>...</td>\n      <td>NaN</td>\n      <td>NaN</td>\n      <td>NaN</td>\n      <td>NaN</td>\n      <td>NaN</td>\n      <td>NaN</td>\n      <td>NaN</td>\n      <td>NaN</td>\n      <td>NaN</td>\n      <td>NaN</td>\n    </tr>\n    <tr>\n      <th>80121</th>\n      <td>J</td>\n      <td>ZOOR15607048143</td>\n      <td>Article</td>\n      <td>Veliidae (Insecta: Heteroptera: Gerromorpha) f...</td>\n      <td>NaN</td>\n      <td>Morales, Irina (irina.morales@uptc.edu.co), Mo...</td>\n      <td>Revista Brasileira de Entomologia</td>\n      <td>64</td>\n      <td>1-6</td>\n      <td>2020</td>\n      <td>...</td>\n      <td>NaN</td>\n      <td>NaN</td>\n      <td>NaN</td>\n      <td>NaN</td>\n      <td>NaN</td>\n      <td>NaN</td>\n      <td>NaN</td>\n      <td>NaN</td>\n      <td>NaN</td>\n      <td>NaN</td>\n    </tr>\n    <tr>\n      <th>80122</th>\n      <td>J</td>\n      <td>ZOOR15607047772</td>\n      <td>Article</td>\n      <td>Three new species of Bruggmanniella Tavares, 1...</td>\n      <td>NaN</td>\n      <td>Rodrigues, Alene Ramos (alenerodrigues@yahoo.c...</td>\n      <td>Revista Brasileira de Entomologia</td>\n      <td>64</td>\n      <td>1-8</td>\n      <td>2020</td>\n      <td>...</td>\n      <td>NaN</td>\n      <td>NaN</td>\n      <td>NaN</td>\n      <td>NaN</td>\n      <td>NaN</td>\n      <td>NaN</td>\n      <td>NaN</td>\n      <td>NaN</td>\n      <td>NaN</td>\n      <td>NaN</td>\n    </tr>\n    <tr>\n      <th>80123</th>\n      <td>J</td>\n      <td>ZOOR15607047402</td>\n      <td>Article</td>\n      <td>Diolcogaster choi sp. nov. from Brazil, a new ...</td>\n      <td>NaN</td>\n      <td>Salgado-Neto, Geraldo (gsalgado@bol.com.br), M...</td>\n      <td>Revista Brasileira de Entomologia</td>\n      <td>64</td>\n      <td>1-6</td>\n      <td>2020</td>\n      <td>...</td>\n      <td>NaN</td>\n      <td>NaN</td>\n      <td>NaN</td>\n      <td>NaN</td>\n      <td>NaN</td>\n      <td>NaN</td>\n      <td>NaN</td>\n      <td>NaN</td>\n      <td>NaN</td>\n      <td>NaN</td>\n    </tr>\n  </tbody>\n</table>\n<p>258 rows × 42 columns</p>\n</div>"
     },
     "metadata": {},
     "execution_count": 28
    }
   ],
   "source": [
    "# A lot! Checking these 258...\n",
    "wos_duplicates[wos_duplicates.duplicated(subset=['Source', 'Year Published', 'Volume', 'Issue', 'Page Span'], keep=False)]"
   ]
  },
  {
   "cell_type": "code",
   "execution_count": 29,
   "metadata": {},
   "outputs": [
    {
     "output_type": "execute_result",
     "data": {
      "text/plain": "A new species of the ant genus Leptogenys Roger, 1861 (Hymenoptera:, Formicidae) from India.                                                                                      3\nA new Trogoderma species from Central Madagascar (Coleoptera:, Dermestidae: Megatominae).                                                                                         2\nA new genus and species of pinworm (Nematoda, Oxyuridae) from the gray, mouse opossum, Tlacuatzin canescens.                                                                      2\nAn ant-associated mesostigmatid mite in Baltic amber.                                                                                                                             2\nA new species of Astyanax (Ostariophysi: Characidae) from the headwaters, of the arheic Rio Sucuma, Catamarca, Northwestern Argentina.                                            2\n                                                                                                                                                                                 ..\nAtypical Wing Venation in Dialictus and Hemihalictus and Its, Implications for Subgeneric Classification of Lasioglossum.                                                         1\nOn some Pselaphinae and eptotyphlinae of the west of the department of, Gard (France) (Coleoptera : Staphylinidae).                                                               1\nExogene Orsted, 1845 (Annelida: Syllidae: Exogoninae) from Brazilian, oceanic islands, with description of a new species and notes on possible, hidden diversity in the genus.    1\nGyrodactylus colisai n. sp. (Monogenea: Gyrodactylidae) a new monogenean, from a freshwater fish, Colisa fasciata (Bloch & Schn.) at Meerut, UP,, India.                          1\nIdentification of the pupal parasitoid wasps of grape berry moth Lobesia, botrana (Denis &  Schiffermueller) (Lep., Tortricidae) in Orumieh, vineyards.                           1\nName: Title, Length: 193, dtype: int64"
     },
     "metadata": {},
     "execution_count": 29
    }
   ],
   "source": [
    "# Checking of there are real titles on these 258 'duplicates'\n",
    "wos_duplicates[wos_duplicates.duplicated(subset=['Source', 'Year Published', 'Volume', 'Issue', 'Page Span'], keep=False)]['Title'].value_counts()"
   ]
  },
  {
   "source": [
    "Some indeed seems to be duplicates... with more than one occurrence of the title. But a lot seems to be metadata issues. Better investigate."
   ],
   "cell_type": "markdown",
   "metadata": {}
  },
  {
   "cell_type": "code",
   "execution_count": 30,
   "metadata": {},
   "outputs": [
    {
     "output_type": "execute_result",
     "data": {
      "text/plain": "A new species of Gnomidolon Thomson, 1864 and taxonomic and geographical, notes on Hexoplonini (Coleoptera, Cerambycidae) from Colombia.                                          1\nNew dicrocoeliid digeneans from mammals in Ecuador including a highly, genetically divergent new genus from an ancient marsupial lineage.                                         1\nAustralian Alleculinae: New Genera, New Combinations, and a Lectotype, Designation (Coleoptera: Tenebrionidae).                                                                   1\nFive new species of the genus Apanteles Foerster (Hymenoptera:, Braconidae: Microgastrinae) from Vietnam.                                                                         1\nNucleospora cyclopteri n. sp., an intranuclear microsporidian infecting, wild lumpfish, Cyclopterus lumpus L., in Icelandic waters.                                               1\n                                                                                                                                                                                 ..\nAtypical Wing Venation in Dialictus and Hemihalictus and Its, Implications for Subgeneric Classification of Lasioglossum.                                                         1\nOn some Pselaphinae and eptotyphlinae of the west of the department of, Gard (France) (Coleoptera : Staphylinidae).                                                               1\nExogene Orsted, 1845 (Annelida: Syllidae: Exogoninae) from Brazilian, oceanic islands, with description of a new species and notes on possible, hidden diversity in the genus.    1\nGyrodactylus colisai n. sp. (Monogenea: Gyrodactylidae) a new monogenean, from a freshwater fish, Colisa fasciata (Bloch & Schn.) at Meerut, UP,, India.                          1\nIdentification of the pupal parasitoid wasps of grape berry moth Lobesia, botrana (Denis &  Schiffermueller) (Lep., Tortricidae) in Orumieh, vineyards.                           1\nName: Title, Length: 129, dtype: int64"
     },
     "metadata": {},
     "execution_count": 30
    }
   ],
   "source": [
    "# Checking how many of these have no repeated titles, meaning, could be metadata issues alone\n",
    "wos_duplicates_title_counts = wos_duplicates[wos_duplicates.duplicated(subset=['Source', 'Year Published', 'Volume', 'Issue', 'Page Span'], keep=False)]['Title'].value_counts()\n",
    "\n",
    "wos_duplicates_single_titles = wos_duplicates_title_counts[wos_duplicates_title_counts.where(wos_duplicates_title_counts < 2).notna()]\n",
    "\n",
    "wos_duplicates_single_titles"
   ]
  },
  {
   "cell_type": "code",
   "execution_count": 31,
   "metadata": {},
   "outputs": [
    {
     "output_type": "execute_result",
     "data": {
      "text/plain": "129"
     },
     "metadata": {},
     "execution_count": 31
    }
   ],
   "source": [
    "# How many of these 'duplicates' have repeated titles?\n",
    "wos_duplicates.duplicated(subset=['Source', 'Year Published', 'Volume', 'Issue', 'Page Span'], keep=False).value_counts()[1] - wos_duplicates_single_titles.shape[0]"
   ]
  },
  {
   "cell_type": "code",
   "execution_count": 32,
   "metadata": {},
   "outputs": [
    {
     "output_type": "execute_result",
     "data": {
      "text/plain": "                                                   Title       Source  \\\n37746  New nomenclatural and taxonomic acts, and Comm...  Snudebiller   \n\n      Year Published Volume Issue Page Span  \n37746           2015     16   NaN       1-8  ",
      "text/html": "<div>\n<style scoped>\n    .dataframe tbody tr th:only-of-type {\n        vertical-align: middle;\n    }\n\n    .dataframe tbody tr th {\n        vertical-align: top;\n    }\n\n    .dataframe thead th {\n        text-align: right;\n    }\n</style>\n<table border=\"1\" class=\"dataframe\">\n  <thead>\n    <tr style=\"text-align: right;\">\n      <th></th>\n      <th>Title</th>\n      <th>Source</th>\n      <th>Year Published</th>\n      <th>Volume</th>\n      <th>Issue</th>\n      <th>Page Span</th>\n    </tr>\n  </thead>\n  <tbody>\n    <tr>\n      <th>37746</th>\n      <td>New nomenclatural and taxonomic acts, and Comm...</td>\n      <td>Snudebiller</td>\n      <td>2015</td>\n      <td>16</td>\n      <td>NaN</td>\n      <td>1-8</td>\n    </tr>\n  </tbody>\n</table>\n</div>"
     },
     "metadata": {},
     "execution_count": 32
    }
   ],
   "source": [
    "# Getting info on one of the duplicates with non-repeated titles \n",
    "wos_duplicates[wos_duplicates['Title'] == 'New nomenclatural and taxonomic acts, and Comments (2015).'][['Title', 'Source', 'Year Published', 'Volume', 'Issue', 'Page Span']]"
   ]
  },
  {
   "cell_type": "code",
   "execution_count": 33,
   "metadata": {},
   "outputs": [
    {
     "output_type": "execute_result",
     "data": {
      "text/plain": "      Publication Type Zoological Record Accession Number Document Type  \\\n37742                J                    ZOOR15210068284       Article   \n37744                J                    ZOOR15210068264       Article   \n37746                J                    ZOOR15210068286       Article   \n\n                                                   Title Foreign Title  \\\n37742  Auletobius (Canarauletes) garajonay sp.n. from...           NaN   \n37744  Torneuma korwitzi sp.n. from Madeira (Coleopte...           NaN   \n37746  New nomenclatural and taxonomic acts, and Comm...           NaN   \n\n                                                 Authors       Source Volume  \\\n37742             Stueben, Peter E. (P.Stueben@curci.de)  Snudebiller     16   \n37744  Stueben, Peter E. (P.Stueben@curci.de), Schuet...  Snudebiller     16   \n37746  Stueben, Peter E. (P.Stueben@curci.de), Bayer,...  Snudebiller     16   \n\n      Page Span Publication Date  ... Journal URL Item URL Notes  NaN  \\\n37742       1-8  1 December 2015  ...         NaN      NaN   NaN  NaN   \n37744       1-8  1 December 2015  ...         NaN      NaN   NaN  NaN   \n37746       1-8  1 December 2015  ...         NaN      NaN   NaN  NaN   \n\n      Book Authors Publisher Publisher Address  \\\n37742          NaN       NaN               NaN   \n37744          NaN       NaN               NaN   \n37746          NaN       NaN               NaN   \n\n      International Standard Book Number (ISBN) Editors Group Authors  \n37742                                       NaN     NaN           NaN  \n37744                                       NaN     NaN           NaN  \n37746                                       NaN     NaN           NaN  \n\n[3 rows x 42 columns]",
      "text/html": "<div>\n<style scoped>\n    .dataframe tbody tr th:only-of-type {\n        vertical-align: middle;\n    }\n\n    .dataframe tbody tr th {\n        vertical-align: top;\n    }\n\n    .dataframe thead th {\n        text-align: right;\n    }\n</style>\n<table border=\"1\" class=\"dataframe\">\n  <thead>\n    <tr style=\"text-align: right;\">\n      <th></th>\n      <th>Publication Type</th>\n      <th>Zoological Record Accession Number</th>\n      <th>Document Type</th>\n      <th>Title</th>\n      <th>Foreign Title</th>\n      <th>Authors</th>\n      <th>Source</th>\n      <th>Volume</th>\n      <th>Page Span</th>\n      <th>Publication Date</th>\n      <th>...</th>\n      <th>Journal URL</th>\n      <th>Item URL</th>\n      <th>Notes</th>\n      <th>NaN</th>\n      <th>Book Authors</th>\n      <th>Publisher</th>\n      <th>Publisher Address</th>\n      <th>International Standard Book Number (ISBN)</th>\n      <th>Editors</th>\n      <th>Group Authors</th>\n    </tr>\n  </thead>\n  <tbody>\n    <tr>\n      <th>37742</th>\n      <td>J</td>\n      <td>ZOOR15210068284</td>\n      <td>Article</td>\n      <td>Auletobius (Canarauletes) garajonay sp.n. from...</td>\n      <td>NaN</td>\n      <td>Stueben, Peter E. (P.Stueben@curci.de)</td>\n      <td>Snudebiller</td>\n      <td>16</td>\n      <td>1-8</td>\n      <td>1 December 2015</td>\n      <td>...</td>\n      <td>NaN</td>\n      <td>NaN</td>\n      <td>NaN</td>\n      <td>NaN</td>\n      <td>NaN</td>\n      <td>NaN</td>\n      <td>NaN</td>\n      <td>NaN</td>\n      <td>NaN</td>\n      <td>NaN</td>\n    </tr>\n    <tr>\n      <th>37744</th>\n      <td>J</td>\n      <td>ZOOR15210068264</td>\n      <td>Article</td>\n      <td>Torneuma korwitzi sp.n. from Madeira (Coleopte...</td>\n      <td>NaN</td>\n      <td>Stueben, Peter E. (P.Stueben@curci.de), Schuet...</td>\n      <td>Snudebiller</td>\n      <td>16</td>\n      <td>1-8</td>\n      <td>1 December 2015</td>\n      <td>...</td>\n      <td>NaN</td>\n      <td>NaN</td>\n      <td>NaN</td>\n      <td>NaN</td>\n      <td>NaN</td>\n      <td>NaN</td>\n      <td>NaN</td>\n      <td>NaN</td>\n      <td>NaN</td>\n      <td>NaN</td>\n    </tr>\n    <tr>\n      <th>37746</th>\n      <td>J</td>\n      <td>ZOOR15210068286</td>\n      <td>Article</td>\n      <td>New nomenclatural and taxonomic acts, and Comm...</td>\n      <td>NaN</td>\n      <td>Stueben, Peter E. (P.Stueben@curci.de), Bayer,...</td>\n      <td>Snudebiller</td>\n      <td>16</td>\n      <td>1-8</td>\n      <td>1 December 2015</td>\n      <td>...</td>\n      <td>NaN</td>\n      <td>NaN</td>\n      <td>NaN</td>\n      <td>NaN</td>\n      <td>NaN</td>\n      <td>NaN</td>\n      <td>NaN</td>\n      <td>NaN</td>\n      <td>NaN</td>\n      <td>NaN</td>\n    </tr>\n  </tbody>\n</table>\n<p>3 rows × 42 columns</p>\n</div>"
     },
     "metadata": {},
     "execution_count": 33
    }
   ],
   "source": [
    "# Checking if this duplicate with non-repeated titles have instead some metadata problems\n",
    "wos_duplicates[wos_duplicates['Source'] == 'Snudebiller'][wos_duplicates['Year Published'] == '2015'][wos_duplicates['Volume'] == '16'][wos_duplicates['Page Span'] == '1-8']"
   ]
  },
  {
   "source": [
    "Though call! They have the same author and metadata, but not the same title."
   ],
   "cell_type": "markdown",
   "metadata": {}
  },
  {
   "cell_type": "code",
   "execution_count": 34,
   "metadata": {},
   "outputs": [
    {
     "output_type": "execute_result",
     "data": {
      "text/plain": "37742    NaN\n37744    NaN\n37746    NaN\nName: Digital Object Identifier (DOI), dtype: object"
     },
     "metadata": {},
     "execution_count": 34
    }
   ],
   "source": [
    "# Checking for DOIs...\n",
    "wos_duplicates[wos_duplicates['Source'] == 'Snudebiller'][wos_duplicates['Year Published'] == '2015'][wos_duplicates['Volume'] == '16'][wos_duplicates['Page Span'] == '1-8']['Digital Object Identifier (DOI)']"
   ]
  },
  {
   "source": [
    "No DOIs, and, this situation where everything else but title is the same. I'm making a tough call here, but I'll decide to exclude these potential duplicates too."
   ],
   "cell_type": "markdown",
   "metadata": {}
  },
  {
   "source": [
    "###### 'year' NaNs\n",
    "\n",
    "This is a more straight forward check... simply count NaNs on a specific column, 'Year Published'."
   ],
   "cell_type": "markdown",
   "metadata": {}
  },
  {
   "cell_type": "code",
   "execution_count": 35,
   "metadata": {},
   "outputs": [
    {
     "output_type": "execute_result",
     "data": {
      "text/plain": "False    80452\nName: Year Published, dtype: int64"
     },
     "metadata": {},
     "execution_count": 35
    }
   ],
   "source": [
    "# Counting NaNs on 'Year Published'\n",
    "wos['Year Published'].isna().value_counts()"
   ]
  },
  {
   "source": [
    "Wow! Seems that there is not a single row without the year of publication. That's quit amazing.\n",
    "\n",
    "![](https://i.imgur.com/uM1TOIt.png)"
   ],
   "cell_type": "markdown",
   "metadata": {}
  },
  {
   "source": [
    "###### journals' names\n",
    "\n",
    "I just want to have a quick look into the (possible) mess that the journals' names in this source might be. I'm not specting that much of mess, to be honest.\n"
   ],
   "cell_type": "markdown",
   "metadata": {}
  },
  {
   "cell_type": "code",
   "execution_count": 36,
   "metadata": {},
   "outputs": [
    {
     "output_type": "execute_result",
     "data": {
      "text/plain": "2650"
     },
     "metadata": {},
     "execution_count": 36
    }
   ],
   "source": [
    "# Group the wos dataframe by group, getting only 'Year Published' as return\n",
    "wos_journals = wos.groupby('Source').count()['Year Published'].sort_values(ascending=False)\n",
    "\n",
    "# Check the number of journals\n",
    "wos_journals.shape[0]"
   ]
  },
  {
   "source": [
    "This is a LOT OF JOURNALS! I'm surprised. So, decided to check a bit further by:\n",
    "\n",
    "1. Check the ones with one single occurrence, to see if there are any non-journals included in the dataset\n",
    "2. Check if there are typos involving one of the most, if not the most popular journal: Zootaxa"
   ],
   "cell_type": "markdown",
   "metadata": {}
  },
  {
   "cell_type": "code",
   "execution_count": 37,
   "metadata": {},
   "outputs": [
    {
     "output_type": "execute_result",
     "data": {
      "text/plain": "Biological Research',\n 'The carrion beetles of China (Coleoptera: Silphidae).',\n 'The blackflies (Diptera: Simuliidae) of Brazil. [Aquatic Biodiversity in, Latin America. Volume 6.]',\n 'Arnoldia Zimbabwe',\n 'Anadolu Universitesi Bilim ve Teknoloji Dergisi C Yasam Bilimleri ve, Biyoteknoloji',\n 'Ardea',\n 'Vestnik Moskovskogo Universiteta Seriya XVI Biologiya',\n 'Arctiid moths of India. Volume 1.',\n 'Arctic Antarctic and Alpine Research',\n 'Veroeffentlichungen des Museums fuer Naturkunde Chemnitz',\n 'The Howard and Moore complete checklist of the birds of the world. 4th, edtion. Volume two: passerines.',\n 'The Witt Catalogue. A taxonomic atlas of the Eurasian and North African, Noctuoidea: volume 4: Plusiinae II.',\n 'Rhyzobius (Coleoptera: Coccinellidae) a revision of the world species., [Fauna Mundi Volume 2.]',\n '[The Turonian of the Uchaux and Ceze massifs (S.E. France): global, migration of ammonites and implications for international zonation,, rudists and massif correlations.]. [Memoires de la Classe des Sciences,, coll. in -4o, t. 2.]',\n '[The Cetoniinae of Sabah.]. [Collection Ex Natura Vol 1.]',\n 'Abalone: world-wide Haliotidae.',\n 'Revista Caatinga',\n 'River Research and Applications',\n 'Revista Brasileira de Geociencias',\n 'Zoologicheskie Issledovania',\n 'Zoological Bibliography',\n 'Boletin del Museo Entomologico Francisco Luis Gallego',\n 'Acta Ethologica',\n '[The subfamily Chasmopinae (Trilobita, pterygometopidae) from, Baltoscandian glacial erratic boulders as well as Baltoscandia and, neighbouring areas.].',\n 'Revision of the Palearctic Chaetocnema species. (Coleoptera:, Chrysomelidae: Galerucinae: Alticini).',\n 'ZooNotes',\n 'Russian Geology and Geophysics',\n 'Acta Geologica Slovaca',\n 'Abhandlungen aus dem Westfaelischen Museum fuer Naturkunde',\n 'Revista Cientifica - Maracaibo',\n 'Revista Cientifica UDO Agricola',\n '[Afrotropical Melolonthinae (Scarabaeoidea, Melolonthidae). Commented, genera and catalogue.].',\n 'Biology Direct',\n 'Acta Carsologica',\n 'Revista FAVE Ciencias Veterinarias',\n 'Abhandlungen und Berichte fuer Naturkunde',\n 'Archives of Razi Institute',\n 'The cicadas of Thailand. Volume 2: taxonomy and sonic ethology. [Siri, Scientific Press Monograph Series Volume 5.]',\n 'Reptile Rap',\n 'Anatomia Histologia Embryologia',\n 'The Dolichodoridae of the World. Identification of the family, Dolichodoridae: (Nematoda: Tylenchida).',\n 'Ursus',\n 'The description of a new genus and twenty-three new species of, Metarbelidae (Lepidoptera: Cossoidea) from the lowland tropical rain, forests of the Guineo-Congolian region with notes on habitats and, biogeography.',\n 'Acta Veterinaria (Belgrade)',\n 'Transactions of the American Fisheries Society',\n 'Tichodroma',\n 'Aquatic Conservation',\n 'Tieraerztliche Praxis Ausgabe G Grosstiere-Nutztiere',\n 'Tiger beetles of the Madagascan region (Madagascar, the Comoros,, Seychelles, Mascarenes and other islands). Taxonomic revision of the 17, genera occurring in the region (Coleoptera: Cicindelidae).',\n 'Aquaculture Nutrition',\n \"Annali dell'Istituto Superiore di Sanita\",\n 'Annals of Agricultural and Environmental Medicine',\n 'Tokushima Daigaku So-go Kagakubu Shizen Kagaku Kenkyu',\n 'Transactions of the Missouri Academy of Science',\n 'Theriogenology',\n 'Tropical fruit flies (Tephritidae: Dacinae) of South-East Asia:, Indomalaya to North-West Australasia.',\n 'Transactions of the Royal Society of Tropical Medicine and Hygiene',\n 'Treatise on Zoology - Anatomy, Taxonomy, Biology. The Gregarines. Volume, 1.',\n 'Ants of Africa and Madagascar: a guide to the genera.',\n 'Anthropozoologica',\n 'Anthropological Science',\n 'An annotated catalogue of the ground beetles (Coleoptera: Caraboidea) of, Sikhote-Alin.',\n 'Biological Letters',\n 'The Cryptorhynchinae of the Western Palearctic.',\n 'Ampulex',\n 'Vavilovskii Zhurnal Genetiki i Selektsii',\n 'Uzbekskii Biologicheskii Zhurnal',\n 'Anhui Nongye Daxue Xuebao',\n 'The cone shells of Florida: an illustrated key and a review of the, recent species.',\n 'The Witt Catalogue. A taxonomic atlas of the Eurasian and North African, Noctuoidea. Volume 6: Noctuinae I.',\n 'The Geometrid moths of Europe. Volume 3: Larentiinae I.',\n 'Archives des Sciences (Geneva)',\n 'Amphibians of Suriname. [Fauna of Suriname Volume 1.]',\n 'Asian Journal of Biological Sciences',\n 'Asian Journal of Animal and Veterinary Advances',\n 'Taxa',\n 'Asian Fisheries Science',\n 'Ammonites: a geological journey around the Appenine mountains. Lower, Jurassic.',\n 'Vestnik Tomskogo Gosudarstvennogo Universiteta Biologiya',\n 'Taxonomic revision of Megalorhina Westwood and subgeneric classification, of Mecynorhina Hope (Coleoptera: Scarabaeidae: Cetoniinae).',\n 'Amphibian and Reptile Conservation',\n 'Tetrahedron',\n 'The Eupithecia of China: A Revision.',\n 'The Ants of Fiji.',\n 'The Cerithiopsidae (Caenogastropoda: Triphoroidea) of Espiritu Santo -, Vanuatu (South Pacific Ocean).',\n 'The Coleoptera of the Salvage Islands.',\n 'The Criconematidae of the world. Identification of the Family, Criconematidae (Nematoda).',\n 'Annotated catalogue of the insects of Russian Far East. Volume I., Hymenoptera.',\n 'Acta Entomologica Chilena',\n 'Bionomina',\n 'Science Journal of Kanagawa University',\n 'Science Report of the Toyohashi Museum of Natural History',\n 'Research in Marine Sciences',\n 'Brazilian Journal of Morphological Sciences',\n 'A revision of subspecies structure of Dorcadion (Cribridorcadion), scabricolle (Dalman, 1817) (Coleoptera, Cerambycidae).',\n 'Science Asia',\n 'A revision of subspecies structure of Dorcadion (Cribridorcadion) nobile, Hampe, 1852 (Coleoptera, Cerambycidae) with description of two new, subspecies.',\n 'Acta Sedimentologica Sinica',\n 'Research Journal of Biological Sciences',\n 'Science International (Lahore)',\n 'Xinyang Shifan Xueyuan Xuebao Ziran Kexue Ban',\n 'A conchological iconography. The families Conilithidae and Conidae: the, cones of the eastern Pacific.',\n 'A revision of the genus Arbelodes Karsch (Lepidoptera: Cossoidea:, Metarbelidae) from southeast-central and southern Africa with the, description of thirteen new species.',\n 'Biodiversity',\n 'Scanning electron microscopic studies on several otopheidomenid mites, (Acari: Otopheidomenidae).',\n 'Bosque',\n 'Schriften des Naturwissenschaftlichen Vereins fuer Schleswig-Holstein',\n 'Acta Oecologica',\n 'Bonner Zoologische Monographien',\n 'Bonnoprani - Bangladesh Wildlife Bulletin',\n 'Bioacoustics',\n 'Xyleborini of New Guinea, a taxonomic monograph (Coleoptera:, Curculionidae: Scolytinae). [Thomas Say Publications in Entomology:, Monographs.]',\n 'Research Journal of Fisheries and Hydrobiology',\n 'Zeitschrift des Koelner Zoo',\n 'Zhongguo Xuexichongbing Fangzhi Zazhi',\n 'Bioinspiration & Biomimetics',\n 'Bonn Zoological Bulletin Supplementum',\n 'Restoration Ecology',\n 'Zitteliana Reihe B Abhandlungen der Bayerischen Staatssammlung fuer, Palaeontologie und Geologie',\n 'Zeitschrift fuer Feldherpetologie',\n 'Satuniidae Mundi: saturniid moths of the world. Part II.',\n 'Biogeography and biodiversity of Western Atlantic mollusks.',\n 'Review of the Anillina of Greece (Coleoptera, Carabidae, Bembidiini)., [Biodiversity Journal Monograph 1.]',\n 'Zhejiang Daxue Xuebao Nongye Yu Shengming Kexue Ban',\n 'Bioformosa',\n 'Reviews in Aquaculture',\n 'Revision of genera of the parasitic mite family Macronyssidae, (Mesostigmata: Dermanyssoidea) of the world.',\n 'Acta Musei Brukenthal',\n 'AES Bioflux',\n 'Bioikos',\n 'Biodiversity of Western Rhodopes (Bulgaria and Greece) II. [Pensoft, Series Faunistica No 102.]',\n 'Salus',\n 'Acta Musei Beskidensis',\n 'Revision of genus Paraphytoseius Swirski and Shechter, 1961 (Acari:, Phytoseiidae).',\n '[Revision of the Phymatoceratinae of the Middle and Upper Toarcian in, France and the world.].',\n 'Schubartiana',\n 'ABAH Bioflux',\n 'Zoo Biology',\n 'A world catalogue of Chironomidae (Diptera). Part 2. Orthocladiinae, (Section B).',\n 'Bird Conservation International',\n 'BirdingASIA',\n 'Zoo Indonesia',\n '[Chloropholus of Madagascar (Coleoptera, Curculionidae, Hyperinae).]., [Collection Ex Natura Vol. 6.]',\n 'Acta Adriatica',\n 'Boletim do Museu Nacional Nova Serie Geologia',\n 'Acta Agriculturae Universitatis Jiangxiensis',\n 'Bohemia Centralis',\n 'Bocagiana (Funchal)',\n 'Bivalve seashells of tropical West America: marine bivalve mollusks from, Baja California to northern Peru. Part 2. [Studies in Biodiversity, Number 4.]',\n '[Revision of Africans Anthene (Lepidoptera, Lycaenidae).].',\n 'Acta Anthropologica Sinica',\n 'Bivalve seashells of tropical West America: marine bivalve mollusks from, Baja California to northern Peru. Part 1. [Studies in Biodiversity, Number 4.]',\n 'Revista Portuguesa de Ciencias Veterinarias',\n '[South American Cerambycidae (Coleoptera). Subfamily Lamiinae,, Hemilophini Thomson, 1868. Part I.]. [Taxonomia Volume 13.]',\n '[Mammals of restingas and mangroves of Brazil.]. [Museu Nacional Serie, Livros 39.]',\n 'Revista Scientia Parasitologica',\n '[Lizards, crocodiles and tortoises of western Africa and the Sahara.].',\n 'Boletin BIGA',\n 'Revista de la Universidad del Valle de Guatemala',\n 'Revista del Museo de La Plata Seccion Paleontologia',\n '[Agrilus, Agriloides and Autarcontes of French Guyana.]. [Collection Ex, Natura Vol. 2.]',\n 'Acta Botanica Croatica',\n 'Boletin de Malariologia y Salud Ambiental',\n 'Revista Facultad de Ciencias Basicas Universidad Militar Nueva Granada',\n 'Research materials of terrestrial molluscas in China.',\n 'Research in Zoology',\n 'Yuzuncu Yil Universitesi Tarim Bilimleri Dergisi',\n 'AASP Contributions Series',\n 'Brazilian Journal of Aquatic Science and Technology',\n '[The tree frogs of Cameroon. (Amphibia Anura).].',\n 'Zbornik Matitse Srpske za Prirodne Nauke',\n 'Revista Brasileira de Ciencia Veterinaria',\n 'Boletin del Museo de Entomologia de la Universidad del Valle',\n '[South American Cerambycidae (Coleoptera). Taxonomy. Volume XI., Subfamily Parandrinae Blanchard, 1845. Subfamily Disteniinae Thomson,, 1861.].',\n 'Revista de Etologia',\n 'Biotropia',\n 'Revista Ibero-Latinoamericana de Parasitologia',\n 'Acta Biologica Indica',\n 'Boletin de Biodiversidad de Chile',\n '[Cerambycidae of Borneo, subfamily Cerambycinae (I): tribes, Callichromatini, Compsocerini, Mythodini, Thraniini, Stenopterini,, Dejanirini and Trachyderini.]. [Collection Ex Natura Vol. 4.]',\n '[Sponges of the Brazilian oceanic islands.]. [Museu Nacional Serie, Livros 44.]',\n 'Revista de Investigacion Marina',\n 'Revista de Investigaciones Agropecuarias',\n 'Revista de Investigaciones Marinas',\n 'Biosciences Biotechnology Research Asia',\n '[Cerambycidae Dorcasominae of Madagascar.]. [Collection Ex Natura Vol., 3.]',\n 'Trends in Parasitology',\n 'Trudy Karelskogo Nauchnogo Centra Rossiiskoi Akademii Nauk',\n 'Theoretical Ecology',\n 'Fauna Ukrayiny',\n 'Fauna Sinica Insecta Vol. 52. Lepidoptera Pieridae.',\n 'Jurnal Sains Kesihatan Malaysia',\n 'Fauna Iberica. Vol. 41. Annelida. Polychaeta IV.',\n 'Fauna Iberica. Vol. 40. Coleoptera, Coccinellidae.',\n 'Fauna Iberica. Vol. 39. Pycnogonida.',\n 'Fauna Iberica. Vol. 38. Mollusca, Solenogastres, Caudofoveata,, Monoplacophora.',\n 'Fauna Iberica. Vol. 37. Lepidoptera: Papilionoidea.',\n 'Fauna Iberica. Vol. 36. Annelida: Polychaeta III. [Fauna Iberica.]',\n \"Fauna d'Italia\",\n 'Fauna Entomologica Scandinavica',\n 'Kasetsart University Fisheries Research Bulletin',\n 'Facetta',\n 'Journal of the Black Sea-Mediterranean Environment',\n 'Journal of Zhejiang University Science B',\n 'Florida Scientist',\n 'Fossil and recent Muricidae of the world. Part Muricinae.',\n 'Journal of Integrative Plant Biology',\n 'Fundacion Miguel Lillo Miscelanea',\n 'Journal of Mediterranean Earth Sciences',\n 'Karnataka Journal of Agricultural Sciences',\n 'Fauna of Madhya Pradesh (including Chhattisgarh). Part - 3. [State Fauna, Series, 15.]',\n 'Jurnal Biologi Indonesia',\n 'Fauna of Russia and neighbouring countries. New series, No. 149., Insecta: Hemiptera: Arthroidignatha. Homoptera: Coccinea:, Pseudococcidae. Palaearctic mealybugs (Homoptera: Coccinea:, Pseudococcidae). Part 2. Subfamily Pseudococcinae.',\n 'Australian Longhorn Beetles (Coleoptera: Cerambycidae). Volume 1., Introduction and Subfamily Lamiinae.',\n 'Species diversity and distribution of inland fishes in China.',\n 'Speleolog',\n 'Australian Field Ornithology',\n 'Spider wasps (Hymenoptera: Pompilidae) of the Russian Far East.',\n 'Australian Biodiversity Record',\n 'Stag beetles of China II.',\n \"Vyestsi Natsyyanal'nai Akademii Navuk Byelarusi Syeryya Biyalahichnykh, Navuk\",\n 'Ornithologia',\n 'Reef fishes of the East Indies. Andaman Sea, Myanmar, Thailand,, Indonesia, Christmas Island, Singapore, Malaysia, Brunei, Philippines,, Papua New Guinea, Solomon Islands. Volume III.',\n 'Kaupia Darmstaedter Beitraege zur Naturgeschichte',\n 'Fisheries Oceanography',\n 'Journal of the National Science Foundation of Sri Lanka',\n 'Fish and Fisheries',\n 'Journal of the Northwest Normal University Natural Sciences',\n 'Journal of the Royal Society Interface',\n 'Fibigeriana. Volume 1. The Vartian Collection. Part I. Noctuoidea.',\n 'Journal of the World Aquaculture Society',\n 'Faune de Madagascar',\n 'Jurnal Biologi',\n 'Fauna of Uttarakhand (part-2): insects. [State Fauna Series, 18.]',\n 'Journal of Paleontological Sciences',\n 'Frog Leg',\n 'Freshwater dinoflagellates of North America.',\n 'Journal of Photochemistry and Photobiology B Biology',\n 'Lepidoptera (Copenhagen)',\n 'Lesne Prace Badawcze',\n 'Environmental Management',\n 'Lilloa',\n 'Environment Conservation Journal',\n 'Limosa',\n 'Entomology in Focus',\n 'Living World',\n 'Lizards of Peninsular Malaysia, Singapore, and their adjacent, Archipelagos. Their description, distribution, and natural history.',\n 'Longicorn beetles (Coleoptera, Cerambycoidea) of Russia and adjacent, countries. Part 1.',\n 'Luminescence',\n 'Magallania',\n 'Mainzer Naturwissenschaftliches Archiv Beiheft',\n 'Makropode',\n 'MalaCo',\n 'Malacofauna Pliocenica Toscana, Vol. 8: Pyramidelloidea, Gray J.E. 1840.',\n 'Malacofauna Pliocenica Toscana. Vol. 9, Gastropoda fine, Scaphopoda.',\n 'Malacologica Bohemoslovaca',\n 'Malacological Review',\n 'Entomologica (Bari)',\n 'Malakologiai Tajekoztato',\n 'Leipziger Geowissenschaften',\n 'Aleocharine beetles (Coleoptera, Staphylinidae) of the province of, Newfoundland and Labrador, Canada. [Pensoft Series Faunistica No 98.]',\n 'Environmental Toxicology',\n 'Meditsinskaya Parazitologiya i Parazitarnye Bolezni',\n 'Journal of Plant Research',\n 'Journal of Pollination Ecology',\n 'Journal of Protozoology Research',\n 'Fossils (Tokyo)',\n 'Journal of Siberian Federal University Biology',\n 'Fossil acanthopterygian fishes (Teleostei, Acanthopterygii). [Fossil, vertebrates of Russia and adjacent countries.]',\n 'Journal of Wildlife and Biodiversity',\n 'Journal of Sichuan Normal University (Natural Science)',\n 'Journal of Stored Products Research',\n 'Journal of Sustainability Science and Management',\n 'Forest Science',\n 'Forest Research',\n 'Forensic Science International',\n 'Journal of Tropical Biology and Conservation',\n 'Folia Musei Historico-Naturalis Bakonyiensis',\n 'Journal of Urban Ecology',\n 'Folia Heyrovskyana Supplementum',\n 'Journal of Vertebrate Biology',\n 'Journal of Wetlands Biodiversity',\n 'FABICIB',\n 'Kempffiana',\n 'Key to freshwater gastropods of Western Siberia (Mollusca: Gastropda)., V. 1. Gastropoda: Pulmonata. Fasc 1. Families Acroloxidae and, Lymnaeidae.',\n 'Southwest China Journal of Agricultural Sciences',\n 'Southeastern Fishes Council Proceedings',\n 'Albertiana',\n 'Bangladesh Journal of Botany',\n 'Tropical Ecology',\n 'Shirakami-Sanchi Bulletin of the Shirakami Institute for Environmental, Sciences Hirosaki University',\n 'Voprosy Virusologii',\n 'Badania Fizjograficzne Seria C Zoologia',\n 'African Journal of Wildlife Research',\n 'Slovak Raptor Journal',\n 'BMC Research Notes',\n 'Water Air and Soil Pollution',\n 'Afrotherian Conservation',\n 'BMC Genetics',\n 'Agricultural and Biological Research',\n 'BMC Ecology',\n 'Agricultural and Forest Entomology',\n 'Avocetta',\n 'Avian Research',\n 'Avian Pathology',\n 'Wader Study',\n 'Basic and Applied Herpetology',\n 'Veterinary Medicine International',\n 'Scripta Musei Geologici Seminarii Barcinonensis Series Malacologica',\n 'Shinrin Sogo Kenkyujo Kenkyu Hokoku',\n 'Scientific Publications of the Science Museum of Minnesota',\n 'Small Carnivore Conservation',\n 'Veterinaria Mexico',\n 'The freshwater bivalves of China.',\n 'Aquila',\n 'Archaeopteryx',\n 'Archaeofauna',\n 'Animal Conservation',\n 'The living and fossil busycon whelks: iconic mollusks of eastern North, America.',\n 'The lizards, crocodiles, and turtles of Honduras: systematics,, distribution, and conservation. [Bulletin of the Museum of Comparative, Zoology Special Publications Series, No. 2.]',\n 'Arachnida and Myriapoda of the Seychelles islands. [Seychelles fauna, monographs.]',\n \"Animal Keepers' Forum\",\n 'University of British Columbia Fisheries Centre Research Reports',\n \"Uccelli d'Italia\",\n 'Trudy VNIRO',\n 'Turkiye Jeoloji Bulteni',\n 'The mayflies of Europe (Ephemeroptera).',\n 'Tulane Studies in Zoology and Botany',\n 'Tsitologiya',\n 'The moths of North America. Fascicle 8.1. Tortricoidea. Tortricidae, (part) Tortricinae (part) Sparganothini and Atteriini.',\n 'The plant bugs, or Miridae, (Hemiptera: Heteroptera), of Cuba. [Pensoft, Series Faunistica No. 92]',\n 'The subfamily Steninae Macleay, 1825 (Coleoptera: Staphylinidae) of, Japan Part 1. Dianous and Stenus (S. comma group to S. guttalis group).',\n 'The symbolic species evolved. [Biosemiotics Volume 6.]',\n 'Asian Journal of Biological and Life Sciences',\n 'Tachinid Times',\n 'Marine Ornithology',\n 'Scientific World Journal',\n 'Xinjiang Nongye Daxue Xuebao',\n 'Atlas of the Late Cretaceous ammonites of the Saratov Volga region.',\n 'Studia Universitatis Vasile Goldis Arad Seria Stiintele Vietii',\n 'Agroproductividad',\n 'Studies in Mycology',\n 'Suleyman Demirel Universitesi Egirdir Su Urunleri Fakultesi Dergisi',\n 'Association Geologique Auboise Bulletin Annuel',\n 'Ambiente & Agua',\n 'Assessment of species diversity in the Atlantic maritime ecozone.',\n 'Aspilota-group in natural parks of Valencia and European Dinotrema, revision.Vol. 1.',\n 'Asociacion Paleontologica Argentina Publicacion Especial',\n 'Veterinary Ophthalmology',\n 'Studia Geologica Polonica',\n 'Studia Dipterologica Supplement',\n 'Stilt',\n 'Steenstrupia',\n 'South African Journal of Wildlife Research',\n 'Australian longhorn beetles (Coleoptera: Cerambycidae). Volume 2,, subfamily Cerambycinae. [Australian Longhorn Beetles Series]',\n 'Australian land snails. Volume 2. A field guide to southern, central and, western species.',\n 'Australian land snails. Volume 1. A field guide to eastern Australian, species.',\n 'Alavesia',\n 'South-Western Journal of Horticulture Biology and Environment',\n 'Atoll Research Bulletin',\n 'Acta Veterinaria Brasilica',\n 'Studia Universitatis Babes-Bolyai Geologia',\n 'Alula (Roma)',\n 'Acta Veterinaria et Zootechnica Sinica',\n 'Acta ZooBot Austria',\n 'World Aquaculture',\n 'Scorpions of Cuba.',\n 'World Applied Sciences Journal',\n 'West African Journal of Applied Ecology',\n 'Semana',\n 'Wissenschaftliches Jahrbuch der Tiroler Landesmuseen',\n 'Behavioural Processes',\n 'Wiadomosci Entomologiczne',\n 'Advances in Marine Biology',\n 'Aegialiini and Eremazini of the World (Coleoptera: Scarabaeidae):, iconography.',\n 'Shanghai Haiyang Daxue Xuebao',\n 'Wetlands',\n 'Agrilus (Coleoptera, Buprestidae) of East Asia.',\n 'Agronomia Mesoamericana',\n 'Aves (Liege)',\n 'Victorian Entomologist',\n 'Vietnamese new mollusks: sea shells, landsnails, cephalopods.',\n 'Atti della Societa Toscana di Scienze Naturali Residente in Pisa Memorie, Serie B',\n 'Altenburger Naturwissenschaftliche Forschungen',\n 'Atti della Accademia Nazionale dei Lincei Classe di Scienze Fisiche, Matematiche e Naturali Rendiconti Lincei Scienze Fisiche e Naturali',\n 'A conchological iconography. The Family Volutidae: the endemic Far East, Asian subfamily Fulgorariinae Pilsbry & Olsson, 1954: a revision of the, Recent species.']"
     },
     "metadata": {},
     "execution_count": 37
    }
   ],
   "source": [
    "# Take a look at the journals with less than 2 occurrences as we might see some non-journals here\n",
    "list(wos_journals[~wos_journals.where(wos_journals < 2).isna()].sort_values().index)"
   ]
  },
  {
   "cell_type": "code",
   "execution_count": 38,
   "metadata": {},
   "outputs": [
    {
     "output_type": "execute_result",
     "data": {
      "text/plain": "Source\nZootaxa                                                   16906\nActa Zootaxonomica Sinica                                   441\nArquivo Brasileiro de Medicina Veterinaria e Zootecnia       12\nVeterinaria e Zootecnia                                       4\nActa Veterinaria et Zootechnica Sinica                        1\nName: Year Published, dtype: int64"
     },
     "metadata": {},
     "execution_count": 38
    }
   ],
   "source": [
    "# Checking for possible typos involving Zootaxa's name\n",
    "wos_journals[['Zoot'.lower() in s.lower() for s in wos_journals.index]]"
   ]
  },
  {
   "source": [
    "We can see that there are a LOT of different journals in this dataset, but not all of them are actual journals, there are mistakes, random enough to be extremely hard -- or impossible -- to come up with an automate way of cleaning at this point.\n",
    "\n",
    "On the bright side, there aren't many typos with the most common journal on the dataset, which is a good indication that we are not missing a lot of data due to this issue."
   ],
   "cell_type": "markdown",
   "metadata": {}
  },
  {
   "source": [
    "Summary of transformations needed in this dataset (Web of Science/Zoological Records):\n",
    "\n",
    "1. Remove duplicates based on 'Source', 'Year Published', 'Volume', 'Issue', 'Page Span' columns\n",
    "2. Select only 'Source' and 'Year Published' columns\n",
    "3. Rename these two columns to 'Journal' and 'Year'\n",
    "4. Add a column named 'Source', with all rows = 'WoS/Zoological Records'"
   ],
   "cell_type": "markdown",
   "metadata": {}
  },
  {
   "source": [
    "##### TreatmentBank (Plazi)"
   ],
   "cell_type": "markdown",
   "metadata": {}
  },
  {
   "cell_type": "code",
   "execution_count": 39,
   "metadata": {},
   "outputs": [
    {
     "output_type": "execute_result",
     "data": {
      "text/plain": "Index(['id', 'authors', 'year', 'title', 'journal', 'volume', 'issue',\n       'start_page', 'end_page', 'num_treats'],\n      dtype='object')"
     },
     "metadata": {},
     "execution_count": 39
    }
   ],
   "source": [
    "# First, check the available columns again\n",
    "tb.columns"
   ]
  },
  {
   "source": [
    "###### Duplicates\n",
    "\n",
    "There aren't many things that we can easily compare other than adopting the second strategy applied for WoS dataset. Thus:\n",
    "\n",
    "1. Based on the columns: 'journal', 'year', 'volume', 'issue', 'start_page'\n",
    "\n",
    "It's worth to mention that I'm deliberately avoiding using 'title' for this because I strongly believe that the more complex, variable, a field is, the more likely to have typos and other variance. As such, 'title' isn't a good fit to check for duplicates, for instance."
   ],
   "cell_type": "markdown",
   "metadata": {}
  },
  {
   "cell_type": "code",
   "execution_count": 40,
   "metadata": {},
   "outputs": [
    {
     "output_type": "execute_result",
     "data": {
      "text/plain": "0"
     },
     "metadata": {},
     "execution_count": 40
    }
   ],
   "source": [
    "# Check for duplicates using the defined strategy\n",
    "\n",
    "# First, remove possible rowns with NaNs in all of these fields:\n",
    "tb_duplicates = tb.dropna(subset=['journal', 'year', 'volume', 'issue', 'start_page'], how='all', inplace=False)\n",
    "\n",
    "# Checks if there were any NaNs in all of these columns\n",
    "tb_duplicates.shape[0] - tb.shape[0]"
   ]
  },
  {
   "cell_type": "code",
   "execution_count": 41,
   "metadata": {},
   "outputs": [
    {
     "output_type": "execute_result",
     "data": {
      "text/plain": "False    18763\nTrue       192\ndtype: int64"
     },
     "metadata": {},
     "execution_count": 41
    }
   ],
   "source": [
    "# Then, applied strategy\n",
    "tb_duplicates.duplicated(subset=['journal', 'year', 'volume', 'issue', 'start_page'], keep=False).value_counts()"
   ]
  },
  {
   "cell_type": "code",
   "execution_count": 42,
   "metadata": {},
   "outputs": [
    {
     "output_type": "execute_result",
     "data": {
      "text/plain": "          id                                            authors  year  \\\n329      330                            Min, Gao & Zhang, Yalin  2013   \n357      358  Miranda, Vinicius Rocha & Rodrigues, Andrielle...  2020   \n452      453  Molineri, Carlos & Granados-Martinez, Cristian E.  2019   \n504      505  Monteiro, Nilton Juvencio Santiago & Esposito,...  2017   \n642      643    Mostafa R. Sharaf & Joe Monks & Andrew Polaszek  2016   \n...      ...                                                ...   ...   \n18571  18572         Martynov, Alexander V. & Godunko, Roman J.  2017   \n18603  18604             Maruyama, Munetoshi & Kamezawa, Hiromu  2013   \n18868  18869              Abolafia, Joaquín & Shokoohi, Ebrahim  2017   \n18916  18917  Adeldoost, Yaser & Heydari, Ramin & Pedram, Majid  2015   \n18946  18947               Aguila, Rayner Núñez & Davis, Don R.  2016   \n\n                                                   title  \\\n329    Review of the leafhopper genus Oniella Matsumu...   \n357    A new species of Ophryotrocha (Annelida: Dorvi...   \n452    Two new species of Campsurus Eaton (Ephemeropt...   \n504    New species and new records of Calycomyza Hend...   \n642    A remarkable new species of the genus Lepisiot...   \n...                                                  ...   \n18571  Mayflies of the Caucasus Mountains. IV. New sp...   \n18603  Adinopsis nippon, a new species of marsh-dwell...   \n18868  Description of Stegelletina lingulata sp. n. (...   \n18916  Morphological and molecular characterization o...   \n18946  Antillopsyche sessilis, new genus and species,...   \n\n                          journal volume issue start_page end_page num_treats  \n329                       Zootaxa   3693     1          0        0          1  \n357            Pap. Avulsos Zool.     60     0          1        8          1  \n452                       Zootaxa   4543     1          0        0          2  \n504                       Zootaxa   4338     3          0        0          2  \n642    Journal of Natural History     50    29          1       13          1  \n...                           ...    ...   ...        ...      ...        ...  \n18571                     Zootaxa   4231     1          0        0          1  \n18603                     Zootaxa   3669     1          0        0          1  \n18868                     Zootaxa   4358     3          0        0          1  \n18916                     Zootaxa   4040     1          0        0          1  \n18946                     Zootaxa   4066     1          0        0          1  \n\n[192 rows x 10 columns]",
      "text/html": "<div>\n<style scoped>\n    .dataframe tbody tr th:only-of-type {\n        vertical-align: middle;\n    }\n\n    .dataframe tbody tr th {\n        vertical-align: top;\n    }\n\n    .dataframe thead th {\n        text-align: right;\n    }\n</style>\n<table border=\"1\" class=\"dataframe\">\n  <thead>\n    <tr style=\"text-align: right;\">\n      <th></th>\n      <th>id</th>\n      <th>authors</th>\n      <th>year</th>\n      <th>title</th>\n      <th>journal</th>\n      <th>volume</th>\n      <th>issue</th>\n      <th>start_page</th>\n      <th>end_page</th>\n      <th>num_treats</th>\n    </tr>\n  </thead>\n  <tbody>\n    <tr>\n      <th>329</th>\n      <td>330</td>\n      <td>Min, Gao &amp; Zhang, Yalin</td>\n      <td>2013</td>\n      <td>Review of the leafhopper genus Oniella Matsumu...</td>\n      <td>Zootaxa</td>\n      <td>3693</td>\n      <td>1</td>\n      <td>0</td>\n      <td>0</td>\n      <td>1</td>\n    </tr>\n    <tr>\n      <th>357</th>\n      <td>358</td>\n      <td>Miranda, Vinicius Rocha &amp; Rodrigues, Andrielle...</td>\n      <td>2020</td>\n      <td>A new species of Ophryotrocha (Annelida: Dorvi...</td>\n      <td>Pap. Avulsos Zool.</td>\n      <td>60</td>\n      <td>0</td>\n      <td>1</td>\n      <td>8</td>\n      <td>1</td>\n    </tr>\n    <tr>\n      <th>452</th>\n      <td>453</td>\n      <td>Molineri, Carlos &amp; Granados-Martinez, Cristian E.</td>\n      <td>2019</td>\n      <td>Two new species of Campsurus Eaton (Ephemeropt...</td>\n      <td>Zootaxa</td>\n      <td>4543</td>\n      <td>1</td>\n      <td>0</td>\n      <td>0</td>\n      <td>2</td>\n    </tr>\n    <tr>\n      <th>504</th>\n      <td>505</td>\n      <td>Monteiro, Nilton Juvencio Santiago &amp; Esposito,...</td>\n      <td>2017</td>\n      <td>New species and new records of Calycomyza Hend...</td>\n      <td>Zootaxa</td>\n      <td>4338</td>\n      <td>3</td>\n      <td>0</td>\n      <td>0</td>\n      <td>2</td>\n    </tr>\n    <tr>\n      <th>642</th>\n      <td>643</td>\n      <td>Mostafa R. Sharaf &amp; Joe Monks &amp; Andrew Polaszek</td>\n      <td>2016</td>\n      <td>A remarkable new species of the genus Lepisiot...</td>\n      <td>Journal of Natural History</td>\n      <td>50</td>\n      <td>29</td>\n      <td>1</td>\n      <td>13</td>\n      <td>1</td>\n    </tr>\n    <tr>\n      <th>...</th>\n      <td>...</td>\n      <td>...</td>\n      <td>...</td>\n      <td>...</td>\n      <td>...</td>\n      <td>...</td>\n      <td>...</td>\n      <td>...</td>\n      <td>...</td>\n      <td>...</td>\n    </tr>\n    <tr>\n      <th>18571</th>\n      <td>18572</td>\n      <td>Martynov, Alexander V. &amp; Godunko, Roman J.</td>\n      <td>2017</td>\n      <td>Mayflies of the Caucasus Mountains. IV. New sp...</td>\n      <td>Zootaxa</td>\n      <td>4231</td>\n      <td>1</td>\n      <td>0</td>\n      <td>0</td>\n      <td>1</td>\n    </tr>\n    <tr>\n      <th>18603</th>\n      <td>18604</td>\n      <td>Maruyama, Munetoshi &amp; Kamezawa, Hiromu</td>\n      <td>2013</td>\n      <td>Adinopsis nippon, a new species of marsh-dwell...</td>\n      <td>Zootaxa</td>\n      <td>3669</td>\n      <td>1</td>\n      <td>0</td>\n      <td>0</td>\n      <td>1</td>\n    </tr>\n    <tr>\n      <th>18868</th>\n      <td>18869</td>\n      <td>Abolafia, Joaquín &amp; Shokoohi, Ebrahim</td>\n      <td>2017</td>\n      <td>Description of Stegelletina lingulata sp. n. (...</td>\n      <td>Zootaxa</td>\n      <td>4358</td>\n      <td>3</td>\n      <td>0</td>\n      <td>0</td>\n      <td>1</td>\n    </tr>\n    <tr>\n      <th>18916</th>\n      <td>18917</td>\n      <td>Adeldoost, Yaser &amp; Heydari, Ramin &amp; Pedram, Majid</td>\n      <td>2015</td>\n      <td>Morphological and molecular characterization o...</td>\n      <td>Zootaxa</td>\n      <td>4040</td>\n      <td>1</td>\n      <td>0</td>\n      <td>0</td>\n      <td>1</td>\n    </tr>\n    <tr>\n      <th>18946</th>\n      <td>18947</td>\n      <td>Aguila, Rayner Núñez &amp; Davis, Don R.</td>\n      <td>2016</td>\n      <td>Antillopsyche sessilis, new genus and species,...</td>\n      <td>Zootaxa</td>\n      <td>4066</td>\n      <td>1</td>\n      <td>0</td>\n      <td>0</td>\n      <td>1</td>\n    </tr>\n  </tbody>\n</table>\n<p>192 rows × 10 columns</p>\n</div>"
     },
     "metadata": {},
     "execution_count": 42
    }
   ],
   "source": [
    "# Take a carefull look into some of these so-called duplicates\n",
    "tb_duplicates[tb_duplicates.duplicated(subset=['journal', 'year', 'volume', 'issue', 'start_page'], keep=False)]"
   ]
  },
  {
   "cell_type": "code",
   "execution_count": 43,
   "metadata": {},
   "outputs": [
    {
     "output_type": "execute_result",
     "data": {
      "text/plain": "          id                       authors  year  \\\n329      330       Min, Gao & Zhang, Yalin  2013   \n14918  14919  Huerta, Heron & Dzul, Felipe  2013   \n\n                                                   title  journal volume  \\\n329    Review of the leafhopper genus Oniella Matsumu...  Zootaxa   3693   \n14918  First record of the genus Abrhexosa Freeman fr...  Zootaxa   3693   \n\n      issue start_page end_page num_treats  \n329       1          0        0          1  \n14918     1          0        0          3  ",
      "text/html": "<div>\n<style scoped>\n    .dataframe tbody tr th:only-of-type {\n        vertical-align: middle;\n    }\n\n    .dataframe tbody tr th {\n        vertical-align: top;\n    }\n\n    .dataframe thead th {\n        text-align: right;\n    }\n</style>\n<table border=\"1\" class=\"dataframe\">\n  <thead>\n    <tr style=\"text-align: right;\">\n      <th></th>\n      <th>id</th>\n      <th>authors</th>\n      <th>year</th>\n      <th>title</th>\n      <th>journal</th>\n      <th>volume</th>\n      <th>issue</th>\n      <th>start_page</th>\n      <th>end_page</th>\n      <th>num_treats</th>\n    </tr>\n  </thead>\n  <tbody>\n    <tr>\n      <th>329</th>\n      <td>330</td>\n      <td>Min, Gao &amp; Zhang, Yalin</td>\n      <td>2013</td>\n      <td>Review of the leafhopper genus Oniella Matsumu...</td>\n      <td>Zootaxa</td>\n      <td>3693</td>\n      <td>1</td>\n      <td>0</td>\n      <td>0</td>\n      <td>1</td>\n    </tr>\n    <tr>\n      <th>14918</th>\n      <td>14919</td>\n      <td>Huerta, Heron &amp; Dzul, Felipe</td>\n      <td>2013</td>\n      <td>First record of the genus Abrhexosa Freeman fr...</td>\n      <td>Zootaxa</td>\n      <td>3693</td>\n      <td>1</td>\n      <td>0</td>\n      <td>0</td>\n      <td>3</td>\n    </tr>\n  </tbody>\n</table>\n</div>"
     },
     "metadata": {},
     "execution_count": 43
    }
   ],
   "source": [
    "# Looking the first record on that list, to see if we can find its duplicate\n",
    "tb_duplicates[tb_duplicates['journal'] == 'Zootaxa'][tb_duplicates['volume'] == '3693'][tb_duplicates['issue'] == '1'][tb_duplicates['start_page'] == '0']"
   ]
  },
  {
   "source": [
    "Ok, this is clearly NOT a duplication, but a metadata issue. Let's check another one."
   ],
   "cell_type": "markdown",
   "metadata": {}
  },
  {
   "cell_type": "code",
   "execution_count": 44,
   "metadata": {},
   "outputs": [
    {
     "output_type": "execute_result",
     "data": {
      "text/plain": "          id                                          authors  year  \\\n642      643  Mostafa R. Sharaf & Joe Monks & Andrew Polaszek  2016   \n14903  14904   Huei-Ping Shen & Chih-Han Chang & Wen-Jay Chih  2016   \n\n                                                   title  \\\n642    A remarkable new species of the genus Lepisiot...   \n14903  Amynthas (Megascolecidae: Oligochaeta) from so...   \n\n                          journal volume issue start_page end_page num_treats  \n642    Journal of Natural History     50    29          1       13          1  \n14903  Journal of Natural History     50    29          1       22          1  ",
      "text/html": "<div>\n<style scoped>\n    .dataframe tbody tr th:only-of-type {\n        vertical-align: middle;\n    }\n\n    .dataframe tbody tr th {\n        vertical-align: top;\n    }\n\n    .dataframe thead th {\n        text-align: right;\n    }\n</style>\n<table border=\"1\" class=\"dataframe\">\n  <thead>\n    <tr style=\"text-align: right;\">\n      <th></th>\n      <th>id</th>\n      <th>authors</th>\n      <th>year</th>\n      <th>title</th>\n      <th>journal</th>\n      <th>volume</th>\n      <th>issue</th>\n      <th>start_page</th>\n      <th>end_page</th>\n      <th>num_treats</th>\n    </tr>\n  </thead>\n  <tbody>\n    <tr>\n      <th>642</th>\n      <td>643</td>\n      <td>Mostafa R. Sharaf &amp; Joe Monks &amp; Andrew Polaszek</td>\n      <td>2016</td>\n      <td>A remarkable new species of the genus Lepisiot...</td>\n      <td>Journal of Natural History</td>\n      <td>50</td>\n      <td>29</td>\n      <td>1</td>\n      <td>13</td>\n      <td>1</td>\n    </tr>\n    <tr>\n      <th>14903</th>\n      <td>14904</td>\n      <td>Huei-Ping Shen &amp; Chih-Han Chang &amp; Wen-Jay Chih</td>\n      <td>2016</td>\n      <td>Amynthas (Megascolecidae: Oligochaeta) from so...</td>\n      <td>Journal of Natural History</td>\n      <td>50</td>\n      <td>29</td>\n      <td>1</td>\n      <td>22</td>\n      <td>1</td>\n    </tr>\n  </tbody>\n</table>\n</div>"
     },
     "metadata": {},
     "execution_count": 44
    }
   ],
   "source": [
    "# Looking the first record on that list, to see if we can find its duplicate\n",
    "tb_duplicates[tb_duplicates['journal'] == 'Journal of Natural History'][tb_duplicates['volume'] == '50'][tb_duplicates['issue'] == '29'][tb_duplicates['start_page'] == '1']"
   ]
  },
  {
   "source": [
    "Again, very likely another metadata issue, but two different entities. I think we should keep the so-called 'duplicates' for this dataset."
   ],
   "cell_type": "markdown",
   "metadata": {}
  },
  {
   "source": [
    "###### 'year' NaNs\n",
    "\n",
    "This is a more straight forward check... simply count NaNs on a specific column, 'year'."
   ],
   "cell_type": "markdown",
   "metadata": {}
  },
  {
   "cell_type": "code",
   "execution_count": 45,
   "metadata": {},
   "outputs": [
    {
     "output_type": "execute_result",
     "data": {
      "text/plain": "False    18955\nName: year, dtype: int64"
     },
     "metadata": {},
     "execution_count": 45
    }
   ],
   "source": [
    "# Check the amount of NaN on column 'year'\n",
    "tb['year'].isna().value_counts()"
   ]
  },
  {
   "source": [
    "Again! Not a problematic field here!"
   ],
   "cell_type": "markdown",
   "metadata": {}
  },
  {
   "source": [
    "###### journals' names\n",
    "\n",
    "I just want to have a quick look into the (possible) mess that the journals' names in this source might be. I think this should be the most accurated source."
   ],
   "cell_type": "markdown",
   "metadata": {}
  },
  {
   "cell_type": "code",
   "execution_count": 46,
   "metadata": {},
   "outputs": [],
   "source": [
    "# Group the wos dataframe by group, getting only 'Year Published' as return\n",
    "tb_journals = tb.groupby('journal').count()['year'].sort_values(ascending=False)"
   ]
  },
  {
   "cell_type": "code",
   "execution_count": 47,
   "metadata": {},
   "outputs": [
    {
     "output_type": "execute_result",
     "data": {
      "text/plain": "196"
     },
     "metadata": {},
     "execution_count": 47
    }
   ],
   "source": [
    "# Check the number of journals\n",
    "tb_journals.shape[0]"
   ]
  },
  {
   "source": [
    "BIG difference here. From over 2500 to 196. TreatmentBank seems to be not only a much smaller database but less diverse too."
   ],
   "cell_type": "markdown",
   "metadata": {}
  },
  {
   "cell_type": "code",
   "execution_count": 48,
   "metadata": {},
   "outputs": [
    {
     "output_type": "execute_result",
     "data": {
      "text/plain": "['Communications Biology',\n 'Journal Of The Kansas Entomological Society',\n 'Journal of Bryology',\n 'Israel Journal Of Entomology',\n 'Florida Entomologist',\n 'New Journal of Botany',\n 'Occasional Papers, Museum of Texas Tech University',\n 'Zootax',\n 'Zoologischer Anzeiger',\n 'Zoological Research',\n 'Zoological Journal of the Linnean Society',\n 'Zookeys',\n 'J. Parasitol.',\n 'ZooTaxa',\n 'UPLB Museum Publications in Natural History',\n 'Tropical Zoology',\n 'The Veliger',\n 'The Journal of Research on the Lepidoptera',\n 'Taxon',\n 'Systematics and Biodiversity',\n 'Systematic Parasitology',\n 'Stuttgarter Beiträge zur Naturkunde A, Neue Serie',\n 'Soil Organisms',\n 'Serket',\n 'Orgamisms, Diversity & Evolution',\n 'Vestnik Zoologii',\n 'Oriental Insects',\n 'J. Entomol. Res. Soc.',\n 'J Zool Syst Evol Res',\n 'Nature Communications',\n \"Mémoires du Muséum national d'Histoire naturelle\",\n 'Mycol Progress',\n 'Mitteilungen der Münchner Entomologischen Gesellschaft',\n 'Memoirs of the Queensland Museu Nature',\n 'Memoirs of Museum Victoria',\n 'Magnolia Press',\n 'LANKESTERIANA',\n 'Kew Bulletin',\n 'Journal of the Ocean Science Scoiety',\n 'Journal of Systematic Palaeontology',\n 'J. Agr. Sci. Tech.',\n 'Journal of Paleontology',\n 'Journal of Insect Biodiversity',\n 'Journal of Entomological and Acarological Research',\n 'eLife e09560',\n 'Forktail',\n 'Handbook of the Birds of the Wold Special volume: new species and global index',\n 'Heteropterus Revista de Entomología',\n 'Historical Biology',\n 'Iheringia, Série Zoologia',\n 'Indian Journal of Arachnology',\n 'Neotropical Biology and Conservation',\n 'International Journal of Systematic and Evolutionary Microbiology',\n 'Journal of Molluscan Studies',\n 'PLOS ONE',\n 'PLoS One',\n 'Paleontologia Electronica',\n 'Arachnology Letters',\n 'Arachnology',\n 'Annales Zoologici (Warszawa)',\n 'Amphibian & Reptile Conservation',\n 'American Museum Novitates',\n 'American Journal of Primatology',\n 'American Entomologist',\n 'Adansonia, sér. 3',\n 'Acta Zoologica Bulgarica',\n 'Acta Entomologica Slovenica',\n 'Acta Arachnologica Sinica',\n 'Arquivos Entomolóxicos',\n 'Acta Arachnologica',\n 'Caucasian Entomological Bulletin',\n 'zoosystema',\n 'Entomological Science',\n 'Current Biology',\n 'Contributions to Natural History',\n 'European Journal of Protistology',\n 'Entomologica Americana',\n 'Cladistics',\n 'Contributions to Entomology',\n 'ENTOMOLOGICAL NEWS',\n 'European Jornal of Taxonomy',\n 'Arthropod Fauna of the UAE',\n 'Australian Journal of Entomology',\n 'Castanea',\n 'BMC Biology',\n 'Parasitological Research',\n 'Novon',\n 'Parasitology International',\n 'Persoonia',\n 'Plant Ecology and Evolution',\n 'Plos One',\n 'Revista peruana de biología',\n 'Salvador Moyà-Solà',\n 'Scientific reports',\n 'Peerj',\n 'Far Eeastern Entomologist',\n 'Journal of Cave and Karst Studies',\n 'Basteria',\n 'Bulletin of the British Arachnological Society',\n 'Bulletin of Malacology, Taiwan',\n 'Bulletin Of The American Museum Of Natural History',\n 'Bull. Br. arachnol. Soc.',\n 'Brittonia',\n 'Botany',\n 'Bol. R. Soc. Esp. Hist. Nat',\n 'Biodiversity, Biogeography and Nature Conservation in Wallacea and New Guinea, Volume 3',\n 'Biodiversity journal',\n 'Biodiversity Journal',\n 'Belgian Journal of Entomology',\n 'Beiträge zur Entomologie = Contributions to Entomology',\n 'Nauplius',\n '1']"
     },
     "metadata": {},
     "execution_count": 48
    }
   ],
   "source": [
    "# Take a look at the journals with less than 2 occurrences as we might see some non-journals here\n",
    "list(tb_journals[~tb_journals.where(tb_journals < 2).isna()].sort_values().index)"
   ]
  },
  {
   "source": [
    "There are fewer entries that are not real journals (for example, 'Handbook of the Birds of the Wold Special volume: new species and global index') than on wos dataset. It also doesn't seem to be a big problem in this dataset.\n"
   ],
   "cell_type": "markdown",
   "metadata": {}
  },
  {
   "cell_type": "code",
   "execution_count": 49,
   "metadata": {},
   "outputs": [
    {
     "output_type": "execute_result",
     "data": {
      "text/plain": "journal\nZootaxa    13134\nZooTaxa        1\nZootax         1\nName: year, dtype: int64"
     },
     "metadata": {},
     "execution_count": 49
    }
   ],
   "source": [
    "# Checking for possible typos involving Zootaxa's name\n",
    "tb_journals[['Zoot'.lower() in s.lower() for s in tb_journals.index]]"
   ]
  },
  {
   "cell_type": "code",
   "execution_count": 50,
   "metadata": {},
   "outputs": [
    {
     "output_type": "execute_result",
     "data": {
      "text/plain": "journal\nZooKeys    3183\nZookeys       1\nName: year, dtype: int64"
     },
     "metadata": {},
     "execution_count": 50
    }
   ],
   "source": [
    "# Definitely non-significant, but I decided to check 'ZooKeys' too\n",
    "tb_journals[['Zook'.lower() in s.lower() for s in tb_journals.index]]"
   ]
  },
  {
   "cell_type": "code",
   "execution_count": 51,
   "metadata": {},
   "outputs": [
    {
     "output_type": "execute_result",
     "data": {
      "text/plain": "journal\nEuropean Journal of Taxonomy    564\nEuropean Jornal of Taxonomy       1\nTaxon                             1\nName: year, dtype: int64"
     },
     "metadata": {},
     "execution_count": 51
    }
   ],
   "source": [
    "# And European Journal of Taxonomy\n",
    "tb_journals[['Taxon'.lower() in s.lower() for s in tb_journals.index]]"
   ]
  },
  {
   "source": [
    "It's clear to me that journals' names is not a problem in this dataset."
   ],
   "cell_type": "markdown",
   "metadata": {}
  },
  {
   "source": [
    "Summary of transformations needed in this dataset (TreatmentBank):\n",
    "\n",
    "1. Select only 'journal' and 'year' columns\n",
    "2. Rename these two columns to 'Journal' and 'Year', with capital initial letters\n",
    "3. Add a column named 'Source', with all rows = 'TreatmentBank'"
   ],
   "cell_type": "markdown",
   "metadata": {}
  },
  {
   "source": [
    "##### Zoobank\n"
   ],
   "cell_type": "markdown",
   "metadata": {}
  },
  {
   "cell_type": "code",
   "execution_count": 52,
   "metadata": {},
   "outputs": [
    {
     "output_type": "execute_result",
     "data": {
      "text/plain": "Index(['id', 'authors', 'year', 'title', 'journal', 'bibref_details', 'volume',\n       'issue', 'start_page', 'end_page', 'from_year'],\n      dtype='object')"
     },
     "metadata": {},
     "execution_count": 52
    }
   ],
   "source": [
    "# First, let's check columns' names\n",
    "zb.columns"
   ]
  },
  {
   "source": [
    "###### Duplicates\n",
    "\n",
    "This dataset is very similar, in terms of structure, than the previous one. There aren't many things that we can easily compare other than adopting the second strategy applied for WoS dataset. Thus:\n",
    "\n",
    "1. Based on the columns: 'journal', 'bibref_details'\n",
    "\n",
    "The column 'bibref_details' carries the info for colume, issue, start and end_pages combined. Thus, it's a good place to check for duplicates."
   ],
   "cell_type": "markdown",
   "metadata": {}
  },
  {
   "cell_type": "code",
   "execution_count": 53,
   "metadata": {},
   "outputs": [],
   "source": [
    "# Check for duplicates using the defined strategy\n",
    "\n",
    "# First, remove possible rowns with NaNs in all of these fields:\n",
    "#zb_duplicates = zb[~zb[['journal', 'bibref_details']].isna()]\n",
    "zb_duplicates = zb.dropna(subset=['journal', 'bibref_details'], how='all', inplace=False)\n",
    "\n"
   ]
  },
  {
   "cell_type": "code",
   "execution_count": 54,
   "metadata": {},
   "outputs": [
    {
     "output_type": "execute_result",
     "data": {
      "text/plain": "0"
     },
     "metadata": {},
     "execution_count": 54
    }
   ],
   "source": [
    "# Checking if there were any NaNs in both columns\n",
    "zb_duplicates.shape[0] - zb.shape[0]"
   ]
  },
  {
   "cell_type": "code",
   "execution_count": 55,
   "metadata": {},
   "outputs": [
    {
     "output_type": "execute_result",
     "data": {
      "text/plain": "False    39360\nTrue      9525\ndtype: int64"
     },
     "metadata": {},
     "execution_count": 55
    }
   ],
   "source": [
    "# Then, applied strategy\n",
    "zb_duplicates.duplicated(subset=['journal', 'bibref_details'], keep=False).value_counts()"
   ]
  },
  {
   "source": [
    "Wow. That's a LOT of potential duplicates. Better check this more carefully.\n",
    "\n",
    "![](https://i.imgur.com/dG0WSvp.png)"
   ],
   "cell_type": "markdown",
   "metadata": {}
  },
  {
   "source": [
    "# Take a carefull look into some of these so-called duplicates\n",
    "zb_duplicates[zb_duplicates.duplicated(subset=['journal', 'bibref_details'], keep=False)]"
   ],
   "cell_type": "code",
   "metadata": {},
   "execution_count": 56,
   "outputs": [
    {
     "output_type": "execute_result",
     "data": {
      "text/plain": "          id                                            authors  year  \\\n2          3                                   Ahyong, Shane T.  2010   \n6          7  Aldawood, Abdulrahman S., Mostafa R. Sharaf & ...  2010   \n14        15                                    Altuna, Álvaro.  2017   \n15        16  Álvarez, Fernando, Thomas M. Iliffe & José L. ...  2014   \n16        17                           Ambrus, R. & W. Grosser.  2012   \n...      ...                                                ...   ...   \n48878  48879  Żyła, Dagmara, Shȗhei Yamamoto & Josh Jenkins ...  2019   \n48879  48880                Антонов, А. Л. & И. В. Костомарова.  2019   \n48880  48881                                    Важенина, Н. В.  2019   \n48883  48884                                    Озерский, П. В.  2019   \n48884  48885                                    Озерский, П. В.  2019   \n\n                                                   title  \\\n2      The marine fauna of New Zealand: king crabs of...   \n6                                   Monomorium moathi sp   \n14     Deep-water scleractinian corals (Cnidaria: Ant...   \n15     A new species of the alpheid shrimp genus Tria...   \n16     Additions and corrections to the new Catalogue...   \n...                                                  ...   \n48878  Total-evidence approach reveals an extinct lin...   \n48879  МИКИЖА PARASALMO MYKISS (SALMONIDAE) У ГРАНИЦ ...   \n48880  Динамика населения герпетобионтных жесткокрылы...   \n48883  К распространению некоторых видов кузнечиков (...   \n48884  К распространению некоторых видов кузнечиков (...   \n\n                          journal    bibref_details volume issue start_page  \\\n2                              No                                             \n6                               n                                             \n14                        Zootaxa  4353(2): 257–293   4353     2        257   \n15                        Zootaxa    3768(1): 88–94   3768     1         88   \n16                     Löbl and A                                             \n...                           ...               ...    ...   ...        ...   \n48878               Palaeontology                                             \n48879                                                                         \n48880  Amurian Zoological Journal    11(4): 314-326     11     4        314   \n48883  Amurian Zoological Journal    11(3): 240-246     11     3        240   \n48884  Amurian Zoological Journal    11(3): 240-246     11     3        240   \n\n      end_page from_year  \n2                   2010  \n6                   2010  \n14         293      2010  \n15          94      2010  \n16                  2010  \n...        ...       ...  \n48878               2019  \n48879               2019  \n48880      326      2019  \n48883      246      2019  \n48884      246      2019  \n\n[9525 rows x 11 columns]",
      "text/html": "<div>\n<style scoped>\n    .dataframe tbody tr th:only-of-type {\n        vertical-align: middle;\n    }\n\n    .dataframe tbody tr th {\n        vertical-align: top;\n    }\n\n    .dataframe thead th {\n        text-align: right;\n    }\n</style>\n<table border=\"1\" class=\"dataframe\">\n  <thead>\n    <tr style=\"text-align: right;\">\n      <th></th>\n      <th>id</th>\n      <th>authors</th>\n      <th>year</th>\n      <th>title</th>\n      <th>journal</th>\n      <th>bibref_details</th>\n      <th>volume</th>\n      <th>issue</th>\n      <th>start_page</th>\n      <th>end_page</th>\n      <th>from_year</th>\n    </tr>\n  </thead>\n  <tbody>\n    <tr>\n      <th>2</th>\n      <td>3</td>\n      <td>Ahyong, Shane T.</td>\n      <td>2010</td>\n      <td>The marine fauna of New Zealand: king crabs of...</td>\n      <td>No</td>\n      <td></td>\n      <td></td>\n      <td></td>\n      <td></td>\n      <td></td>\n      <td>2010</td>\n    </tr>\n    <tr>\n      <th>6</th>\n      <td>7</td>\n      <td>Aldawood, Abdulrahman S., Mostafa R. Sharaf &amp; ...</td>\n      <td>2010</td>\n      <td>Monomorium moathi sp</td>\n      <td>n</td>\n      <td></td>\n      <td></td>\n      <td></td>\n      <td></td>\n      <td></td>\n      <td>2010</td>\n    </tr>\n    <tr>\n      <th>14</th>\n      <td>15</td>\n      <td>Altuna, Álvaro.</td>\n      <td>2017</td>\n      <td>Deep-water scleractinian corals (Cnidaria: Ant...</td>\n      <td>Zootaxa</td>\n      <td>4353(2): 257–293</td>\n      <td>4353</td>\n      <td>2</td>\n      <td>257</td>\n      <td>293</td>\n      <td>2010</td>\n    </tr>\n    <tr>\n      <th>15</th>\n      <td>16</td>\n      <td>Álvarez, Fernando, Thomas M. Iliffe &amp; José L. ...</td>\n      <td>2014</td>\n      <td>A new species of the alpheid shrimp genus Tria...</td>\n      <td>Zootaxa</td>\n      <td>3768(1): 88–94</td>\n      <td>3768</td>\n      <td>1</td>\n      <td>88</td>\n      <td>94</td>\n      <td>2010</td>\n    </tr>\n    <tr>\n      <th>16</th>\n      <td>17</td>\n      <td>Ambrus, R. &amp; W. Grosser.</td>\n      <td>2012</td>\n      <td>Additions and corrections to the new Catalogue...</td>\n      <td>Löbl and A</td>\n      <td></td>\n      <td></td>\n      <td></td>\n      <td></td>\n      <td></td>\n      <td>2010</td>\n    </tr>\n    <tr>\n      <th>...</th>\n      <td>...</td>\n      <td>...</td>\n      <td>...</td>\n      <td>...</td>\n      <td>...</td>\n      <td>...</td>\n      <td>...</td>\n      <td>...</td>\n      <td>...</td>\n      <td>...</td>\n      <td>...</td>\n    </tr>\n    <tr>\n      <th>48878</th>\n      <td>48879</td>\n      <td>Żyła, Dagmara, Shȗhei Yamamoto &amp; Josh Jenkins ...</td>\n      <td>2019</td>\n      <td>Total-evidence approach reveals an extinct lin...</td>\n      <td>Palaeontology</td>\n      <td></td>\n      <td></td>\n      <td></td>\n      <td></td>\n      <td></td>\n      <td>2019</td>\n    </tr>\n    <tr>\n      <th>48879</th>\n      <td>48880</td>\n      <td>Антонов, А. Л. &amp; И. В. Костомарова.</td>\n      <td>2019</td>\n      <td>МИКИЖА PARASALMO MYKISS (SALMONIDAE) У ГРАНИЦ ...</td>\n      <td></td>\n      <td></td>\n      <td></td>\n      <td></td>\n      <td></td>\n      <td></td>\n      <td>2019</td>\n    </tr>\n    <tr>\n      <th>48880</th>\n      <td>48881</td>\n      <td>Важенина, Н. В.</td>\n      <td>2019</td>\n      <td>Динамика населения герпетобионтных жесткокрылы...</td>\n      <td>Amurian Zoological Journal</td>\n      <td>11(4): 314-326</td>\n      <td>11</td>\n      <td>4</td>\n      <td>314</td>\n      <td>326</td>\n      <td>2019</td>\n    </tr>\n    <tr>\n      <th>48883</th>\n      <td>48884</td>\n      <td>Озерский, П. В.</td>\n      <td>2019</td>\n      <td>К распространению некоторых видов кузнечиков (...</td>\n      <td>Amurian Zoological Journal</td>\n      <td>11(3): 240-246</td>\n      <td>11</td>\n      <td>3</td>\n      <td>240</td>\n      <td>246</td>\n      <td>2019</td>\n    </tr>\n    <tr>\n      <th>48884</th>\n      <td>48885</td>\n      <td>Озерский, П. В.</td>\n      <td>2019</td>\n      <td>К распространению некоторых видов кузнечиков (...</td>\n      <td>Amurian Zoological Journal</td>\n      <td>11(3): 240-246</td>\n      <td>11</td>\n      <td>3</td>\n      <td>240</td>\n      <td>246</td>\n      <td>2019</td>\n    </tr>\n  </tbody>\n</table>\n<p>9525 rows × 11 columns</p>\n</div>"
     },
     "metadata": {},
     "execution_count": 56
    }
   ]
  },
  {
   "source": [
    "I can already see a real duplication on the IDs 48884 and 48885. As I have the 'from_year' column, I actually went back to [Zoobank#2019](http://zoobank.org/Search?search_term=2019) and found these two guys duplicated... \n",
    "\n",
    "![](https://i.imgur.com/HHyM254.png)\n",
    "\n",
    "So we have duplicates. Let's check one more."
   ],
   "cell_type": "markdown",
   "metadata": {}
  },
  {
   "cell_type": "code",
   "execution_count": 57,
   "metadata": {},
   "outputs": [
    {
     "output_type": "execute_result",
     "data": {
      "text/plain": "        id                                            authors  year  \\\n15      16  Álvarez, Fernando, Thomas M. Iliffe & José L. ...  2014   \n1294  1295  Álvarez, Fernando, Thomas M. Iliffe & José L. ...  2014   \n\n                                                  title  journal  \\\n15    A new species of the alpheid shrimp genus Tria...  Zootaxa   \n1294  A new species of the alpheid shrimp genus Tria...  Zootaxa   \n\n      bibref_details volume issue start_page end_page from_year  \n15    3768(1): 88–94   3768     1         88       94      2010  \n1294  3768(1): 88–94   3768     1         88       94      2014  ",
      "text/html": "<div>\n<style scoped>\n    .dataframe tbody tr th:only-of-type {\n        vertical-align: middle;\n    }\n\n    .dataframe tbody tr th {\n        vertical-align: top;\n    }\n\n    .dataframe thead th {\n        text-align: right;\n    }\n</style>\n<table border=\"1\" class=\"dataframe\">\n  <thead>\n    <tr style=\"text-align: right;\">\n      <th></th>\n      <th>id</th>\n      <th>authors</th>\n      <th>year</th>\n      <th>title</th>\n      <th>journal</th>\n      <th>bibref_details</th>\n      <th>volume</th>\n      <th>issue</th>\n      <th>start_page</th>\n      <th>end_page</th>\n      <th>from_year</th>\n    </tr>\n  </thead>\n  <tbody>\n    <tr>\n      <th>15</th>\n      <td>16</td>\n      <td>Álvarez, Fernando, Thomas M. Iliffe &amp; José L. ...</td>\n      <td>2014</td>\n      <td>A new species of the alpheid shrimp genus Tria...</td>\n      <td>Zootaxa</td>\n      <td>3768(1): 88–94</td>\n      <td>3768</td>\n      <td>1</td>\n      <td>88</td>\n      <td>94</td>\n      <td>2010</td>\n    </tr>\n    <tr>\n      <th>1294</th>\n      <td>1295</td>\n      <td>Álvarez, Fernando, Thomas M. Iliffe &amp; José L. ...</td>\n      <td>2014</td>\n      <td>A new species of the alpheid shrimp genus Tria...</td>\n      <td>Zootaxa</td>\n      <td>3768(1): 88–94</td>\n      <td>3768</td>\n      <td>1</td>\n      <td>88</td>\n      <td>94</td>\n      <td>2014</td>\n    </tr>\n  </tbody>\n</table>\n</div>"
     },
     "metadata": {},
     "execution_count": 57
    }
   ],
   "source": [
    "# Randomnly checking for another case of duplication...\n",
    "zb_duplicates[zb_duplicates['bibref_details'] == '3768(1): 88–94']"
   ]
  },
  {
   "source": [
    "This one is even more interesting as their 'from_year' are different! Let me see if I can find them on Zoobank...\n",
    "\n",
    "[Zoobank#2010](http://zoobank.org/Search?search_term=2010)\n",
    "\n",
    "![](https://i.imgur.com/qEV24g4.png)\n",
    "\n",
    "[Zoobank#2014](http://zoobank.org/Search?search_term=2014)\n",
    "\n",
    "![](https://i.imgur.com/EFY6Cxn.png)\n",
    "\n",
    "Yep, duplicate! And a weird one! Because how come a paper that was only published in 2014 appeared registred in 2010? **Better remove them all!**"
   ],
   "cell_type": "markdown",
   "metadata": {}
  },
  {
   "source": [
    "###### 'year' NaNs\n",
    "\n",
    "This is a more straight forward check... simply count NaNs on a specific column, 'year'."
   ],
   "cell_type": "markdown",
   "metadata": {}
  },
  {
   "cell_type": "code",
   "execution_count": 58,
   "metadata": {},
   "outputs": [
    {
     "output_type": "execute_result",
     "data": {
      "text/plain": "False    48885\nName: year, dtype: int64"
     },
     "metadata": {},
     "execution_count": 58
    }
   ],
   "source": [
    "# Check the amount of NaN on column 'year'\n",
    "zb['year'].isna().value_counts()"
   ]
  },
  {
   "source": [
    "For a dataset built on a massive web scraping effort on a not reliably structured website, that just made my day.\n",
    "\n",
    "![](https://media.giphy.com/media/OK27wINdQS5YQ/giphy-downsized.gif)\n"
   ],
   "cell_type": "markdown",
   "metadata": {}
  },
  {
   "source": [
    "###### journals' names\n",
    "\n",
    "I just want to have a quick look into the (possible) mess that the journals' names in this source might be. I think this must be the least accurate as the data wasn't structured enough for a safe extraction of the journals' names."
   ],
   "cell_type": "markdown",
   "metadata": {}
  },
  {
   "cell_type": "code",
   "execution_count": 59,
   "metadata": {},
   "outputs": [],
   "source": [
    "# Group the wos dataframe by group, getting only 'Year Published' as return\n",
    "zb_journals = zb.groupby('journal').count()['year'].sort_values(ascending=False)"
   ]
  },
  {
   "cell_type": "code",
   "execution_count": 60,
   "metadata": {},
   "outputs": [
    {
     "output_type": "execute_result",
     "data": {
      "text/plain": "3981"
     },
     "metadata": {},
     "execution_count": 60
    }
   ],
   "source": [
    "# Check the number of journals\n",
    "zb_journals.shape[0]"
   ]
  },
  {
   "source": [
    "Wayy too many. Probably there are a LOT of errors. As this was a result of web scraping on a badly structured HTML, I probably sill have highly ranked mistakes too."
   ],
   "cell_type": "markdown",
   "metadata": {}
  },
  {
   "cell_type": "code",
   "execution_count": 61,
   "metadata": {},
   "outputs": [
    {
     "output_type": "execute_result",
     "data": {
      "text/plain": "it and E',\n 'pseudogaster (Dahl,',\n 'pseudolobata Kondo & Gullan',\n 'procerus Kuiter,',\n 'profundus (Crustacea: Decapoda: Paguridae)',\n 'prolixa sp',\n 'prophanaeus (C',\n 'putnamae, with a revised key to Indo-Pacific species of Sphyraena lacking gill rakers (Sphyraenidae)',\n 'pusilla species-group from Queensland, Australia (Coleoptera: Buprestidae)',\n 'pusilla (Mertens,',\n 'punctatonuchalis and C',\n 'pseudogranulosus, a new cryptic species of Long-toed Water Beetles (Coleoptera: Dryopidae) from Indochinese peninsula, and proposal of a new synonym for Praehelichus sericatus (Waterhouse,',\n 'punctata from northern Western Ghats of India',\n 'pulverata Christoph,',\n 'pulchra (Araneae: Salticidae: Plexippina) in Brazil',\n 'pulcherrimus, two new riffle beetle species from Borneo, and discussion about elmid plastron structures (Coleoptera: Elmidae)',\n 'pteridis from the Ryukyu Islands',\n 'pseudouniformis Brame,',\n 'pseudostylifer sp',\n 'pseudospicatus (Diptera: Dolichopodidae): morphological and molecular data',\n 'pseudorobustus (Steiner,',\n 'pumilae Inouye (Hemiptera, Aphididae, Lachninae)',\n 'niger and indirect evidence for species-specific mimicry (Araneae: Corinnidae: Castianeirinae)',\n 'nigricapitis',\n 'multipunctata (Rondani,',\n 'nipponicus (Hymenoptera: Chalcidoidea: Mymaridae)',\n 'nipponensis and G',\n 'nioensis sp',\n 'nikolajevi (Hemiptera: Aphididae)—aphid species new to Iran',\n 'nigroviridis from the Andean highlands of Central Chile (Iguania, Liolaemidae)',\n 'nigroviridis',\n 'nigrociliatus group',\n 'nigrobinotatus (Berg), description of a new species and an updated identification key for the genus',\n 'no',\n 'nov, from Qinghai, China',\n 'minor (Thorne,',\n 'octhoniai and D',\n 'org',\n 'opticaspis from Japan',\n 'opalina (Warren,',\n 'okutanii and B',\n 'okinawanus Matsumura (Coleoptera: Lampyridae: Luciolinae) from the Ryûkyû Islands, Southwestern Japan',\n 'okinavensis Namiye,',\n 'nov: a new deep-water cichlid (Teleostei: Cichlidae) from Lake Tanganyika',\n 'officinalis and M',\n 'notia Schintlmeister,',\n 'notostigma (Teleostei: Nemacheilidae)',\n 'browni sp',\n 'brookii Gray,',\n 'bromi (Kostjukov)  and A',\n 'brincki',\n 'ilamensis and P',\n 'imbricata, and updated key  (Hemiptera: Cicadellidae: Cicadellini)',\n 'imitator (Miranda-Ribeiro,',\n 'pyrrhulipennella group (Lepidoptera: Coleophoridae) from the South-Eastern Alps',\n 'nov, sp',\n 'nov, from Guizhou, China',\n 'nov, a new substitute name for Usingeria Coetzee & Segerman,',\n 'nov, a new lanternshark (Squaliformes: Etmopteridae) from the Philippine Islands, with a revised key to the Etmopterus lucifer clade',\n 'nov, a new chromidotilapiine cichlid genus (Pisces: Perciformes) from West Africa',\n 'nov helps to resolve taxonomic confusion in species of the sea anemone Epiactis (Actiniaria, Actiniidae)',\n 'nov - an endemic species of Urticaceae from Vanuatu and Solomon Islands hitherto misplaced in Boehmeria',\n 'nov - A',\n 'nov (Crustacea: Thecostraca: Ascothoracida) from off South-East Taiwan with notes on morphology and distribution',\n 'nov (Annelida, Syllidae, Autolytinae), the first known polychaete miner tunnelling into the tunic of an ascidian',\n 'nov, an additional new species (Hemiptera: Heteroptera: Veliidae) from Suriname',\n 'of Papua Province, Indonesia',\n 'of Greece (Gastropoda: Hydrobioidea: Bythinelliidae)',\n 'of Earthworms (Oligochaeta : Megascolecidae) from North Eastern Region of India using DNA bar-coding approach',\n 'montium (Squamata, Gekkonidae) with description of three new species',\n 'monticola',\n 'montanus Cope',\n 'monjerai (Matsui and Jaafar,',\n 'nigrihamita Li & Yang',\n 'modromus Motschulsky,',\n 'modestus (Vinciguerra',\n 'moctezuma  (Dyar & Knab) and new record for Tx',\n 'montium Species Group’) with Descriptions of Two New Species from Madagascar',\n 'mnong Stark,',\n 'miyakoense Komai & Fujita,',\n 'misakiensis (Sakai,',\n 'miringoera Vanzolini,',\n 'mirationis Tanaka  (Teleostei: Pomacentridae)',\n 'miraflores',\n 'multifarius',\n 'multifasciatus species group from the Lulua Basin (Kasaï drainage), Democratic Republic of Congo',\n 'multilineata (Lutz) (Diptera: Ceratopogonidae)',\n 'miyoshii, G',\n 'montivaga group (Plecoptera: Perlidae) from China',\n 'mori (Lepidoptera: Bombycidae) in Japan and Taiwan',\n 'morio (Coleoptera, Carabidae, Omphreini)',\n 'obtusa (Fuchs,',\n 'nov: a new record genus and new species of (Scorpiones, Buthidae) from China',\n 'obscura bronzina (Aves: Cracidae)',\n 'oblongispina Papp',\n 'obliquisulcata n',\n 'obliquisigna (Hampson,',\n 'obcidens n',\n 'nuntia (Savigny in Lamarck,',\n 'numidiensis, two new species of barbels from the Mediterranean Sea basin in North Africa (Te ostei: Cyprinidae)',\n 'nudithoracicus’, the sequel: Unnecessary and unscientific names lead to rapid synonymization and taxonomic time wasting—A response to Arunachalam et al',\n 'nudithoracicus, with the description of a new species of Psilorhynchus from northeastern India (Ostariophysi: Psilorhynchidae)',\n 'nov; with a description of the deutonymph of Callidosoma tiki',\n 'nigriverticella complex in the S',\n 'nigriventris (Signoret,',\n 'nigripennis Szépligeti,',\n 'montanus',\n 'mucronatus Lee (Hymenoptera, Ichneumonidae, Acaenitinae) New to Japan',\n 'muchimuk',\n 'morphotype incurvatus: Description and genetics of  a new Orthocladiinae (Diptera: Chironomidae) larval morphotype from  the Tibetan Plateau',\n 'bulbus from southern China (Araneae: Salticidae)',\n 'Re-examination of the male genitalia of types deposited at the Russian Academy of Sciences',\n 'Re-describing Astylus vittaticollis (Blanchard,',\n 'Raffles Bulletin of Zoology(',\n 'Wappes',\n 'Vladimír Švihla, CSc',\n 'Vita malacologica',\n 'roboreus (Reeve',\n 'Vincent,',\n 'Viets (Hydrachnidia: Arrenuridae)',\n 'Viets (Acari: Hydrachnidia, Torrenticolidae) from Russia',\n 'Vieraea',\n 'Zitteliana: Mitteilungen der Bayerischen Staatssammlung für Paläontologie und Geologie, Reihe A(',\n 'Veröffentlichungen des Museums für Naturkunde Chemnitz',\n 'With notes on Eoseviulisoma Brolemann,',\n 'Woon-Young Chun from Hainan Island, China (Lepidoptera, Papilionoidea)',\n 'World News of Natural Sciences',\n 'World Resources Institute, Washington, D',\n 'Zitteliana: Mitteilungen der Bayerischen Staatssammlung für Paläontologie und Geologie, Reihe A A(',\n 'Zitteliana: Mitteilungen der Bayerischen Staatssammlung für Paläontologie und Geologie, Reihe A',\n 'Zitteliana: Abhandlungen der Bayerischen Staatssammlung für Paläontologie und Geologie A(',\n 'Zitteliana: Abhandlungen der Bayerischen Staatssammlung für Paläontologie und Geologie',\n 'robusta (Hymenoptera, Eurytomidae): complementary host exploitation strategies of coexisting parasitoids and their impact on the host Urophora cardui',\n 'Zhivye i biokosnye sistemy(',\n 'Wellcome Open Research',\n 'Western Birds',\n '[',\n 'querencia and new diagnosis for the genus',\n 'qui (Collembola: Entomobryidae)',\n 'quiche species group',\n 'races under stressful climatic conditions of central Saudi Arabia',\n 'ractodes (Hymenoptera, Ichneumonidae,  Cryptinae), II: the A',\n 'ZooBank',\n 'Zona Tropical, Ithica, NY',\n 'West-European Hydrobiidae, Part',\n 'Vertebrata Palasiatica',\n 'With notes on \"P',\n 'With description of six new species and discussion of South Island, New Zealand biogeography',\n 'With a genus-level reclassification of Afrotropical genera of the family (Diplopoda: Polydesmida)',\n 'With Notes on Some Poorly-known Floridian Species',\n 'Wilhelm, New Guinea, with new records from the Bird´s Head Peninsula',\n 'Wiley-Blackwell, West Sussex',\n 'Wildfowl',\n 'White (Coleoptera: Cerambycidae) from China and Taiwan',\n 'Wenhsin Lin',\n '[Account Title] Mammalian Species',\n 'ZELAYA (',\n 'Yong-Chong Hong: a Chinese pioneering palaeoentomologist',\n 'Scientific Papers, Natural History Museum, University of Kansas(',\n 'Science Report of the Toyohashi Museum of Natural History(',\n 'Science Press, Beijing  C',\n 'Science Press, Beijing',\n 'Science Advances',\n 'Scholars Academic Journal of Biosciences (SAJB)',\n 'Scoop',\n 'Schistanthe) through the Malayan archipelago: Evidence from nuclear gene sequences',\n 'sauteri species group',\n 'Schaufuss from the Philippines (Coleoptera: Staphylinidae: Scydmaeninae)',\n 'Sauria',\n 'Satô et Okushima,',\n 'Satô (Coleoptera: Elmidae)',\n 'Satyrinae de la puna xerofítica, con la descripción de dos nuevos taxones y tres nuevos registros para Perú (Lepidoptera: Nymphalidae)',\n 'Sankarankutty, and a replacement name for Jonesius Sankarankutty,',\n 'saxatilis group from the Rio Juruena and upper Rio Paraguai basins in Brazil, with an updated diagnosis and biogeographical comments on the group (Teleostei: Cichlidae)',\n 'Sahlberg, two flat bug species new  for Central Europe (Hemiptera, Heteroptera, Aradidae)',\n 'Sclerotia Ballantyne,  a new genus of fireflies with back swimming larvae',\n 'Scarabaeoidea: Lucanidae and Passalidae',\n 'Yoshiobodes camerunensis sp',\n 'Scientific Reports SREP',\n 'satyrus sp',\n 'Yale University Press, New Haven Conn',\n 'Y',\n 'XXXIII',\n 'XXXII',\n 'XXX',\n 'XXVI',\n 'XXV',\n 'XXIV',\n 'Scientific Reports:',\n 'XXI',\n 'XIX',\n 'Wray',\n 'World journal of applied science and research',\n 'The bigeminata species group,  with descriptions of seven new species',\n 'The ammonite subfamily Mantelliceratinae Hyatt,',\n 'Revista Geológica de América Central',\n 'sawadai  group from China (Coleoptera: Dytiscidae: Agabinae)',\n 'Scientific reports(',\n 'XLIX',\n '[Unspecified Publisher]',\n '[Unspecified Publisher] Vol',\n '[Unspecified Publisher], Halle (Saale)',\n 'The shallow-water Tanaidomorpha from the Cape Verde archipelago',\n 'Transactions of the Royal Society of South Africa',\n 'Transactions of the American Philosophical Society',\n 'Toponyms predict recolonization and extinction patterns for large carnivores',\n 'Tingidae, Nabidae, Aradidae, Lygaeoidea, Pyrrhocoridae, Alydidae, with bibliographical inventory (Hemiptera)',\n 'Théry from Angola in',\n 'Thysananthus discretus Sukkharak et Gradst',\n 'Three new species, new and additional records, with distributional checklist (Coleoptera: Staphylinidae: Staphylininae: Xantholinini)',\n 'The sakaiella species group, with descriptions of  fifteen new species',\n 'Three new species from North India and Nepal, and additional records (Coleoptera: Staphylinidae: Paederinae)',\n 'Three new Lycorina species and additional distribution records',\n 'Thorell from Southeast Asia',\n 'Thomson,',\n 'The unstriped forms with descriptions of three new species and the redescriptions of I',\n 'The unistriatella species group, with descriptions of seven new species',\n 'The trilineata species group, with descriptions of four new species',\n 'The suzukiella group, with descriptions of eight new species',\n 'The subdivision of the genera Regina Baird and Girard,',\n 'Three new species and additional records, including the first records of the genus from Vietnam (Coleoptera: Staphylinidae: Paederinae)',\n 'The species-group names of bees (Hymenoptera: Apoidea, Apiformes) described from Crimea, North Caucasus, European part of Russia and Ural',\n 'The phylogeny of stygobiotic Sadlerianinae Szarowska,',\n 'The case of Pseudamnicola (Corrosella) (Mollusca: Caenogastropoda: Hydrobiidae)',\n 'The genus Pilizetes (Acari, Oribatida, Galumnidae)',\n 'The genus Pergalumna (Acari, Oribatida, Galumnidae), with description  of three new species and a key to known species from the Ethiopian region',\n 'The genus Paraheligmonelloides Fukumoto, Kamiya & Suzuki,',\n 'The genus Odilia Durette-Desset,',\n 'The genus Machadocepheus (first part) Machadocepheus leoneae sp',\n 'The genus Lejeunea Libert (',\n 'The genus Chapmanina, its species and world distribution',\n 'The genera Agrilus Curtis,',\n 'The memory of Prof',\n 'Tre nuovi Cychrini della Cina e descrizione del maschio di Cychropsis (Shuocychropsis) casalei (Cavazzuti,',\n 'The family Laelapidae s',\n 'The family Hydroptilidae, with descriptions of five new species',\n 'The family Hirstionyssidae (Acari: Mesostigmata: Gamasina)',\n 'The family Haemogamasidae (Acari: Mesostigmata: Gamasina)',\n 'The desmoceratoid ammonite genera Moretella Collignon,',\n 'The densimacularis species group,  with descriptions of four new species',\n 'The complex of Attagenus capensis with description of five new species',\n 'The case of a rhinoceros from Sumatra in the Zoological Museum Hamburg',\n 'The genera  Aspidiobatella Cook, Australorivacarus Viets, Gondwanabates Imamura  and Rhynchaustrobates Cook (Acari: Hydrachnidia)',\n 'The species that infest domestic animals and humans',\n 'The species of Agardhiella from the eastern part of the Balkan Peninsula (Gastropoda: Pulmonata: Pupilloidea)',\n 'The species described by W',\n 'rivulatus (Teleostei: Cichlidae)',\n 'ZooNova',\n 'robertsi Kurahashi,',\n 'Zoology in the Middle East(',\n 'Zoology in the Middle East:',\n 'radiata (Kulczynski,',\n 'radialis Moore (Lepidoptera: Notodontidae, Ceirinae)',\n 'abuhurayri sp',\n 'Zoologia Caboverdiana',\n 'abolafiai sp',\n 'abdominalis (Neuroptera, Chrysopidae)',\n 'abdominalis',\n 'abditus Inger, Orlov & Darevsky,',\n 'a senior synonym of Sebastella littoralis, and a valid species of Scorpaenodes (Actinopterygii: Scorpaenidae)',\n ']) in Europe and first records from Switzerland and Liechtenstein',\n ']',\n '[Unspecified Publisher]: xx,',\n '[Unspecified Publisher]: xii,',\n 'abdominis Huang and C',\n 'rigida from Japan',\n 'rex n',\n 'retractus and reevaluation of the genus',\n 'robusta Izecksohn,',\n 'Verlag Dr',\n 'VermEcology,Japan',\n 'res',\n 'rank) from the Nye Mudstone (Oregon, U',\n 'Zoology Script',\n 'Zoologisches Forschungsmuseum Alexander Koenig – Leibniz-Institut für die Biodiversität der Tiere, Bonn, Germany',\n 'reflexa Chace,',\n 'Zoologische Mededelingen, Leiden(',\n 'Zoologische Mededelingen , Leiden',\n 'Zoologische Garten',\n 'Zoologicheskii Zhurnal',\n 'regulus) complex',\n 'reichenovii in Tanzania',\n 'Zoological Journal of the Linnean Society: zlz',\n 'Zonstein,',\n 'Zoological Journal of the Linnean Society: [',\n 'Zoological Journal of the Linnean Society xx(xx):',\n 'Zoological Journal of the Linnean Society XX:',\n 'Scott (Copepoda, Harpacticoida, Laophontodinae)\\xa0– discovering a species complex by morphology',\n 'The genus Pyrophanes Olivier with two new species',\n 'The ammonite genera Mojsisovicsia Steinmann,',\n 'South Western Journal ofHorticulture, Biology and Environment',\n 'The Raffles Bulletin of Zoology, Supplement(',\n 'rostrata (Squamata: Pygopodidae), with a description of a new species from the Lake MacLeod region, Western Australia',\n 'The Quekett Journal of Microscopy',\n 'The Quebrada Rambala drainage, with description of',\n 'The Palaeontological Association Newsletter(',\n 'The Palaeobotanist',\n 'The Oriental genus Purusha Distant,',\n 'The Open Zoology Journal',\n 'The Santonian-Campanian ammonite genus Eulophoceras Hyatt,',\n 'The Open Ornithology Journal',\n 'The Marine Biologist',\n 'The Leptocheliidae  (Crustacea: Peracarida: Tanaidacea), with four new species',\n 'Taxonomy and chorology of new or little known taxa of Continental New Guinea and neighboring islands (Insecta, Heteroptera, Miridae)',\n 'Taxonomic study of Micronoctuini',\n 'Spanish Journal of Palaeontology',\n 'Staphylinidae: Staphylininae: Staphylinini: Philonthina',\n 'Studies on the Taiwanese Lepturinae, III',\n 'Studies on Neotropical Fauna and Environment:',\n 'The North Queensland Naturalist',\n 'Studies and reports of District Museum Prague-East, Taxonomical Series',\n 'The Science of Nature:',\n 'The Taxonomic Report of the International Lepidoptera Survey, Vol',\n 'The Auk: Ornithological Advances,',\n 'The Anatomical Record',\n 'The American Journal of Science, Series',\n 'The Albian ammonite genus Douvilleiceras de Grossouvre,',\n 'Thaleropis ionia (Anadolu Şehzadesi)',\n 'Tetrastichinae)  (Hymenoptera: Chalcidoidea) of Israel',\n 'Tethyan vicatiance, genetic diversity and ecological specialization',\n 'Terrestrial Arthropod Reviews',\n 'The Taxonomic Report of The International Lepidoptera Survey,',\n 'Taxonomy, biogeography, and bioinvasion',\n 'The Journal of Basic and Applied  Zoology',\n 'The Journal of Basic and Applied Zoology',\n 'The Journal of the Linnean Society of London, Zoology',\n 'The ammonite Subfamily Stoliczkaiinae Breistroffer,',\n 'The ammonite Subfamily Desmoceratinae Zittel,',\n 'The Wilson Journal of Ornithology',\n 'The Weta: news bulletin of the Entomological Society of New Zealand',\n 'The University of the South Pacific,  Fiji:',\n 'The ISME Journal',\n 'The Australian genera Olonia Stål,',\n 'Studia Palaeocheloniologica,',\n 'Struik Nature, Cape Town, South Africa',\n 'Tap chi Sinh hoc',\n 'Tanganika Magazyn',\n 'Taiwania',\n 'rubripinnis',\n 'Taipingshan, Taiwan',\n 'Tab Rasmussen, Anthony R',\n 'Systematics and biodiversity:',\n 'rubrovenosum  (Stål,',\n 'rotunda Chen',\n 'ruffus (Laurenti,',\n 'rufocinctus',\n 'rufus (cypriniformes: cyprinidae), three new fish species from Kerala, India',\n 'Systematic Botany Monographs',\n 'sabanillaensis from the  southwestern Atlantic Ocean',\n 'Syrian Journal of Agricultural Research',\n 'Synkrotima tsalakpmenoi sp',\n 'Svatopluk Bílý, CSc',\n 'Sudan',\n 'Systematic and illustrated Catalogue of the Heterocera (Lepidoptera) of Africa, volume',\n 'Studi Trentini di Scienze Naturali',\n 'Tapulao, Luzon Island, Philippines',\n 'Subgenera Calomycomya, Cymomya, Neomycomya and Pavomya subg',\n 'Stratigraphy',\n 'Strand (Coleoptera, Chrysomelidae, Cassidinae, Gonophorini) of Taiwan',\n 'Stolidobranchia, Styelidae',\n 'Stolidobranchia, Pyuridae and Molgulidae',\n 'Staphylinidae: Euaesthetinae, Leptotyphlinae,  Megalopsidiinae, Oxyporinae and Steninae',\n 'Taraxacum',\n 'Squat lobsters as symbionts and in chemo-autotrophic environments',\n 'Springer, Dordrecht | Heidelberg | New York | London',\n 'Subgenera Cesamya and Mycomyopsis',\n 'Springer, Dordrecht',\n 'sarawacensis Jäch including a description of the larva and new distribution data for A',\n 'Sperm storage and synchronized breeding, identified via the world’s first captive breedings of Australian Copperhead Snakes (Austrelaps Worrell,',\n 'Species with antennal club of more than three antennomeres',\n 'sarcoptera (Butler) (Lepidoptera, Nymphalidae,\\xa0Limenitidinae,\\xa0Adoliadini)',\n 'Special Publications , Museum of Texas Tech University, Lubbock, Texas, USA',\n 'Special Bulletin of the Coleopterological Society of Japan',\n 'Study of a collection sample deposited at the Russian Academy of Sciences, with descriptions of new species and a checklist',\n 'Subfamilies Bagoinae, Conoderinae and Curculioninae',\n 'Springer',\n 'Taxonomy and chorology of new or little known taxa of Andean and Neotropical Regions (Heteroptera: Miridae)',\n 'The Biological Bulletin',\n 'The Coleopterists Buleltin',\n 'SWAMINATHAN (',\n 'SWAMINATHAN  (',\n 'Revista de la Academia Canaria de Ciencias',\n 'Revue de Paléobiologie',\n 'Revista gaditana de Entomología Vii(',\n 'schmidti Kulczyński,',\n 'Revista gaditana de Entomología VII:',\n 'scripta from chicken turtle, Deirochelys reticularia, (Emydidae), with an emendation and molecular phylogeny of Spirorchis',\n 'Sahlberg (Coleoptera: Staphylinidae:  Aleocharinae) in the Korean Peninsula',\n 'Revista gaditana de Entomología VI(',\n 'Revista gaditana de Entomología IX(',\n 'Revista gaditana de Entomología IV(',\n 'Revista de la Asociación Colombiana de Ciencias Biológicas',\n 'Revista de Zoología, Universidad Nacional Autónoma de México',\n 'STUDIA GEOLOGICA SALMANTICENSIA especial',\n 'Revista de Investigaciones de la Universidad del Quindío',\n 'Revista de Ecología Latinoamericana [=Journal of Latinoamerican Ecology]',\n 'Revista de Biologia Tropical',\n 'Revista gaditana de Entomología V(',\n 'Revista de Agricultura, Piracicaba',\n 'Scott, with a new phylogenetic hypothesis regarding the relationships of the Laophontoidea T',\n 'Scutigeromorpha and Scolopendromorpha',\n 'saturata, and a key to the species of the genus (Insecta, Hemiptera, Cicadellidae, Cicadellini)',\n 'Some nomenclatorial acts and faunistic records',\n 'Smithsonian Institution Scholarly Press, Washington, D',\n 'Smithsonian Contributions to Zoology',\n 'Smithsonian Contributions to Paleobiology(',\n ...]"
     },
     "metadata": {},
     "execution_count": 61
    }
   ],
   "source": [
    "# Take a look at the journals with less than 2 occurrences as we might see some non-journals here\n",
    "list(zb_journals[~zb_journals.where(zb_journals < 2).isna()].sort_values().index)"
   ]
  },
  {
   "source": [
    "As expected, most of these are not journals, which is a different situation found on the two precedent datasets."
   ],
   "cell_type": "markdown",
   "metadata": {}
  },
  {
   "cell_type": "code",
   "execution_count": 62,
   "metadata": {},
   "outputs": [
    {
     "output_type": "execute_result",
     "data": {
      "text/plain": "journal\nZootaxa                                           16093\nZooKeys                                            4047\nnov                                                1661\nJournal of Threatened Taxa                          921\nn                                                   797\nsp                                                  581\nSystematic & applied acarology                      551\nEuropean Journal of Taxonomy(                       484\nPublic Library of Science, ONE                      430\nFar Eastern Entomologist(                           365\nRaffles Bulletin of Zoology                         352\n                                                    347\nActa Entomologica Musei Nationalis Pragae           316\nJournal of Hymenoptera Research                     310\nJapanese Journal of Systematic Entomology           272\nJournal of Systematic Palaeontology                 256\nInsecta mundi(                                      251\nBiodiversity Data Journal                           232\nComparative Cytogenetics                            232\nPeerJ                                               230\nBulletin of Zoological Nomenclature                 229\nZoosymposia                                         218\nRevista Chilena de Entomologia                      216\nInsecta Mundi(                                      211\nJournal of Natural History                          208\nAustralasian Journal of Herpetology                 202\nNature Conservation                                 191\nCaucasian Entomological Bulletin                    176\nZoologia                                            173\net sp                                               172\nJapanese Journal of systematic entomology           155\nZoosystematics and Evolution                        151\ngen                                                 150\nJournal of Insect Biodiversity and Systematics      149\nJournal of Vertebrate Paleontology                  148\nZoological Journal of the Linnean Society           145\nAcarologia                                          144\nNauplius                                            144\nEversmannia                                         143\nIchthyological Research                             141\nName: year, dtype: int64"
     },
     "metadata": {},
     "execution_count": 62
    }
   ],
   "source": [
    "# Take a look at the top 100 journals in this dataset\n",
    "zb_journals.head(40)"
   ]
  },
  {
   "source": [
    "Well, the fact that the journal 'blank' got 347 hits is not a good sign. As expected, many issues here too.\n",
    "\n",
    "![](https://media.giphy.com/media/3oEjI80DSa1grNPTDq/giphy.gif)"
   ],
   "cell_type": "markdown",
   "metadata": {}
  },
  {
   "cell_type": "code",
   "execution_count": 63,
   "metadata": {},
   "outputs": [
    {
     "output_type": "execute_result",
     "data": {
      "text/plain": "journal\nZootaxa                                                                               16093\nZootaxa,                                                                                119\nZootaxa(                                                                                 66\nActa Zootaxonomica Sinica                                                                 8\ncuriosa group (Odonata: Platystictidae)  Zootaxa,                                         2\nZootaxa:                                                                                  2\ndefectus Ferris  (Hemiptera: Pseudococcidae) distinct species? Zootaxa                    1\nPart III: North America and Greenland by Kaczmarek, Michalczyk & McInnes  (Zootaxa        1\nName: year, dtype: int64"
     },
     "metadata": {},
     "execution_count": 63
    }
   ],
   "source": [
    "# Checking for possible typos involving Zootaxa's name. Also expecting many...\n",
    "zb_journals[['Zoot'.lower() in s.lower() for s in zb_journals.index]]"
   ]
  },
  {
   "cell_type": "code",
   "execution_count": 64,
   "metadata": {},
   "outputs": [
    {
     "output_type": "execute_result",
     "data": {
      "text/plain": "journal\nZooKeys     4047\nZooKeys(      11\nZooKeys:       4\nZookeys        2\nName: year, dtype: int64"
     },
     "metadata": {},
     "execution_count": 64
    }
   ],
   "source": [
    "# Checking for possible typos involving ZooKeys's name.\n",
    "zb_journals[['Zook'.lower() in s.lower() for s in zb_journals.index]]"
   ]
  },
  {
   "cell_type": "code",
   "execution_count": 65,
   "metadata": {},
   "outputs": [
    {
     "output_type": "execute_result",
     "data": {
      "text/plain": "journal\nEuropean Journal of Taxonomy(                                                                                                                              484\nEuropean journal of taxonomy(                                                                                                                               54\nEuropean Journal of Taxonomy                                                                                                                                24\nTaxon                                                                                                                                                        8\nActa Zootaxonomica Sinica                                                                                                                                    8\nStudies and reports, Taxonomical series                                                                                                                      5\nEntomotaxonomia                                                                                                                                              5\nFibigeriana Supplement,  Book series of Taxonomy and Faunistics                                                                                              3\nXenophora taxonomy                                                                                                                                           3\nHoser, taxonomy publications to end                                                                                                                          2\nStudies and reports of District Museum Prague-East Taxonomical Series                                                                                        2\nStudies and Reports, Taxonomical Series                                                                                                                      2\nThe Taxonomic Report of the International Lepidoptera Survey                                                                                                 2\nXenophora Taxonomy                                                                                                                                           2\nFour new species from the Russian Far East with taxonomic notes                                                                                              1\nLIMACINA (GASTROPODA: GYMNOSOMATA) IN THE SOUTHERN OKHOTSK SEA, JAPAN, WITH REMARKS ON THE TAXONOMY OF THE GENUS                                             1\nsula: A review of enigmatic taxonomic names linked to Gibbosula laosensis (Lea,                                                                              1\nA taxonomic revision                                                                                                                                         1\nA taxonomic review                                                                                                                                           1\n(Hemiptera: Pseudococcidae), with taxonomic notes on some congeneric taxa                                                                                    1\nDescription d’un nouveau taxon ; répartition et spécificité des sous-genres Ethioctenophthalmus, Geoctenophthalmus et Idioctenophthalmus                     1\n(Coleoptera, Buprestidae) from the USA, including a key and taxonomic notes on other congeneric Nearctic taxa                                                1\nConfusing taxonomy of four widespread European taxa (Opiliones: Sclerosomatidae)                                                                             1\nEuropean journal of taxonomy                                                                                                                                 1\nEuropean Journal of Taxonomy:                                                                                                                                1\nDoering on land and freshwater shells from Argentina and a note on his taxon Clessinia (Odontostomidae)                                                      1\nctoris longibarbus, a new styglophic labeonine species (Teleostei: Cyprinidae) from South China, with a note on the taxonomy of R                            1\nnov helps to resolve taxonomic confusion in species of the sea anemone Epiactis (Actiniaria, Actiniidae)                                                     1\nnudithoracicus’, the sequel: Unnecessary and unscientific names lead to rapid synonymization and taxonomic time wasting—A response to Arunachalam et al      1\nin the Okavango Panhandle, Botswana, with comments on this taxon                                                                                             1\nRedescription and taxonomic revision                                                                                                                         1\nProceedings of the Royal Entomological Society of London, Series B, Taxonomy                                                                                 1\nNeoduvalius from Montenegro with taxonomical remarks on the genus Duvalius (Coleoptera, Carabidae, Trechini)                                                 1\nUn problema ocasionado por mala praxis en taxonomía (Thysanoptera: Thripidae)                                                                                1\nSatyrinae de la puna xerofítica, con la descripción de dos nuevos taxones y tres nuevos registros para Perú (Lepidoptera: Nymphalidae)                       1\nTaxonomy and chorology of new or little known taxa of Andean and Neotropical Regions (Heteroptera: Miridae)                                                  1\nTaxonomy, biogeography, and bioinvasion                                                                                                                      1\nThe Taxonomic Report of the International Lepidoptera Survey, Vol                                                                                            1\nThe Taxonomic Report of The International Lepidoptera Survey,                                                                                                1\nTaxonomy and chorology of new or little known taxa of Continental New Guinea and neighboring islands (Insecta, Heteroptera, Miridae)                         1\nTaxonomic study of Micronoctuini                                                                                                                             1\nStudies and reports of District Museum Prague-East, Taxonomical Series                                                                                       1\nName: year, dtype: int64"
     },
     "metadata": {},
     "execution_count": 65
    }
   ],
   "source": [
    "# Checking for possible typos involving European Journal of Taxonomy's name.\n",
    "zb_journals[['Taxon'.lower() in s.lower() for s in zb_journals.index]]"
   ]
  },
  {
   "source": [
    "As expected, we do have more problems with typos in this database - but I guess not enough to be a concern if we are looking at the top 10, 20 journals only. Plus, after removing duplicates, we might get rid of a lot of these nonsense. So, moving on!"
   ],
   "cell_type": "markdown",
   "metadata": {}
  },
  {
   "source": [
    "Summary of transformations needed in this dataset (Zoobank):\n",
    "\n",
    "1. Remove duplicates based on 'journal' and 'bibref_details' columns\n",
    "2. Rename some high-ranked journals\n",
    "3. Remove rows that contains higher ranked non-jounals, such as \"nov\", \"n\", etc.\n",
    "4. Remove years out of the 2010-2020 range\n",
    "5. Select only 'journal' and 'year' columns\n",
    "6. Rename these two columns to 'Journal' and 'Year', with capital initial letters\n",
    "7. Add a column named 'Source', with all rows = 'Zoobank'"
   ],
   "cell_type": "markdown",
   "metadata": {}
  },
  {
   "source": [
    "#### Transform\n",
    "\n"
   ],
   "cell_type": "markdown",
   "metadata": {}
  },
  {
   "cell_type": "code",
   "execution_count": 66,
   "metadata": {},
   "outputs": [
    {
     "output_type": "execute_result",
     "data": {
      "text/plain": "             Journal  Year                  Source\n0  Boletin de la SEA  2010  WoS/Zoological Records\n1  Boletin de la SEA  2010  WoS/Zoological Records\n2  Boletin de la SEA  2010  WoS/Zoological Records\n3  Boletin de la SEA  2010  WoS/Zoological Records\n4  Boletin de la SEA  2010  WoS/Zoological Records",
      "text/html": "<div>\n<style scoped>\n    .dataframe tbody tr th:only-of-type {\n        vertical-align: middle;\n    }\n\n    .dataframe tbody tr th {\n        vertical-align: top;\n    }\n\n    .dataframe thead th {\n        text-align: right;\n    }\n</style>\n<table border=\"1\" class=\"dataframe\">\n  <thead>\n    <tr style=\"text-align: right;\">\n      <th></th>\n      <th>Journal</th>\n      <th>Year</th>\n      <th>Source</th>\n    </tr>\n  </thead>\n  <tbody>\n    <tr>\n      <th>0</th>\n      <td>Boletin de la SEA</td>\n      <td>2010</td>\n      <td>WoS/Zoological Records</td>\n    </tr>\n    <tr>\n      <th>1</th>\n      <td>Boletin de la SEA</td>\n      <td>2010</td>\n      <td>WoS/Zoological Records</td>\n    </tr>\n    <tr>\n      <th>2</th>\n      <td>Boletin de la SEA</td>\n      <td>2010</td>\n      <td>WoS/Zoological Records</td>\n    </tr>\n    <tr>\n      <th>3</th>\n      <td>Boletin de la SEA</td>\n      <td>2010</td>\n      <td>WoS/Zoological Records</td>\n    </tr>\n    <tr>\n      <th>4</th>\n      <td>Boletin de la SEA</td>\n      <td>2010</td>\n      <td>WoS/Zoological Records</td>\n    </tr>\n  </tbody>\n</table>\n</div>"
     },
     "metadata": {},
     "execution_count": 66
    }
   ],
   "source": [
    "wos_final = transform.wos(wos)\n",
    "\n",
    "wos_final.head()"
   ]
  },
  {
   "cell_type": "code",
   "execution_count": 67,
   "metadata": {
    "tags": []
   },
   "outputs": [
    {
     "output_type": "stream",
     "name": "stdout",
     "text": "SUCCESS! You correctly selected the columns!\nSUCCESS! You correctly filled the collumn 'Source'!\n"
    }
   ],
   "source": [
    "test_tf.wos(wos_final)"
   ]
  },
  {
   "cell_type": "code",
   "execution_count": 68,
   "metadata": {},
   "outputs": [
    {
     "output_type": "execute_result",
     "data": {
      "text/plain": "                     Journal  Year         Source\n0  Biodiversity Data Journal  2014  TreatmentBank\n1                    ZooKeys  2018  TreatmentBank\n2                   MycoKeys  2018  TreatmentBank\n3  Biodiversity Data Journal  2015  TreatmentBank\n4                    ZooKeys  2018  TreatmentBank",
      "text/html": "<div>\n<style scoped>\n    .dataframe tbody tr th:only-of-type {\n        vertical-align: middle;\n    }\n\n    .dataframe tbody tr th {\n        vertical-align: top;\n    }\n\n    .dataframe thead th {\n        text-align: right;\n    }\n</style>\n<table border=\"1\" class=\"dataframe\">\n  <thead>\n    <tr style=\"text-align: right;\">\n      <th></th>\n      <th>Journal</th>\n      <th>Year</th>\n      <th>Source</th>\n    </tr>\n  </thead>\n  <tbody>\n    <tr>\n      <th>0</th>\n      <td>Biodiversity Data Journal</td>\n      <td>2014</td>\n      <td>TreatmentBank</td>\n    </tr>\n    <tr>\n      <th>1</th>\n      <td>ZooKeys</td>\n      <td>2018</td>\n      <td>TreatmentBank</td>\n    </tr>\n    <tr>\n      <th>2</th>\n      <td>MycoKeys</td>\n      <td>2018</td>\n      <td>TreatmentBank</td>\n    </tr>\n    <tr>\n      <th>3</th>\n      <td>Biodiversity Data Journal</td>\n      <td>2015</td>\n      <td>TreatmentBank</td>\n    </tr>\n    <tr>\n      <th>4</th>\n      <td>ZooKeys</td>\n      <td>2018</td>\n      <td>TreatmentBank</td>\n    </tr>\n  </tbody>\n</table>\n</div>"
     },
     "metadata": {},
     "execution_count": 68
    }
   ],
   "source": [
    "tb_final = transform.tb(tb)\n",
    "\n",
    "tb_final.head()"
   ]
  },
  {
   "cell_type": "code",
   "execution_count": 69,
   "metadata": {
    "tags": []
   },
   "outputs": [
    {
     "output_type": "stream",
     "name": "stdout",
     "text": "SUCCESS! You correctly selected the columns!\nSUCCESS! You correctly filled the collumn 'Source'!\n"
    }
   ],
   "source": [
    "test_tf.tb(tb_final)"
   ]
  },
  {
   "cell_type": "code",
   "execution_count": 70,
   "metadata": {},
   "outputs": [
    {
     "output_type": "execute_result",
     "data": {
      "text/plain": "                                             Journal  Year   Source\n0  Journal of Zoological Systematics and Evolutio...  2010  Zoobank\n1                                            Zootaxa  2010  Zoobank\n3                                            Zootaxa  2010  Zoobank\n4          Japanese Journal of systematic entomology  2010  Zoobank\n5                                            ZooKeys  2010  Zoobank",
      "text/html": "<div>\n<style scoped>\n    .dataframe tbody tr th:only-of-type {\n        vertical-align: middle;\n    }\n\n    .dataframe tbody tr th {\n        vertical-align: top;\n    }\n\n    .dataframe thead th {\n        text-align: right;\n    }\n</style>\n<table border=\"1\" class=\"dataframe\">\n  <thead>\n    <tr style=\"text-align: right;\">\n      <th></th>\n      <th>Journal</th>\n      <th>Year</th>\n      <th>Source</th>\n    </tr>\n  </thead>\n  <tbody>\n    <tr>\n      <th>0</th>\n      <td>Journal of Zoological Systematics and Evolutio...</td>\n      <td>2010</td>\n      <td>Zoobank</td>\n    </tr>\n    <tr>\n      <th>1</th>\n      <td>Zootaxa</td>\n      <td>2010</td>\n      <td>Zoobank</td>\n    </tr>\n    <tr>\n      <th>3</th>\n      <td>Zootaxa</td>\n      <td>2010</td>\n      <td>Zoobank</td>\n    </tr>\n    <tr>\n      <th>4</th>\n      <td>Japanese Journal of systematic entomology</td>\n      <td>2010</td>\n      <td>Zoobank</td>\n    </tr>\n    <tr>\n      <th>5</th>\n      <td>ZooKeys</td>\n      <td>2010</td>\n      <td>Zoobank</td>\n    </tr>\n  </tbody>\n</table>\n</div>"
     },
     "metadata": {},
     "execution_count": 70
    }
   ],
   "source": [
    "zb_final = transform.zb(zb)\n",
    "\n",
    "zb_final.head()"
   ]
  },
  {
   "cell_type": "code",
   "execution_count": 71,
   "metadata": {
    "tags": []
   },
   "outputs": [
    {
     "output_type": "stream",
     "name": "stdout",
     "text": "SUCCESS! You correctly fixed all pre-determined values!\nSUCCESS! You correctly removed '' and ','!\nSUCCESS! You correctly removed all years out of the 2010-2020 range!\nSUCCESS! You correctly selected the columns!\nSUCCESS! You correctly filled the collumn 'Source'!\n"
    }
   ],
   "source": [
    "test_tf.zb(zb_final)"
   ]
  },
  {
   "cell_type": "code",
   "execution_count": 72,
   "metadata": {},
   "outputs": [
    {
     "output_type": "execute_result",
     "data": {
      "text/plain": "Source                       TreatmentBank                                 \\\nYear                                  2010   2011    2012    2013    2014   \nJournal                                                                     \nZootaxa                              855.0  947.0  1050.0  1073.0  1132.0   \nZooKeys                              114.0  284.0   273.0   293.0   329.0   \nEuropean Journal of Taxonomy           NaN    3.0    24.0    30.0    24.0   \nJournal of Natural History             NaN    NaN     1.0     2.0    27.0   \nJournal of Threatened Taxa             NaN    NaN     NaN     NaN     NaN   \n\nSource                                                                ...  \\\nYear                            2015    2016    2017    2018    2019  ...   \nJournal                                                               ...   \nZootaxa                       1446.0  1384.0  1440.0  1385.0  1474.0  ...   \nZooKeys                        283.0   366.0   312.0   364.0   330.0  ...   \nEuropean Journal of Taxonomy    52.0    74.0   100.0    82.0    75.0  ...   \nJournal of Natural History      42.0    24.0     3.0     NaN     8.0  ...   \nJournal of Threatened Taxa       NaN     NaN     NaN     NaN     NaN  ...   \n\nSource                       Zoobank                                          \\\nYear                            2015    2016    2017    2018    2019    2020   \nJournal                                                                        \nZootaxa                       1948.0  1938.0  1870.0  1966.0  1942.0  1463.0   \nZooKeys                        431.0   507.0   427.0   497.0   471.0   321.0   \nEuropean Journal of Taxonomy    45.0    67.0   102.0    76.0    76.0    95.0   \nJournal of Natural History      15.0    23.0    14.0    16.0    17.0     4.0   \nJournal of Threatened Taxa     104.0    93.0   123.0   139.0    97.0     3.0   \n\nSource                       TreatmentBank  Zoobank WoS/Zoological Records  \\\nYear                                   Sum      Sum                    Sum   \nJournal                                                                      \nZootaxa                            13134.0  15605.0                16880.0   \nZooKeys                             3183.0   3831.0                 3440.0   \nEuropean Journal of Taxonomy         564.0    548.0                  566.0   \nJournal of Natural History           107.0    146.0                  668.0   \nJournal of Threatened Taxa             0.0    903.0                    0.0   \n\nSource                            All  \nYear                              Sum  \nJournal                                \nZootaxa                       45619.0  \nZooKeys                       10454.0  \nEuropean Journal of Taxonomy   1678.0  \nJournal of Natural History      921.0  \nJournal of Threatened Taxa      903.0  \n\n[5 rows x 37 columns]",
      "text/html": "<div>\n<style scoped>\n    .dataframe tbody tr th:only-of-type {\n        vertical-align: middle;\n    }\n\n    .dataframe tbody tr th {\n        vertical-align: top;\n    }\n\n    .dataframe thead tr th {\n        text-align: left;\n    }\n\n    .dataframe thead tr:last-of-type th {\n        text-align: right;\n    }\n</style>\n<table border=\"1\" class=\"dataframe\">\n  <thead>\n    <tr>\n      <th>Source</th>\n      <th colspan=\"10\" halign=\"left\">TreatmentBank</th>\n      <th>...</th>\n      <th colspan=\"6\" halign=\"left\">Zoobank</th>\n      <th>TreatmentBank</th>\n      <th>Zoobank</th>\n      <th>WoS/Zoological Records</th>\n      <th>All</th>\n    </tr>\n    <tr>\n      <th>Year</th>\n      <th>2010</th>\n      <th>2011</th>\n      <th>2012</th>\n      <th>2013</th>\n      <th>2014</th>\n      <th>2015</th>\n      <th>2016</th>\n      <th>2017</th>\n      <th>2018</th>\n      <th>2019</th>\n      <th>...</th>\n      <th>2015</th>\n      <th>2016</th>\n      <th>2017</th>\n      <th>2018</th>\n      <th>2019</th>\n      <th>2020</th>\n      <th>Sum</th>\n      <th>Sum</th>\n      <th>Sum</th>\n      <th>Sum</th>\n    </tr>\n    <tr>\n      <th>Journal</th>\n      <th></th>\n      <th></th>\n      <th></th>\n      <th></th>\n      <th></th>\n      <th></th>\n      <th></th>\n      <th></th>\n      <th></th>\n      <th></th>\n      <th></th>\n      <th></th>\n      <th></th>\n      <th></th>\n      <th></th>\n      <th></th>\n      <th></th>\n      <th></th>\n      <th></th>\n      <th></th>\n      <th></th>\n    </tr>\n  </thead>\n  <tbody>\n    <tr>\n      <th>Zootaxa</th>\n      <td>855.0</td>\n      <td>947.0</td>\n      <td>1050.0</td>\n      <td>1073.0</td>\n      <td>1132.0</td>\n      <td>1446.0</td>\n      <td>1384.0</td>\n      <td>1440.0</td>\n      <td>1385.0</td>\n      <td>1474.0</td>\n      <td>...</td>\n      <td>1948.0</td>\n      <td>1938.0</td>\n      <td>1870.0</td>\n      <td>1966.0</td>\n      <td>1942.0</td>\n      <td>1463.0</td>\n      <td>13134.0</td>\n      <td>15605.0</td>\n      <td>16880.0</td>\n      <td>45619.0</td>\n    </tr>\n    <tr>\n      <th>ZooKeys</th>\n      <td>114.0</td>\n      <td>284.0</td>\n      <td>273.0</td>\n      <td>293.0</td>\n      <td>329.0</td>\n      <td>283.0</td>\n      <td>366.0</td>\n      <td>312.0</td>\n      <td>364.0</td>\n      <td>330.0</td>\n      <td>...</td>\n      <td>431.0</td>\n      <td>507.0</td>\n      <td>427.0</td>\n      <td>497.0</td>\n      <td>471.0</td>\n      <td>321.0</td>\n      <td>3183.0</td>\n      <td>3831.0</td>\n      <td>3440.0</td>\n      <td>10454.0</td>\n    </tr>\n    <tr>\n      <th>European Journal of Taxonomy</th>\n      <td>NaN</td>\n      <td>3.0</td>\n      <td>24.0</td>\n      <td>30.0</td>\n      <td>24.0</td>\n      <td>52.0</td>\n      <td>74.0</td>\n      <td>100.0</td>\n      <td>82.0</td>\n      <td>75.0</td>\n      <td>...</td>\n      <td>45.0</td>\n      <td>67.0</td>\n      <td>102.0</td>\n      <td>76.0</td>\n      <td>76.0</td>\n      <td>95.0</td>\n      <td>564.0</td>\n      <td>548.0</td>\n      <td>566.0</td>\n      <td>1678.0</td>\n    </tr>\n    <tr>\n      <th>Journal of Natural History</th>\n      <td>NaN</td>\n      <td>NaN</td>\n      <td>1.0</td>\n      <td>2.0</td>\n      <td>27.0</td>\n      <td>42.0</td>\n      <td>24.0</td>\n      <td>3.0</td>\n      <td>NaN</td>\n      <td>8.0</td>\n      <td>...</td>\n      <td>15.0</td>\n      <td>23.0</td>\n      <td>14.0</td>\n      <td>16.0</td>\n      <td>17.0</td>\n      <td>4.0</td>\n      <td>107.0</td>\n      <td>146.0</td>\n      <td>668.0</td>\n      <td>921.0</td>\n    </tr>\n    <tr>\n      <th>Journal of Threatened Taxa</th>\n      <td>NaN</td>\n      <td>NaN</td>\n      <td>NaN</td>\n      <td>NaN</td>\n      <td>NaN</td>\n      <td>NaN</td>\n      <td>NaN</td>\n      <td>NaN</td>\n      <td>NaN</td>\n      <td>NaN</td>\n      <td>...</td>\n      <td>104.0</td>\n      <td>93.0</td>\n      <td>123.0</td>\n      <td>139.0</td>\n      <td>97.0</td>\n      <td>3.0</td>\n      <td>0.0</td>\n      <td>903.0</td>\n      <td>0.0</td>\n      <td>903.0</td>\n    </tr>\n  </tbody>\n</table>\n<p>5 rows × 37 columns</p>\n</div>"
     },
     "metadata": {},
     "execution_count": 72
    }
   ],
   "source": [
    "# Combine all transformed dataframes into one, grouped and sorted multindex dataframe\n",
    "df = transform.combine(wos_final, tb_final, zb_final)\n",
    "\n",
    "df.head()"
   ]
  },
  {
   "cell_type": "code",
   "execution_count": 73,
   "metadata": {
    "tags": []
   },
   "outputs": [
    {
     "output_type": "stream",
     "name": "stdout",
     "text": "SUCCESS! You successfully created the Sources-specific Sum columns!\nSUCCESS! The ('All', 'Sum') function was correctly set!\nSUCCESS! The final dataframe seems to be correctly sorted!\n"
    }
   ],
   "source": [
    "test_tf.final(df)"
   ]
  },
  {
   "source": [
    "#### Is it open?"
   ],
   "cell_type": "markdown",
   "metadata": {}
  },
  {
   "cell_type": "code",
   "execution_count": 254,
   "metadata": {},
   "outputs": [],
   "source": [
    "# Adding a new column to the DF based on open-access policy of each journal\n",
    "# I'm comming this out because it involves an API call and I've removed my API key\n",
    "#df = transform.add_oa(df)\n",
    "\n",
    "# Alternativelly, I'll add the following:\n",
    "df = pd.read_pickle('data/df_final.p')"
   ]
  },
  {
   "cell_type": "code",
   "execution_count": 255,
   "metadata": {},
   "outputs": [
    {
     "output_type": "execute_result",
     "data": {
      "text/plain": "Journal\nZootaxa                         Closed-access\nZooKeys                                  GOLD\nEuropean Journal of Taxonomy          DIAMOND\nJournal of Natural History      Closed-access\nJournal of Threatened Taxa            DIAMOND\n                                    ...      \nCommunications Biology           GOLD|DIAMOND\nCladistics                      Closed-access\nEuropean Jornal of Taxonomy              None\nEntomologica Americana                   None\nzoosystema                               None\nName: (All, OA), Length: 224, dtype: object"
     },
     "metadata": {},
     "execution_count": 255
    }
   ],
   "source": [
    "# Checking if everything went OK\n",
    "df[('All', 'OA')]"
   ]
  },
  {
   "source": [
    "### (L)oad\n",
    "\n",
    "Probably the most useless function I wrote for this project, but to follow a pattern, as I modularized most of stuff here... here it is."
   ],
   "cell_type": "markdown",
   "metadata": {}
  },
  {
   "cell_type": "code",
   "execution_count": 79,
   "metadata": {},
   "outputs": [],
   "source": [
    "# I'll comment this out because it clearly doesn't need to be re-run\n",
    "#load.to_pickle(df, 'data/df_final.p')"
   ]
  },
  {
   "source": [
    "## Analysis\n"
   ],
   "cell_type": "markdown",
   "metadata": {}
  },
  {
   "source": [
    "### How many top journals are open-access?\n"
   ],
   "cell_type": "markdown",
   "metadata": {}
  },
  {
   "cell_type": "code",
   "execution_count": 378,
   "metadata": {},
   "outputs": [],
   "source": [
    "# Extract top wos journals sorted by its sum and get only 'Sum' and ('All', 'OA') columns\n",
    "top_wos_oa = df[['WoS/Zoological Records', 'All']].sort_values(by=('WoS/Zoological Records', 'Sum'), ascending=False)[[('WoS/Zoological Records', 'Sum'),('All', 'OA')]].head(100)\n",
    "\n",
    "# Get count, the % and change the name of the series\n",
    "top_wos_oa_count = top_wos_oa[('All', 'OA')].value_counts(dropna=False)\n",
    "\n",
    "top_wos_oa_count_rel = (top_wos_oa_count / top_wos_oa_count.sum() * 100).round(2)\n",
    "\n",
    "top_wos_oa_count_rel.name = 'WoS/Zoological Records'"
   ]
  },
  {
   "cell_type": "code",
   "execution_count": 379,
   "metadata": {},
   "outputs": [],
   "source": [
    "# Extract top tb journals sorted by its sum and get only 'Sum' and ('All', 'OA') columns\n",
    "top_tb_oa = df[['TreatmentBank', 'All']].sort_values(by=('TreatmentBank', 'Sum'), ascending=False)[[('TreatmentBank', 'Sum'),('All', 'OA')]].head(100)\n",
    "\n",
    "# Get count, the % and change the name of the series\n",
    "top_tb_oa_count = top_tb_oa[('All', 'OA')].value_counts(dropna=False)\n",
    "\n",
    "top_tb_oa_count_rel = (top_tb_oa_count / top_tb_oa_count.sum() * 100).round(2)\n",
    "\n",
    "top_tb_oa_count_rel.name = 'TreatmentBank'"
   ]
  },
  {
   "cell_type": "code",
   "execution_count": 380,
   "metadata": {},
   "outputs": [],
   "source": [
    "# Extract top zb journals sorted by its sum and get only 'Sum' and ('All', 'OA') columns\n",
    "top_zb_oa = df[['Zoobank', 'All']].sort_values(by=('Zoobank', 'Sum'), ascending=False)[[('Zoobank', 'Sum'),('All', 'OA')]].head(100)\n",
    "\n",
    "# Get count, the % and change the name of the series\n",
    "top_zb_oa_count = top_zb_oa[('All', 'OA')].value_counts(dropna=False)\n",
    "\n",
    "top_zb_oa_count_rel = (top_zb_oa_count / top_zb_oa_count.sum() * 100).round(2)\n",
    "\n",
    "top_zb_oa_count_rel.name = 'Zoobank'"
   ]
  },
  {
   "cell_type": "code",
   "execution_count": 389,
   "metadata": {},
   "outputs": [],
   "source": [
    "# Get the general count, the % and change the name of the series\n",
    "overall_oa_count = df[('All', 'OA')].value_counts(dropna=False)\n",
    "\n",
    "overall_oa_count_rel = (overall_oa_count / overall_oa_count.sum() * 100).round(2)\n",
    "\n",
    "overall_oa_count_rel.name = 'All'"
   ]
  },
  {
   "cell_type": "code",
   "execution_count": 392,
   "metadata": {},
   "outputs": [
    {
     "output_type": "execute_result",
     "data": {
      "text/plain": "               WoS/Zoological Records  TreatmentBank  Zoobank    All\nNaN                              53.0           56.0     56.0  60.27\nClosed-access                    31.0           15.0     18.0  19.20\nGOLD                              8.0           14.0     10.0   8.04\nGOLD|DIAMOND                      4.0            9.0     12.0   8.04\nDIAMOND                           4.0            6.0      4.0   4.46",
      "text/html": "<div>\n<style scoped>\n    .dataframe tbody tr th:only-of-type {\n        vertical-align: middle;\n    }\n\n    .dataframe tbody tr th {\n        vertical-align: top;\n    }\n\n    .dataframe thead th {\n        text-align: right;\n    }\n</style>\n<table border=\"1\" class=\"dataframe\">\n  <thead>\n    <tr style=\"text-align: right;\">\n      <th></th>\n      <th>WoS/Zoological Records</th>\n      <th>TreatmentBank</th>\n      <th>Zoobank</th>\n      <th>All</th>\n    </tr>\n  </thead>\n  <tbody>\n    <tr>\n      <th>NaN</th>\n      <td>53.0</td>\n      <td>56.0</td>\n      <td>56.0</td>\n      <td>60.27</td>\n    </tr>\n    <tr>\n      <th>Closed-access</th>\n      <td>31.0</td>\n      <td>15.0</td>\n      <td>18.0</td>\n      <td>19.20</td>\n    </tr>\n    <tr>\n      <th>GOLD</th>\n      <td>8.0</td>\n      <td>14.0</td>\n      <td>10.0</td>\n      <td>8.04</td>\n    </tr>\n    <tr>\n      <th>GOLD|DIAMOND</th>\n      <td>4.0</td>\n      <td>9.0</td>\n      <td>12.0</td>\n      <td>8.04</td>\n    </tr>\n    <tr>\n      <th>DIAMOND</th>\n      <td>4.0</td>\n      <td>6.0</td>\n      <td>4.0</td>\n      <td>4.46</td>\n    </tr>\n  </tbody>\n</table>\n</div>"
     },
     "metadata": {},
     "execution_count": 392
    }
   ],
   "source": [
    "# Build the OA counts dataframe to ease the chart process\n",
    "oa_counts = pd.DataFrame([top_wos_oa_count_rel, top_tb_oa_count_rel, top_zb_oa_count_rel, overall_oa_count_rel]).transpose()\n",
    "\n",
    "oa_counts"
   ]
  },
  {
   "source": [
    "### Who are the biggest contributors?\n"
   ],
   "cell_type": "markdown",
   "metadata": {}
  },
  {
   "cell_type": "code",
   "execution_count": 350,
   "metadata": {},
   "outputs": [
    {
     "output_type": "execute_result",
     "data": {
      "text/plain": "Year                              2010    2011    2012    2013    2014  \\\nJournal                                                                  \nZootaxa                         1239.0  1263.0  1470.0  1543.0  1526.0   \nZooKeys                          136.0   317.0   286.0   330.0   358.0   \nCretaceous Research               18.0    19.0    37.0    47.0    31.0   \nJournal of Natural History        72.0    69.0    74.0    69.0    67.0   \nPLoS ONE                          13.0    35.0    43.0    71.0   103.0   \n...                                ...     ...     ...     ...     ...   \nJournal of Orthoptera research     NaN     NaN     NaN     NaN     NaN   \nColeopterists bulletin             NaN     NaN     NaN     NaN     NaN   \nZoological systematics             NaN     NaN     NaN     NaN     NaN   \nIsrael journal of entomology       NaN     NaN     NaN     NaN     NaN   \nzoosystema                         NaN     NaN     NaN     NaN     NaN   \n\nYear                              2015    2016    2017    2018    2019  \\\nJournal                                                                  \nZootaxa                         1799.0  1718.0  1723.0  1743.0  1788.0   \nZooKeys                          318.0   421.0   339.0   406.0   372.0   \nCretaceous Research               76.0   102.0   102.0   131.0   155.0   \nJournal of Natural History        48.0    61.0    66.0    71.0    70.0   \nPLoS ONE                          96.0    78.0    81.0    58.0    54.0   \n...                                ...     ...     ...     ...     ...   \nJournal of Orthoptera research     NaN     NaN     NaN     NaN     NaN   \nColeopterists bulletin             NaN     NaN     NaN     NaN     NaN   \nZoological systematics             NaN     NaN     NaN     NaN     NaN   \nIsrael journal of entomology       NaN     NaN     NaN     NaN     NaN   \nzoosystema                         NaN     NaN     NaN     NaN     NaN   \n\nYear                              2020      Sum      %  \nJournal                                                 \nZootaxa                         1068.0  16880.0  36.28  \nZooKeys                          157.0   3440.0   7.39  \nCretaceous Research               79.0    797.0   1.71  \nJournal of Natural History         1.0    668.0   1.44  \nPLoS ONE                          25.0    657.0   1.41  \n...                                ...      ...    ...  \nJournal of Orthoptera research     NaN      0.0   0.00  \nColeopterists bulletin             NaN      0.0   0.00  \nZoological systematics             NaN      0.0   0.00  \nIsrael journal of entomology       NaN      0.0   0.00  \nzoosystema                         NaN      0.0   0.00  \n\n[224 rows x 13 columns]",
      "text/html": "<div>\n<style scoped>\n    .dataframe tbody tr th:only-of-type {\n        vertical-align: middle;\n    }\n\n    .dataframe tbody tr th {\n        vertical-align: top;\n    }\n\n    .dataframe thead th {\n        text-align: right;\n    }\n</style>\n<table border=\"1\" class=\"dataframe\">\n  <thead>\n    <tr style=\"text-align: right;\">\n      <th>Year</th>\n      <th>2010</th>\n      <th>2011</th>\n      <th>2012</th>\n      <th>2013</th>\n      <th>2014</th>\n      <th>2015</th>\n      <th>2016</th>\n      <th>2017</th>\n      <th>2018</th>\n      <th>2019</th>\n      <th>2020</th>\n      <th>Sum</th>\n      <th>%</th>\n    </tr>\n    <tr>\n      <th>Journal</th>\n      <th></th>\n      <th></th>\n      <th></th>\n      <th></th>\n      <th></th>\n      <th></th>\n      <th></th>\n      <th></th>\n      <th></th>\n      <th></th>\n      <th></th>\n      <th></th>\n      <th></th>\n    </tr>\n  </thead>\n  <tbody>\n    <tr>\n      <th>Zootaxa</th>\n      <td>1239.0</td>\n      <td>1263.0</td>\n      <td>1470.0</td>\n      <td>1543.0</td>\n      <td>1526.0</td>\n      <td>1799.0</td>\n      <td>1718.0</td>\n      <td>1723.0</td>\n      <td>1743.0</td>\n      <td>1788.0</td>\n      <td>1068.0</td>\n      <td>16880.0</td>\n      <td>36.28</td>\n    </tr>\n    <tr>\n      <th>ZooKeys</th>\n      <td>136.0</td>\n      <td>317.0</td>\n      <td>286.0</td>\n      <td>330.0</td>\n      <td>358.0</td>\n      <td>318.0</td>\n      <td>421.0</td>\n      <td>339.0</td>\n      <td>406.0</td>\n      <td>372.0</td>\n      <td>157.0</td>\n      <td>3440.0</td>\n      <td>7.39</td>\n    </tr>\n    <tr>\n      <th>Cretaceous Research</th>\n      <td>18.0</td>\n      <td>19.0</td>\n      <td>37.0</td>\n      <td>47.0</td>\n      <td>31.0</td>\n      <td>76.0</td>\n      <td>102.0</td>\n      <td>102.0</td>\n      <td>131.0</td>\n      <td>155.0</td>\n      <td>79.0</td>\n      <td>797.0</td>\n      <td>1.71</td>\n    </tr>\n    <tr>\n      <th>Journal of Natural History</th>\n      <td>72.0</td>\n      <td>69.0</td>\n      <td>74.0</td>\n      <td>69.0</td>\n      <td>67.0</td>\n      <td>48.0</td>\n      <td>61.0</td>\n      <td>66.0</td>\n      <td>71.0</td>\n      <td>70.0</td>\n      <td>1.0</td>\n      <td>668.0</td>\n      <td>1.44</td>\n    </tr>\n    <tr>\n      <th>PLoS ONE</th>\n      <td>13.0</td>\n      <td>35.0</td>\n      <td>43.0</td>\n      <td>71.0</td>\n      <td>103.0</td>\n      <td>96.0</td>\n      <td>78.0</td>\n      <td>81.0</td>\n      <td>58.0</td>\n      <td>54.0</td>\n      <td>25.0</td>\n      <td>657.0</td>\n      <td>1.41</td>\n    </tr>\n    <tr>\n      <th>...</th>\n      <td>...</td>\n      <td>...</td>\n      <td>...</td>\n      <td>...</td>\n      <td>...</td>\n      <td>...</td>\n      <td>...</td>\n      <td>...</td>\n      <td>...</td>\n      <td>...</td>\n      <td>...</td>\n      <td>...</td>\n      <td>...</td>\n    </tr>\n    <tr>\n      <th>Journal of Orthoptera research</th>\n      <td>NaN</td>\n      <td>NaN</td>\n      <td>NaN</td>\n      <td>NaN</td>\n      <td>NaN</td>\n      <td>NaN</td>\n      <td>NaN</td>\n      <td>NaN</td>\n      <td>NaN</td>\n      <td>NaN</td>\n      <td>NaN</td>\n      <td>0.0</td>\n      <td>0.00</td>\n    </tr>\n    <tr>\n      <th>Coleopterists bulletin</th>\n      <td>NaN</td>\n      <td>NaN</td>\n      <td>NaN</td>\n      <td>NaN</td>\n      <td>NaN</td>\n      <td>NaN</td>\n      <td>NaN</td>\n      <td>NaN</td>\n      <td>NaN</td>\n      <td>NaN</td>\n      <td>NaN</td>\n      <td>0.0</td>\n      <td>0.00</td>\n    </tr>\n    <tr>\n      <th>Zoological systematics</th>\n      <td>NaN</td>\n      <td>NaN</td>\n      <td>NaN</td>\n      <td>NaN</td>\n      <td>NaN</td>\n      <td>NaN</td>\n      <td>NaN</td>\n      <td>NaN</td>\n      <td>NaN</td>\n      <td>NaN</td>\n      <td>NaN</td>\n      <td>0.0</td>\n      <td>0.00</td>\n    </tr>\n    <tr>\n      <th>Israel journal of entomology</th>\n      <td>NaN</td>\n      <td>NaN</td>\n      <td>NaN</td>\n      <td>NaN</td>\n      <td>NaN</td>\n      <td>NaN</td>\n      <td>NaN</td>\n      <td>NaN</td>\n      <td>NaN</td>\n      <td>NaN</td>\n      <td>NaN</td>\n      <td>0.0</td>\n      <td>0.00</td>\n    </tr>\n    <tr>\n      <th>zoosystema</th>\n      <td>NaN</td>\n      <td>NaN</td>\n      <td>NaN</td>\n      <td>NaN</td>\n      <td>NaN</td>\n      <td>NaN</td>\n      <td>NaN</td>\n      <td>NaN</td>\n      <td>NaN</td>\n      <td>NaN</td>\n      <td>NaN</td>\n      <td>0.0</td>\n      <td>0.00</td>\n    </tr>\n  </tbody>\n</table>\n<p>224 rows × 13 columns</p>\n</div>"
     },
     "metadata": {},
     "execution_count": 350
    }
   ],
   "source": [
    "# Prepare a wos-isolated df to ease manipulation\n",
    "# Make a copy of entire df\n",
    "top_wos = df\n",
    "\n",
    "# Create a '%' column based on the records present on this already filtered (top 100) df. This will have the relative contribution of a journal within this dataset.\n",
    "top_wos[('WoS/Zoological Records', '%')] = (top_wos['WoS/Zoological Records']['Sum'] / top_wos['WoS/Zoological Records']['Sum'].sum() * 100).round(2)\n",
    "\n",
    "# Get only the data related to wos\n",
    "top_wos = top_wos['WoS/Zoological Records']\n",
    "\n",
    "# Sort the resulting filtered down dataset based on sum\n",
    "top_wos = top_wos.sort_values(by='Sum', ascending=False)\n",
    "\n",
    "top_wos"
   ]
  },
  {
   "cell_type": "code",
   "execution_count": 351,
   "metadata": {},
   "outputs": [
    {
     "output_type": "execute_result",
     "data": {
      "text/plain": "Year                              2010    2011    2012    2013    2014  \\\nJournal                                                                  \nZootaxa                         1239.0  1263.0  1470.0  1543.0  1526.0   \nZooKeys                          136.0   317.0   286.0   330.0   358.0   \nCretaceous Research               18.0    19.0    37.0    47.0    31.0   \nJournal of Natural History        72.0    69.0    74.0    69.0    67.0   \nPLoS ONE                          13.0    35.0    43.0    71.0   103.0   \n...                                ...     ...     ...     ...     ...   \nJournal of Orthoptera research     NaN     NaN     NaN     NaN     NaN   \nColeopterists bulletin             NaN     NaN     NaN     NaN     NaN   \nZoological systematics             NaN     NaN     NaN     NaN     NaN   \nIsrael journal of entomology       NaN     NaN     NaN     NaN     NaN   \nzoosystema                         NaN     NaN     NaN     NaN     NaN   \n\nYear                              2015    2016    2017    2018    2019  \\\nJournal                                                                  \nZootaxa                         1799.0  1718.0  1723.0  1743.0  1788.0   \nZooKeys                          318.0   421.0   339.0   406.0   372.0   \nCretaceous Research               76.0   102.0   102.0   131.0   155.0   \nJournal of Natural History        48.0    61.0    66.0    71.0    70.0   \nPLoS ONE                          96.0    78.0    81.0    58.0    54.0   \n...                                ...     ...     ...     ...     ...   \nJournal of Orthoptera research     NaN     NaN     NaN     NaN     NaN   \nColeopterists bulletin             NaN     NaN     NaN     NaN     NaN   \nZoological systematics             NaN     NaN     NaN     NaN     NaN   \nIsrael journal of entomology       NaN     NaN     NaN     NaN     NaN   \nzoosystema                         NaN     NaN     NaN     NaN     NaN   \n\nYear                              2020      Sum      %  % Real  \nJournal                                                         \nZootaxa                         1068.0  16880.0  36.28   21.05  \nZooKeys                          157.0   3440.0   7.39    4.29  \nCretaceous Research               79.0    797.0   1.71    0.99  \nJournal of Natural History         1.0    668.0   1.44    0.83  \nPLoS ONE                          25.0    657.0   1.41    0.82  \n...                                ...      ...    ...     ...  \nJournal of Orthoptera research     NaN      0.0   0.00     NaN  \nColeopterists bulletin             NaN      0.0   0.00     NaN  \nZoological systematics             NaN      0.0   0.00     NaN  \nIsrael journal of entomology       NaN      0.0   0.00     NaN  \nzoosystema                         NaN      0.0   0.00     NaN  \n\n[224 rows x 14 columns]",
      "text/html": "<div>\n<style scoped>\n    .dataframe tbody tr th:only-of-type {\n        vertical-align: middle;\n    }\n\n    .dataframe tbody tr th {\n        vertical-align: top;\n    }\n\n    .dataframe thead th {\n        text-align: right;\n    }\n</style>\n<table border=\"1\" class=\"dataframe\">\n  <thead>\n    <tr style=\"text-align: right;\">\n      <th>Year</th>\n      <th>2010</th>\n      <th>2011</th>\n      <th>2012</th>\n      <th>2013</th>\n      <th>2014</th>\n      <th>2015</th>\n      <th>2016</th>\n      <th>2017</th>\n      <th>2018</th>\n      <th>2019</th>\n      <th>2020</th>\n      <th>Sum</th>\n      <th>%</th>\n      <th>% Real</th>\n    </tr>\n    <tr>\n      <th>Journal</th>\n      <th></th>\n      <th></th>\n      <th></th>\n      <th></th>\n      <th></th>\n      <th></th>\n      <th></th>\n      <th></th>\n      <th></th>\n      <th></th>\n      <th></th>\n      <th></th>\n      <th></th>\n      <th></th>\n    </tr>\n  </thead>\n  <tbody>\n    <tr>\n      <th>Zootaxa</th>\n      <td>1239.0</td>\n      <td>1263.0</td>\n      <td>1470.0</td>\n      <td>1543.0</td>\n      <td>1526.0</td>\n      <td>1799.0</td>\n      <td>1718.0</td>\n      <td>1723.0</td>\n      <td>1743.0</td>\n      <td>1788.0</td>\n      <td>1068.0</td>\n      <td>16880.0</td>\n      <td>36.28</td>\n      <td>21.05</td>\n    </tr>\n    <tr>\n      <th>ZooKeys</th>\n      <td>136.0</td>\n      <td>317.0</td>\n      <td>286.0</td>\n      <td>330.0</td>\n      <td>358.0</td>\n      <td>318.0</td>\n      <td>421.0</td>\n      <td>339.0</td>\n      <td>406.0</td>\n      <td>372.0</td>\n      <td>157.0</td>\n      <td>3440.0</td>\n      <td>7.39</td>\n      <td>4.29</td>\n    </tr>\n    <tr>\n      <th>Cretaceous Research</th>\n      <td>18.0</td>\n      <td>19.0</td>\n      <td>37.0</td>\n      <td>47.0</td>\n      <td>31.0</td>\n      <td>76.0</td>\n      <td>102.0</td>\n      <td>102.0</td>\n      <td>131.0</td>\n      <td>155.0</td>\n      <td>79.0</td>\n      <td>797.0</td>\n      <td>1.71</td>\n      <td>0.99</td>\n    </tr>\n    <tr>\n      <th>Journal of Natural History</th>\n      <td>72.0</td>\n      <td>69.0</td>\n      <td>74.0</td>\n      <td>69.0</td>\n      <td>67.0</td>\n      <td>48.0</td>\n      <td>61.0</td>\n      <td>66.0</td>\n      <td>71.0</td>\n      <td>70.0</td>\n      <td>1.0</td>\n      <td>668.0</td>\n      <td>1.44</td>\n      <td>0.83</td>\n    </tr>\n    <tr>\n      <th>PLoS ONE</th>\n      <td>13.0</td>\n      <td>35.0</td>\n      <td>43.0</td>\n      <td>71.0</td>\n      <td>103.0</td>\n      <td>96.0</td>\n      <td>78.0</td>\n      <td>81.0</td>\n      <td>58.0</td>\n      <td>54.0</td>\n      <td>25.0</td>\n      <td>657.0</td>\n      <td>1.41</td>\n      <td>0.82</td>\n    </tr>\n    <tr>\n      <th>...</th>\n      <td>...</td>\n      <td>...</td>\n      <td>...</td>\n      <td>...</td>\n      <td>...</td>\n      <td>...</td>\n      <td>...</td>\n      <td>...</td>\n      <td>...</td>\n      <td>...</td>\n      <td>...</td>\n      <td>...</td>\n      <td>...</td>\n      <td>...</td>\n    </tr>\n    <tr>\n      <th>Journal of Orthoptera research</th>\n      <td>NaN</td>\n      <td>NaN</td>\n      <td>NaN</td>\n      <td>NaN</td>\n      <td>NaN</td>\n      <td>NaN</td>\n      <td>NaN</td>\n      <td>NaN</td>\n      <td>NaN</td>\n      <td>NaN</td>\n      <td>NaN</td>\n      <td>0.0</td>\n      <td>0.00</td>\n      <td>NaN</td>\n    </tr>\n    <tr>\n      <th>Coleopterists bulletin</th>\n      <td>NaN</td>\n      <td>NaN</td>\n      <td>NaN</td>\n      <td>NaN</td>\n      <td>NaN</td>\n      <td>NaN</td>\n      <td>NaN</td>\n      <td>NaN</td>\n      <td>NaN</td>\n      <td>NaN</td>\n      <td>NaN</td>\n      <td>0.0</td>\n      <td>0.00</td>\n      <td>NaN</td>\n    </tr>\n    <tr>\n      <th>Zoological systematics</th>\n      <td>NaN</td>\n      <td>NaN</td>\n      <td>NaN</td>\n      <td>NaN</td>\n      <td>NaN</td>\n      <td>NaN</td>\n      <td>NaN</td>\n      <td>NaN</td>\n      <td>NaN</td>\n      <td>NaN</td>\n      <td>NaN</td>\n      <td>0.0</td>\n      <td>0.00</td>\n      <td>NaN</td>\n    </tr>\n    <tr>\n      <th>Israel journal of entomology</th>\n      <td>NaN</td>\n      <td>NaN</td>\n      <td>NaN</td>\n      <td>NaN</td>\n      <td>NaN</td>\n      <td>NaN</td>\n      <td>NaN</td>\n      <td>NaN</td>\n      <td>NaN</td>\n      <td>NaN</td>\n      <td>NaN</td>\n      <td>0.0</td>\n      <td>0.00</td>\n      <td>NaN</td>\n    </tr>\n    <tr>\n      <th>zoosystema</th>\n      <td>NaN</td>\n      <td>NaN</td>\n      <td>NaN</td>\n      <td>NaN</td>\n      <td>NaN</td>\n      <td>NaN</td>\n      <td>NaN</td>\n      <td>NaN</td>\n      <td>NaN</td>\n      <td>NaN</td>\n      <td>NaN</td>\n      <td>0.0</td>\n      <td>0.00</td>\n      <td>NaN</td>\n    </tr>\n  </tbody>\n</table>\n<p>224 rows × 14 columns</p>\n</div>"
     },
     "metadata": {},
     "execution_count": 351
    }
   ],
   "source": [
    "# This will calculates the real relative contribution of journals based on the original, non-filtered wos dataframe\n",
    "# The steps to group, sum and sort are the same from transform.combine()\n",
    "wos_contrib = wos_final.groupby(['Journal', 'Source', 'Year'])['Journal'].count().unstack(['Source','Year'])\n",
    "\n",
    "wos_contrib = wos_contrib.reindex(sorted(wos_contrib.columns), axis=1)\n",
    "\n",
    "wos_contrib['Sum'] = wos_contrib.iloc[:, 0:12].sum(axis=1)\n",
    "\n",
    "wos_contrib.sort_values(by='Sum', ascending=False, inplace=True)\n",
    "\n",
    "# Calculate the relative importance on the overall dataset, not the filtered one\n",
    "wos_contrib['%'] = (wos_contrib['Sum'] / wos_contrib['Sum'].sum() * 100).round(2)\n",
    "\n",
    "# Map the findings to the filtered dataframe\n",
    "top_wos['% Real'] = top_wos.index.map(wos_contrib['%'].to_dict())\n",
    "\n",
    "top_wos"
   ]
  },
  {
   "cell_type": "code",
   "execution_count": 352,
   "metadata": {},
   "outputs": [
    {
     "output_type": "execute_result",
     "data": {
      "text/plain": "Year                                                    Sum  % Real\nJournal                                                            \nZootaxa                                             16880.0   21.05\nZooKeys                                              3440.0    4.29\nCretaceous Research                                   797.0    0.99\nJournal of Natural History                            668.0    0.83\nPLoS ONE                                              657.0    0.82\nEuropean Journal of Taxonomy                          566.0    0.71\nSystematic and Applied Acarology                      554.0    0.69\nJournal of Vertebrate Paleontology                    544.0    0.68\nSystematic Parasitology                               534.0    0.67\nInternational Journal of Systematic and Evoluti...    533.0    0.66\nZoological Journal of the Linnean Society             524.0    0.65\nPaleontological Journal                               519.0    0.65\nLinzer Biologische Beitraege                          516.0    0.64\nJournal of Paleontology                               513.0    0.64\nActa Entomologica Musei Nationalis Pragae             469.0    0.58\nActa Zootaxonomica Sinica                             441.0    0.55\nParasitology Research                                 416.0    0.52\nJournal of Parasitology                               401.0    0.50\nAnnales Zoologici (Warsaw)                            374.0    0.47\nInsecta Mundi                                         372.0    0.46\nNeues Jahrbuch fuer Geologie und Palaeontologie...    351.0    0.44\nJournal of Systematic Palaeontology                   344.0    0.43\nNematology                                            334.0    0.42\nBulletin de la Societe Entomologique de France        322.0    0.40\nColeopterists Bulletin                                321.0    0.40",
      "text/html": "<div>\n<style scoped>\n    .dataframe tbody tr th:only-of-type {\n        vertical-align: middle;\n    }\n\n    .dataframe tbody tr th {\n        vertical-align: top;\n    }\n\n    .dataframe thead th {\n        text-align: right;\n    }\n</style>\n<table border=\"1\" class=\"dataframe\">\n  <thead>\n    <tr style=\"text-align: right;\">\n      <th>Year</th>\n      <th>Sum</th>\n      <th>% Real</th>\n    </tr>\n    <tr>\n      <th>Journal</th>\n      <th></th>\n      <th></th>\n    </tr>\n  </thead>\n  <tbody>\n    <tr>\n      <th>Zootaxa</th>\n      <td>16880.0</td>\n      <td>21.05</td>\n    </tr>\n    <tr>\n      <th>ZooKeys</th>\n      <td>3440.0</td>\n      <td>4.29</td>\n    </tr>\n    <tr>\n      <th>Cretaceous Research</th>\n      <td>797.0</td>\n      <td>0.99</td>\n    </tr>\n    <tr>\n      <th>Journal of Natural History</th>\n      <td>668.0</td>\n      <td>0.83</td>\n    </tr>\n    <tr>\n      <th>PLoS ONE</th>\n      <td>657.0</td>\n      <td>0.82</td>\n    </tr>\n    <tr>\n      <th>European Journal of Taxonomy</th>\n      <td>566.0</td>\n      <td>0.71</td>\n    </tr>\n    <tr>\n      <th>Systematic and Applied Acarology</th>\n      <td>554.0</td>\n      <td>0.69</td>\n    </tr>\n    <tr>\n      <th>Journal of Vertebrate Paleontology</th>\n      <td>544.0</td>\n      <td>0.68</td>\n    </tr>\n    <tr>\n      <th>Systematic Parasitology</th>\n      <td>534.0</td>\n      <td>0.67</td>\n    </tr>\n    <tr>\n      <th>International Journal of Systematic and Evolutionary Microbiology</th>\n      <td>533.0</td>\n      <td>0.66</td>\n    </tr>\n    <tr>\n      <th>Zoological Journal of the Linnean Society</th>\n      <td>524.0</td>\n      <td>0.65</td>\n    </tr>\n    <tr>\n      <th>Paleontological Journal</th>\n      <td>519.0</td>\n      <td>0.65</td>\n    </tr>\n    <tr>\n      <th>Linzer Biologische Beitraege</th>\n      <td>516.0</td>\n      <td>0.64</td>\n    </tr>\n    <tr>\n      <th>Journal of Paleontology</th>\n      <td>513.0</td>\n      <td>0.64</td>\n    </tr>\n    <tr>\n      <th>Acta Entomologica Musei Nationalis Pragae</th>\n      <td>469.0</td>\n      <td>0.58</td>\n    </tr>\n    <tr>\n      <th>Acta Zootaxonomica Sinica</th>\n      <td>441.0</td>\n      <td>0.55</td>\n    </tr>\n    <tr>\n      <th>Parasitology Research</th>\n      <td>416.0</td>\n      <td>0.52</td>\n    </tr>\n    <tr>\n      <th>Journal of Parasitology</th>\n      <td>401.0</td>\n      <td>0.50</td>\n    </tr>\n    <tr>\n      <th>Annales Zoologici (Warsaw)</th>\n      <td>374.0</td>\n      <td>0.47</td>\n    </tr>\n    <tr>\n      <th>Insecta Mundi</th>\n      <td>372.0</td>\n      <td>0.46</td>\n    </tr>\n    <tr>\n      <th>Neues Jahrbuch fuer Geologie und Palaeontologie Abhandlungen</th>\n      <td>351.0</td>\n      <td>0.44</td>\n    </tr>\n    <tr>\n      <th>Journal of Systematic Palaeontology</th>\n      <td>344.0</td>\n      <td>0.43</td>\n    </tr>\n    <tr>\n      <th>Nematology</th>\n      <td>334.0</td>\n      <td>0.42</td>\n    </tr>\n    <tr>\n      <th>Bulletin de la Societe Entomologique de France</th>\n      <td>322.0</td>\n      <td>0.40</td>\n    </tr>\n    <tr>\n      <th>Coleopterists Bulletin</th>\n      <td>321.0</td>\n      <td>0.40</td>\n    </tr>\n  </tbody>\n</table>\n</div>"
     },
     "metadata": {},
     "execution_count": 352
    }
   ],
   "source": [
    "# Get the 'Sum' column\n",
    "top_wos.head(25)[['Sum', '% Real']]"
   ]
  },
  {
   "cell_type": "code",
   "execution_count": 348,
   "metadata": {},
   "outputs": [
    {
     "output_type": "execute_result",
     "data": {
      "text/plain": "Year                                                 2010   2011    2012  \\\nJournal                                                                    \nZootaxa                                             855.0  947.0  1050.0   \nZooKeys                                             114.0  284.0   273.0   \nEuropean Journal of Taxonomy                          NaN    3.0    24.0   \nPhytoKeys                                             4.0   20.0    33.0   \nMycoKeys                                              NaN    NaN     4.0   \n...                                                   ...    ...     ...   \nOpuscula Zoologica, Budapest                          NaN    NaN     NaN   \nPalaeoentomology                                      NaN    NaN     NaN   \nJournal of the Marine Biological Association of...    NaN    NaN     NaN   \nBulletin de la Société Entomologique de France        NaN    NaN     NaN   \nZoological Science                                    NaN    NaN     NaN   \n\nYear                                                  2013    2014    2015  \\\nJournal                                                                      \nZootaxa                                             1073.0  1132.0  1446.0   \nZooKeys                                              293.0   329.0   283.0   \nEuropean Journal of Taxonomy                          30.0    24.0    52.0   \nPhytoKeys                                             24.0    28.0    42.0   \nMycoKeys                                               4.0     3.0     3.0   \n...                                                    ...     ...     ...   \nOpuscula Zoologica, Budapest                           NaN     NaN     NaN   \nPalaeoentomology                                       NaN     NaN     NaN   \nJournal of the Marine Biological Association of...     NaN     NaN     NaN   \nBulletin de la Société Entomologique de France         NaN     NaN     NaN   \nZoological Science                                     NaN     NaN     NaN   \n\nYear                                                  2016    2017    2018  \\\nJournal                                                                      \nZootaxa                                             1384.0  1440.0  1385.0   \nZooKeys                                              366.0   312.0   364.0   \nEuropean Journal of Taxonomy                          74.0   100.0    82.0   \nPhytoKeys                                             61.0    52.0    67.0   \nMycoKeys                                               5.0    20.0    73.0   \n...                                                    ...     ...     ...   \nOpuscula Zoologica, Budapest                           NaN     NaN     NaN   \nPalaeoentomology                                       NaN     NaN     NaN   \nJournal of the Marine Biological Association of...     NaN     NaN     NaN   \nBulletin de la Société Entomologique de France         NaN     NaN     NaN   \nZoological Science                                     NaN     NaN     NaN   \n\nYear                                                  2019   2020      Sum  \\\nJournal                                                                      \nZootaxa                                             1474.0  948.0  13134.0   \nZooKeys                                              330.0  235.0   3183.0   \nEuropean Journal of Taxonomy                          75.0  100.0    564.0   \nPhytoKeys                                             91.0   89.0    511.0   \nMycoKeys                                              81.0   47.0    240.0   \n...                                                    ...    ...      ...   \nOpuscula Zoologica, Budapest                           NaN    NaN      0.0   \nPalaeoentomology                                       NaN    NaN      0.0   \nJournal of the Marine Biological Association of...     NaN    NaN      0.0   \nBulletin de la Société Entomologique de France         NaN    NaN      0.0   \nZoological Science                                     NaN    NaN      0.0   \n\nYear                                                    %  \nJournal                                                    \nZootaxa                                             69.64  \nZooKeys                                             16.88  \nEuropean Journal of Taxonomy                         2.99  \nPhytoKeys                                            2.71  \nMycoKeys                                             1.27  \n...                                                   ...  \nOpuscula Zoologica, Budapest                         0.00  \nPalaeoentomology                                     0.00  \nJournal of the Marine Biological Association of...   0.00  \nBulletin de la Société Entomologique de France       0.00  \nZoological Science                                   0.00  \n\n[224 rows x 13 columns]",
      "text/html": "<div>\n<style scoped>\n    .dataframe tbody tr th:only-of-type {\n        vertical-align: middle;\n    }\n\n    .dataframe tbody tr th {\n        vertical-align: top;\n    }\n\n    .dataframe thead th {\n        text-align: right;\n    }\n</style>\n<table border=\"1\" class=\"dataframe\">\n  <thead>\n    <tr style=\"text-align: right;\">\n      <th>Year</th>\n      <th>2010</th>\n      <th>2011</th>\n      <th>2012</th>\n      <th>2013</th>\n      <th>2014</th>\n      <th>2015</th>\n      <th>2016</th>\n      <th>2017</th>\n      <th>2018</th>\n      <th>2019</th>\n      <th>2020</th>\n      <th>Sum</th>\n      <th>%</th>\n    </tr>\n    <tr>\n      <th>Journal</th>\n      <th></th>\n      <th></th>\n      <th></th>\n      <th></th>\n      <th></th>\n      <th></th>\n      <th></th>\n      <th></th>\n      <th></th>\n      <th></th>\n      <th></th>\n      <th></th>\n      <th></th>\n    </tr>\n  </thead>\n  <tbody>\n    <tr>\n      <th>Zootaxa</th>\n      <td>855.0</td>\n      <td>947.0</td>\n      <td>1050.0</td>\n      <td>1073.0</td>\n      <td>1132.0</td>\n      <td>1446.0</td>\n      <td>1384.0</td>\n      <td>1440.0</td>\n      <td>1385.0</td>\n      <td>1474.0</td>\n      <td>948.0</td>\n      <td>13134.0</td>\n      <td>69.64</td>\n    </tr>\n    <tr>\n      <th>ZooKeys</th>\n      <td>114.0</td>\n      <td>284.0</td>\n      <td>273.0</td>\n      <td>293.0</td>\n      <td>329.0</td>\n      <td>283.0</td>\n      <td>366.0</td>\n      <td>312.0</td>\n      <td>364.0</td>\n      <td>330.0</td>\n      <td>235.0</td>\n      <td>3183.0</td>\n      <td>16.88</td>\n    </tr>\n    <tr>\n      <th>European Journal of Taxonomy</th>\n      <td>NaN</td>\n      <td>3.0</td>\n      <td>24.0</td>\n      <td>30.0</td>\n      <td>24.0</td>\n      <td>52.0</td>\n      <td>74.0</td>\n      <td>100.0</td>\n      <td>82.0</td>\n      <td>75.0</td>\n      <td>100.0</td>\n      <td>564.0</td>\n      <td>2.99</td>\n    </tr>\n    <tr>\n      <th>PhytoKeys</th>\n      <td>4.0</td>\n      <td>20.0</td>\n      <td>33.0</td>\n      <td>24.0</td>\n      <td>28.0</td>\n      <td>42.0</td>\n      <td>61.0</td>\n      <td>52.0</td>\n      <td>67.0</td>\n      <td>91.0</td>\n      <td>89.0</td>\n      <td>511.0</td>\n      <td>2.71</td>\n    </tr>\n    <tr>\n      <th>MycoKeys</th>\n      <td>NaN</td>\n      <td>NaN</td>\n      <td>4.0</td>\n      <td>4.0</td>\n      <td>3.0</td>\n      <td>3.0</td>\n      <td>5.0</td>\n      <td>20.0</td>\n      <td>73.0</td>\n      <td>81.0</td>\n      <td>47.0</td>\n      <td>240.0</td>\n      <td>1.27</td>\n    </tr>\n    <tr>\n      <th>...</th>\n      <td>...</td>\n      <td>...</td>\n      <td>...</td>\n      <td>...</td>\n      <td>...</td>\n      <td>...</td>\n      <td>...</td>\n      <td>...</td>\n      <td>...</td>\n      <td>...</td>\n      <td>...</td>\n      <td>...</td>\n      <td>...</td>\n    </tr>\n    <tr>\n      <th>Opuscula Zoologica, Budapest</th>\n      <td>NaN</td>\n      <td>NaN</td>\n      <td>NaN</td>\n      <td>NaN</td>\n      <td>NaN</td>\n      <td>NaN</td>\n      <td>NaN</td>\n      <td>NaN</td>\n      <td>NaN</td>\n      <td>NaN</td>\n      <td>NaN</td>\n      <td>0.0</td>\n      <td>0.00</td>\n    </tr>\n    <tr>\n      <th>Palaeoentomology</th>\n      <td>NaN</td>\n      <td>NaN</td>\n      <td>NaN</td>\n      <td>NaN</td>\n      <td>NaN</td>\n      <td>NaN</td>\n      <td>NaN</td>\n      <td>NaN</td>\n      <td>NaN</td>\n      <td>NaN</td>\n      <td>NaN</td>\n      <td>0.0</td>\n      <td>0.00</td>\n    </tr>\n    <tr>\n      <th>Journal of the Marine Biological Association of the United Kingdom</th>\n      <td>NaN</td>\n      <td>NaN</td>\n      <td>NaN</td>\n      <td>NaN</td>\n      <td>NaN</td>\n      <td>NaN</td>\n      <td>NaN</td>\n      <td>NaN</td>\n      <td>NaN</td>\n      <td>NaN</td>\n      <td>NaN</td>\n      <td>0.0</td>\n      <td>0.00</td>\n    </tr>\n    <tr>\n      <th>Bulletin de la Société Entomologique de France</th>\n      <td>NaN</td>\n      <td>NaN</td>\n      <td>NaN</td>\n      <td>NaN</td>\n      <td>NaN</td>\n      <td>NaN</td>\n      <td>NaN</td>\n      <td>NaN</td>\n      <td>NaN</td>\n      <td>NaN</td>\n      <td>NaN</td>\n      <td>0.0</td>\n      <td>0.00</td>\n    </tr>\n    <tr>\n      <th>Zoological Science</th>\n      <td>NaN</td>\n      <td>NaN</td>\n      <td>NaN</td>\n      <td>NaN</td>\n      <td>NaN</td>\n      <td>NaN</td>\n      <td>NaN</td>\n      <td>NaN</td>\n      <td>NaN</td>\n      <td>NaN</td>\n      <td>NaN</td>\n      <td>0.0</td>\n      <td>0.00</td>\n    </tr>\n  </tbody>\n</table>\n<p>224 rows × 13 columns</p>\n</div>"
     },
     "metadata": {},
     "execution_count": 348
    }
   ],
   "source": [
    "# Prepare a wos-isolated df to ease manipulation\n",
    "# Make a copy of entire df\n",
    "top_tb = df\n",
    "\n",
    "# Create a '%' column based on the records present on this already filtered (top 100) df. This will have the relative contribution of a journal within this dataset.\n",
    "top_tb[('TreatmentBank', '%')] = (top_tb['TreatmentBank']['Sum'] / top_tb['TreatmentBank']['Sum'].sum() * 100).round(2)\n",
    "\n",
    "# Get only the data related to tb\n",
    "top_tb = top_tb['TreatmentBank']\n",
    "\n",
    "# Sort the resulting filtered down dataset based on sum\n",
    "top_tb = top_tb.sort_values(by='Sum', ascending=False)\n",
    "\n",
    "top_tb"
   ]
  },
  {
   "cell_type": "code",
   "execution_count": 349,
   "metadata": {},
   "outputs": [
    {
     "output_type": "execute_result",
     "data": {
      "text/plain": "Year                                                 2010   2011    2012  \\\nJournal                                                                    \nZootaxa                                             855.0  947.0  1050.0   \nZooKeys                                             114.0  284.0   273.0   \nEuropean Journal of Taxonomy                          NaN    3.0    24.0   \nPhytoKeys                                             4.0   20.0    33.0   \nMycoKeys                                              NaN    NaN     4.0   \n...                                                   ...    ...     ...   \nOpuscula Zoologica, Budapest                          NaN    NaN     NaN   \nPalaeoentomology                                      NaN    NaN     NaN   \nJournal of the Marine Biological Association of...    NaN    NaN     NaN   \nBulletin de la Société Entomologique de France        NaN    NaN     NaN   \nZoological Science                                    NaN    NaN     NaN   \n\nYear                                                  2013    2014    2015  \\\nJournal                                                                      \nZootaxa                                             1073.0  1132.0  1446.0   \nZooKeys                                              293.0   329.0   283.0   \nEuropean Journal of Taxonomy                          30.0    24.0    52.0   \nPhytoKeys                                             24.0    28.0    42.0   \nMycoKeys                                               4.0     3.0     3.0   \n...                                                    ...     ...     ...   \nOpuscula Zoologica, Budapest                           NaN     NaN     NaN   \nPalaeoentomology                                       NaN     NaN     NaN   \nJournal of the Marine Biological Association of...     NaN     NaN     NaN   \nBulletin de la Société Entomologique de France         NaN     NaN     NaN   \nZoological Science                                     NaN     NaN     NaN   \n\nYear                                                  2016    2017    2018  \\\nJournal                                                                      \nZootaxa                                             1384.0  1440.0  1385.0   \nZooKeys                                              366.0   312.0   364.0   \nEuropean Journal of Taxonomy                          74.0   100.0    82.0   \nPhytoKeys                                             61.0    52.0    67.0   \nMycoKeys                                               5.0    20.0    73.0   \n...                                                    ...     ...     ...   \nOpuscula Zoologica, Budapest                           NaN     NaN     NaN   \nPalaeoentomology                                       NaN     NaN     NaN   \nJournal of the Marine Biological Association of...     NaN     NaN     NaN   \nBulletin de la Société Entomologique de France         NaN     NaN     NaN   \nZoological Science                                     NaN     NaN     NaN   \n\nYear                                                  2019   2020      Sum  \\\nJournal                                                                      \nZootaxa                                             1474.0  948.0  13134.0   \nZooKeys                                              330.0  235.0   3183.0   \nEuropean Journal of Taxonomy                          75.0  100.0    564.0   \nPhytoKeys                                             91.0   89.0    511.0   \nMycoKeys                                              81.0   47.0    240.0   \n...                                                    ...    ...      ...   \nOpuscula Zoologica, Budapest                           NaN    NaN      0.0   \nPalaeoentomology                                       NaN    NaN      0.0   \nJournal of the Marine Biological Association of...     NaN    NaN      0.0   \nBulletin de la Société Entomologique de France         NaN    NaN      0.0   \nZoological Science                                     NaN    NaN      0.0   \n\nYear                                                    %  % Real  \nJournal                                                            \nZootaxa                                             69.64   69.29  \nZooKeys                                             16.88   16.79  \nEuropean Journal of Taxonomy                         2.99    2.98  \nPhytoKeys                                            2.71    2.70  \nMycoKeys                                             1.27    1.27  \n...                                                   ...     ...  \nOpuscula Zoologica, Budapest                         0.00     NaN  \nPalaeoentomology                                     0.00     NaN  \nJournal of the Marine Biological Association of...   0.00     NaN  \nBulletin de la Société Entomologique de France       0.00     NaN  \nZoological Science                                   0.00     NaN  \n\n[224 rows x 14 columns]",
      "text/html": "<div>\n<style scoped>\n    .dataframe tbody tr th:only-of-type {\n        vertical-align: middle;\n    }\n\n    .dataframe tbody tr th {\n        vertical-align: top;\n    }\n\n    .dataframe thead th {\n        text-align: right;\n    }\n</style>\n<table border=\"1\" class=\"dataframe\">\n  <thead>\n    <tr style=\"text-align: right;\">\n      <th>Year</th>\n      <th>2010</th>\n      <th>2011</th>\n      <th>2012</th>\n      <th>2013</th>\n      <th>2014</th>\n      <th>2015</th>\n      <th>2016</th>\n      <th>2017</th>\n      <th>2018</th>\n      <th>2019</th>\n      <th>2020</th>\n      <th>Sum</th>\n      <th>%</th>\n      <th>% Real</th>\n    </tr>\n    <tr>\n      <th>Journal</th>\n      <th></th>\n      <th></th>\n      <th></th>\n      <th></th>\n      <th></th>\n      <th></th>\n      <th></th>\n      <th></th>\n      <th></th>\n      <th></th>\n      <th></th>\n      <th></th>\n      <th></th>\n      <th></th>\n    </tr>\n  </thead>\n  <tbody>\n    <tr>\n      <th>Zootaxa</th>\n      <td>855.0</td>\n      <td>947.0</td>\n      <td>1050.0</td>\n      <td>1073.0</td>\n      <td>1132.0</td>\n      <td>1446.0</td>\n      <td>1384.0</td>\n      <td>1440.0</td>\n      <td>1385.0</td>\n      <td>1474.0</td>\n      <td>948.0</td>\n      <td>13134.0</td>\n      <td>69.64</td>\n      <td>69.29</td>\n    </tr>\n    <tr>\n      <th>ZooKeys</th>\n      <td>114.0</td>\n      <td>284.0</td>\n      <td>273.0</td>\n      <td>293.0</td>\n      <td>329.0</td>\n      <td>283.0</td>\n      <td>366.0</td>\n      <td>312.0</td>\n      <td>364.0</td>\n      <td>330.0</td>\n      <td>235.0</td>\n      <td>3183.0</td>\n      <td>16.88</td>\n      <td>16.79</td>\n    </tr>\n    <tr>\n      <th>European Journal of Taxonomy</th>\n      <td>NaN</td>\n      <td>3.0</td>\n      <td>24.0</td>\n      <td>30.0</td>\n      <td>24.0</td>\n      <td>52.0</td>\n      <td>74.0</td>\n      <td>100.0</td>\n      <td>82.0</td>\n      <td>75.0</td>\n      <td>100.0</td>\n      <td>564.0</td>\n      <td>2.99</td>\n      <td>2.98</td>\n    </tr>\n    <tr>\n      <th>PhytoKeys</th>\n      <td>4.0</td>\n      <td>20.0</td>\n      <td>33.0</td>\n      <td>24.0</td>\n      <td>28.0</td>\n      <td>42.0</td>\n      <td>61.0</td>\n      <td>52.0</td>\n      <td>67.0</td>\n      <td>91.0</td>\n      <td>89.0</td>\n      <td>511.0</td>\n      <td>2.71</td>\n      <td>2.70</td>\n    </tr>\n    <tr>\n      <th>MycoKeys</th>\n      <td>NaN</td>\n      <td>NaN</td>\n      <td>4.0</td>\n      <td>4.0</td>\n      <td>3.0</td>\n      <td>3.0</td>\n      <td>5.0</td>\n      <td>20.0</td>\n      <td>73.0</td>\n      <td>81.0</td>\n      <td>47.0</td>\n      <td>240.0</td>\n      <td>1.27</td>\n      <td>1.27</td>\n    </tr>\n    <tr>\n      <th>...</th>\n      <td>...</td>\n      <td>...</td>\n      <td>...</td>\n      <td>...</td>\n      <td>...</td>\n      <td>...</td>\n      <td>...</td>\n      <td>...</td>\n      <td>...</td>\n      <td>...</td>\n      <td>...</td>\n      <td>...</td>\n      <td>...</td>\n      <td>...</td>\n    </tr>\n    <tr>\n      <th>Opuscula Zoologica, Budapest</th>\n      <td>NaN</td>\n      <td>NaN</td>\n      <td>NaN</td>\n      <td>NaN</td>\n      <td>NaN</td>\n      <td>NaN</td>\n      <td>NaN</td>\n      <td>NaN</td>\n      <td>NaN</td>\n      <td>NaN</td>\n      <td>NaN</td>\n      <td>0.0</td>\n      <td>0.00</td>\n      <td>NaN</td>\n    </tr>\n    <tr>\n      <th>Palaeoentomology</th>\n      <td>NaN</td>\n      <td>NaN</td>\n      <td>NaN</td>\n      <td>NaN</td>\n      <td>NaN</td>\n      <td>NaN</td>\n      <td>NaN</td>\n      <td>NaN</td>\n      <td>NaN</td>\n      <td>NaN</td>\n      <td>NaN</td>\n      <td>0.0</td>\n      <td>0.00</td>\n      <td>NaN</td>\n    </tr>\n    <tr>\n      <th>Journal of the Marine Biological Association of the United Kingdom</th>\n      <td>NaN</td>\n      <td>NaN</td>\n      <td>NaN</td>\n      <td>NaN</td>\n      <td>NaN</td>\n      <td>NaN</td>\n      <td>NaN</td>\n      <td>NaN</td>\n      <td>NaN</td>\n      <td>NaN</td>\n      <td>NaN</td>\n      <td>0.0</td>\n      <td>0.00</td>\n      <td>NaN</td>\n    </tr>\n    <tr>\n      <th>Bulletin de la Société Entomologique de France</th>\n      <td>NaN</td>\n      <td>NaN</td>\n      <td>NaN</td>\n      <td>NaN</td>\n      <td>NaN</td>\n      <td>NaN</td>\n      <td>NaN</td>\n      <td>NaN</td>\n      <td>NaN</td>\n      <td>NaN</td>\n      <td>NaN</td>\n      <td>0.0</td>\n      <td>0.00</td>\n      <td>NaN</td>\n    </tr>\n    <tr>\n      <th>Zoological Science</th>\n      <td>NaN</td>\n      <td>NaN</td>\n      <td>NaN</td>\n      <td>NaN</td>\n      <td>NaN</td>\n      <td>NaN</td>\n      <td>NaN</td>\n      <td>NaN</td>\n      <td>NaN</td>\n      <td>NaN</td>\n      <td>NaN</td>\n      <td>0.0</td>\n      <td>0.00</td>\n      <td>NaN</td>\n    </tr>\n  </tbody>\n</table>\n<p>224 rows × 14 columns</p>\n</div>"
     },
     "metadata": {},
     "execution_count": 349
    }
   ],
   "source": [
    "# This will calculates the real relative contribution of journals based on the original, non-filtered wos dataframe\n",
    "# The steps to group, sum and sort are the same from transform.combine()\n",
    "tb_contrib = tb_final.groupby(['Journal', 'Source', 'Year'])['Journal'].count().unstack(['Source','Year'])\n",
    "\n",
    "tb_contrib = tb_contrib.reindex(sorted(tb_contrib.columns), axis=1)\n",
    "\n",
    "tb_contrib['Sum'] = tb_contrib.iloc[:, 0:12].sum(axis=1)\n",
    "\n",
    "tb_contrib.sort_values(by='Sum', ascending=False, inplace=True)\n",
    "\n",
    "# Calculate the relative importance on the overall dataset, not the filtered one\n",
    "tb_contrib['%'] = (tb_contrib['Sum'] / tb_contrib['Sum'].sum() * 100).round(2)\n",
    "\n",
    "# Map the findings to the filtered dataframe\n",
    "top_tb['% Real'] = top_tb.index.map(tb_contrib['%'].to_dict())\n",
    "\n",
    "top_tb"
   ]
  },
  {
   "cell_type": "code",
   "execution_count": 426,
   "metadata": {},
   "outputs": [
    {
     "output_type": "execute_result",
     "data": {
      "text/plain": "Year                                           Sum  % Real\nJournal                                                   \nZootaxa                                    13134.0   69.29\nZooKeys                                     3183.0   16.79\nEuropean Journal of Taxonomy                 564.0    2.98\nPhytoKeys                                    511.0    2.70\nMycoKeys                                     240.0    1.27\nJournal of Hymenoptera Research              176.0    0.93\nJournal of Natural History                   107.0    0.56\nBiodiversity Data Journal                     98.0    0.52\nInsecta Mundi                                 77.0    0.41\nZoosystematics and Evolution                  72.0    0.38\nLinzer biologische Beiträge                   61.0    0.32\nRevue suisse de Zoologie                      41.0    0.22\nSubterranean Biology                          41.0    0.22\nDeutsche Entomologische Zeitschrift           40.0    0.21\nAfrican Invertebrates                         33.0    0.17\nNota Lepidopterologica                        33.0    0.17\nActa Entomologica Musei Nationalis Pragae     32.0    0.17\nZoosystema                                    32.0    0.17\nJOURNAL OF NATURAL HISTORY                    32.0    0.17\nNeotropical Ichthyology                       19.0    0.10\nAlpine Entomology                             17.0    0.09\nGeodiversitas                                 16.0    0.08\nLinzer biol. Beitr.                           16.0    0.08\nJournal of Orthoptera Research                15.0    0.08\nEvolutionary Systematics                      14.0    0.07",
      "text/html": "<div>\n<style scoped>\n    .dataframe tbody tr th:only-of-type {\n        vertical-align: middle;\n    }\n\n    .dataframe tbody tr th {\n        vertical-align: top;\n    }\n\n    .dataframe thead th {\n        text-align: right;\n    }\n</style>\n<table border=\"1\" class=\"dataframe\">\n  <thead>\n    <tr style=\"text-align: right;\">\n      <th>Year</th>\n      <th>Sum</th>\n      <th>% Real</th>\n    </tr>\n    <tr>\n      <th>Journal</th>\n      <th></th>\n      <th></th>\n    </tr>\n  </thead>\n  <tbody>\n    <tr>\n      <th>Zootaxa</th>\n      <td>13134.0</td>\n      <td>69.29</td>\n    </tr>\n    <tr>\n      <th>ZooKeys</th>\n      <td>3183.0</td>\n      <td>16.79</td>\n    </tr>\n    <tr>\n      <th>European Journal of Taxonomy</th>\n      <td>564.0</td>\n      <td>2.98</td>\n    </tr>\n    <tr>\n      <th>PhytoKeys</th>\n      <td>511.0</td>\n      <td>2.70</td>\n    </tr>\n    <tr>\n      <th>MycoKeys</th>\n      <td>240.0</td>\n      <td>1.27</td>\n    </tr>\n    <tr>\n      <th>Journal of Hymenoptera Research</th>\n      <td>176.0</td>\n      <td>0.93</td>\n    </tr>\n    <tr>\n      <th>Journal of Natural History</th>\n      <td>107.0</td>\n      <td>0.56</td>\n    </tr>\n    <tr>\n      <th>Biodiversity Data Journal</th>\n      <td>98.0</td>\n      <td>0.52</td>\n    </tr>\n    <tr>\n      <th>Insecta Mundi</th>\n      <td>77.0</td>\n      <td>0.41</td>\n    </tr>\n    <tr>\n      <th>Zoosystematics and Evolution</th>\n      <td>72.0</td>\n      <td>0.38</td>\n    </tr>\n    <tr>\n      <th>Linzer biologische Beiträge</th>\n      <td>61.0</td>\n      <td>0.32</td>\n    </tr>\n    <tr>\n      <th>Revue suisse de Zoologie</th>\n      <td>41.0</td>\n      <td>0.22</td>\n    </tr>\n    <tr>\n      <th>Subterranean Biology</th>\n      <td>41.0</td>\n      <td>0.22</td>\n    </tr>\n    <tr>\n      <th>Deutsche Entomologische Zeitschrift</th>\n      <td>40.0</td>\n      <td>0.21</td>\n    </tr>\n    <tr>\n      <th>African Invertebrates</th>\n      <td>33.0</td>\n      <td>0.17</td>\n    </tr>\n    <tr>\n      <th>Nota Lepidopterologica</th>\n      <td>33.0</td>\n      <td>0.17</td>\n    </tr>\n    <tr>\n      <th>Acta Entomologica Musei Nationalis Pragae</th>\n      <td>32.0</td>\n      <td>0.17</td>\n    </tr>\n    <tr>\n      <th>Zoosystema</th>\n      <td>32.0</td>\n      <td>0.17</td>\n    </tr>\n    <tr>\n      <th>JOURNAL OF NATURAL HISTORY</th>\n      <td>32.0</td>\n      <td>0.17</td>\n    </tr>\n    <tr>\n      <th>Neotropical Ichthyology</th>\n      <td>19.0</td>\n      <td>0.10</td>\n    </tr>\n    <tr>\n      <th>Alpine Entomology</th>\n      <td>17.0</td>\n      <td>0.09</td>\n    </tr>\n    <tr>\n      <th>Geodiversitas</th>\n      <td>16.0</td>\n      <td>0.08</td>\n    </tr>\n    <tr>\n      <th>Linzer biol. Beitr.</th>\n      <td>16.0</td>\n      <td>0.08</td>\n    </tr>\n    <tr>\n      <th>Journal of Orthoptera Research</th>\n      <td>15.0</td>\n      <td>0.08</td>\n    </tr>\n    <tr>\n      <th>Evolutionary Systematics</th>\n      <td>14.0</td>\n      <td>0.07</td>\n    </tr>\n  </tbody>\n</table>\n</div>"
     },
     "metadata": {},
     "execution_count": 426
    }
   ],
   "source": [
    "# Get the 'Sum' column\n",
    "top_tb.head(25)[['Sum', '% Real']]"
   ]
  },
  {
   "cell_type": "code",
   "execution_count": 345,
   "metadata": {},
   "outputs": [
    {
     "output_type": "execute_result",
     "data": {
      "text/plain": "Year                                 2010   2011   2012    2013    2014  \\\nJournal                                                                   \nZootaxa                             103.0  162.0  728.0  1771.0  1714.0   \nZooKeys                             102.0  148.0  243.0   263.0   421.0   \nJournal of Threatened Taxa            8.0   23.0  106.0   115.0    92.0   \nEuropean Journal of Taxonomy          NaN    4.0   29.0    26.0    28.0   \nSystematic & applied acarology        NaN    NaN   19.0    37.0    27.0   \n...                                   ...    ...    ...     ...     ...   \nKoleopterologische Rundschau          NaN    NaN    NaN     NaN     NaN   \nHistorical Biology                    NaN    NaN    NaN     NaN     NaN   \nSHILAP Revista de Lepidopterologia    NaN    NaN    NaN     NaN     NaN   \nGiornale Italiano di Entomologia      NaN    NaN    NaN     NaN     NaN   \nzoosystema                            NaN    NaN    NaN     NaN     NaN   \n\nYear                                  2015    2016    2017    2018    2019  \\\nJournal                                                                      \nZootaxa                             1948.0  1938.0  1870.0  1966.0  1942.0   \nZooKeys                              431.0   507.0   427.0   497.0   471.0   \nJournal of Threatened Taxa           104.0    93.0   123.0   139.0    97.0   \nEuropean Journal of Taxonomy          45.0    67.0   102.0    76.0    76.0   \nSystematic & applied acarology         5.0    82.0   101.0   105.0   102.0   \n...                                    ...     ...     ...     ...     ...   \nKoleopterologische Rundschau           NaN     NaN     NaN     NaN     NaN   \nHistorical Biology                     NaN     NaN     NaN     NaN     NaN   \nSHILAP Revista de Lepidopterologia     NaN     NaN     NaN     NaN     NaN   \nGiornale Italiano di Entomologia       NaN     NaN     NaN     NaN     NaN   \nzoosystema                             NaN     NaN     NaN     NaN     NaN   \n\nYear                                  2020      Sum      %  \nJournal                                                     \nZootaxa                             1463.0  15605.0  49.90  \nZooKeys                              321.0   3831.0  12.25  \nJournal of Threatened Taxa             3.0    903.0   2.89  \nEuropean Journal of Taxonomy          95.0    548.0   1.75  \nSystematic & applied acarology        51.0    529.0   1.69  \n...                                    ...      ...    ...  \nKoleopterologische Rundschau           NaN      0.0   0.00  \nHistorical Biology                     NaN      0.0   0.00  \nSHILAP Revista de Lepidopterologia     NaN      0.0   0.00  \nGiornale Italiano di Entomologia       NaN      0.0   0.00  \nzoosystema                             NaN      0.0   0.00  \n\n[224 rows x 13 columns]",
      "text/html": "<div>\n<style scoped>\n    .dataframe tbody tr th:only-of-type {\n        vertical-align: middle;\n    }\n\n    .dataframe tbody tr th {\n        vertical-align: top;\n    }\n\n    .dataframe thead th {\n        text-align: right;\n    }\n</style>\n<table border=\"1\" class=\"dataframe\">\n  <thead>\n    <tr style=\"text-align: right;\">\n      <th>Year</th>\n      <th>2010</th>\n      <th>2011</th>\n      <th>2012</th>\n      <th>2013</th>\n      <th>2014</th>\n      <th>2015</th>\n      <th>2016</th>\n      <th>2017</th>\n      <th>2018</th>\n      <th>2019</th>\n      <th>2020</th>\n      <th>Sum</th>\n      <th>%</th>\n    </tr>\n    <tr>\n      <th>Journal</th>\n      <th></th>\n      <th></th>\n      <th></th>\n      <th></th>\n      <th></th>\n      <th></th>\n      <th></th>\n      <th></th>\n      <th></th>\n      <th></th>\n      <th></th>\n      <th></th>\n      <th></th>\n    </tr>\n  </thead>\n  <tbody>\n    <tr>\n      <th>Zootaxa</th>\n      <td>103.0</td>\n      <td>162.0</td>\n      <td>728.0</td>\n      <td>1771.0</td>\n      <td>1714.0</td>\n      <td>1948.0</td>\n      <td>1938.0</td>\n      <td>1870.0</td>\n      <td>1966.0</td>\n      <td>1942.0</td>\n      <td>1463.0</td>\n      <td>15605.0</td>\n      <td>49.90</td>\n    </tr>\n    <tr>\n      <th>ZooKeys</th>\n      <td>102.0</td>\n      <td>148.0</td>\n      <td>243.0</td>\n      <td>263.0</td>\n      <td>421.0</td>\n      <td>431.0</td>\n      <td>507.0</td>\n      <td>427.0</td>\n      <td>497.0</td>\n      <td>471.0</td>\n      <td>321.0</td>\n      <td>3831.0</td>\n      <td>12.25</td>\n    </tr>\n    <tr>\n      <th>Journal of Threatened Taxa</th>\n      <td>8.0</td>\n      <td>23.0</td>\n      <td>106.0</td>\n      <td>115.0</td>\n      <td>92.0</td>\n      <td>104.0</td>\n      <td>93.0</td>\n      <td>123.0</td>\n      <td>139.0</td>\n      <td>97.0</td>\n      <td>3.0</td>\n      <td>903.0</td>\n      <td>2.89</td>\n    </tr>\n    <tr>\n      <th>European Journal of Taxonomy</th>\n      <td>NaN</td>\n      <td>4.0</td>\n      <td>29.0</td>\n      <td>26.0</td>\n      <td>28.0</td>\n      <td>45.0</td>\n      <td>67.0</td>\n      <td>102.0</td>\n      <td>76.0</td>\n      <td>76.0</td>\n      <td>95.0</td>\n      <td>548.0</td>\n      <td>1.75</td>\n    </tr>\n    <tr>\n      <th>Systematic &amp; applied acarology</th>\n      <td>NaN</td>\n      <td>NaN</td>\n      <td>19.0</td>\n      <td>37.0</td>\n      <td>27.0</td>\n      <td>5.0</td>\n      <td>82.0</td>\n      <td>101.0</td>\n      <td>105.0</td>\n      <td>102.0</td>\n      <td>51.0</td>\n      <td>529.0</td>\n      <td>1.69</td>\n    </tr>\n    <tr>\n      <th>...</th>\n      <td>...</td>\n      <td>...</td>\n      <td>...</td>\n      <td>...</td>\n      <td>...</td>\n      <td>...</td>\n      <td>...</td>\n      <td>...</td>\n      <td>...</td>\n      <td>...</td>\n      <td>...</td>\n      <td>...</td>\n      <td>...</td>\n    </tr>\n    <tr>\n      <th>Koleopterologische Rundschau</th>\n      <td>NaN</td>\n      <td>NaN</td>\n      <td>NaN</td>\n      <td>NaN</td>\n      <td>NaN</td>\n      <td>NaN</td>\n      <td>NaN</td>\n      <td>NaN</td>\n      <td>NaN</td>\n      <td>NaN</td>\n      <td>NaN</td>\n      <td>0.0</td>\n      <td>0.00</td>\n    </tr>\n    <tr>\n      <th>Historical Biology</th>\n      <td>NaN</td>\n      <td>NaN</td>\n      <td>NaN</td>\n      <td>NaN</td>\n      <td>NaN</td>\n      <td>NaN</td>\n      <td>NaN</td>\n      <td>NaN</td>\n      <td>NaN</td>\n      <td>NaN</td>\n      <td>NaN</td>\n      <td>0.0</td>\n      <td>0.00</td>\n    </tr>\n    <tr>\n      <th>SHILAP Revista de Lepidopterologia</th>\n      <td>NaN</td>\n      <td>NaN</td>\n      <td>NaN</td>\n      <td>NaN</td>\n      <td>NaN</td>\n      <td>NaN</td>\n      <td>NaN</td>\n      <td>NaN</td>\n      <td>NaN</td>\n      <td>NaN</td>\n      <td>NaN</td>\n      <td>0.0</td>\n      <td>0.00</td>\n    </tr>\n    <tr>\n      <th>Giornale Italiano di Entomologia</th>\n      <td>NaN</td>\n      <td>NaN</td>\n      <td>NaN</td>\n      <td>NaN</td>\n      <td>NaN</td>\n      <td>NaN</td>\n      <td>NaN</td>\n      <td>NaN</td>\n      <td>NaN</td>\n      <td>NaN</td>\n      <td>NaN</td>\n      <td>0.0</td>\n      <td>0.00</td>\n    </tr>\n    <tr>\n      <th>zoosystema</th>\n      <td>NaN</td>\n      <td>NaN</td>\n      <td>NaN</td>\n      <td>NaN</td>\n      <td>NaN</td>\n      <td>NaN</td>\n      <td>NaN</td>\n      <td>NaN</td>\n      <td>NaN</td>\n      <td>NaN</td>\n      <td>NaN</td>\n      <td>0.0</td>\n      <td>0.00</td>\n    </tr>\n  </tbody>\n</table>\n<p>224 rows × 13 columns</p>\n</div>"
     },
     "metadata": {},
     "execution_count": 345
    }
   ],
   "source": [
    "# Prepare a wos-isolated df to ease manipulation\n",
    "# Make a copy of entire df\n",
    "top_zb = df\n",
    "\n",
    "# Create a '%' column based on the records present on this already filtered (top 100) df. This will have the relative contribution of a journal within this dataset.\n",
    "top_zb[('Zoobank', '%')] = (top_zb['Zoobank']['Sum'] / top_zb['Zoobank']['Sum'].sum() * 100).round(2)\n",
    "\n",
    "# Get only the data related to tb\n",
    "top_zb = top_zb['Zoobank']\n",
    "\n",
    "# Sort the resulting filtered down dataset based on sum\n",
    "top_zb = top_zb.sort_values(by='Sum', ascending=False)\n",
    "\n",
    "top_zb"
   ]
  },
  {
   "cell_type": "code",
   "execution_count": 346,
   "metadata": {},
   "outputs": [
    {
     "output_type": "execute_result",
     "data": {
      "text/plain": "Year                                 2010   2011   2012    2013    2014  \\\nJournal                                                                   \nZootaxa                             103.0  162.0  728.0  1771.0  1714.0   \nZooKeys                             102.0  148.0  243.0   263.0   421.0   \nJournal of Threatened Taxa            8.0   23.0  106.0   115.0    92.0   \nEuropean Journal of Taxonomy          NaN    4.0   29.0    26.0    28.0   \nSystematic & applied acarology        NaN    NaN   19.0    37.0    27.0   \n...                                   ...    ...    ...     ...     ...   \nKoleopterologische Rundschau          NaN    NaN    NaN     NaN     NaN   \nHistorical Biology                    NaN    NaN    NaN     NaN     NaN   \nSHILAP Revista de Lepidopterologia    NaN    NaN    NaN     NaN     NaN   \nGiornale Italiano di Entomologia      NaN    NaN    NaN     NaN     NaN   \nzoosystema                            NaN    NaN    NaN     NaN     NaN   \n\nYear                                  2015    2016    2017    2018    2019  \\\nJournal                                                                      \nZootaxa                             1948.0  1938.0  1870.0  1966.0  1942.0   \nZooKeys                              431.0   507.0   427.0   497.0   471.0   \nJournal of Threatened Taxa           104.0    93.0   123.0   139.0    97.0   \nEuropean Journal of Taxonomy          45.0    67.0   102.0    76.0    76.0   \nSystematic & applied acarology         5.0    82.0   101.0   105.0   102.0   \n...                                    ...     ...     ...     ...     ...   \nKoleopterologische Rundschau           NaN     NaN     NaN     NaN     NaN   \nHistorical Biology                     NaN     NaN     NaN     NaN     NaN   \nSHILAP Revista de Lepidopterologia     NaN     NaN     NaN     NaN     NaN   \nGiornale Italiano di Entomologia       NaN     NaN     NaN     NaN     NaN   \nzoosystema                             NaN     NaN     NaN     NaN     NaN   \n\nYear                                  2020      Sum      %  % Real  \nJournal                                                             \nZootaxa                             1463.0  15605.0  49.90   39.80  \nZooKeys                              321.0   3831.0  12.25    9.77  \nJournal of Threatened Taxa             3.0    903.0   2.89    2.30  \nEuropean Journal of Taxonomy          95.0    548.0   1.75    1.40  \nSystematic & applied acarology        51.0    529.0   1.69    1.35  \n...                                    ...      ...    ...     ...  \nKoleopterologische Rundschau           NaN      0.0   0.00    0.01  \nHistorical Biology                     NaN      0.0   0.00    0.05  \nSHILAP Revista de Lepidopterologia     NaN      0.0   0.00    0.01  \nGiornale Italiano di Entomologia       NaN      0.0   0.00     NaN  \nzoosystema                             NaN      0.0   0.00     NaN  \n\n[224 rows x 14 columns]",
      "text/html": "<div>\n<style scoped>\n    .dataframe tbody tr th:only-of-type {\n        vertical-align: middle;\n    }\n\n    .dataframe tbody tr th {\n        vertical-align: top;\n    }\n\n    .dataframe thead th {\n        text-align: right;\n    }\n</style>\n<table border=\"1\" class=\"dataframe\">\n  <thead>\n    <tr style=\"text-align: right;\">\n      <th>Year</th>\n      <th>2010</th>\n      <th>2011</th>\n      <th>2012</th>\n      <th>2013</th>\n      <th>2014</th>\n      <th>2015</th>\n      <th>2016</th>\n      <th>2017</th>\n      <th>2018</th>\n      <th>2019</th>\n      <th>2020</th>\n      <th>Sum</th>\n      <th>%</th>\n      <th>% Real</th>\n    </tr>\n    <tr>\n      <th>Journal</th>\n      <th></th>\n      <th></th>\n      <th></th>\n      <th></th>\n      <th></th>\n      <th></th>\n      <th></th>\n      <th></th>\n      <th></th>\n      <th></th>\n      <th></th>\n      <th></th>\n      <th></th>\n      <th></th>\n    </tr>\n  </thead>\n  <tbody>\n    <tr>\n      <th>Zootaxa</th>\n      <td>103.0</td>\n      <td>162.0</td>\n      <td>728.0</td>\n      <td>1771.0</td>\n      <td>1714.0</td>\n      <td>1948.0</td>\n      <td>1938.0</td>\n      <td>1870.0</td>\n      <td>1966.0</td>\n      <td>1942.0</td>\n      <td>1463.0</td>\n      <td>15605.0</td>\n      <td>49.90</td>\n      <td>39.80</td>\n    </tr>\n    <tr>\n      <th>ZooKeys</th>\n      <td>102.0</td>\n      <td>148.0</td>\n      <td>243.0</td>\n      <td>263.0</td>\n      <td>421.0</td>\n      <td>431.0</td>\n      <td>507.0</td>\n      <td>427.0</td>\n      <td>497.0</td>\n      <td>471.0</td>\n      <td>321.0</td>\n      <td>3831.0</td>\n      <td>12.25</td>\n      <td>9.77</td>\n    </tr>\n    <tr>\n      <th>Journal of Threatened Taxa</th>\n      <td>8.0</td>\n      <td>23.0</td>\n      <td>106.0</td>\n      <td>115.0</td>\n      <td>92.0</td>\n      <td>104.0</td>\n      <td>93.0</td>\n      <td>123.0</td>\n      <td>139.0</td>\n      <td>97.0</td>\n      <td>3.0</td>\n      <td>903.0</td>\n      <td>2.89</td>\n      <td>2.30</td>\n    </tr>\n    <tr>\n      <th>European Journal of Taxonomy</th>\n      <td>NaN</td>\n      <td>4.0</td>\n      <td>29.0</td>\n      <td>26.0</td>\n      <td>28.0</td>\n      <td>45.0</td>\n      <td>67.0</td>\n      <td>102.0</td>\n      <td>76.0</td>\n      <td>76.0</td>\n      <td>95.0</td>\n      <td>548.0</td>\n      <td>1.75</td>\n      <td>1.40</td>\n    </tr>\n    <tr>\n      <th>Systematic &amp; applied acarology</th>\n      <td>NaN</td>\n      <td>NaN</td>\n      <td>19.0</td>\n      <td>37.0</td>\n      <td>27.0</td>\n      <td>5.0</td>\n      <td>82.0</td>\n      <td>101.0</td>\n      <td>105.0</td>\n      <td>102.0</td>\n      <td>51.0</td>\n      <td>529.0</td>\n      <td>1.69</td>\n      <td>1.35</td>\n    </tr>\n    <tr>\n      <th>...</th>\n      <td>...</td>\n      <td>...</td>\n      <td>...</td>\n      <td>...</td>\n      <td>...</td>\n      <td>...</td>\n      <td>...</td>\n      <td>...</td>\n      <td>...</td>\n      <td>...</td>\n      <td>...</td>\n      <td>...</td>\n      <td>...</td>\n      <td>...</td>\n    </tr>\n    <tr>\n      <th>Koleopterologische Rundschau</th>\n      <td>NaN</td>\n      <td>NaN</td>\n      <td>NaN</td>\n      <td>NaN</td>\n      <td>NaN</td>\n      <td>NaN</td>\n      <td>NaN</td>\n      <td>NaN</td>\n      <td>NaN</td>\n      <td>NaN</td>\n      <td>NaN</td>\n      <td>0.0</td>\n      <td>0.00</td>\n      <td>0.01</td>\n    </tr>\n    <tr>\n      <th>Historical Biology</th>\n      <td>NaN</td>\n      <td>NaN</td>\n      <td>NaN</td>\n      <td>NaN</td>\n      <td>NaN</td>\n      <td>NaN</td>\n      <td>NaN</td>\n      <td>NaN</td>\n      <td>NaN</td>\n      <td>NaN</td>\n      <td>NaN</td>\n      <td>0.0</td>\n      <td>0.00</td>\n      <td>0.05</td>\n    </tr>\n    <tr>\n      <th>SHILAP Revista de Lepidopterologia</th>\n      <td>NaN</td>\n      <td>NaN</td>\n      <td>NaN</td>\n      <td>NaN</td>\n      <td>NaN</td>\n      <td>NaN</td>\n      <td>NaN</td>\n      <td>NaN</td>\n      <td>NaN</td>\n      <td>NaN</td>\n      <td>NaN</td>\n      <td>0.0</td>\n      <td>0.00</td>\n      <td>0.01</td>\n    </tr>\n    <tr>\n      <th>Giornale Italiano di Entomologia</th>\n      <td>NaN</td>\n      <td>NaN</td>\n      <td>NaN</td>\n      <td>NaN</td>\n      <td>NaN</td>\n      <td>NaN</td>\n      <td>NaN</td>\n      <td>NaN</td>\n      <td>NaN</td>\n      <td>NaN</td>\n      <td>NaN</td>\n      <td>0.0</td>\n      <td>0.00</td>\n      <td>NaN</td>\n    </tr>\n    <tr>\n      <th>zoosystema</th>\n      <td>NaN</td>\n      <td>NaN</td>\n      <td>NaN</td>\n      <td>NaN</td>\n      <td>NaN</td>\n      <td>NaN</td>\n      <td>NaN</td>\n      <td>NaN</td>\n      <td>NaN</td>\n      <td>NaN</td>\n      <td>NaN</td>\n      <td>0.0</td>\n      <td>0.00</td>\n      <td>NaN</td>\n    </tr>\n  </tbody>\n</table>\n<p>224 rows × 14 columns</p>\n</div>"
     },
     "metadata": {},
     "execution_count": 346
    }
   ],
   "source": [
    "# This will calculates the real relative contribution of journals based on the original, non-filtered wos dataframe\n",
    "# The steps to group, sum and sort are the same from transform.combine()\n",
    "zb_contrib = zb_final.groupby(['Journal', 'Source', 'Year'])['Journal'].count().unstack(['Source','Year'])\n",
    "\n",
    "zb_contrib = zb_contrib.reindex(sorted(zb_contrib.columns), axis=1)\n",
    "\n",
    "zb_contrib['Sum'] = zb_contrib.iloc[:, 0:12].sum(axis=1)\n",
    "\n",
    "zb_contrib.sort_values(by='Sum', ascending=False, inplace=True)\n",
    "\n",
    "# Calculate the relative importance on the overall dataset, not the filtered one\n",
    "zb_contrib['%'] = (zb_contrib['Sum'] / zb_contrib['Sum'].sum() * 100).round(2)\n",
    "\n",
    "# Map the findings to the filtered dataframe\n",
    "top_zb['% Real'] = top_zb.index.map(zb_contrib['%'].to_dict())\n",
    "\n",
    "top_zb"
   ]
  },
  {
   "cell_type": "code",
   "execution_count": 347,
   "metadata": {},
   "outputs": [
    {
     "output_type": "execute_result",
     "data": {
      "text/plain": "Year                                                Sum  % Real\nJournal                                                        \nZootaxa                                         15605.0   39.80\nZooKeys                                          3831.0    9.77\nJournal of Threatened Taxa                        903.0    2.30\nEuropean Journal of Taxonomy                      548.0    1.40\nSystematic & applied acarology                    529.0    1.35\nInsecta Mundi                                     447.0    1.14\nRaffles Bulletin of Zoology                       334.0    0.85\nFar Eastern Entomologist                          332.0    0.85\nActa Entomologica Musei Nationalis Pragae         308.0    0.79\nJournal of Hymenoptera Research                   308.0    0.79\nJapanese Journal of Systematic Entomology         246.0    0.63\nBiodiversity Data Journal                         228.0    0.58\nComparative Cytogenetics                          224.0    0.57\nPeerJ                                             222.0    0.57\nPublic Library of Science, ONE                    206.0    0.53\nRevista Chilena de Entomologia                    201.0    0.51\nZoosymposia                                       198.0    0.50\nAustralasian Journal of Herpetology               190.0    0.48\nNature Conservation                               179.0    0.46\nCaucasian Entomological Bulletin                  174.0    0.44\nJapanese Journal of systematic entomology         155.0    0.40\nJournal of Natural History                        146.0    0.37\nJournal of Insect Biodiversity and Systematics    141.0    0.36\nZoosystematics and Evolution                      140.0    0.36\nAcarologia                                        140.0    0.36",
      "text/html": "<div>\n<style scoped>\n    .dataframe tbody tr th:only-of-type {\n        vertical-align: middle;\n    }\n\n    .dataframe tbody tr th {\n        vertical-align: top;\n    }\n\n    .dataframe thead th {\n        text-align: right;\n    }\n</style>\n<table border=\"1\" class=\"dataframe\">\n  <thead>\n    <tr style=\"text-align: right;\">\n      <th>Year</th>\n      <th>Sum</th>\n      <th>% Real</th>\n    </tr>\n    <tr>\n      <th>Journal</th>\n      <th></th>\n      <th></th>\n    </tr>\n  </thead>\n  <tbody>\n    <tr>\n      <th>Zootaxa</th>\n      <td>15605.0</td>\n      <td>39.80</td>\n    </tr>\n    <tr>\n      <th>ZooKeys</th>\n      <td>3831.0</td>\n      <td>9.77</td>\n    </tr>\n    <tr>\n      <th>Journal of Threatened Taxa</th>\n      <td>903.0</td>\n      <td>2.30</td>\n    </tr>\n    <tr>\n      <th>European Journal of Taxonomy</th>\n      <td>548.0</td>\n      <td>1.40</td>\n    </tr>\n    <tr>\n      <th>Systematic &amp; applied acarology</th>\n      <td>529.0</td>\n      <td>1.35</td>\n    </tr>\n    <tr>\n      <th>Insecta Mundi</th>\n      <td>447.0</td>\n      <td>1.14</td>\n    </tr>\n    <tr>\n      <th>Raffles Bulletin of Zoology</th>\n      <td>334.0</td>\n      <td>0.85</td>\n    </tr>\n    <tr>\n      <th>Far Eastern Entomologist</th>\n      <td>332.0</td>\n      <td>0.85</td>\n    </tr>\n    <tr>\n      <th>Acta Entomologica Musei Nationalis Pragae</th>\n      <td>308.0</td>\n      <td>0.79</td>\n    </tr>\n    <tr>\n      <th>Journal of Hymenoptera Research</th>\n      <td>308.0</td>\n      <td>0.79</td>\n    </tr>\n    <tr>\n      <th>Japanese Journal of Systematic Entomology</th>\n      <td>246.0</td>\n      <td>0.63</td>\n    </tr>\n    <tr>\n      <th>Biodiversity Data Journal</th>\n      <td>228.0</td>\n      <td>0.58</td>\n    </tr>\n    <tr>\n      <th>Comparative Cytogenetics</th>\n      <td>224.0</td>\n      <td>0.57</td>\n    </tr>\n    <tr>\n      <th>PeerJ</th>\n      <td>222.0</td>\n      <td>0.57</td>\n    </tr>\n    <tr>\n      <th>Public Library of Science, ONE</th>\n      <td>206.0</td>\n      <td>0.53</td>\n    </tr>\n    <tr>\n      <th>Revista Chilena de Entomologia</th>\n      <td>201.0</td>\n      <td>0.51</td>\n    </tr>\n    <tr>\n      <th>Zoosymposia</th>\n      <td>198.0</td>\n      <td>0.50</td>\n    </tr>\n    <tr>\n      <th>Australasian Journal of Herpetology</th>\n      <td>190.0</td>\n      <td>0.48</td>\n    </tr>\n    <tr>\n      <th>Nature Conservation</th>\n      <td>179.0</td>\n      <td>0.46</td>\n    </tr>\n    <tr>\n      <th>Caucasian Entomological Bulletin</th>\n      <td>174.0</td>\n      <td>0.44</td>\n    </tr>\n    <tr>\n      <th>Japanese Journal of systematic entomology</th>\n      <td>155.0</td>\n      <td>0.40</td>\n    </tr>\n    <tr>\n      <th>Journal of Natural History</th>\n      <td>146.0</td>\n      <td>0.37</td>\n    </tr>\n    <tr>\n      <th>Journal of Insect Biodiversity and Systematics</th>\n      <td>141.0</td>\n      <td>0.36</td>\n    </tr>\n    <tr>\n      <th>Zoosystematics and Evolution</th>\n      <td>140.0</td>\n      <td>0.36</td>\n    </tr>\n    <tr>\n      <th>Acarologia</th>\n      <td>140.0</td>\n      <td>0.36</td>\n    </tr>\n  </tbody>\n</table>\n</div>"
     },
     "metadata": {},
     "execution_count": 347
    }
   ],
   "source": [
    "# Get the 'Sum' column\n",
    "top_zb.head(25)[['Sum', '% Real']]"
   ]
  },
  {
   "source": [
    "### How do the sources compare to each other?"
   ],
   "cell_type": "markdown",
   "metadata": {}
  },
  {
   "source": [
    "#### Total number of records"
   ],
   "cell_type": "markdown",
   "metadata": {}
  },
  {
   "cell_type": "code",
   "execution_count": 425,
   "metadata": {},
   "outputs": [
    {
     "output_type": "execute_result",
     "data": {
      "text/plain": "                   Source  Total Records  Filtered Records\n1  WoS/Zoological Records          80194           46531.0\n3                 Zoobank          39209           31272.0\n2           TreatmentBank          18955           18859.0",
      "text/html": "<div>\n<style scoped>\n    .dataframe tbody tr th:only-of-type {\n        vertical-align: middle;\n    }\n\n    .dataframe tbody tr th {\n        vertical-align: top;\n    }\n\n    .dataframe thead th {\n        text-align: right;\n    }\n</style>\n<table border=\"1\" class=\"dataframe\">\n  <thead>\n    <tr style=\"text-align: right;\">\n      <th></th>\n      <th>Source</th>\n      <th>Total Records</th>\n      <th>Filtered Records</th>\n    </tr>\n  </thead>\n  <tbody>\n    <tr>\n      <th>1</th>\n      <td>WoS/Zoological Records</td>\n      <td>80194</td>\n      <td>46531.0</td>\n    </tr>\n    <tr>\n      <th>3</th>\n      <td>Zoobank</td>\n      <td>39209</td>\n      <td>31272.0</td>\n    </tr>\n    <tr>\n      <th>2</th>\n      <td>TreatmentBank</td>\n      <td>18955</td>\n      <td>18859.0</td>\n    </tr>\n  </tbody>\n</table>\n</div>"
     },
     "metadata": {},
     "execution_count": 425
    }
   ],
   "source": [
    "# Creates a dataframe with both total and filtered total records counts\n",
    "total_count = pd.DataFrame([\n",
    "    ['WoS/Zoological Records', wos_final.shape[0], top_wos['Sum'].sum()],\n",
    "    ['TreatmentBank', tb_final.shape[0], top_tb['Sum'].sum()],\n",
    "    ['Zoobank', zb_final.shape[0], top_zb['Sum'].sum()]],\n",
    "    columns=['Source', 'Total Records', 'Filtered Records'],\n",
    "    index=[1, 2, 3]).sort_values(by='Total Records', ascending=False)\n",
    "\n",
    "# TODO: Change 'Filtered Records' type to integer\n",
    "\n",
    "total_count"
   ]
  },
  {
   "source": [
    "#### Comparison between the accumulative sums in all datasets"
   ],
   "cell_type": "markdown",
   "metadata": {}
  },
  {
   "cell_type": "code",
   "execution_count": 324,
   "metadata": {},
   "outputs": [
    {
     "output_type": "execute_result",
     "data": {
      "text/plain": "[['WoS/Zoological Records', 39.14, 58.02],\n ['TreatmentBank', 98.15, 99.49],\n ['Zoobank', 66.15, 79.76]]"
     },
     "metadata": {},
     "execution_count": 324
    }
   ],
   "source": [
    "# Gets the accumulative real contribution of top 25 and 100 journals in all sources \n",
    "acc_contrib = [['WoS/Zoological Records', top_wos.head(25)['% Real'].sum().round(2), top_wos.head(100)['% Real'].sum().round(2)], ['TreatmentBank', top_tb.head(25)['% Real'].sum().round(2), top_tb.head(100)['% Real'].sum().round(2)], ['Zoobank', top_zb.head(25)['% Real'].sum().round(2), top_zb.head(100)['% Real'].sum().round(2)]]\n",
    "\n",
    "acc_contrib"
   ]
  },
  {
   "cell_type": "code",
   "execution_count": 327,
   "metadata": {},
   "outputs": [
    {
     "output_type": "execute_result",
     "data": {
      "text/plain": "                   Source  Top25  Top100   Diff\n0  WoS/Zoological Records  39.14   58.02  18.88\n1           TreatmentBank  98.15   99.49   1.34\n2                 Zoobank  66.15   79.76  13.61",
      "text/html": "<div>\n<style scoped>\n    .dataframe tbody tr th:only-of-type {\n        vertical-align: middle;\n    }\n\n    .dataframe tbody tr th {\n        vertical-align: top;\n    }\n\n    .dataframe thead th {\n        text-align: right;\n    }\n</style>\n<table border=\"1\" class=\"dataframe\">\n  <thead>\n    <tr style=\"text-align: right;\">\n      <th></th>\n      <th>Source</th>\n      <th>Top25</th>\n      <th>Top100</th>\n      <th>Diff</th>\n    </tr>\n  </thead>\n  <tbody>\n    <tr>\n      <th>0</th>\n      <td>WoS/Zoological Records</td>\n      <td>39.14</td>\n      <td>58.02</td>\n      <td>18.88</td>\n    </tr>\n    <tr>\n      <th>1</th>\n      <td>TreatmentBank</td>\n      <td>98.15</td>\n      <td>99.49</td>\n      <td>1.34</td>\n    </tr>\n    <tr>\n      <th>2</th>\n      <td>Zoobank</td>\n      <td>66.15</td>\n      <td>79.76</td>\n      <td>13.61</td>\n    </tr>\n  </tbody>\n</table>\n</div>"
     },
     "metadata": {},
     "execution_count": 327
    }
   ],
   "source": [
    "# Creates the dataframe with the data combined in the previous cell\n",
    "acc_df = pd.DataFrame(acc_contrib, columns=['Source', 'Top25', 'Top100'])\n",
    "\n",
    "# Adds another column, with the difference between Top100 contribution and Top25\n",
    "acc_df['Diff'] = acc_df['Top100'] - acc_df['Top25']\n",
    "\n",
    "acc_df"
   ]
  },
  {
   "source": [
    "#### Plot over time, per source"
   ],
   "cell_type": "markdown",
   "metadata": {}
  },
  {
   "cell_type": "code",
   "execution_count": 388,
   "metadata": {},
   "outputs": [
    {
     "output_type": "execute_result",
     "data": {
      "text/plain": "Year\n2010    3460.0\n2011    3817.0\n2012    4245.0\n2013    4309.0\n2014    4327.0\n2015    4747.0\n2016    4764.0\n2017    4774.0\n2018    4887.0\n2019    4866.0\n2020    2335.0\nName: WoS/Zoological Records, dtype: float64"
     },
     "metadata": {},
     "execution_count": 388
    }
   ],
   "source": [
    "# Extract only year columns from top_wos, and add name to the series\n",
    "wos_yr = top_wos[[str(yr) for yr in range(2010, 2021)]].sum()\n",
    "\n",
    "wos_yr.name = 'WoS/Zoological Records'\n",
    "\n",
    "wos_yr"
   ]
  },
  {
   "cell_type": "code",
   "execution_count": 394,
   "metadata": {},
   "outputs": [
    {
     "output_type": "execute_result",
     "data": {
      "text/plain": "Year\n2010     987.0\n2011    1280.0\n2012    1424.0\n2013    1458.0\n2014    1611.0\n2015    1954.0\n2016    2052.0\n2017    2054.0\n2018    2151.0\n2019    2314.0\n2020    1574.0\nName: TreatmentBank, dtype: float64"
     },
     "metadata": {},
     "execution_count": 394
    }
   ],
   "source": [
    "# Extract only year columns from top_tb, and add name to the series\n",
    "tb_yr = top_tb[[str(yr) for yr in range(2010, 2021)]].sum()\n",
    "\n",
    "tb_yr.name = 'TreatmentBank'\n",
    "\n",
    "tb_yr"
   ]
  },
  {
   "cell_type": "code",
   "execution_count": 395,
   "metadata": {},
   "outputs": [
    {
     "output_type": "execute_result",
     "data": {
      "text/plain": "Year\n2010     412.0\n2011     579.0\n2012    1500.0\n2013    2742.0\n2014    3067.0\n2015    3616.0\n2016    3854.0\n2017    3914.0\n2018    4248.0\n2019    4290.0\n2020    3050.0\nName: Zoobank, dtype: float64"
     },
     "metadata": {},
     "execution_count": 395
    }
   ],
   "source": [
    "# Extract only year columns from top_zb, and add name to the series\n",
    "zb_yr = top_zb[[str(yr) for yr in range(2010, 2021)]].sum()\n",
    "\n",
    "zb_yr.name = 'Zoobank'\n",
    "\n",
    "zb_yr"
   ]
  },
  {
   "cell_type": "code",
   "execution_count": 399,
   "metadata": {},
   "outputs": [
    {
     "output_type": "execute_result",
     "data": {
      "text/plain": "Year                      2010    2011    2012    2013    2014    2015  \\\nWoS/Zoological Records  3460.0  3817.0  4245.0  4309.0  4327.0  4747.0   \nTreatmentBank            987.0  1280.0  1424.0  1458.0  1611.0  1954.0   \nZoobank                  412.0   579.0  1500.0  2742.0  3067.0  3616.0   \n\nYear                      2016    2017    2018    2019    2020  \nWoS/Zoological Records  4764.0  4774.0  4887.0  4866.0  2335.0  \nTreatmentBank           2052.0  2054.0  2151.0  2314.0  1574.0  \nZoobank                 3854.0  3914.0  4248.0  4290.0  3050.0  ",
      "text/html": "<div>\n<style scoped>\n    .dataframe tbody tr th:only-of-type {\n        vertical-align: middle;\n    }\n\n    .dataframe tbody tr th {\n        vertical-align: top;\n    }\n\n    .dataframe thead th {\n        text-align: right;\n    }\n</style>\n<table border=\"1\" class=\"dataframe\">\n  <thead>\n    <tr style=\"text-align: right;\">\n      <th>Year</th>\n      <th>2010</th>\n      <th>2011</th>\n      <th>2012</th>\n      <th>2013</th>\n      <th>2014</th>\n      <th>2015</th>\n      <th>2016</th>\n      <th>2017</th>\n      <th>2018</th>\n      <th>2019</th>\n      <th>2020</th>\n    </tr>\n  </thead>\n  <tbody>\n    <tr>\n      <th>WoS/Zoological Records</th>\n      <td>3460.0</td>\n      <td>3817.0</td>\n      <td>4245.0</td>\n      <td>4309.0</td>\n      <td>4327.0</td>\n      <td>4747.0</td>\n      <td>4764.0</td>\n      <td>4774.0</td>\n      <td>4887.0</td>\n      <td>4866.0</td>\n      <td>2335.0</td>\n    </tr>\n    <tr>\n      <th>TreatmentBank</th>\n      <td>987.0</td>\n      <td>1280.0</td>\n      <td>1424.0</td>\n      <td>1458.0</td>\n      <td>1611.0</td>\n      <td>1954.0</td>\n      <td>2052.0</td>\n      <td>2054.0</td>\n      <td>2151.0</td>\n      <td>2314.0</td>\n      <td>1574.0</td>\n    </tr>\n    <tr>\n      <th>Zoobank</th>\n      <td>412.0</td>\n      <td>579.0</td>\n      <td>1500.0</td>\n      <td>2742.0</td>\n      <td>3067.0</td>\n      <td>3616.0</td>\n      <td>3854.0</td>\n      <td>3914.0</td>\n      <td>4248.0</td>\n      <td>4290.0</td>\n      <td>3050.0</td>\n    </tr>\n  </tbody>\n</table>\n</div>"
     },
     "metadata": {},
     "execution_count": 399
    }
   ],
   "source": [
    "# Build the Source-per-Year dataframe\n",
    "docs_per_year = pd.DataFrame([wos_yr, tb_yr, zb_yr])\n",
    "\n",
    "docs_per_year"
   ]
  },
  {
   "source": [
    "## Conclusion"
   ],
   "cell_type": "markdown",
   "metadata": {}
  },
  {
   "source": [
    "## References\n",
    "I have included it all on [README.md]() and on the [blog post](https://hackmd.io/@mguidoti/S1veVwNHv)."
   ],
   "cell_type": "markdown",
   "metadata": {}
  }
 ]
}