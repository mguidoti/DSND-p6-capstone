{
 "metadata": {
  "language_info": {
   "codemirror_mode": {
    "name": "ipython",
    "version": 3
   },
   "file_extension": ".py",
   "mimetype": "text/x-python",
   "name": "python",
   "nbconvert_exporter": "python",
   "pygments_lexer": "ipython3",
   "version": "3.7.7-final"
  },
  "orig_nbformat": 2,
  "kernelspec": {
   "name": "python37764bitp6capstonepipenv5669ae6087ed4b09baa5acbea9b4f0de",
   "display_name": "Python 3.7.7 64-bit ('p6-capstone': pipenv)"
  }
 },
 "nbformat": 4,
 "nbformat_minor": 2,
 "cells": [
  {
   "source": [
    "# General"
   ],
   "cell_type": "markdown",
   "metadata": {}
  },
  {
   "source": [
    "## Importing Libraries and Modules"
   ],
   "cell_type": "markdown",
   "metadata": {}
  },
  {
   "cell_type": "code",
   "execution_count": 1,
   "metadata": {},
   "outputs": [],
   "source": [
    "import pandas as pd\n",
    "import matplotlib as plt\n",
    "\n",
    "import pickle\n",
    "\n",
    "from sqlalchemy import create_engine\n",
    "\n",
    "import etl.extract.tb as tb_proc \n",
    "import etl.extract.wos as wos_parser\n",
    "import test_units.test_extract as test_ext\n",
    "import test_units.test_transform as test_tf"
   ]
  },
  {
   "source": [
    "## CRISP-DM"
   ],
   "cell_type": "markdown",
   "metadata": {}
  },
  {
   "source": [
    "## ETL"
   ],
   "cell_type": "markdown",
   "metadata": {}
  },
  {
   "source": [
    "### (E)xtraction\n"
   ],
   "cell_type": "markdown",
   "metadata": {}
  },
  {
   "source": [
    "#### Web of Science/Zoological Records\n",
    "WoS do not provide an API, as far as I know, and has strict access policies across the board of all of their products. Thus, I downloaded the search results using their GUI, manually, and coded a parser from scratch that loads the data from the 150+ files into a SQLite database.\n",
    "\n",
    "The specifics on how I queried this system is in the report, Methods section."
   ],
   "cell_type": "markdown",
   "metadata": {}
  },
  {
   "cell_type": "code",
   "execution_count": 175,
   "metadata": {},
   "outputs": [],
   "source": [
    "# Parse data, creates df\n",
    "# I commented out this command when I was working on the notebook, to accelerate the process of reloading this dataset\n",
    "#wos = wos_parser.create_df()\n",
    "\n",
    "# This is commented out because it generates a over 200Mb file that I couldn't push to GitHub, but I left it commented off here to show that I've worked on this\n",
    "#wos_parser.to_pickle(wos, 'data/wos.p')\n",
    "\n",
    "# Use the non-provided pickle file to reload this, if necessary\n",
    "wos = pd.read_pickle('data/wos.p')"
   ]
  },
  {
   "cell_type": "code",
   "execution_count": 176,
   "metadata": {},
   "outputs": [
    {
     "output_type": "execute_result",
     "data": {
      "text/plain": "  Publication Type Zoological Record Accession Number Document Type  \\\n0                J                    ZOOR14707048981       Article   \n1                J                    ZOOR14707048982       Article   \n2                J                    ZOOR14707048983       Article   \n3                J                    ZOOR14707048985       Article   \n4                J                    ZOOR14707048986       Article   \n\n                                               Title  \\\n0  Orthopterans of the Reserva Biologica Alberto ...   \n1  Further considerations on the genus Ananteris ...   \n2  Description of a new species of the genus Mela...   \n3  New arachnids from Puerto Rico (Arachnida: Amb...   \n4  Description of new hypogean taxa of Laparoceru...   \n\n                                       Foreign Title  \\\n0  Ortopteros de la Reserva Biologica Alberto Man...   \n1                                                NaN   \n2  Descripcion de una nueva especie del genero Me...   \n3  Nuevos aracnidos de Puerto Rico (Arachnida: Am...   \n4  Descripcion de nuevos Laparocerus hipogeos de ...   \n\n                                             Authors             Source  \\\n0                    Barranco, Pablo (pbvega@ual.es)  Boletin de la SEA   \n1  Lourenco, Wilson R. (arache@mnhn.fr), Duhem, B...  Boletin de la SEA   \n2             Ferrer, Julio, Tovar, Alejandro Castro  Boletin de la SEA   \n3            de Armas, Luis F. (zoologia.ies@ama.cu)  Boletin de la SEA   \n4  Machado, Antonio (a.machado@telefonica.net), G...  Boletin de la SEA   \n\n  Volume Page Span Publication Date  ... Journal URL Item URL Notes  NaN  \\\n0     47     21-32      31 Dec 2010  ...         NaN      NaN   NaN  NaN   \n1     47     33-38      31 Dec 2010  ...         NaN      NaN   NaN  NaN   \n2     47     39-44      31 Dec 2010  ...         NaN      NaN   NaN  NaN   \n3     47     55-64      31 Dec 2010  ...         NaN      NaN   NaN  NaN   \n4     47     65-69      31 Dec 2010  ...         NaN      NaN   NaN  NaN   \n\n  Book Authors Publisher Publisher Address  \\\n0          NaN       NaN               NaN   \n1          NaN       NaN               NaN   \n2          NaN       NaN               NaN   \n3          NaN       NaN               NaN   \n4          NaN       NaN               NaN   \n\n  International Standard Book Number (ISBN) Editors Group Authors  \n0                                       NaN     NaN           NaN  \n1                                       NaN     NaN           NaN  \n2                                       NaN     NaN           NaN  \n3                                       NaN     NaN           NaN  \n4                                       NaN     NaN           NaN  \n\n[5 rows x 42 columns]",
      "text/html": "<div>\n<style scoped>\n    .dataframe tbody tr th:only-of-type {\n        vertical-align: middle;\n    }\n\n    .dataframe tbody tr th {\n        vertical-align: top;\n    }\n\n    .dataframe thead th {\n        text-align: right;\n    }\n</style>\n<table border=\"1\" class=\"dataframe\">\n  <thead>\n    <tr style=\"text-align: right;\">\n      <th></th>\n      <th>Publication Type</th>\n      <th>Zoological Record Accession Number</th>\n      <th>Document Type</th>\n      <th>Title</th>\n      <th>Foreign Title</th>\n      <th>Authors</th>\n      <th>Source</th>\n      <th>Volume</th>\n      <th>Page Span</th>\n      <th>Publication Date</th>\n      <th>...</th>\n      <th>Journal URL</th>\n      <th>Item URL</th>\n      <th>Notes</th>\n      <th>NaN</th>\n      <th>Book Authors</th>\n      <th>Publisher</th>\n      <th>Publisher Address</th>\n      <th>International Standard Book Number (ISBN)</th>\n      <th>Editors</th>\n      <th>Group Authors</th>\n    </tr>\n  </thead>\n  <tbody>\n    <tr>\n      <th>0</th>\n      <td>J</td>\n      <td>ZOOR14707048981</td>\n      <td>Article</td>\n      <td>Orthopterans of the Reserva Biologica Alberto ...</td>\n      <td>Ortopteros de la Reserva Biologica Alberto Man...</td>\n      <td>Barranco, Pablo (pbvega@ual.es)</td>\n      <td>Boletin de la SEA</td>\n      <td>47</td>\n      <td>21-32</td>\n      <td>31 Dec 2010</td>\n      <td>...</td>\n      <td>NaN</td>\n      <td>NaN</td>\n      <td>NaN</td>\n      <td>NaN</td>\n      <td>NaN</td>\n      <td>NaN</td>\n      <td>NaN</td>\n      <td>NaN</td>\n      <td>NaN</td>\n      <td>NaN</td>\n    </tr>\n    <tr>\n      <th>1</th>\n      <td>J</td>\n      <td>ZOOR14707048982</td>\n      <td>Article</td>\n      <td>Further considerations on the genus Ananteris ...</td>\n      <td>NaN</td>\n      <td>Lourenco, Wilson R. (arache@mnhn.fr), Duhem, B...</td>\n      <td>Boletin de la SEA</td>\n      <td>47</td>\n      <td>33-38</td>\n      <td>31 Dec 2010</td>\n      <td>...</td>\n      <td>NaN</td>\n      <td>NaN</td>\n      <td>NaN</td>\n      <td>NaN</td>\n      <td>NaN</td>\n      <td>NaN</td>\n      <td>NaN</td>\n      <td>NaN</td>\n      <td>NaN</td>\n      <td>NaN</td>\n    </tr>\n    <tr>\n      <th>2</th>\n      <td>J</td>\n      <td>ZOOR14707048983</td>\n      <td>Article</td>\n      <td>Description of a new species of the genus Mela...</td>\n      <td>Descripcion de una nueva especie del genero Me...</td>\n      <td>Ferrer, Julio, Tovar, Alejandro Castro</td>\n      <td>Boletin de la SEA</td>\n      <td>47</td>\n      <td>39-44</td>\n      <td>31 Dec 2010</td>\n      <td>...</td>\n      <td>NaN</td>\n      <td>NaN</td>\n      <td>NaN</td>\n      <td>NaN</td>\n      <td>NaN</td>\n      <td>NaN</td>\n      <td>NaN</td>\n      <td>NaN</td>\n      <td>NaN</td>\n      <td>NaN</td>\n    </tr>\n    <tr>\n      <th>3</th>\n      <td>J</td>\n      <td>ZOOR14707048985</td>\n      <td>Article</td>\n      <td>New arachnids from Puerto Rico (Arachnida: Amb...</td>\n      <td>Nuevos aracnidos de Puerto Rico (Arachnida: Am...</td>\n      <td>de Armas, Luis F. (zoologia.ies@ama.cu)</td>\n      <td>Boletin de la SEA</td>\n      <td>47</td>\n      <td>55-64</td>\n      <td>31 Dec 2010</td>\n      <td>...</td>\n      <td>NaN</td>\n      <td>NaN</td>\n      <td>NaN</td>\n      <td>NaN</td>\n      <td>NaN</td>\n      <td>NaN</td>\n      <td>NaN</td>\n      <td>NaN</td>\n      <td>NaN</td>\n      <td>NaN</td>\n    </tr>\n    <tr>\n      <th>4</th>\n      <td>J</td>\n      <td>ZOOR14707048986</td>\n      <td>Article</td>\n      <td>Description of new hypogean taxa of Laparoceru...</td>\n      <td>Descripcion de nuevos Laparocerus hipogeos de ...</td>\n      <td>Machado, Antonio (a.machado@telefonica.net), G...</td>\n      <td>Boletin de la SEA</td>\n      <td>47</td>\n      <td>65-69</td>\n      <td>31 Dec 2010</td>\n      <td>...</td>\n      <td>NaN</td>\n      <td>NaN</td>\n      <td>NaN</td>\n      <td>NaN</td>\n      <td>NaN</td>\n      <td>NaN</td>\n      <td>NaN</td>\n      <td>NaN</td>\n      <td>NaN</td>\n      <td>NaN</td>\n    </tr>\n  </tbody>\n</table>\n<p>5 rows × 42 columns</p>\n</div>"
     },
     "metadata": {},
     "execution_count": 176
    }
   ],
   "source": [
    "# Checking if it loaded\n",
    "wos.head()"
   ]
  },
  {
   "source": [
    "#### TreatmentBank (Plazi)\n",
    "TreatmentBank has a powerful API with GUI. I used it to built the target query, and copied/pasted their URL into my code. From there I processed the results, adding them into a SQLite database. "
   ],
   "cell_type": "markdown",
   "metadata": {}
  },
  {
   "cell_type": "code",
   "execution_count": 4,
   "metadata": {
    "tags": []
   },
   "outputs": [],
   "source": [
    "# Process the hard-coded API call and creates a database from it\n",
    "# I'm commenting out because the SQLite db was provided and it contains a snapshot of the data I analyzed. As this includes an API call, running this now might get new data, changing my results\n",
    "\n",
    "#tb_proc.create_db(tb_proc.get_data())\n",
    "\n",
    "# Alternatively, I can simply load the .db\n",
    "db_connect = create_engine('sqlite:///data/tb.db')\n",
    "\n",
    "tb = pd.read_sql(\"docs\", con=db_connect)"
   ]
  },
  {
   "cell_type": "code",
   "execution_count": 5,
   "metadata": {},
   "outputs": [
    {
     "output_type": "execute_result",
     "data": {
      "text/plain": "   id                                            authors  year  \\\n0   1  Fernandez-Triana, Jose L & Whitfield, James B ...  2014   \n1   2      Barrales-Alcala, Diego A. & Francke, Oscar F.  2018   \n2   3  Guevara-Guerrero, Gonzalo & Bonito, Gregory & ...  2018   \n3   4  Balke, Michael & Ruthensteiner, Bernhard & War...  2015   \n4   5          Costa, Wilson J. E. M. & Amorim, Pedro F.  2018   \n\n                                               title  \\\n0  First record of the genus Venanus (Hymenoptera...   \n1  A new Sky Island species of Vaejovis C. L. Koc...   \n2  Tuberaztecorum sp. nov., a truffle species fro...   \n3  Two new species of Limbodessus diving beetles ...   \n4  Cryptic species diversity in the Hypsolebiasma...   \n\n                     journal volume issue start_page end_page num_treats  \n0  Biodiversity Data Journal      2     0       4167     4167          4  \n1                    ZooKeys    760     0         37       53          2  \n2                   MycoKeys     30     0         61       72          2  \n3  Biodiversity Data Journal      3     0       7096     7096          4  \n4                    ZooKeys    777     0        141      158          4  ",
      "text/html": "<div>\n<style scoped>\n    .dataframe tbody tr th:only-of-type {\n        vertical-align: middle;\n    }\n\n    .dataframe tbody tr th {\n        vertical-align: top;\n    }\n\n    .dataframe thead th {\n        text-align: right;\n    }\n</style>\n<table border=\"1\" class=\"dataframe\">\n  <thead>\n    <tr style=\"text-align: right;\">\n      <th></th>\n      <th>id</th>\n      <th>authors</th>\n      <th>year</th>\n      <th>title</th>\n      <th>journal</th>\n      <th>volume</th>\n      <th>issue</th>\n      <th>start_page</th>\n      <th>end_page</th>\n      <th>num_treats</th>\n    </tr>\n  </thead>\n  <tbody>\n    <tr>\n      <th>0</th>\n      <td>1</td>\n      <td>Fernandez-Triana, Jose L &amp; Whitfield, James B ...</td>\n      <td>2014</td>\n      <td>First record of the genus Venanus (Hymenoptera...</td>\n      <td>Biodiversity Data Journal</td>\n      <td>2</td>\n      <td>0</td>\n      <td>4167</td>\n      <td>4167</td>\n      <td>4</td>\n    </tr>\n    <tr>\n      <th>1</th>\n      <td>2</td>\n      <td>Barrales-Alcala, Diego A. &amp; Francke, Oscar F.</td>\n      <td>2018</td>\n      <td>A new Sky Island species of Vaejovis C. L. Koc...</td>\n      <td>ZooKeys</td>\n      <td>760</td>\n      <td>0</td>\n      <td>37</td>\n      <td>53</td>\n      <td>2</td>\n    </tr>\n    <tr>\n      <th>2</th>\n      <td>3</td>\n      <td>Guevara-Guerrero, Gonzalo &amp; Bonito, Gregory &amp; ...</td>\n      <td>2018</td>\n      <td>Tuberaztecorum sp. nov., a truffle species fro...</td>\n      <td>MycoKeys</td>\n      <td>30</td>\n      <td>0</td>\n      <td>61</td>\n      <td>72</td>\n      <td>2</td>\n    </tr>\n    <tr>\n      <th>3</th>\n      <td>4</td>\n      <td>Balke, Michael &amp; Ruthensteiner, Bernhard &amp; War...</td>\n      <td>2015</td>\n      <td>Two new species of Limbodessus diving beetles ...</td>\n      <td>Biodiversity Data Journal</td>\n      <td>3</td>\n      <td>0</td>\n      <td>7096</td>\n      <td>7096</td>\n      <td>4</td>\n    </tr>\n    <tr>\n      <th>4</th>\n      <td>5</td>\n      <td>Costa, Wilson J. E. M. &amp; Amorim, Pedro F.</td>\n      <td>2018</td>\n      <td>Cryptic species diversity in the Hypsolebiasma...</td>\n      <td>ZooKeys</td>\n      <td>777</td>\n      <td>0</td>\n      <td>141</td>\n      <td>158</td>\n      <td>4</td>\n    </tr>\n  </tbody>\n</table>\n</div>"
     },
     "metadata": {},
     "execution_count": 5
    }
   ],
   "source": [
    "# Checking if it loaded\n",
    "tb.head()"
   ]
  },
  {
   "source": [
    "#### Zoobank\n",
    "As explained, I performed a web scraping to collect data from Zoobank. For this, I used a Scrapy project, with custom Item, ItemLoader, in- and output processors and ItemPipeline. These can't quite be run from here, as far as I know, I can only create a CrawlerProcess that won't have these functionalities. This was then saved into a SQLite database, which is alternatively loaded here."
   ],
   "cell_type": "markdown",
   "metadata": {}
  },
  {
   "cell_type": "code",
   "execution_count": 6,
   "metadata": {},
   "outputs": [],
   "source": [
    "# Load the .db created from the web scraping\n",
    "db_connect = create_engine('sqlite:///data/zb.db')\n",
    "\n",
    "zb = pd.read_sql(\"docs\", con=db_connect)"
   ]
  },
  {
   "cell_type": "code",
   "execution_count": 7,
   "metadata": {},
   "outputs": [
    {
     "output_type": "execute_result",
     "data": {
      "text/plain": "   id                                            authors  year  \\\n0   1  Achatz, Johannes G., Matthew D. Hooge, A. Wall...  2010   \n1   2   Affilastro, Andrés A. O. & Ignacio Garcia-Mauro.  2010   \n2   3                                   Ahyong, Shane T.  2010   \n3   4  Ahyong, Shane T., Keiji Baba, Enrique Macphers...  2010   \n4   5                     Aibek, Ulykpan & Seiki Yamane.  2010   \n\n                                               title  \\\n0  Systematic revision of acoels with 9+0 sperm u...   \n1  A new Bothriurus (Scorpiones, Bothriuridae) fr...   \n2  The marine fauna of New Zealand: king crabs of...   \n3  A new classification of the Galatheoidea (Crus...   \n4  Discovery of the Subgenera Austrolasius and De...   \n\n                                             journal  bibref_details volume  \\\n0  Journal of Zoological Systematics and Evolutio...     48(1): 9-32     48   \n1                                            Zootaxa     2488: 52-64   2488   \n2                                                 No                          \n3                                            Zootaxa     2676: 57-68   2676   \n4          Japanese Journal of systematic entomology  16(2): 197-202     16   \n\n  issue start_page end_page from_year  \n0     1          9       32      2010  \n1               52       64      2010  \n2                                2010  \n3               57       68      2010  \n4     2        197      202      2010  ",
      "text/html": "<div>\n<style scoped>\n    .dataframe tbody tr th:only-of-type {\n        vertical-align: middle;\n    }\n\n    .dataframe tbody tr th {\n        vertical-align: top;\n    }\n\n    .dataframe thead th {\n        text-align: right;\n    }\n</style>\n<table border=\"1\" class=\"dataframe\">\n  <thead>\n    <tr style=\"text-align: right;\">\n      <th></th>\n      <th>id</th>\n      <th>authors</th>\n      <th>year</th>\n      <th>title</th>\n      <th>journal</th>\n      <th>bibref_details</th>\n      <th>volume</th>\n      <th>issue</th>\n      <th>start_page</th>\n      <th>end_page</th>\n      <th>from_year</th>\n    </tr>\n  </thead>\n  <tbody>\n    <tr>\n      <th>0</th>\n      <td>1</td>\n      <td>Achatz, Johannes G., Matthew D. Hooge, A. Wall...</td>\n      <td>2010</td>\n      <td>Systematic revision of acoels with 9+0 sperm u...</td>\n      <td>Journal of Zoological Systematics and Evolutio...</td>\n      <td>48(1): 9-32</td>\n      <td>48</td>\n      <td>1</td>\n      <td>9</td>\n      <td>32</td>\n      <td>2010</td>\n    </tr>\n    <tr>\n      <th>1</th>\n      <td>2</td>\n      <td>Affilastro, Andrés A. O. &amp; Ignacio Garcia-Mauro.</td>\n      <td>2010</td>\n      <td>A new Bothriurus (Scorpiones, Bothriuridae) fr...</td>\n      <td>Zootaxa</td>\n      <td>2488: 52-64</td>\n      <td>2488</td>\n      <td></td>\n      <td>52</td>\n      <td>64</td>\n      <td>2010</td>\n    </tr>\n    <tr>\n      <th>2</th>\n      <td>3</td>\n      <td>Ahyong, Shane T.</td>\n      <td>2010</td>\n      <td>The marine fauna of New Zealand: king crabs of...</td>\n      <td>No</td>\n      <td></td>\n      <td></td>\n      <td></td>\n      <td></td>\n      <td></td>\n      <td>2010</td>\n    </tr>\n    <tr>\n      <th>3</th>\n      <td>4</td>\n      <td>Ahyong, Shane T., Keiji Baba, Enrique Macphers...</td>\n      <td>2010</td>\n      <td>A new classification of the Galatheoidea (Crus...</td>\n      <td>Zootaxa</td>\n      <td>2676: 57-68</td>\n      <td>2676</td>\n      <td></td>\n      <td>57</td>\n      <td>68</td>\n      <td>2010</td>\n    </tr>\n    <tr>\n      <th>4</th>\n      <td>5</td>\n      <td>Aibek, Ulykpan &amp; Seiki Yamane.</td>\n      <td>2010</td>\n      <td>Discovery of the Subgenera Austrolasius and De...</td>\n      <td>Japanese Journal of systematic entomology</td>\n      <td>16(2): 197-202</td>\n      <td>16</td>\n      <td>2</td>\n      <td>197</td>\n      <td>202</td>\n      <td>2010</td>\n    </tr>\n  </tbody>\n</table>\n</div>"
     },
     "metadata": {},
     "execution_count": 7
    }
   ],
   "source": [
    "# Checking if it loaded\n",
    "zb.head()"
   ]
  },
  {
   "source": [
    "#### Exploratory Analyses: Extraction Tests\n",
    "Here I will make a series of tests to check if I'm getting all the data that I was supposed to be getting. For that, I'm going to use Python's assert, and some manual observations.\n"
   ],
   "cell_type": "markdown",
   "metadata": {}
  },
  {
   "source": [
    "##### Web of Science/Zoological Records\n",
    "These were the observed results from the WoS GUI, per year:\n",
    "\n",
    "- 2010: 7207 results\n",
    "- 2011: 7480 results\n",
    "- 2012: 7604 results\n",
    "- 2013: 7655 results\n",
    "- 2014: 7456 results\n",
    "- 2015: 7983 results\n",
    "- 2016: 7859 results\n",
    "- 2017: 8023 results\n",
    "- 2018: 7973 results\n",
    "- 2019: 7664 results\n",
    "- 2020: 3548 results\n"
   ],
   "cell_type": "markdown",
   "metadata": {}
  },
  {
   "cell_type": "code",
   "execution_count": 8,
   "metadata": {},
   "outputs": [],
   "source": [
    "# Create a dict with year: official results, to be used on a data consistency test\n",
    "wos_results = {\n",
    "    '2010': 7207,\n",
    "    '2011': 7480,\n",
    "    '2012': 7604,\n",
    "    '2013': 7655,\n",
    "    '2014': 7456,\n",
    "    '2015': 7983,\n",
    "    '2016': 7859,\n",
    "    '2017': 8023,\n",
    "    '2018': 7973,\n",
    "    '2019': 7664,\n",
    "    '2020': 3548,\n",
    "}"
   ]
  },
  {
   "cell_type": "code",
   "execution_count": 9,
   "metadata": {},
   "outputs": [
    {
     "output_type": "execute_result",
     "data": {
      "text/plain": "Index([                                     'Publication Type',\n                          'Zoological Record Accession Number',\n                                               'Document Type',\n                                                       'Title',\n                                               'Foreign Title',\n                                                     'Authors',\n                                                      'Source',\n                                                      'Volume',\n                                                   'Page Span',\n                                            'Publication Date',\n                                              'Year Published',\n                                                    'Language',\n                                 'Usage Count (Last 180 Days)',\n                                    'Usage Count (Since 2013)',\n                                                    'Abstract',\n                                              'Author Address',\n                                              'E-mail Address',\n       'ORCID Identifier (Open Researcher and Contributor ID)',\n                                              'Research Areas',\n                 'International Standard Serial Number (ISSN)',\n                                                 'Broad Terms',\n                                            'Descriptors Data',\n                                                  'Taxa Notes',\n                                                  'Super Taxa',\n                                                 'Systematics',\n                                   'Unique Article Identifier',\n                              'Date this report was generated',\n                                                       'Issue',\n                                       'Open Access Indicator',\n                             'Digital Object Identifier (DOI)',\n                                         'ResearcherID Number',\n                                                  'Supplement',\n                                                 'Journal URL',\n                                                    'Item URL',\n                                                       'Notes',\n                                                          None,\n                                                'Book Authors',\n                                                   'Publisher',\n                                           'Publisher Address',\n                   'International Standard Book Number (ISBN)',\n                                                     'Editors',\n                                               'Group Authors'],\n      dtype='object')"
     },
     "metadata": {},
     "execution_count": 9
    }
   ],
   "source": [
    "# Checkout column names to get the right one: 'Year Published'\n",
    "wos.columns"
   ]
  },
  {
   "cell_type": "code",
   "execution_count": 10,
   "metadata": {},
   "outputs": [],
   "source": [
    "# Create a pandas.Series with the ordered counts of the 'Year Published' column\n",
    "wos_years_count = wos['Year Published'].value_counts().sort_index()"
   ]
  },
  {
   "cell_type": "code",
   "execution_count": 11,
   "metadata": {
    "tags": []
   },
   "outputs": [
    {
     "output_type": "stream",
     "name": "stdout",
     "text": "--------------------------------------------------------------------------\nTesting for... WOS/ZOOLOGICAL RECORDS\n--------------------------------------------------------------------------\nSUCCESS! Total count was equal between the processed and official results!\n--------------------------------------------------------------------------\nSUCCESS! the year 2010 seems to be fine!\nSUCCESS! the year 2011 seems to be fine!\nSUCCESS! the year 2012 seems to be fine!\nSUCCESS! the year 2013 seems to be fine!\nSUCCESS! the year 2014 seems to be fine!\nSUCCESS! the year 2015 seems to be fine!\nSUCCESS! the year 2016 seems to be fine!\nSUCCESS! the year 2017 seems to be fine!\nSUCCESS! the year 2018 seems to be fine!\nSUCCESS! the year 2019 seems to be fine!\nSUCCESS! the year 2020 seems to be fine!\n--------------------------------------------------------------------------\n"
    }
   ],
   "source": [
    "# Calling the test with WoS/Zoological Record data\n",
    "test_ext.check_consistency(\"WoS/Zoological Records\", wos_years_count, wos_results)"
   ]
  },
  {
   "source": [
    "##### TreatmentBank\n",
    "I can't make new API calls. The reason why is that as the data is live I might risk to get more data than I have got when I first run this, which could cause different results. \n",
    "\n",
    "That's why I saved a .pickle file with the entire response of the API on the routine call, besides the .db resulting of the processing of this data. As such, I can compare the total number of records in both (and per year!) to check if my processing missed something or not, using the same function applied to WoS data."
   ],
   "cell_type": "markdown",
   "metadata": {}
  },
  {
   "cell_type": "code",
   "execution_count": 12,
   "metadata": {},
   "outputs": [],
   "source": [
    "# Creating a dict with the counts of records per year, based on the total response saved from the API call to TreatmentBank\n",
    "\n",
    "# Open .pickle\n",
    "with open('data/tb_response.p', 'rb') as p_file:\n",
    "        tb_response = pickle.load(p_file)\n",
    "\n",
    "tb_response_years_count = dict()\n",
    "\n",
    "# Iterate over the full response, and create the counting\n",
    "for result in tb_response['data']:\n",
    "    try:\n",
    "        tb_response_years_count[result['BibYear']] += 1\n",
    "    except:\n",
    "        tb_response_years_count[result['BibYear']] = 1"
   ]
  },
  {
   "cell_type": "code",
   "execution_count": 13,
   "metadata": {},
   "outputs": [],
   "source": [
    "# Create a pandas.Series with the ordered counts of the 'year' column\n",
    "tb_years_count = tb['year'].value_counts().sort_index()"
   ]
  },
  {
   "cell_type": "code",
   "execution_count": 15,
   "metadata": {
    "tags": []
   },
   "outputs": [
    {
     "output_type": "stream",
     "name": "stdout",
     "text": "--------------------------------------------------------------------------\nTesting for... TREATMENTBANK\n--------------------------------------------------------------------------\nSUCCESS! Total count was equal between the processed and official results!\n--------------------------------------------------------------------------\nSUCCESS! the year 2014 seems to be fine!\nSUCCESS! the year 2018 seems to be fine!\nSUCCESS! the year 2015 seems to be fine!\nSUCCESS! the year 2016 seems to be fine!\nSUCCESS! the year 2013 seems to be fine!\nSUCCESS! the year 2017 seems to be fine!\nSUCCESS! the year 2011 seems to be fine!\nSUCCESS! the year 2012 seems to be fine!\nSUCCESS! the year 2020 seems to be fine!\nSUCCESS! the year 2010 seems to be fine!\nSUCCESS! the year 2019 seems to be fine!\n--------------------------------------------------------------------------\n"
    }
   ],
   "source": [
    "# Calling the test with TreatmentBank data\n",
    "test_ext.check_consistency(\"TreatmentBank\", tb_years_count, tb_response_years_count)"
   ]
  },
  {
   "source": [
    "##### Zoobank\n",
    "These were the observed results from the Zoobank, per year:\n",
    "\n",
    "- 2010: 1128 results\n",
    "- 2011: 1430 results\n",
    "- 2012: 2482 results\n",
    "- 2013: 4293 results\n",
    "- 2014: 4829 results\n",
    "- 2015: 5552 results\n",
    "- 2016: 5732 results\n",
    "- 2017: 6098 results\n",
    "- 2018: 6401 results\n",
    "- 2019: 6386 results\n",
    "- 2020: 4554 results"
   ],
   "cell_type": "markdown",
   "metadata": {}
  },
  {
   "cell_type": "code",
   "execution_count": 16,
   "metadata": {},
   "outputs": [],
   "source": [
    "# Create a dict with year: official results, to be used on a data consistency test\n",
    "zb_results = {\n",
    "    '2010': 1128,\n",
    "    '2011': 1430,\n",
    "    '2012': 2482,\n",
    "    '2013': 4293,\n",
    "    '2014': 4829,\n",
    "    '2015': 5552,\n",
    "    '2016': 5732,\n",
    "    '2017': 6098,\n",
    "    '2018': 6401,\n",
    "    '2019': 6386,\n",
    "    '2020': 4554,\n",
    "}"
   ]
  },
  {
   "cell_type": "code",
   "execution_count": 17,
   "metadata": {},
   "outputs": [
    {
     "output_type": "execute_result",
     "data": {
      "text/plain": "['id',\n 'authors',\n 'year',\n 'title',\n 'journal',\n 'bibref_details',\n 'volume',\n 'issue',\n 'start_page',\n 'end_page',\n 'from_year']"
     },
     "metadata": {},
     "execution_count": 17
    }
   ],
   "source": [
    "# Check the existing columns in this dataframe\n",
    "list(zb.columns)"
   ]
  },
  {
   "source": [
    "Here there is one interesting caveat. Zoobank allow users to register papers from the past, and when queried by year, it shows not the publications published on that year, but the publications **registred** on that year. \n",
    "\n",
    "As such, we might have all sort of years in the column 'year'."
   ],
   "cell_type": "markdown",
   "metadata": {}
  },
  {
   "cell_type": "code",
   "execution_count": 18,
   "metadata": {},
   "outputs": [
    {
     "output_type": "execute_result",
     "data": {
      "text/plain": "1847       2\n1877       2\n1878       1\n1880       2\n1881       1\n1883       1\n1887       2\n1888       2\n1889       3\n1894       1\n1896       2\n1898       2\n1902       1\n1905       1\n1917       1\n1919       3\n1923       1\n1927       3\n1932       1\n1933       1\n1936       1\n1937       5\n1951       4\n1952       3\n1960       1\n1962       1\n1967       1\n1969       1\n1972       2\n1986       1\n1989       1\n1996       2\n1999       4\n2001       1\n2002       1\n2003       9\n2004       1\n2008       1\n2009       4\n2010    1023\n2011    1318\n2012    2387\n2013    4253\n2014    4774\n2015    5550\n2016    5779\n2017    6119\n2018    6434\n2019    6497\n2020    4674\nName: year, dtype: int64"
     },
     "metadata": {},
     "execution_count": 18
    }
   ],
   "source": [
    "# Create a pandas.Series with the ordered counts of the 'year' column\n",
    "zb_years_count = zb['year'].value_counts().sort_index()\n",
    "\n",
    "# Check results\n",
    "zb_years_count"
   ]
  },
  {
   "source": [
    "To address this situation, I included a column on zb.db called 'from_year', which extracts the year being queried on the response.url, inside the parser() of the spider used to scrape Zoobank, and add to this column. \n",
    "\n",
    "This means that we can get the total (included) per year, to compare with the official results."
   ],
   "cell_type": "markdown",
   "metadata": {}
  },
  {
   "cell_type": "code",
   "execution_count": 19,
   "metadata": {},
   "outputs": [
    {
     "output_type": "execute_result",
     "data": {
      "text/plain": "2010    1128\n2011    1430\n2012    2482\n2013    4293\n2014    4829\n2015    5552\n2016    5732\n2017    6098\n2018    6401\n2019    6386\n2020    4554\nName: from_year, dtype: int64"
     },
     "metadata": {},
     "execution_count": 19
    }
   ],
   "source": [
    "# Create a pandas.Series with the ordered counts of the 'Year Published' column\n",
    "zb_years_count = zb['from_year'].value_counts().sort_index()\n",
    "\n",
    "# Check results\n",
    "zb_years_count"
   ]
  },
  {
   "cell_type": "code",
   "execution_count": 20,
   "metadata": {
    "tags": []
   },
   "outputs": [
    {
     "output_type": "stream",
     "name": "stdout",
     "text": "--------------------------------------------------------------------------\nTesting for... ZOOBANK\n--------------------------------------------------------------------------\nSUCCESS! Total count was equal between the processed and official results!\n--------------------------------------------------------------------------\nSUCCESS! the year 2010 seems to be fine!\nSUCCESS! the year 2011 seems to be fine!\nSUCCESS! the year 2012 seems to be fine!\nSUCCESS! the year 2013 seems to be fine!\nSUCCESS! the year 2014 seems to be fine!\nSUCCESS! the year 2015 seems to be fine!\nSUCCESS! the year 2016 seems to be fine!\nSUCCESS! the year 2017 seems to be fine!\nSUCCESS! the year 2018 seems to be fine!\nSUCCESS! the year 2019 seems to be fine!\nSUCCESS! the year 2020 seems to be fine!\n--------------------------------------------------------------------------\n"
    }
   ],
   "source": [
    "# Now that I have both dictionary with official results and the pandas.Series with the processed results, I can call the unit test function\n",
    "test_ext.check_consistency(\"Zoobank\", zb_years_count, zb_results) "
   ]
  },
  {
   "source": [
    "It seems that the data I processed into databases are consistent with the data observed on the sources and that the processing were completed flawlessly. \n",
    "\n",
    "It's time to move on."
   ],
   "cell_type": "markdown",
   "metadata": {}
  },
  {
   "source": [
    "### (T)ransform\n",
    "\n",
    "I'm aiming one single pandas.DataFrame with the counts of papers for each one of the three data sources, grouped per journal, with years on the columns. Thus, it's a MultiIndex dataframe (journal x Source/Year). But to achieve this, I want first check the following aspects of these data for all three sources:\n",
    "\n",
    "1. Check for duplicates\n",
    "2. Check the amount of NaN on the to-be-used 'year' columns\n",
    "3. Group by journal and check the data quality of the journals' names\n"
   ],
   "cell_type": "markdown",
   "metadata": {}
  },
  {
   "source": [
    "#### Exploratory Analyses: Before Transform\n"
   ],
   "cell_type": "markdown",
   "metadata": {}
  },
  {
   "source": [
    "##### Web of Science/Zoological Records"
   ],
   "cell_type": "markdown",
   "metadata": {}
  },
  {
   "cell_type": "code",
   "execution_count": 177,
   "metadata": {},
   "outputs": [
    {
     "output_type": "execute_result",
     "data": {
      "text/plain": "Index([                                     'Publication Type',\n                          'Zoological Record Accession Number',\n                                               'Document Type',\n                                                       'Title',\n                                               'Foreign Title',\n                                                     'Authors',\n                                                      'Source',\n                                                      'Volume',\n                                                   'Page Span',\n                                            'Publication Date',\n                                              'Year Published',\n                                                    'Language',\n                                 'Usage Count (Last 180 Days)',\n                                    'Usage Count (Since 2013)',\n                                                    'Abstract',\n                                              'Author Address',\n                                              'E-mail Address',\n       'ORCID Identifier (Open Researcher and Contributor ID)',\n                                              'Research Areas',\n                 'International Standard Serial Number (ISSN)',\n                                                 'Broad Terms',\n                                            'Descriptors Data',\n                                                  'Taxa Notes',\n                                                  'Super Taxa',\n                                                 'Systematics',\n                                   'Unique Article Identifier',\n                              'Date this report was generated',\n                                                       'Issue',\n                                       'Open Access Indicator',\n                             'Digital Object Identifier (DOI)',\n                                         'ResearcherID Number',\n                                                  'Supplement',\n                                                 'Journal URL',\n                                                    'Item URL',\n                                                       'Notes',\n                                                          None,\n                                                'Book Authors',\n                                                   'Publisher',\n                                           'Publisher Address',\n                   'International Standard Book Number (ISBN)',\n                                                     'Editors',\n                                               'Group Authors'],\n      dtype='object')"
     },
     "metadata": {},
     "execution_count": 177
    }
   ],
   "source": [
    "# First, check the available columns again\n",
    "wos.columns"
   ]
  },
  {
   "source": [
    "###### Duplicates\n",
    "\n",
    "With this I can see that the column 'Digital Object Identifier (DOI)' might contain a persistent, unique identifier, but not all papers will have it. So I'll perform two different checks for duplicates for this source:\n",
    "\n",
    "1. Based on 'Digital Object Identifier (DOI)'\n",
    "2. Based on the columns: 'Source', 'Year Published', 'Volume', 'Issue', 'Page Span'"
   ],
   "cell_type": "markdown",
   "metadata": {}
  },
  {
   "cell_type": "code",
   "execution_count": 178,
   "metadata": {},
   "outputs": [
    {
     "output_type": "execute_result",
     "data": {
      "text/plain": "False    7964\nTrue        4\ndtype: int64"
     },
     "metadata": {},
     "execution_count": 178
    }
   ],
   "source": [
    "# Method 01 - DOI\n",
    "\n",
    "# First, select the ones that has DOIs\n",
    "wos_duplicates = wos[~wos['Digital Object Identifier (DOI)'].isna()]\n",
    "\n",
    "# Then, search for duplicates. 'True' will indicate the existence of them.\n",
    "wos_duplicates.duplicated(subset=['Digital Object Identifier (DOI)'], keep=False).value_counts()"
   ]
  },
  {
   "cell_type": "code",
   "execution_count": 179,
   "metadata": {},
   "outputs": [
    {
     "output_type": "execute_result",
     "data": {
      "text/plain": "      Publication Type Zoological Record Accession Number Document Type  \\\n77                   J                    ZOOR14704030516       Article   \n10549                J                    ZOOR14707054161       Article   \n11930                J                    ZOOR14705036582       Article   \n12433                J                    ZOOR14705041437       Article   \n\n                                                   Title Foreign Title  \\\n77     A New Genus of the Spider Family Caponiidae (A...           NaN   \n10549  Apseudes talpa revisited (Crustacea; Tanaidace...           NaN   \n11930  The Goblin Spider Genus Aprusia Simon, 1893 (A...           NaN   \n12433  Tanaidaceans (Crustacea) from the Central Paci...           NaN   \n\n                                                 Authors  \\\n77     Sanchez-Ruiz, Alexander (alex@bioeco.ciges.inf...   \n10549  Larsen, Kim (tanaids@hotmail.com), Bertocci, I...   \n11930  Grismado, Cristian J. (grismado@macn.gov.ar), ...   \n12433                  Larsen, Kim (tanaids@hotmail.com)   \n\n                          Source Volume Page Span Publication Date  ...  \\\n77     American Museum Novitates   3705      1-44      Dec 29 2010  ...   \n10549                    Zootaxa   2886     19-30      23 May 2011  ...   \n11930  American Museum Novitates   3706      1-21       Feb 3 2011  ...   \n12433                    ZooKeys     87     19-41             2011  ...   \n\n                                             Journal URL  \\\n77                                                   NaN   \n10549  http://www.mapress.com/zootaxa/list/2011/2886....   \n11930                                                NaN   \n12433  http://www.pensoft.net/journals/zookeys/http:/...   \n\n                                                Item URL Notes       NaN  \\\n77                                                   NaN   NaN       NaN   \n10549  http://www.mapress.com/zootaxa/2011/2/zt02886p...   NaN  21594100   \n11930                                                NaN   NaN       NaN   \n12433  http://www.pensoft.net/journal_home_page.php?j...   NaN  21594100   \n\n      Book Authors Publisher Publisher Address  \\\n77             NaN       NaN               NaN   \n10549          NaN       NaN               NaN   \n11930          NaN       NaN               NaN   \n12433          NaN       NaN               NaN   \n\n      International Standard Book Number (ISBN) Editors Group Authors  \n77                                          NaN     NaN           NaN  \n10549                                       NaN     NaN           NaN  \n11930                                       NaN     NaN           NaN  \n12433                                       NaN     NaN           NaN  \n\n[4 rows x 42 columns]",
      "text/html": "<div>\n<style scoped>\n    .dataframe tbody tr th:only-of-type {\n        vertical-align: middle;\n    }\n\n    .dataframe tbody tr th {\n        vertical-align: top;\n    }\n\n    .dataframe thead th {\n        text-align: right;\n    }\n</style>\n<table border=\"1\" class=\"dataframe\">\n  <thead>\n    <tr style=\"text-align: right;\">\n      <th></th>\n      <th>Publication Type</th>\n      <th>Zoological Record Accession Number</th>\n      <th>Document Type</th>\n      <th>Title</th>\n      <th>Foreign Title</th>\n      <th>Authors</th>\n      <th>Source</th>\n      <th>Volume</th>\n      <th>Page Span</th>\n      <th>Publication Date</th>\n      <th>...</th>\n      <th>Journal URL</th>\n      <th>Item URL</th>\n      <th>Notes</th>\n      <th>NaN</th>\n      <th>Book Authors</th>\n      <th>Publisher</th>\n      <th>Publisher Address</th>\n      <th>International Standard Book Number (ISBN)</th>\n      <th>Editors</th>\n      <th>Group Authors</th>\n    </tr>\n  </thead>\n  <tbody>\n    <tr>\n      <th>77</th>\n      <td>J</td>\n      <td>ZOOR14704030516</td>\n      <td>Article</td>\n      <td>A New Genus of the Spider Family Caponiidae (A...</td>\n      <td>NaN</td>\n      <td>Sanchez-Ruiz, Alexander (alex@bioeco.ciges.inf...</td>\n      <td>American Museum Novitates</td>\n      <td>3705</td>\n      <td>1-44</td>\n      <td>Dec 29 2010</td>\n      <td>...</td>\n      <td>NaN</td>\n      <td>NaN</td>\n      <td>NaN</td>\n      <td>NaN</td>\n      <td>NaN</td>\n      <td>NaN</td>\n      <td>NaN</td>\n      <td>NaN</td>\n      <td>NaN</td>\n      <td>NaN</td>\n    </tr>\n    <tr>\n      <th>10549</th>\n      <td>J</td>\n      <td>ZOOR14707054161</td>\n      <td>Article</td>\n      <td>Apseudes talpa revisited (Crustacea; Tanaidace...</td>\n      <td>NaN</td>\n      <td>Larsen, Kim (tanaids@hotmail.com), Bertocci, I...</td>\n      <td>Zootaxa</td>\n      <td>2886</td>\n      <td>19-30</td>\n      <td>23 May 2011</td>\n      <td>...</td>\n      <td>http://www.mapress.com/zootaxa/list/2011/2886....</td>\n      <td>http://www.mapress.com/zootaxa/2011/2/zt02886p...</td>\n      <td>NaN</td>\n      <td>21594100</td>\n      <td>NaN</td>\n      <td>NaN</td>\n      <td>NaN</td>\n      <td>NaN</td>\n      <td>NaN</td>\n      <td>NaN</td>\n    </tr>\n    <tr>\n      <th>11930</th>\n      <td>J</td>\n      <td>ZOOR14705036582</td>\n      <td>Article</td>\n      <td>The Goblin Spider Genus Aprusia Simon, 1893 (A...</td>\n      <td>NaN</td>\n      <td>Grismado, Cristian J. (grismado@macn.gov.ar), ...</td>\n      <td>American Museum Novitates</td>\n      <td>3706</td>\n      <td>1-21</td>\n      <td>Feb 3 2011</td>\n      <td>...</td>\n      <td>NaN</td>\n      <td>NaN</td>\n      <td>NaN</td>\n      <td>NaN</td>\n      <td>NaN</td>\n      <td>NaN</td>\n      <td>NaN</td>\n      <td>NaN</td>\n      <td>NaN</td>\n      <td>NaN</td>\n    </tr>\n    <tr>\n      <th>12433</th>\n      <td>J</td>\n      <td>ZOOR14705041437</td>\n      <td>Article</td>\n      <td>Tanaidaceans (Crustacea) from the Central Paci...</td>\n      <td>NaN</td>\n      <td>Larsen, Kim (tanaids@hotmail.com)</td>\n      <td>ZooKeys</td>\n      <td>87</td>\n      <td>19-41</td>\n      <td>2011</td>\n      <td>...</td>\n      <td>http://www.pensoft.net/journals/zookeys/http:/...</td>\n      <td>http://www.pensoft.net/journal_home_page.php?j...</td>\n      <td>NaN</td>\n      <td>21594100</td>\n      <td>NaN</td>\n      <td>NaN</td>\n      <td>NaN</td>\n      <td>NaN</td>\n      <td>NaN</td>\n      <td>NaN</td>\n    </tr>\n  </tbody>\n</table>\n<p>4 rows × 42 columns</p>\n</div>"
     },
     "metadata": {},
     "execution_count": 179
    }
   ],
   "source": [
    "# Checking these four duplicates...\n",
    "wos_duplicates[wos_duplicates.duplicated(subset=['Digital Object Identifier (DOI)'], keep=False)]"
   ]
  },
  {
   "cell_type": "code",
   "execution_count": 180,
   "metadata": {},
   "outputs": [
    {
     "output_type": "execute_result",
     "data": {
      "text/plain": "77               10.1206/3705.2\n10549    10.3897/zookeys.87.784\n11930            10.1206/3705.2\n12433    10.3897/zookeys.87.784\nName: Digital Object Identifier (DOI), dtype: object"
     },
     "metadata": {},
     "execution_count": 180
    }
   ],
   "source": [
    "# They doesn't seem to be duplicates. Check their DOIs\n",
    "wos_duplicates[wos_duplicates.duplicated(subset=['Digital Object Identifier (DOI)'], keep=False)]['Digital Object Identifier (DOI)']"
   ]
  },
  {
   "source": [
    "They have the same DOI, but they are clearly different papers (if you look into title, authors, and everything else!) So, **false-positives**, despite the same DOIs. Moving on..."
   ],
   "cell_type": "markdown",
   "metadata": {}
  },
  {
   "cell_type": "code",
   "execution_count": 181,
   "metadata": {},
   "outputs": [],
   "source": [
    "# Method 02\n",
    "\n",
    "# Stores records that is not NaN on all selected fields\n",
    "wos_duplicates = wos[~wos[['Source', 'Year Published', 'Volume', 'Issue', 'Page Span']].isna()]"
   ]
  },
  {
   "cell_type": "code",
   "execution_count": 182,
   "metadata": {},
   "outputs": [
    {
     "output_type": "execute_result",
     "data": {
      "text/plain": "0"
     },
     "metadata": {},
     "execution_count": 182
    }
   ],
   "source": [
    "# Compare the lenght of the original df with this recently created one. Zero means no record that met the criteria was found\n",
    "wos_duplicates.shape[0] - wos.shape[0]"
   ]
  },
  {
   "cell_type": "code",
   "execution_count": 183,
   "metadata": {},
   "outputs": [
    {
     "output_type": "execute_result",
     "data": {
      "text/plain": "False    80194\nTrue       258\ndtype: int64"
     },
     "metadata": {},
     "execution_count": 183
    }
   ],
   "source": [
    "# If there are no all-NaNs, then, check for duplicates\n",
    "wos_duplicates.duplicated(subset=['Source', 'Year Published', 'Volume', 'Issue', 'Page Span'], keep=False).value_counts()"
   ]
  },
  {
   "cell_type": "code",
   "execution_count": 184,
   "metadata": {},
   "outputs": [
    {
     "output_type": "execute_result",
     "data": {
      "text/plain": "      Publication Type Zoological Record Accession Number Document Type Title  \\\n1296               NaN                                NaN           NaN   NaN   \n2504               NaN                                NaN           NaN   NaN   \n2505               NaN                                NaN           NaN   NaN   \n5670               NaN                                NaN           NaN   NaN   \n5671               NaN                                NaN           NaN   NaN   \n...                ...                                ...           ...   ...   \n80071              NaN                                NaN           NaN   NaN   \n80119              NaN                                NaN           NaN   NaN   \n80121              NaN                                NaN           NaN   NaN   \n80122              NaN                                NaN           NaN   NaN   \n80123              NaN                                NaN           NaN   NaN   \n\n      Foreign Title Authors                             Source Volume  \\\n1296            NaN     NaN                           Geologos     16   \n2504            NaN     NaN                           Caldasia     32   \n2505            NaN     NaN                           Caldasia     32   \n5670            NaN     NaN                           Caldasia     32   \n5671            NaN     NaN                           Caldasia     32   \n...             ...     ...                                ...    ...   \n80071           NaN     NaN            Ichthyological Research     67   \n80119           NaN     NaN  Revista Brasileira de Entomologia     64   \n80121           NaN     NaN  Revista Brasileira de Entomologia     64   \n80122           NaN     NaN  Revista Brasileira de Entomologia     64   \n80123           NaN     NaN  Revista Brasileira de Entomologia     64   \n\n      Page Span Publication Date  ... Journal URL Item URL Notes  NaN  \\\n1296    139-152              NaN  ...         NaN      NaN   NaN  NaN   \n2504    435-441              NaN  ...         NaN      NaN   NaN  NaN   \n2505    443-461              NaN  ...         NaN      NaN   NaN  NaN   \n5670    435-441              NaN  ...         NaN      NaN   NaN  NaN   \n5671    443-461              NaN  ...         NaN      NaN   NaN  NaN   \n...         ...              ...  ...         ...      ...   ...  ...   \n80071     39-49              NaN  ...         NaN      NaN   NaN  NaN   \n80119       1-8              NaN  ...         NaN      NaN   NaN  NaN   \n80121       1-6              NaN  ...         NaN      NaN   NaN  NaN   \n80122       1-8              NaN  ...         NaN      NaN   NaN  NaN   \n80123       1-6              NaN  ...         NaN      NaN   NaN  NaN   \n\n      Book Authors Publisher Publisher Address  \\\n1296           NaN       NaN               NaN   \n2504           NaN       NaN               NaN   \n2505           NaN       NaN               NaN   \n5670           NaN       NaN               NaN   \n5671           NaN       NaN               NaN   \n...            ...       ...               ...   \n80071          NaN       NaN               NaN   \n80119          NaN       NaN               NaN   \n80121          NaN       NaN               NaN   \n80122          NaN       NaN               NaN   \n80123          NaN       NaN               NaN   \n\n      International Standard Book Number (ISBN) Editors Group Authors  \n1296                                        NaN     NaN           NaN  \n2504                                        NaN     NaN           NaN  \n2505                                        NaN     NaN           NaN  \n5670                                        NaN     NaN           NaN  \n5671                                        NaN     NaN           NaN  \n...                                         ...     ...           ...  \n80071                                       NaN     NaN           NaN  \n80119                                       NaN     NaN           NaN  \n80121                                       NaN     NaN           NaN  \n80122                                       NaN     NaN           NaN  \n80123                                       NaN     NaN           NaN  \n\n[258 rows x 42 columns]",
      "text/html": "<div>\n<style scoped>\n    .dataframe tbody tr th:only-of-type {\n        vertical-align: middle;\n    }\n\n    .dataframe tbody tr th {\n        vertical-align: top;\n    }\n\n    .dataframe thead th {\n        text-align: right;\n    }\n</style>\n<table border=\"1\" class=\"dataframe\">\n  <thead>\n    <tr style=\"text-align: right;\">\n      <th></th>\n      <th>Publication Type</th>\n      <th>Zoological Record Accession Number</th>\n      <th>Document Type</th>\n      <th>Title</th>\n      <th>Foreign Title</th>\n      <th>Authors</th>\n      <th>Source</th>\n      <th>Volume</th>\n      <th>Page Span</th>\n      <th>Publication Date</th>\n      <th>...</th>\n      <th>Journal URL</th>\n      <th>Item URL</th>\n      <th>Notes</th>\n      <th>NaN</th>\n      <th>Book Authors</th>\n      <th>Publisher</th>\n      <th>Publisher Address</th>\n      <th>International Standard Book Number (ISBN)</th>\n      <th>Editors</th>\n      <th>Group Authors</th>\n    </tr>\n  </thead>\n  <tbody>\n    <tr>\n      <th>1296</th>\n      <td>NaN</td>\n      <td>NaN</td>\n      <td>NaN</td>\n      <td>NaN</td>\n      <td>NaN</td>\n      <td>NaN</td>\n      <td>Geologos</td>\n      <td>16</td>\n      <td>139-152</td>\n      <td>NaN</td>\n      <td>...</td>\n      <td>NaN</td>\n      <td>NaN</td>\n      <td>NaN</td>\n      <td>NaN</td>\n      <td>NaN</td>\n      <td>NaN</td>\n      <td>NaN</td>\n      <td>NaN</td>\n      <td>NaN</td>\n      <td>NaN</td>\n    </tr>\n    <tr>\n      <th>2504</th>\n      <td>NaN</td>\n      <td>NaN</td>\n      <td>NaN</td>\n      <td>NaN</td>\n      <td>NaN</td>\n      <td>NaN</td>\n      <td>Caldasia</td>\n      <td>32</td>\n      <td>435-441</td>\n      <td>NaN</td>\n      <td>...</td>\n      <td>NaN</td>\n      <td>NaN</td>\n      <td>NaN</td>\n      <td>NaN</td>\n      <td>NaN</td>\n      <td>NaN</td>\n      <td>NaN</td>\n      <td>NaN</td>\n      <td>NaN</td>\n      <td>NaN</td>\n    </tr>\n    <tr>\n      <th>2505</th>\n      <td>NaN</td>\n      <td>NaN</td>\n      <td>NaN</td>\n      <td>NaN</td>\n      <td>NaN</td>\n      <td>NaN</td>\n      <td>Caldasia</td>\n      <td>32</td>\n      <td>443-461</td>\n      <td>NaN</td>\n      <td>...</td>\n      <td>NaN</td>\n      <td>NaN</td>\n      <td>NaN</td>\n      <td>NaN</td>\n      <td>NaN</td>\n      <td>NaN</td>\n      <td>NaN</td>\n      <td>NaN</td>\n      <td>NaN</td>\n      <td>NaN</td>\n    </tr>\n    <tr>\n      <th>5670</th>\n      <td>NaN</td>\n      <td>NaN</td>\n      <td>NaN</td>\n      <td>NaN</td>\n      <td>NaN</td>\n      <td>NaN</td>\n      <td>Caldasia</td>\n      <td>32</td>\n      <td>435-441</td>\n      <td>NaN</td>\n      <td>...</td>\n      <td>NaN</td>\n      <td>NaN</td>\n      <td>NaN</td>\n      <td>NaN</td>\n      <td>NaN</td>\n      <td>NaN</td>\n      <td>NaN</td>\n      <td>NaN</td>\n      <td>NaN</td>\n      <td>NaN</td>\n    </tr>\n    <tr>\n      <th>5671</th>\n      <td>NaN</td>\n      <td>NaN</td>\n      <td>NaN</td>\n      <td>NaN</td>\n      <td>NaN</td>\n      <td>NaN</td>\n      <td>Caldasia</td>\n      <td>32</td>\n      <td>443-461</td>\n      <td>NaN</td>\n      <td>...</td>\n      <td>NaN</td>\n      <td>NaN</td>\n      <td>NaN</td>\n      <td>NaN</td>\n      <td>NaN</td>\n      <td>NaN</td>\n      <td>NaN</td>\n      <td>NaN</td>\n      <td>NaN</td>\n      <td>NaN</td>\n    </tr>\n    <tr>\n      <th>...</th>\n      <td>...</td>\n      <td>...</td>\n      <td>...</td>\n      <td>...</td>\n      <td>...</td>\n      <td>...</td>\n      <td>...</td>\n      <td>...</td>\n      <td>...</td>\n      <td>...</td>\n      <td>...</td>\n      <td>...</td>\n      <td>...</td>\n      <td>...</td>\n      <td>...</td>\n      <td>...</td>\n      <td>...</td>\n      <td>...</td>\n      <td>...</td>\n      <td>...</td>\n      <td>...</td>\n    </tr>\n    <tr>\n      <th>80071</th>\n      <td>NaN</td>\n      <td>NaN</td>\n      <td>NaN</td>\n      <td>NaN</td>\n      <td>NaN</td>\n      <td>NaN</td>\n      <td>Ichthyological Research</td>\n      <td>67</td>\n      <td>39-49</td>\n      <td>NaN</td>\n      <td>...</td>\n      <td>NaN</td>\n      <td>NaN</td>\n      <td>NaN</td>\n      <td>NaN</td>\n      <td>NaN</td>\n      <td>NaN</td>\n      <td>NaN</td>\n      <td>NaN</td>\n      <td>NaN</td>\n      <td>NaN</td>\n    </tr>\n    <tr>\n      <th>80119</th>\n      <td>NaN</td>\n      <td>NaN</td>\n      <td>NaN</td>\n      <td>NaN</td>\n      <td>NaN</td>\n      <td>NaN</td>\n      <td>Revista Brasileira de Entomologia</td>\n      <td>64</td>\n      <td>1-8</td>\n      <td>NaN</td>\n      <td>...</td>\n      <td>NaN</td>\n      <td>NaN</td>\n      <td>NaN</td>\n      <td>NaN</td>\n      <td>NaN</td>\n      <td>NaN</td>\n      <td>NaN</td>\n      <td>NaN</td>\n      <td>NaN</td>\n      <td>NaN</td>\n    </tr>\n    <tr>\n      <th>80121</th>\n      <td>NaN</td>\n      <td>NaN</td>\n      <td>NaN</td>\n      <td>NaN</td>\n      <td>NaN</td>\n      <td>NaN</td>\n      <td>Revista Brasileira de Entomologia</td>\n      <td>64</td>\n      <td>1-6</td>\n      <td>NaN</td>\n      <td>...</td>\n      <td>NaN</td>\n      <td>NaN</td>\n      <td>NaN</td>\n      <td>NaN</td>\n      <td>NaN</td>\n      <td>NaN</td>\n      <td>NaN</td>\n      <td>NaN</td>\n      <td>NaN</td>\n      <td>NaN</td>\n    </tr>\n    <tr>\n      <th>80122</th>\n      <td>NaN</td>\n      <td>NaN</td>\n      <td>NaN</td>\n      <td>NaN</td>\n      <td>NaN</td>\n      <td>NaN</td>\n      <td>Revista Brasileira de Entomologia</td>\n      <td>64</td>\n      <td>1-8</td>\n      <td>NaN</td>\n      <td>...</td>\n      <td>NaN</td>\n      <td>NaN</td>\n      <td>NaN</td>\n      <td>NaN</td>\n      <td>NaN</td>\n      <td>NaN</td>\n      <td>NaN</td>\n      <td>NaN</td>\n      <td>NaN</td>\n      <td>NaN</td>\n    </tr>\n    <tr>\n      <th>80123</th>\n      <td>NaN</td>\n      <td>NaN</td>\n      <td>NaN</td>\n      <td>NaN</td>\n      <td>NaN</td>\n      <td>NaN</td>\n      <td>Revista Brasileira de Entomologia</td>\n      <td>64</td>\n      <td>1-6</td>\n      <td>NaN</td>\n      <td>...</td>\n      <td>NaN</td>\n      <td>NaN</td>\n      <td>NaN</td>\n      <td>NaN</td>\n      <td>NaN</td>\n      <td>NaN</td>\n      <td>NaN</td>\n      <td>NaN</td>\n      <td>NaN</td>\n      <td>NaN</td>\n    </tr>\n  </tbody>\n</table>\n<p>258 rows × 42 columns</p>\n</div>"
     },
     "metadata": {},
     "execution_count": 184
    }
   ],
   "source": [
    "# A lot! Checking these 258...\n",
    "wos_duplicates[wos_duplicates.duplicated(subset=['Source', 'Year Published', 'Volume', 'Issue', 'Page Span'], keep=False)]"
   ]
  },
  {
   "source": [
    "I noted that most of the other information, like for instance, Title, is NaN. So these might be the case of uncomplete records as well. Their duplicates must be removed, but at least one copy should remain."
   ],
   "cell_type": "markdown",
   "metadata": {}
  },
  {
   "cell_type": "code",
   "execution_count": 91,
   "metadata": {},
   "outputs": [
    {
     "output_type": "execute_result",
     "data": {
      "text/plain": "Series([], Name: Title, dtype: int64)"
     },
     "metadata": {},
     "execution_count": 91
    }
   ],
   "source": [
    "# Checking of there are real titles on these 258 'duplicates'\n",
    "wos_duplicates[wos_duplicates.duplicated(subset=['Source', 'Year Published', 'Volume', 'Issue', 'Page Span'], keep=False)]['Title'].value_counts()"
   ]
  },
  {
   "source": [
    "It seems that they are uncomplete records. Nonetheless, they can't remain duplicated."
   ],
   "cell_type": "markdown",
   "metadata": {}
  },
  {
   "source": [
    "###### 'year' NaNs\n",
    "\n",
    "This is a more straight forward check... simply count NaNs on a specific column, 'Year Published', dividing by total number of rows."
   ],
   "cell_type": "markdown",
   "metadata": {}
  },
  {
   "cell_type": "code",
   "execution_count": 186,
   "metadata": {},
   "outputs": [
    {
     "output_type": "execute_result",
     "data": {
      "text/plain": "False    80452\nName: Year Published, dtype: int64"
     },
     "metadata": {},
     "execution_count": 186
    }
   ],
   "source": [
    "# Counting NaNs on 'Year Published'\n",
    "wos['Year Published'].isna().value_counts()"
   ]
  },
  {
   "source": [
    "Wow! Seems that there is not a single row without the year of publication. That's quit amazing.\n",
    "\n",
    "![](https://i.imgur.com/uM1TOIt.png)"
   ],
   "cell_type": "markdown",
   "metadata": {}
  },
  {
   "source": [
    "###### journals' names\n",
    "\n",
    "I just want to have a quick look into the (possible) mess that the journals' names in this source might be. I'm not specting that much of mess, to be honest.\n"
   ],
   "cell_type": "markdown",
   "metadata": {}
  },
  {
   "cell_type": "code",
   "execution_count": 187,
   "metadata": {},
   "outputs": [
    {
     "output_type": "execute_result",
     "data": {
      "text/plain": "2650"
     },
     "metadata": {},
     "execution_count": 187
    }
   ],
   "source": [
    "# Group the wos dataframe by group, getting only 'Year Published' as return\n",
    "wos_journals = wos.groupby('Source').count()['Year Published'].sort_values(ascending=False)\n",
    "\n",
    "# Check the number of journals\n",
    "wos_journals.shape[0]"
   ]
  },
  {
   "source": [
    "This is a LOT OF JOURNALS! I'm surprised. So, decided to check a bit further by:\n",
    "\n",
    "1. Check the ones with one single occurrence, to see if there are any non-journals included in the dataset\n",
    "2. Check if there are typos involving one of the most, if not the most popular journal: Zootaxa"
   ],
   "cell_type": "markdown",
   "metadata": {}
  },
  {
   "cell_type": "code",
   "execution_count": 188,
   "metadata": {},
   "outputs": [
    {
     "output_type": "execute_result",
     "data": {
      "text/plain": "Biological Research',\n 'The carrion beetles of China (Coleoptera: Silphidae).',\n 'The blackflies (Diptera: Simuliidae) of Brazil. [Aquatic Biodiversity in, Latin America. Volume 6.]',\n 'Arnoldia Zimbabwe',\n 'Anadolu Universitesi Bilim ve Teknoloji Dergisi C Yasam Bilimleri ve, Biyoteknoloji',\n 'Ardea',\n 'Vestnik Moskovskogo Universiteta Seriya XVI Biologiya',\n 'Arctiid moths of India. Volume 1.',\n 'Arctic Antarctic and Alpine Research',\n 'Veroeffentlichungen des Museums fuer Naturkunde Chemnitz',\n 'The Howard and Moore complete checklist of the birds of the world. 4th, edtion. Volume two: passerines.',\n 'The Witt Catalogue. A taxonomic atlas of the Eurasian and North African, Noctuoidea: volume 4: Plusiinae II.',\n 'Rhyzobius (Coleoptera: Coccinellidae) a revision of the world species., [Fauna Mundi Volume 2.]',\n '[The Turonian of the Uchaux and Ceze massifs (S.E. France): global, migration of ammonites and implications for international zonation,, rudists and massif correlations.]. [Memoires de la Classe des Sciences,, coll. in -4o, t. 2.]',\n '[The Cetoniinae of Sabah.]. [Collection Ex Natura Vol 1.]',\n 'Abalone: world-wide Haliotidae.',\n 'Revista Caatinga',\n 'River Research and Applications',\n 'Revista Brasileira de Geociencias',\n 'Zoologicheskie Issledovania',\n 'Zoological Bibliography',\n 'Boletin del Museo Entomologico Francisco Luis Gallego',\n 'Acta Ethologica',\n '[The subfamily Chasmopinae (Trilobita, pterygometopidae) from, Baltoscandian glacial erratic boulders as well as Baltoscandia and, neighbouring areas.].',\n 'Revision of the Palearctic Chaetocnema species. (Coleoptera:, Chrysomelidae: Galerucinae: Alticini).',\n 'ZooNotes',\n 'Russian Geology and Geophysics',\n 'Acta Geologica Slovaca',\n 'Abhandlungen aus dem Westfaelischen Museum fuer Naturkunde',\n 'Revista Cientifica - Maracaibo',\n 'Revista Cientifica UDO Agricola',\n '[Afrotropical Melolonthinae (Scarabaeoidea, Melolonthidae). Commented, genera and catalogue.].',\n 'Biology Direct',\n 'Acta Carsologica',\n 'Revista FAVE Ciencias Veterinarias',\n 'Abhandlungen und Berichte fuer Naturkunde',\n 'Archives of Razi Institute',\n 'The cicadas of Thailand. Volume 2: taxonomy and sonic ethology. [Siri, Scientific Press Monograph Series Volume 5.]',\n 'Reptile Rap',\n 'Anatomia Histologia Embryologia',\n 'The Dolichodoridae of the World. Identification of the family, Dolichodoridae: (Nematoda: Tylenchida).',\n 'Ursus',\n 'The description of a new genus and twenty-three new species of, Metarbelidae (Lepidoptera: Cossoidea) from the lowland tropical rain, forests of the Guineo-Congolian region with notes on habitats and, biogeography.',\n 'Acta Veterinaria (Belgrade)',\n 'Transactions of the American Fisheries Society',\n 'Tichodroma',\n 'Aquatic Conservation',\n 'Tieraerztliche Praxis Ausgabe G Grosstiere-Nutztiere',\n 'Tiger beetles of the Madagascan region (Madagascar, the Comoros,, Seychelles, Mascarenes and other islands). Taxonomic revision of the 17, genera occurring in the region (Coleoptera: Cicindelidae).',\n 'Aquaculture Nutrition',\n \"Annali dell'Istituto Superiore di Sanita\",\n 'Annals of Agricultural and Environmental Medicine',\n 'Tokushima Daigaku So-go Kagakubu Shizen Kagaku Kenkyu',\n 'Transactions of the Missouri Academy of Science',\n 'Theriogenology',\n 'Tropical fruit flies (Tephritidae: Dacinae) of South-East Asia:, Indomalaya to North-West Australasia.',\n 'Transactions of the Royal Society of Tropical Medicine and Hygiene',\n 'Treatise on Zoology - Anatomy, Taxonomy, Biology. The Gregarines. Volume, 1.',\n 'Ants of Africa and Madagascar: a guide to the genera.',\n 'Anthropozoologica',\n 'Anthropological Science',\n 'An annotated catalogue of the ground beetles (Coleoptera: Caraboidea) of, Sikhote-Alin.',\n 'Biological Letters',\n 'The Cryptorhynchinae of the Western Palearctic.',\n 'Ampulex',\n 'Vavilovskii Zhurnal Genetiki i Selektsii',\n 'Uzbekskii Biologicheskii Zhurnal',\n 'Anhui Nongye Daxue Xuebao',\n 'The cone shells of Florida: an illustrated key and a review of the, recent species.',\n 'The Witt Catalogue. A taxonomic atlas of the Eurasian and North African, Noctuoidea. Volume 6: Noctuinae I.',\n 'The Geometrid moths of Europe. Volume 3: Larentiinae I.',\n 'Archives des Sciences (Geneva)',\n 'Amphibians of Suriname. [Fauna of Suriname Volume 1.]',\n 'Asian Journal of Biological Sciences',\n 'Asian Journal of Animal and Veterinary Advances',\n 'Taxa',\n 'Asian Fisheries Science',\n 'Ammonites: a geological journey around the Appenine mountains. Lower, Jurassic.',\n 'Vestnik Tomskogo Gosudarstvennogo Universiteta Biologiya',\n 'Taxonomic revision of Megalorhina Westwood and subgeneric classification, of Mecynorhina Hope (Coleoptera: Scarabaeidae: Cetoniinae).',\n 'Amphibian and Reptile Conservation',\n 'Tetrahedron',\n 'The Eupithecia of China: A Revision.',\n 'The Ants of Fiji.',\n 'The Cerithiopsidae (Caenogastropoda: Triphoroidea) of Espiritu Santo -, Vanuatu (South Pacific Ocean).',\n 'The Coleoptera of the Salvage Islands.',\n 'The Criconematidae of the world. Identification of the Family, Criconematidae (Nematoda).',\n 'Annotated catalogue of the insects of Russian Far East. Volume I., Hymenoptera.',\n 'Acta Entomologica Chilena',\n 'Bionomina',\n 'Science Journal of Kanagawa University',\n 'Science Report of the Toyohashi Museum of Natural History',\n 'Research in Marine Sciences',\n 'Brazilian Journal of Morphological Sciences',\n 'A revision of subspecies structure of Dorcadion (Cribridorcadion), scabricolle (Dalman, 1817) (Coleoptera, Cerambycidae).',\n 'Science Asia',\n 'A revision of subspecies structure of Dorcadion (Cribridorcadion) nobile, Hampe, 1852 (Coleoptera, Cerambycidae) with description of two new, subspecies.',\n 'Acta Sedimentologica Sinica',\n 'Research Journal of Biological Sciences',\n 'Science International (Lahore)',\n 'Xinyang Shifan Xueyuan Xuebao Ziran Kexue Ban',\n 'A conchological iconography. The families Conilithidae and Conidae: the, cones of the eastern Pacific.',\n 'A revision of the genus Arbelodes Karsch (Lepidoptera: Cossoidea:, Metarbelidae) from southeast-central and southern Africa with the, description of thirteen new species.',\n 'Biodiversity',\n 'Scanning electron microscopic studies on several otopheidomenid mites, (Acari: Otopheidomenidae).',\n 'Bosque',\n 'Schriften des Naturwissenschaftlichen Vereins fuer Schleswig-Holstein',\n 'Acta Oecologica',\n 'Bonner Zoologische Monographien',\n 'Bonnoprani - Bangladesh Wildlife Bulletin',\n 'Bioacoustics',\n 'Xyleborini of New Guinea, a taxonomic monograph (Coleoptera:, Curculionidae: Scolytinae). [Thomas Say Publications in Entomology:, Monographs.]',\n 'Research Journal of Fisheries and Hydrobiology',\n 'Zeitschrift des Koelner Zoo',\n 'Zhongguo Xuexichongbing Fangzhi Zazhi',\n 'Bioinspiration & Biomimetics',\n 'Bonn Zoological Bulletin Supplementum',\n 'Restoration Ecology',\n 'Zitteliana Reihe B Abhandlungen der Bayerischen Staatssammlung fuer, Palaeontologie und Geologie',\n 'Zeitschrift fuer Feldherpetologie',\n 'Satuniidae Mundi: saturniid moths of the world. Part II.',\n 'Biogeography and biodiversity of Western Atlantic mollusks.',\n 'Review of the Anillina of Greece (Coleoptera, Carabidae, Bembidiini)., [Biodiversity Journal Monograph 1.]',\n 'Zhejiang Daxue Xuebao Nongye Yu Shengming Kexue Ban',\n 'Bioformosa',\n 'Reviews in Aquaculture',\n 'Revision of genera of the parasitic mite family Macronyssidae, (Mesostigmata: Dermanyssoidea) of the world.',\n 'Acta Musei Brukenthal',\n 'AES Bioflux',\n 'Bioikos',\n 'Biodiversity of Western Rhodopes (Bulgaria and Greece) II. [Pensoft, Series Faunistica No 102.]',\n 'Salus',\n 'Acta Musei Beskidensis',\n 'Revision of genus Paraphytoseius Swirski and Shechter, 1961 (Acari:, Phytoseiidae).',\n '[Revision of the Phymatoceratinae of the Middle and Upper Toarcian in, France and the world.].',\n 'Schubartiana',\n 'ABAH Bioflux',\n 'Zoo Biology',\n 'A world catalogue of Chironomidae (Diptera). Part 2. Orthocladiinae, (Section B).',\n 'Bird Conservation International',\n 'BirdingASIA',\n 'Zoo Indonesia',\n '[Chloropholus of Madagascar (Coleoptera, Curculionidae, Hyperinae).]., [Collection Ex Natura Vol. 6.]',\n 'Acta Adriatica',\n 'Boletim do Museu Nacional Nova Serie Geologia',\n 'Acta Agriculturae Universitatis Jiangxiensis',\n 'Bohemia Centralis',\n 'Bocagiana (Funchal)',\n 'Bivalve seashells of tropical West America: marine bivalve mollusks from, Baja California to northern Peru. Part 2. [Studies in Biodiversity, Number 4.]',\n '[Revision of Africans Anthene (Lepidoptera, Lycaenidae).].',\n 'Acta Anthropologica Sinica',\n 'Bivalve seashells of tropical West America: marine bivalve mollusks from, Baja California to northern Peru. Part 1. [Studies in Biodiversity, Number 4.]',\n 'Revista Portuguesa de Ciencias Veterinarias',\n '[South American Cerambycidae (Coleoptera). Subfamily Lamiinae,, Hemilophini Thomson, 1868. Part I.]. [Taxonomia Volume 13.]',\n '[Mammals of restingas and mangroves of Brazil.]. [Museu Nacional Serie, Livros 39.]',\n 'Revista Scientia Parasitologica',\n '[Lizards, crocodiles and tortoises of western Africa and the Sahara.].',\n 'Boletin BIGA',\n 'Revista de la Universidad del Valle de Guatemala',\n 'Revista del Museo de La Plata Seccion Paleontologia',\n '[Agrilus, Agriloides and Autarcontes of French Guyana.]. [Collection Ex, Natura Vol. 2.]',\n 'Acta Botanica Croatica',\n 'Boletin de Malariologia y Salud Ambiental',\n 'Revista Facultad de Ciencias Basicas Universidad Militar Nueva Granada',\n 'Research materials of terrestrial molluscas in China.',\n 'Research in Zoology',\n 'Yuzuncu Yil Universitesi Tarim Bilimleri Dergisi',\n 'AASP Contributions Series',\n 'Brazilian Journal of Aquatic Science and Technology',\n '[The tree frogs of Cameroon. (Amphibia Anura).].',\n 'Zbornik Matitse Srpske za Prirodne Nauke',\n 'Revista Brasileira de Ciencia Veterinaria',\n 'Boletin del Museo de Entomologia de la Universidad del Valle',\n '[South American Cerambycidae (Coleoptera). Taxonomy. Volume XI., Subfamily Parandrinae Blanchard, 1845. Subfamily Disteniinae Thomson,, 1861.].',\n 'Revista de Etologia',\n 'Biotropia',\n 'Revista Ibero-Latinoamericana de Parasitologia',\n 'Acta Biologica Indica',\n 'Boletin de Biodiversidad de Chile',\n '[Cerambycidae of Borneo, subfamily Cerambycinae (I): tribes, Callichromatini, Compsocerini, Mythodini, Thraniini, Stenopterini,, Dejanirini and Trachyderini.]. [Collection Ex Natura Vol. 4.]',\n '[Sponges of the Brazilian oceanic islands.]. [Museu Nacional Serie, Livros 44.]',\n 'Revista de Investigacion Marina',\n 'Revista de Investigaciones Agropecuarias',\n 'Revista de Investigaciones Marinas',\n 'Biosciences Biotechnology Research Asia',\n '[Cerambycidae Dorcasominae of Madagascar.]. [Collection Ex Natura Vol., 3.]',\n 'Trends in Parasitology',\n 'Trudy Karelskogo Nauchnogo Centra Rossiiskoi Akademii Nauk',\n 'Theoretical Ecology',\n 'Fauna Ukrayiny',\n 'Fauna Sinica Insecta Vol. 52. Lepidoptera Pieridae.',\n 'Jurnal Sains Kesihatan Malaysia',\n 'Fauna Iberica. Vol. 41. Annelida. Polychaeta IV.',\n 'Fauna Iberica. Vol. 40. Coleoptera, Coccinellidae.',\n 'Fauna Iberica. Vol. 39. Pycnogonida.',\n 'Fauna Iberica. Vol. 38. Mollusca, Solenogastres, Caudofoveata,, Monoplacophora.',\n 'Fauna Iberica. Vol. 37. Lepidoptera: Papilionoidea.',\n 'Fauna Iberica. Vol. 36. Annelida: Polychaeta III. [Fauna Iberica.]',\n \"Fauna d'Italia\",\n 'Fauna Entomologica Scandinavica',\n 'Kasetsart University Fisheries Research Bulletin',\n 'Facetta',\n 'Journal of the Black Sea-Mediterranean Environment',\n 'Journal of Zhejiang University Science B',\n 'Florida Scientist',\n 'Fossil and recent Muricidae of the world. Part Muricinae.',\n 'Journal of Integrative Plant Biology',\n 'Fundacion Miguel Lillo Miscelanea',\n 'Journal of Mediterranean Earth Sciences',\n 'Karnataka Journal of Agricultural Sciences',\n 'Fauna of Madhya Pradesh (including Chhattisgarh). Part - 3. [State Fauna, Series, 15.]',\n 'Jurnal Biologi Indonesia',\n 'Fauna of Russia and neighbouring countries. New series, No. 149., Insecta: Hemiptera: Arthroidignatha. Homoptera: Coccinea:, Pseudococcidae. Palaearctic mealybugs (Homoptera: Coccinea:, Pseudococcidae). Part 2. Subfamily Pseudococcinae.',\n 'Australian Longhorn Beetles (Coleoptera: Cerambycidae). Volume 1., Introduction and Subfamily Lamiinae.',\n 'Species diversity and distribution of inland fishes in China.',\n 'Speleolog',\n 'Australian Field Ornithology',\n 'Spider wasps (Hymenoptera: Pompilidae) of the Russian Far East.',\n 'Australian Biodiversity Record',\n 'Stag beetles of China II.',\n \"Vyestsi Natsyyanal'nai Akademii Navuk Byelarusi Syeryya Biyalahichnykh, Navuk\",\n 'Ornithologia',\n 'Reef fishes of the East Indies. Andaman Sea, Myanmar, Thailand,, Indonesia, Christmas Island, Singapore, Malaysia, Brunei, Philippines,, Papua New Guinea, Solomon Islands. Volume III.',\n 'Kaupia Darmstaedter Beitraege zur Naturgeschichte',\n 'Fisheries Oceanography',\n 'Journal of the National Science Foundation of Sri Lanka',\n 'Fish and Fisheries',\n 'Journal of the Northwest Normal University Natural Sciences',\n 'Journal of the Royal Society Interface',\n 'Fibigeriana. Volume 1. The Vartian Collection. Part I. Noctuoidea.',\n 'Journal of the World Aquaculture Society',\n 'Faune de Madagascar',\n 'Jurnal Biologi',\n 'Fauna of Uttarakhand (part-2): insects. [State Fauna Series, 18.]',\n 'Journal of Paleontological Sciences',\n 'Frog Leg',\n 'Freshwater dinoflagellates of North America.',\n 'Journal of Photochemistry and Photobiology B Biology',\n 'Lepidoptera (Copenhagen)',\n 'Lesne Prace Badawcze',\n 'Environmental Management',\n 'Lilloa',\n 'Environment Conservation Journal',\n 'Limosa',\n 'Entomology in Focus',\n 'Living World',\n 'Lizards of Peninsular Malaysia, Singapore, and their adjacent, Archipelagos. Their description, distribution, and natural history.',\n 'Longicorn beetles (Coleoptera, Cerambycoidea) of Russia and adjacent, countries. Part 1.',\n 'Luminescence',\n 'Magallania',\n 'Mainzer Naturwissenschaftliches Archiv Beiheft',\n 'Makropode',\n 'MalaCo',\n 'Malacofauna Pliocenica Toscana, Vol. 8: Pyramidelloidea, Gray J.E. 1840.',\n 'Malacofauna Pliocenica Toscana. Vol. 9, Gastropoda fine, Scaphopoda.',\n 'Malacologica Bohemoslovaca',\n 'Malacological Review',\n 'Entomologica (Bari)',\n 'Malakologiai Tajekoztato',\n 'Leipziger Geowissenschaften',\n 'Aleocharine beetles (Coleoptera, Staphylinidae) of the province of, Newfoundland and Labrador, Canada. [Pensoft Series Faunistica No 98.]',\n 'Environmental Toxicology',\n 'Meditsinskaya Parazitologiya i Parazitarnye Bolezni',\n 'Journal of Plant Research',\n 'Journal of Pollination Ecology',\n 'Journal of Protozoology Research',\n 'Fossils (Tokyo)',\n 'Journal of Siberian Federal University Biology',\n 'Fossil acanthopterygian fishes (Teleostei, Acanthopterygii). [Fossil, vertebrates of Russia and adjacent countries.]',\n 'Journal of Wildlife and Biodiversity',\n 'Journal of Sichuan Normal University (Natural Science)',\n 'Journal of Stored Products Research',\n 'Journal of Sustainability Science and Management',\n 'Forest Science',\n 'Forest Research',\n 'Forensic Science International',\n 'Journal of Tropical Biology and Conservation',\n 'Folia Musei Historico-Naturalis Bakonyiensis',\n 'Journal of Urban Ecology',\n 'Folia Heyrovskyana Supplementum',\n 'Journal of Vertebrate Biology',\n 'Journal of Wetlands Biodiversity',\n 'FABICIB',\n 'Kempffiana',\n 'Key to freshwater gastropods of Western Siberia (Mollusca: Gastropda)., V. 1. Gastropoda: Pulmonata. Fasc 1. Families Acroloxidae and, Lymnaeidae.',\n 'Southwest China Journal of Agricultural Sciences',\n 'Southeastern Fishes Council Proceedings',\n 'Albertiana',\n 'Bangladesh Journal of Botany',\n 'Tropical Ecology',\n 'Shirakami-Sanchi Bulletin of the Shirakami Institute for Environmental, Sciences Hirosaki University',\n 'Voprosy Virusologii',\n 'Badania Fizjograficzne Seria C Zoologia',\n 'African Journal of Wildlife Research',\n 'Slovak Raptor Journal',\n 'BMC Research Notes',\n 'Water Air and Soil Pollution',\n 'Afrotherian Conservation',\n 'BMC Genetics',\n 'Agricultural and Biological Research',\n 'BMC Ecology',\n 'Agricultural and Forest Entomology',\n 'Avocetta',\n 'Avian Research',\n 'Avian Pathology',\n 'Wader Study',\n 'Basic and Applied Herpetology',\n 'Veterinary Medicine International',\n 'Scripta Musei Geologici Seminarii Barcinonensis Series Malacologica',\n 'Shinrin Sogo Kenkyujo Kenkyu Hokoku',\n 'Scientific Publications of the Science Museum of Minnesota',\n 'Small Carnivore Conservation',\n 'Veterinaria Mexico',\n 'The freshwater bivalves of China.',\n 'Aquila',\n 'Archaeopteryx',\n 'Archaeofauna',\n 'Animal Conservation',\n 'The living and fossil busycon whelks: iconic mollusks of eastern North, America.',\n 'The lizards, crocodiles, and turtles of Honduras: systematics,, distribution, and conservation. [Bulletin of the Museum of Comparative, Zoology Special Publications Series, No. 2.]',\n 'Arachnida and Myriapoda of the Seychelles islands. [Seychelles fauna, monographs.]',\n \"Animal Keepers' Forum\",\n 'University of British Columbia Fisheries Centre Research Reports',\n \"Uccelli d'Italia\",\n 'Trudy VNIRO',\n 'Turkiye Jeoloji Bulteni',\n 'The mayflies of Europe (Ephemeroptera).',\n 'Tulane Studies in Zoology and Botany',\n 'Tsitologiya',\n 'The moths of North America. Fascicle 8.1. Tortricoidea. Tortricidae, (part) Tortricinae (part) Sparganothini and Atteriini.',\n 'The plant bugs, or Miridae, (Hemiptera: Heteroptera), of Cuba. [Pensoft, Series Faunistica No. 92]',\n 'The subfamily Steninae Macleay, 1825 (Coleoptera: Staphylinidae) of, Japan Part 1. Dianous and Stenus (S. comma group to S. guttalis group).',\n 'The symbolic species evolved. [Biosemiotics Volume 6.]',\n 'Asian Journal of Biological and Life Sciences',\n 'Tachinid Times',\n 'Marine Ornithology',\n 'Scientific World Journal',\n 'Xinjiang Nongye Daxue Xuebao',\n 'Atlas of the Late Cretaceous ammonites of the Saratov Volga region.',\n 'Studia Universitatis Vasile Goldis Arad Seria Stiintele Vietii',\n 'Agroproductividad',\n 'Studies in Mycology',\n 'Suleyman Demirel Universitesi Egirdir Su Urunleri Fakultesi Dergisi',\n 'Association Geologique Auboise Bulletin Annuel',\n 'Ambiente & Agua',\n 'Assessment of species diversity in the Atlantic maritime ecozone.',\n 'Aspilota-group in natural parks of Valencia and European Dinotrema, revision.Vol. 1.',\n 'Asociacion Paleontologica Argentina Publicacion Especial',\n 'Veterinary Ophthalmology',\n 'Studia Geologica Polonica',\n 'Studia Dipterologica Supplement',\n 'Stilt',\n 'Steenstrupia',\n 'South African Journal of Wildlife Research',\n 'Australian longhorn beetles (Coleoptera: Cerambycidae). Volume 2,, subfamily Cerambycinae. [Australian Longhorn Beetles Series]',\n 'Australian land snails. Volume 2. A field guide to southern, central and, western species.',\n 'Australian land snails. Volume 1. A field guide to eastern Australian, species.',\n 'Alavesia',\n 'South-Western Journal of Horticulture Biology and Environment',\n 'Atoll Research Bulletin',\n 'Acta Veterinaria Brasilica',\n 'Studia Universitatis Babes-Bolyai Geologia',\n 'Alula (Roma)',\n 'Acta Veterinaria et Zootechnica Sinica',\n 'Acta ZooBot Austria',\n 'World Aquaculture',\n 'Scorpions of Cuba.',\n 'World Applied Sciences Journal',\n 'West African Journal of Applied Ecology',\n 'Semana',\n 'Wissenschaftliches Jahrbuch der Tiroler Landesmuseen',\n 'Behavioural Processes',\n 'Wiadomosci Entomologiczne',\n 'Advances in Marine Biology',\n 'Aegialiini and Eremazini of the World (Coleoptera: Scarabaeidae):, iconography.',\n 'Shanghai Haiyang Daxue Xuebao',\n 'Wetlands',\n 'Agrilus (Coleoptera, Buprestidae) of East Asia.',\n 'Agronomia Mesoamericana',\n 'Aves (Liege)',\n 'Victorian Entomologist',\n 'Vietnamese new mollusks: sea shells, landsnails, cephalopods.',\n 'Atti della Societa Toscana di Scienze Naturali Residente in Pisa Memorie, Serie B',\n 'Altenburger Naturwissenschaftliche Forschungen',\n 'Atti della Accademia Nazionale dei Lincei Classe di Scienze Fisiche, Matematiche e Naturali Rendiconti Lincei Scienze Fisiche e Naturali',\n 'A conchological iconography. The Family Volutidae: the endemic Far East, Asian subfamily Fulgorariinae Pilsbry & Olsson, 1954: a revision of the, Recent species.']"
     },
     "metadata": {},
     "execution_count": 188
    }
   ],
   "source": [
    "# Take a look at the journals with less than 2 occurrences as we might see some non-journals here\n",
    "list(wos_journals[~wos_journals.where(wos_journals < 2).isna()].sort_values().index)"
   ]
  },
  {
   "cell_type": "code",
   "execution_count": 189,
   "metadata": {},
   "outputs": [
    {
     "output_type": "execute_result",
     "data": {
      "text/plain": "Source\nZootaxa                                                   16906\nActa Zootaxonomica Sinica                                   441\nArquivo Brasileiro de Medicina Veterinaria e Zootecnia       12\nVeterinaria e Zootecnia                                       4\nActa Veterinaria et Zootechnica Sinica                        1\nName: Year Published, dtype: int64"
     },
     "metadata": {},
     "execution_count": 189
    }
   ],
   "source": [
    "# Checking for possible typos involving Zootaxa's name\n",
    "wos_journals[['Zoot'.lower() in s.lower() for s in wos_journals.index]]"
   ]
  },
  {
   "source": [
    "We can see that there are a LOT of different journals in this dataset, but not all of them are actual journals, there are mistakes, random enough to be extremely hard -- or impossible -- to come up with an automate way of cleaning at this point.\n",
    "\n",
    "On the bright side, there aren't many typos with the most common journal on the dataset, which is a good indication that we are not missing a lot of data due to this issue."
   ],
   "cell_type": "markdown",
   "metadata": {}
  },
  {
   "source": [
    "Summary of transformations needed in this dataset:\n",
    "\n",
    "1. Remove duplicates based on 'Source', 'Year Published', 'Volume', 'Issue', 'Page Span' columns;\n",
    "2. Select only 'Source' and 'Year Published' columns"
   ],
   "cell_type": "markdown",
   "metadata": {}
  },
  {
   "source": [
    "##### TratmentBank (Plazi)"
   ],
   "cell_type": "markdown",
   "metadata": {}
  },
  {
   "source": [
    "##### Zoobank\n"
   ],
   "cell_type": "markdown",
   "metadata": {}
  },
  {
   "source": [
    "#### Transform\n",
    "\n"
   ],
   "cell_type": "markdown",
   "metadata": {}
  },
  {
   "source": [
    "#### SHERPA/RoMEO\n",
    "At this point, I'm not sure if I'll include it.\n"
   ],
   "cell_type": "markdown",
   "metadata": {}
  },
  {
   "source": [
    "#### Exploratory Analyses: After Transform\n"
   ],
   "cell_type": "markdown",
   "metadata": {}
  },
  {
   "source": [
    "### (L)oad\n"
   ],
   "cell_type": "markdown",
   "metadata": {}
  },
  {
   "source": [
    "## Analysis\n"
   ],
   "cell_type": "markdown",
   "metadata": {}
  },
  {
   "source": [
    "### Exploratory Analyses: Final\n"
   ],
   "cell_type": "markdown",
   "metadata": {}
  },
  {
   "source": [
    "### Question #1\n"
   ],
   "cell_type": "markdown",
   "metadata": {}
  },
  {
   "source": [
    "### Question #2\n"
   ],
   "cell_type": "markdown",
   "metadata": {}
  },
  {
   "source": [
    "### Question #3"
   ],
   "cell_type": "markdown",
   "metadata": {}
  },
  {
   "source": [
    "### Question #4"
   ],
   "cell_type": "markdown",
   "metadata": {}
  },
  {
   "source": [
    "### Question #5"
   ],
   "cell_type": "markdown",
   "metadata": {}
  },
  {
   "source": [
    "## Conclusion"
   ],
   "cell_type": "markdown",
   "metadata": {}
  },
  {
   "source": [
    "## References\n",
    "I'm not sure if i'll maintain this section or only add these to the README.md"
   ],
   "cell_type": "markdown",
   "metadata": {}
  }
 ]
}