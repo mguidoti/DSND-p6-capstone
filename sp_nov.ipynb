{
 "metadata": {
  "language_info": {
   "codemirror_mode": {
    "name": "ipython",
    "version": 3
   },
   "file_extension": ".py",
   "mimetype": "text/x-python",
   "name": "python",
   "nbconvert_exporter": "python",
   "pygments_lexer": "ipython3",
   "version": "3.7.7-final"
  },
  "orig_nbformat": 2,
  "kernelspec": {
   "name": "python37764bitp6capstonepipenv5669ae6087ed4b09baa5acbea9b4f0de",
   "display_name": "Python 3.7.7 64-bit ('p6-capstone': pipenv)"
  }
 },
 "nbformat": 4,
 "nbformat_minor": 2,
 "cells": [
  {
   "source": [
    "# General"
   ],
   "cell_type": "markdown",
   "metadata": {}
  },
  {
   "source": [
    "## Importing Libraries and Modules"
   ],
   "cell_type": "markdown",
   "metadata": {}
  },
  {
   "cell_type": "code",
   "execution_count": 1,
   "metadata": {},
   "outputs": [],
   "source": [
    "import pandas as pd\n",
    "import matplotlib as plt\n",
    "\n",
    "import pickle\n",
    "\n",
    "from sqlalchemy import create_engine\n",
    "\n",
    "import etl.extract.tb as tb_proc \n",
    "import etl.extract.wos as wos_parser\n",
    "import test_units.test_extract as test_ext\n",
    "import test_units.test_transform as test_tf"
   ]
  },
  {
   "source": [
    "## CRISP-DM"
   ],
   "cell_type": "markdown",
   "metadata": {}
  },
  {
   "source": [
    "## ETL"
   ],
   "cell_type": "markdown",
   "metadata": {}
  },
  {
   "source": [
    "### (E)xtraction\n"
   ],
   "cell_type": "markdown",
   "metadata": {}
  },
  {
   "source": [
    "#### Web of Science/Zoological Records\n",
    "WoS do not provide an API, as far as I know, and has strict access policies across the board of all of their products. Thus, I downloaded the search results using their GUI, manually, and coded a parser from scratch that loads the data from the 150+ files into a SQLite database.\n",
    "\n",
    "The specifics on how I queried this system is in the report, Methods section."
   ],
   "cell_type": "markdown",
   "metadata": {}
  },
  {
   "cell_type": "code",
   "execution_count": 175,
   "metadata": {},
   "outputs": [],
   "source": [
    "# Parse data, creates df\n",
    "# I commented out this command when I was working on the notebook, to accelerate the process of reloading this dataset\n",
    "#wos = wos_parser.create_df()\n",
    "\n",
    "# This is commented out because it generates a over 200Mb file that I couldn't push to GitHub, but I left it commented off here to show that I've worked on this\n",
    "#wos_parser.to_pickle(wos, 'data/wos.p')\n",
    "\n",
    "# Use the non-provided pickle file to reload this, if necessary\n",
    "wos = pd.read_pickle('data/wos.p')"
   ]
  },
  {
   "cell_type": "code",
   "execution_count": 176,
   "metadata": {},
   "outputs": [
    {
     "output_type": "execute_result",
     "data": {
      "text/plain": "  Publication Type Zoological Record Accession Number Document Type  \\\n0                J                    ZOOR14707048981       Article   \n1                J                    ZOOR14707048982       Article   \n2                J                    ZOOR14707048983       Article   \n3                J                    ZOOR14707048985       Article   \n4                J                    ZOOR14707048986       Article   \n\n                                               Title  \\\n0  Orthopterans of the Reserva Biologica Alberto ...   \n1  Further considerations on the genus Ananteris ...   \n2  Description of a new species of the genus Mela...   \n3  New arachnids from Puerto Rico (Arachnida: Amb...   \n4  Description of new hypogean taxa of Laparoceru...   \n\n                                       Foreign Title  \\\n0  Ortopteros de la Reserva Biologica Alberto Man...   \n1                                                NaN   \n2  Descripcion de una nueva especie del genero Me...   \n3  Nuevos aracnidos de Puerto Rico (Arachnida: Am...   \n4  Descripcion de nuevos Laparocerus hipogeos de ...   \n\n                                             Authors             Source  \\\n0                    Barranco, Pablo (pbvega@ual.es)  Boletin de la SEA   \n1  Lourenco, Wilson R. (arache@mnhn.fr), Duhem, B...  Boletin de la SEA   \n2             Ferrer, Julio, Tovar, Alejandro Castro  Boletin de la SEA   \n3            de Armas, Luis F. (zoologia.ies@ama.cu)  Boletin de la SEA   \n4  Machado, Antonio (a.machado@telefonica.net), G...  Boletin de la SEA   \n\n  Volume Page Span Publication Date  ... Journal URL Item URL Notes  NaN  \\\n0     47     21-32      31 Dec 2010  ...         NaN      NaN   NaN  NaN   \n1     47     33-38      31 Dec 2010  ...         NaN      NaN   NaN  NaN   \n2     47     39-44      31 Dec 2010  ...         NaN      NaN   NaN  NaN   \n3     47     55-64      31 Dec 2010  ...         NaN      NaN   NaN  NaN   \n4     47     65-69      31 Dec 2010  ...         NaN      NaN   NaN  NaN   \n\n  Book Authors Publisher Publisher Address  \\\n0          NaN       NaN               NaN   \n1          NaN       NaN               NaN   \n2          NaN       NaN               NaN   \n3          NaN       NaN               NaN   \n4          NaN       NaN               NaN   \n\n  International Standard Book Number (ISBN) Editors Group Authors  \n0                                       NaN     NaN           NaN  \n1                                       NaN     NaN           NaN  \n2                                       NaN     NaN           NaN  \n3                                       NaN     NaN           NaN  \n4                                       NaN     NaN           NaN  \n\n[5 rows x 42 columns]",
      "text/html": "<div>\n<style scoped>\n    .dataframe tbody tr th:only-of-type {\n        vertical-align: middle;\n    }\n\n    .dataframe tbody tr th {\n        vertical-align: top;\n    }\n\n    .dataframe thead th {\n        text-align: right;\n    }\n</style>\n<table border=\"1\" class=\"dataframe\">\n  <thead>\n    <tr style=\"text-align: right;\">\n      <th></th>\n      <th>Publication Type</th>\n      <th>Zoological Record Accession Number</th>\n      <th>Document Type</th>\n      <th>Title</th>\n      <th>Foreign Title</th>\n      <th>Authors</th>\n      <th>Source</th>\n      <th>Volume</th>\n      <th>Page Span</th>\n      <th>Publication Date</th>\n      <th>...</th>\n      <th>Journal URL</th>\n      <th>Item URL</th>\n      <th>Notes</th>\n      <th>NaN</th>\n      <th>Book Authors</th>\n      <th>Publisher</th>\n      <th>Publisher Address</th>\n      <th>International Standard Book Number (ISBN)</th>\n      <th>Editors</th>\n      <th>Group Authors</th>\n    </tr>\n  </thead>\n  <tbody>\n    <tr>\n      <th>0</th>\n      <td>J</td>\n      <td>ZOOR14707048981</td>\n      <td>Article</td>\n      <td>Orthopterans of the Reserva Biologica Alberto ...</td>\n      <td>Ortopteros de la Reserva Biologica Alberto Man...</td>\n      <td>Barranco, Pablo (pbvega@ual.es)</td>\n      <td>Boletin de la SEA</td>\n      <td>47</td>\n      <td>21-32</td>\n      <td>31 Dec 2010</td>\n      <td>...</td>\n      <td>NaN</td>\n      <td>NaN</td>\n      <td>NaN</td>\n      <td>NaN</td>\n      <td>NaN</td>\n      <td>NaN</td>\n      <td>NaN</td>\n      <td>NaN</td>\n      <td>NaN</td>\n      <td>NaN</td>\n    </tr>\n    <tr>\n      <th>1</th>\n      <td>J</td>\n      <td>ZOOR14707048982</td>\n      <td>Article</td>\n      <td>Further considerations on the genus Ananteris ...</td>\n      <td>NaN</td>\n      <td>Lourenco, Wilson R. (arache@mnhn.fr), Duhem, B...</td>\n      <td>Boletin de la SEA</td>\n      <td>47</td>\n      <td>33-38</td>\n      <td>31 Dec 2010</td>\n      <td>...</td>\n      <td>NaN</td>\n      <td>NaN</td>\n      <td>NaN</td>\n      <td>NaN</td>\n      <td>NaN</td>\n      <td>NaN</td>\n      <td>NaN</td>\n      <td>NaN</td>\n      <td>NaN</td>\n      <td>NaN</td>\n    </tr>\n    <tr>\n      <th>2</th>\n      <td>J</td>\n      <td>ZOOR14707048983</td>\n      <td>Article</td>\n      <td>Description of a new species of the genus Mela...</td>\n      <td>Descripcion de una nueva especie del genero Me...</td>\n      <td>Ferrer, Julio, Tovar, Alejandro Castro</td>\n      <td>Boletin de la SEA</td>\n      <td>47</td>\n      <td>39-44</td>\n      <td>31 Dec 2010</td>\n      <td>...</td>\n      <td>NaN</td>\n      <td>NaN</td>\n      <td>NaN</td>\n      <td>NaN</td>\n      <td>NaN</td>\n      <td>NaN</td>\n      <td>NaN</td>\n      <td>NaN</td>\n      <td>NaN</td>\n      <td>NaN</td>\n    </tr>\n    <tr>\n      <th>3</th>\n      <td>J</td>\n      <td>ZOOR14707048985</td>\n      <td>Article</td>\n      <td>New arachnids from Puerto Rico (Arachnida: Amb...</td>\n      <td>Nuevos aracnidos de Puerto Rico (Arachnida: Am...</td>\n      <td>de Armas, Luis F. (zoologia.ies@ama.cu)</td>\n      <td>Boletin de la SEA</td>\n      <td>47</td>\n      <td>55-64</td>\n      <td>31 Dec 2010</td>\n      <td>...</td>\n      <td>NaN</td>\n      <td>NaN</td>\n      <td>NaN</td>\n      <td>NaN</td>\n      <td>NaN</td>\n      <td>NaN</td>\n      <td>NaN</td>\n      <td>NaN</td>\n      <td>NaN</td>\n      <td>NaN</td>\n    </tr>\n    <tr>\n      <th>4</th>\n      <td>J</td>\n      <td>ZOOR14707048986</td>\n      <td>Article</td>\n      <td>Description of new hypogean taxa of Laparoceru...</td>\n      <td>Descripcion de nuevos Laparocerus hipogeos de ...</td>\n      <td>Machado, Antonio (a.machado@telefonica.net), G...</td>\n      <td>Boletin de la SEA</td>\n      <td>47</td>\n      <td>65-69</td>\n      <td>31 Dec 2010</td>\n      <td>...</td>\n      <td>NaN</td>\n      <td>NaN</td>\n      <td>NaN</td>\n      <td>NaN</td>\n      <td>NaN</td>\n      <td>NaN</td>\n      <td>NaN</td>\n      <td>NaN</td>\n      <td>NaN</td>\n      <td>NaN</td>\n    </tr>\n  </tbody>\n</table>\n<p>5 rows × 42 columns</p>\n</div>"
     },
     "metadata": {},
     "execution_count": 176
    }
   ],
   "source": [
    "# Checking if it loaded\n",
    "wos.head()"
   ]
  },
  {
   "source": [
    "#### TreatmentBank (Plazi)\n",
    "TreatmentBank has a powerful API with GUI. I used it to built the target query, and copied/pasted their URL into my code. From there I processed the results, adding them into a SQLite database. "
   ],
   "cell_type": "markdown",
   "metadata": {}
  },
  {
   "cell_type": "code",
   "execution_count": 4,
   "metadata": {
    "tags": []
   },
   "outputs": [],
   "source": [
    "# Process the hard-coded API call and creates a database from it\n",
    "# I'm commenting out because the SQLite db was provided and it contains a snapshot of the data I analyzed. As this includes an API call, running this now might get new data, changing my results\n",
    "\n",
    "#tb_proc.create_db(tb_proc.get_data())\n",
    "\n",
    "# Alternatively, I can simply load the .db\n",
    "db_connect = create_engine('sqlite:///data/tb.db')\n",
    "\n",
    "tb = pd.read_sql(\"docs\", con=db_connect)"
   ]
  },
  {
   "cell_type": "code",
   "execution_count": 5,
   "metadata": {},
   "outputs": [
    {
     "output_type": "execute_result",
     "data": {
      "text/plain": "   id                                            authors  year  \\\n0   1  Fernandez-Triana, Jose L & Whitfield, James B ...  2014   \n1   2      Barrales-Alcala, Diego A. & Francke, Oscar F.  2018   \n2   3  Guevara-Guerrero, Gonzalo & Bonito, Gregory & ...  2018   \n3   4  Balke, Michael & Ruthensteiner, Bernhard & War...  2015   \n4   5          Costa, Wilson J. E. M. & Amorim, Pedro F.  2018   \n\n                                               title  \\\n0  First record of the genus Venanus (Hymenoptera...   \n1  A new Sky Island species of Vaejovis C. L. Koc...   \n2  Tuberaztecorum sp. nov., a truffle species fro...   \n3  Two new species of Limbodessus diving beetles ...   \n4  Cryptic species diversity in the Hypsolebiasma...   \n\n                     journal volume issue start_page end_page num_treats  \n0  Biodiversity Data Journal      2     0       4167     4167          4  \n1                    ZooKeys    760     0         37       53          2  \n2                   MycoKeys     30     0         61       72          2  \n3  Biodiversity Data Journal      3     0       7096     7096          4  \n4                    ZooKeys    777     0        141      158          4  ",
      "text/html": "<div>\n<style scoped>\n    .dataframe tbody tr th:only-of-type {\n        vertical-align: middle;\n    }\n\n    .dataframe tbody tr th {\n        vertical-align: top;\n    }\n\n    .dataframe thead th {\n        text-align: right;\n    }\n</style>\n<table border=\"1\" class=\"dataframe\">\n  <thead>\n    <tr style=\"text-align: right;\">\n      <th></th>\n      <th>id</th>\n      <th>authors</th>\n      <th>year</th>\n      <th>title</th>\n      <th>journal</th>\n      <th>volume</th>\n      <th>issue</th>\n      <th>start_page</th>\n      <th>end_page</th>\n      <th>num_treats</th>\n    </tr>\n  </thead>\n  <tbody>\n    <tr>\n      <th>0</th>\n      <td>1</td>\n      <td>Fernandez-Triana, Jose L &amp; Whitfield, James B ...</td>\n      <td>2014</td>\n      <td>First record of the genus Venanus (Hymenoptera...</td>\n      <td>Biodiversity Data Journal</td>\n      <td>2</td>\n      <td>0</td>\n      <td>4167</td>\n      <td>4167</td>\n      <td>4</td>\n    </tr>\n    <tr>\n      <th>1</th>\n      <td>2</td>\n      <td>Barrales-Alcala, Diego A. &amp; Francke, Oscar F.</td>\n      <td>2018</td>\n      <td>A new Sky Island species of Vaejovis C. L. Koc...</td>\n      <td>ZooKeys</td>\n      <td>760</td>\n      <td>0</td>\n      <td>37</td>\n      <td>53</td>\n      <td>2</td>\n    </tr>\n    <tr>\n      <th>2</th>\n      <td>3</td>\n      <td>Guevara-Guerrero, Gonzalo &amp; Bonito, Gregory &amp; ...</td>\n      <td>2018</td>\n      <td>Tuberaztecorum sp. nov., a truffle species fro...</td>\n      <td>MycoKeys</td>\n      <td>30</td>\n      <td>0</td>\n      <td>61</td>\n      <td>72</td>\n      <td>2</td>\n    </tr>\n    <tr>\n      <th>3</th>\n      <td>4</td>\n      <td>Balke, Michael &amp; Ruthensteiner, Bernhard &amp; War...</td>\n      <td>2015</td>\n      <td>Two new species of Limbodessus diving beetles ...</td>\n      <td>Biodiversity Data Journal</td>\n      <td>3</td>\n      <td>0</td>\n      <td>7096</td>\n      <td>7096</td>\n      <td>4</td>\n    </tr>\n    <tr>\n      <th>4</th>\n      <td>5</td>\n      <td>Costa, Wilson J. E. M. &amp; Amorim, Pedro F.</td>\n      <td>2018</td>\n      <td>Cryptic species diversity in the Hypsolebiasma...</td>\n      <td>ZooKeys</td>\n      <td>777</td>\n      <td>0</td>\n      <td>141</td>\n      <td>158</td>\n      <td>4</td>\n    </tr>\n  </tbody>\n</table>\n</div>"
     },
     "metadata": {},
     "execution_count": 5
    }
   ],
   "source": [
    "# Checking if it loaded\n",
    "tb.head()"
   ]
  },
  {
   "source": [
    "#### Zoobank\n",
    "As explained, I performed a web scraping to collect data from Zoobank. For this, I used a Scrapy project, with custom Item, ItemLoader, in- and output processors and ItemPipeline. These can't quite be run from here, as far as I know, I can only create a CrawlerProcess that won't have these functionalities. This was then saved into a SQLite database, which is alternatively loaded here."
   ],
   "cell_type": "markdown",
   "metadata": {}
  },
  {
   "cell_type": "code",
   "execution_count": 216,
   "metadata": {},
   "outputs": [],
   "source": [
    "# Load the .db created from the web scraping\n",
    "db_connect = create_engine('sqlite:///data/zb.db')\n",
    "\n",
    "zb = pd.read_sql(\"docs\", con=db_connect)"
   ]
  },
  {
   "cell_type": "code",
   "execution_count": 217,
   "metadata": {},
   "outputs": [
    {
     "output_type": "execute_result",
     "data": {
      "text/plain": "   id                                            authors  year  \\\n0   1  Achatz, Johannes G., Matthew D. Hooge, A. Wall...  2010   \n1   2   Affilastro, Andrés A. O. & Ignacio Garcia-Mauro.  2010   \n2   3                                   Ahyong, Shane T.  2010   \n3   4  Ahyong, Shane T., Keiji Baba, Enrique Macphers...  2010   \n4   5                     Aibek, Ulykpan & Seiki Yamane.  2010   \n\n                                               title  \\\n0  Systematic revision of acoels with 9+0 sperm u...   \n1  A new Bothriurus (Scorpiones, Bothriuridae) fr...   \n2  The marine fauna of New Zealand: king crabs of...   \n3  A new classification of the Galatheoidea (Crus...   \n4  Discovery of the Subgenera Austrolasius and De...   \n\n                                             journal  bibref_details volume  \\\n0  Journal of Zoological Systematics and Evolutio...     48(1): 9-32     48   \n1                                            Zootaxa     2488: 52-64   2488   \n2                                                 No                          \n3                                            Zootaxa     2676: 57-68   2676   \n4          Japanese Journal of systematic entomology  16(2): 197-202     16   \n\n  issue start_page end_page from_year  \n0     1          9       32      2010  \n1               52       64      2010  \n2                                2010  \n3               57       68      2010  \n4     2        197      202      2010  ",
      "text/html": "<div>\n<style scoped>\n    .dataframe tbody tr th:only-of-type {\n        vertical-align: middle;\n    }\n\n    .dataframe tbody tr th {\n        vertical-align: top;\n    }\n\n    .dataframe thead th {\n        text-align: right;\n    }\n</style>\n<table border=\"1\" class=\"dataframe\">\n  <thead>\n    <tr style=\"text-align: right;\">\n      <th></th>\n      <th>id</th>\n      <th>authors</th>\n      <th>year</th>\n      <th>title</th>\n      <th>journal</th>\n      <th>bibref_details</th>\n      <th>volume</th>\n      <th>issue</th>\n      <th>start_page</th>\n      <th>end_page</th>\n      <th>from_year</th>\n    </tr>\n  </thead>\n  <tbody>\n    <tr>\n      <th>0</th>\n      <td>1</td>\n      <td>Achatz, Johannes G., Matthew D. Hooge, A. Wall...</td>\n      <td>2010</td>\n      <td>Systematic revision of acoels with 9+0 sperm u...</td>\n      <td>Journal of Zoological Systematics and Evolutio...</td>\n      <td>48(1): 9-32</td>\n      <td>48</td>\n      <td>1</td>\n      <td>9</td>\n      <td>32</td>\n      <td>2010</td>\n    </tr>\n    <tr>\n      <th>1</th>\n      <td>2</td>\n      <td>Affilastro, Andrés A. O. &amp; Ignacio Garcia-Mauro.</td>\n      <td>2010</td>\n      <td>A new Bothriurus (Scorpiones, Bothriuridae) fr...</td>\n      <td>Zootaxa</td>\n      <td>2488: 52-64</td>\n      <td>2488</td>\n      <td></td>\n      <td>52</td>\n      <td>64</td>\n      <td>2010</td>\n    </tr>\n    <tr>\n      <th>2</th>\n      <td>3</td>\n      <td>Ahyong, Shane T.</td>\n      <td>2010</td>\n      <td>The marine fauna of New Zealand: king crabs of...</td>\n      <td>No</td>\n      <td></td>\n      <td></td>\n      <td></td>\n      <td></td>\n      <td></td>\n      <td>2010</td>\n    </tr>\n    <tr>\n      <th>3</th>\n      <td>4</td>\n      <td>Ahyong, Shane T., Keiji Baba, Enrique Macphers...</td>\n      <td>2010</td>\n      <td>A new classification of the Galatheoidea (Crus...</td>\n      <td>Zootaxa</td>\n      <td>2676: 57-68</td>\n      <td>2676</td>\n      <td></td>\n      <td>57</td>\n      <td>68</td>\n      <td>2010</td>\n    </tr>\n    <tr>\n      <th>4</th>\n      <td>5</td>\n      <td>Aibek, Ulykpan &amp; Seiki Yamane.</td>\n      <td>2010</td>\n      <td>Discovery of the Subgenera Austrolasius and De...</td>\n      <td>Japanese Journal of systematic entomology</td>\n      <td>16(2): 197-202</td>\n      <td>16</td>\n      <td>2</td>\n      <td>197</td>\n      <td>202</td>\n      <td>2010</td>\n    </tr>\n  </tbody>\n</table>\n</div>"
     },
     "metadata": {},
     "execution_count": 217
    }
   ],
   "source": [
    "# Checking if it loaded\n",
    "zb.head()"
   ]
  },
  {
   "source": [
    "#### Exploratory Analyses: Extraction Tests\n",
    "Here I will make a series of tests to check if I'm getting all the data that I was supposed to be getting. For that, I'm going to use Python's assert, and some manual observations.\n"
   ],
   "cell_type": "markdown",
   "metadata": {}
  },
  {
   "source": [
    "##### Web of Science/Zoological Records\n",
    "These were the observed results from the WoS GUI, per year:\n",
    "\n",
    "- 2010: 7207 results\n",
    "- 2011: 7480 results\n",
    "- 2012: 7604 results\n",
    "- 2013: 7655 results\n",
    "- 2014: 7456 results\n",
    "- 2015: 7983 results\n",
    "- 2016: 7859 results\n",
    "- 2017: 8023 results\n",
    "- 2018: 7973 results\n",
    "- 2019: 7664 results\n",
    "- 2020: 3548 results\n"
   ],
   "cell_type": "markdown",
   "metadata": {}
  },
  {
   "cell_type": "code",
   "execution_count": 8,
   "metadata": {},
   "outputs": [],
   "source": [
    "# Create a dict with year: official results, to be used on a data consistency test\n",
    "wos_results = {\n",
    "    '2010': 7207,\n",
    "    '2011': 7480,\n",
    "    '2012': 7604,\n",
    "    '2013': 7655,\n",
    "    '2014': 7456,\n",
    "    '2015': 7983,\n",
    "    '2016': 7859,\n",
    "    '2017': 8023,\n",
    "    '2018': 7973,\n",
    "    '2019': 7664,\n",
    "    '2020': 3548,\n",
    "}"
   ]
  },
  {
   "cell_type": "code",
   "execution_count": 9,
   "metadata": {},
   "outputs": [
    {
     "output_type": "execute_result",
     "data": {
      "text/plain": "Index([                                     'Publication Type',\n                          'Zoological Record Accession Number',\n                                               'Document Type',\n                                                       'Title',\n                                               'Foreign Title',\n                                                     'Authors',\n                                                      'Source',\n                                                      'Volume',\n                                                   'Page Span',\n                                            'Publication Date',\n                                              'Year Published',\n                                                    'Language',\n                                 'Usage Count (Last 180 Days)',\n                                    'Usage Count (Since 2013)',\n                                                    'Abstract',\n                                              'Author Address',\n                                              'E-mail Address',\n       'ORCID Identifier (Open Researcher and Contributor ID)',\n                                              'Research Areas',\n                 'International Standard Serial Number (ISSN)',\n                                                 'Broad Terms',\n                                            'Descriptors Data',\n                                                  'Taxa Notes',\n                                                  'Super Taxa',\n                                                 'Systematics',\n                                   'Unique Article Identifier',\n                              'Date this report was generated',\n                                                       'Issue',\n                                       'Open Access Indicator',\n                             'Digital Object Identifier (DOI)',\n                                         'ResearcherID Number',\n                                                  'Supplement',\n                                                 'Journal URL',\n                                                    'Item URL',\n                                                       'Notes',\n                                                          None,\n                                                'Book Authors',\n                                                   'Publisher',\n                                           'Publisher Address',\n                   'International Standard Book Number (ISBN)',\n                                                     'Editors',\n                                               'Group Authors'],\n      dtype='object')"
     },
     "metadata": {},
     "execution_count": 9
    }
   ],
   "source": [
    "# Checkout column names to get the right one: 'Year Published'\n",
    "wos.columns"
   ]
  },
  {
   "cell_type": "code",
   "execution_count": 10,
   "metadata": {},
   "outputs": [],
   "source": [
    "# Create a pandas.Series with the ordered counts of the 'Year Published' column\n",
    "wos_years_count = wos['Year Published'].value_counts().sort_index()"
   ]
  },
  {
   "cell_type": "code",
   "execution_count": 11,
   "metadata": {
    "tags": []
   },
   "outputs": [
    {
     "output_type": "stream",
     "name": "stdout",
     "text": "--------------------------------------------------------------------------\nTesting for... WOS/ZOOLOGICAL RECORDS\n--------------------------------------------------------------------------\nSUCCESS! Total count was equal between the processed and official results!\n--------------------------------------------------------------------------\nSUCCESS! the year 2010 seems to be fine!\nSUCCESS! the year 2011 seems to be fine!\nSUCCESS! the year 2012 seems to be fine!\nSUCCESS! the year 2013 seems to be fine!\nSUCCESS! the year 2014 seems to be fine!\nSUCCESS! the year 2015 seems to be fine!\nSUCCESS! the year 2016 seems to be fine!\nSUCCESS! the year 2017 seems to be fine!\nSUCCESS! the year 2018 seems to be fine!\nSUCCESS! the year 2019 seems to be fine!\nSUCCESS! the year 2020 seems to be fine!\n--------------------------------------------------------------------------\n"
    }
   ],
   "source": [
    "# Calling the test with WoS/Zoological Record data\n",
    "test_ext.check_consistency(\"WoS/Zoological Records\", wos_years_count, wos_results)"
   ]
  },
  {
   "source": [
    "##### TreatmentBank\n",
    "I can't make new API calls. The reason why is that as the data is live I might risk to get more data than I have got when I first run this, which could cause different results. \n",
    "\n",
    "That's why I saved a .pickle file with the entire response of the API on the routine call, besides the .db resulting of the processing of this data. As such, I can compare the total number of records in both (and per year!) to check if my processing missed something or not, using the same function applied to WoS data."
   ],
   "cell_type": "markdown",
   "metadata": {}
  },
  {
   "cell_type": "code",
   "execution_count": 12,
   "metadata": {},
   "outputs": [],
   "source": [
    "# Creating a dict with the counts of records per year, based on the total response saved from the API call to TreatmentBank\n",
    "\n",
    "# Open .pickle\n",
    "with open('data/tb_response.p', 'rb') as p_file:\n",
    "        tb_response = pickle.load(p_file)\n",
    "\n",
    "tb_response_years_count = dict()\n",
    "\n",
    "# Iterate over the full response, and create the counting\n",
    "for result in tb_response['data']:\n",
    "    try:\n",
    "        tb_response_years_count[result['BibYear']] += 1\n",
    "    except:\n",
    "        tb_response_years_count[result['BibYear']] = 1"
   ]
  },
  {
   "cell_type": "code",
   "execution_count": 13,
   "metadata": {},
   "outputs": [],
   "source": [
    "# Create a pandas.Series with the ordered counts of the 'year' column\n",
    "tb_years_count = tb['year'].value_counts().sort_index()"
   ]
  },
  {
   "cell_type": "code",
   "execution_count": 15,
   "metadata": {
    "tags": []
   },
   "outputs": [
    {
     "output_type": "stream",
     "name": "stdout",
     "text": "--------------------------------------------------------------------------\nTesting for... TREATMENTBANK\n--------------------------------------------------------------------------\nSUCCESS! Total count was equal between the processed and official results!\n--------------------------------------------------------------------------\nSUCCESS! the year 2014 seems to be fine!\nSUCCESS! the year 2018 seems to be fine!\nSUCCESS! the year 2015 seems to be fine!\nSUCCESS! the year 2016 seems to be fine!\nSUCCESS! the year 2013 seems to be fine!\nSUCCESS! the year 2017 seems to be fine!\nSUCCESS! the year 2011 seems to be fine!\nSUCCESS! the year 2012 seems to be fine!\nSUCCESS! the year 2020 seems to be fine!\nSUCCESS! the year 2010 seems to be fine!\nSUCCESS! the year 2019 seems to be fine!\n--------------------------------------------------------------------------\n"
    }
   ],
   "source": [
    "# Calling the test with TreatmentBank data\n",
    "test_ext.check_consistency(\"TreatmentBank\", tb_years_count, tb_response_years_count)"
   ]
  },
  {
   "source": [
    "##### Zoobank\n",
    "These were the observed results from the Zoobank, per year:\n",
    "\n",
    "- 2010: 1128 results\n",
    "- 2011: 1430 results\n",
    "- 2012: 2482 results\n",
    "- 2013: 4293 results\n",
    "- 2014: 4829 results\n",
    "- 2015: 5552 results\n",
    "- 2016: 5732 results\n",
    "- 2017: 6098 results\n",
    "- 2018: 6401 results\n",
    "- 2019: 6386 results\n",
    "- 2020: 4554 results"
   ],
   "cell_type": "markdown",
   "metadata": {}
  },
  {
   "cell_type": "code",
   "execution_count": 16,
   "metadata": {},
   "outputs": [],
   "source": [
    "# Create a dict with year: official results, to be used on a data consistency test\n",
    "zb_results = {\n",
    "    '2010': 1128,\n",
    "    '2011': 1430,\n",
    "    '2012': 2482,\n",
    "    '2013': 4293,\n",
    "    '2014': 4829,\n",
    "    '2015': 5552,\n",
    "    '2016': 5732,\n",
    "    '2017': 6098,\n",
    "    '2018': 6401,\n",
    "    '2019': 6386,\n",
    "    '2020': 4554,\n",
    "}"
   ]
  },
  {
   "cell_type": "code",
   "execution_count": 17,
   "metadata": {},
   "outputs": [
    {
     "output_type": "execute_result",
     "data": {
      "text/plain": "['id',\n 'authors',\n 'year',\n 'title',\n 'journal',\n 'bibref_details',\n 'volume',\n 'issue',\n 'start_page',\n 'end_page',\n 'from_year']"
     },
     "metadata": {},
     "execution_count": 17
    }
   ],
   "source": [
    "# Check the existing columns in this dataframe\n",
    "list(zb.columns)"
   ]
  },
  {
   "source": [
    "Here there is one interesting caveat. Zoobank allow users to register papers from the past, and when queried by year, it shows not the publications published on that year, but the publications **registred** on that year. \n",
    "\n",
    "As such, we might have all sort of years in the column 'year'."
   ],
   "cell_type": "markdown",
   "metadata": {}
  },
  {
   "cell_type": "code",
   "execution_count": 18,
   "metadata": {},
   "outputs": [
    {
     "output_type": "execute_result",
     "data": {
      "text/plain": "1847       2\n1877       2\n1878       1\n1880       2\n1881       1\n1883       1\n1887       2\n1888       2\n1889       3\n1894       1\n1896       2\n1898       2\n1902       1\n1905       1\n1917       1\n1919       3\n1923       1\n1927       3\n1932       1\n1933       1\n1936       1\n1937       5\n1951       4\n1952       3\n1960       1\n1962       1\n1967       1\n1969       1\n1972       2\n1986       1\n1989       1\n1996       2\n1999       4\n2001       1\n2002       1\n2003       9\n2004       1\n2008       1\n2009       4\n2010    1023\n2011    1318\n2012    2387\n2013    4253\n2014    4774\n2015    5550\n2016    5779\n2017    6119\n2018    6434\n2019    6497\n2020    4674\nName: year, dtype: int64"
     },
     "metadata": {},
     "execution_count": 18
    }
   ],
   "source": [
    "# Create a pandas.Series with the ordered counts of the 'year' column\n",
    "zb_years_count = zb['year'].value_counts().sort_index()\n",
    "\n",
    "# Check results\n",
    "zb_years_count"
   ]
  },
  {
   "source": [
    "To address this situation, I included a column on zb.db called 'from_year', which extracts the year being queried on the response.url, inside the parser() of the spider used to scrape Zoobank, and add to this column. \n",
    "\n",
    "This means that we can get the total (included) per year, to compare with the official results."
   ],
   "cell_type": "markdown",
   "metadata": {}
  },
  {
   "cell_type": "code",
   "execution_count": 19,
   "metadata": {},
   "outputs": [
    {
     "output_type": "execute_result",
     "data": {
      "text/plain": "2010    1128\n2011    1430\n2012    2482\n2013    4293\n2014    4829\n2015    5552\n2016    5732\n2017    6098\n2018    6401\n2019    6386\n2020    4554\nName: from_year, dtype: int64"
     },
     "metadata": {},
     "execution_count": 19
    }
   ],
   "source": [
    "# Create a pandas.Series with the ordered counts of the 'Year Published' column\n",
    "zb_years_count = zb['from_year'].value_counts().sort_index()\n",
    "\n",
    "# Check results\n",
    "zb_years_count"
   ]
  },
  {
   "cell_type": "code",
   "execution_count": 20,
   "metadata": {
    "tags": []
   },
   "outputs": [
    {
     "output_type": "stream",
     "name": "stdout",
     "text": "--------------------------------------------------------------------------\nTesting for... ZOOBANK\n--------------------------------------------------------------------------\nSUCCESS! Total count was equal between the processed and official results!\n--------------------------------------------------------------------------\nSUCCESS! the year 2010 seems to be fine!\nSUCCESS! the year 2011 seems to be fine!\nSUCCESS! the year 2012 seems to be fine!\nSUCCESS! the year 2013 seems to be fine!\nSUCCESS! the year 2014 seems to be fine!\nSUCCESS! the year 2015 seems to be fine!\nSUCCESS! the year 2016 seems to be fine!\nSUCCESS! the year 2017 seems to be fine!\nSUCCESS! the year 2018 seems to be fine!\nSUCCESS! the year 2019 seems to be fine!\nSUCCESS! the year 2020 seems to be fine!\n--------------------------------------------------------------------------\n"
    }
   ],
   "source": [
    "# Now that I have both dictionary with official results and the pandas.Series with the processed results, I can call the unit test function\n",
    "test_ext.check_consistency(\"Zoobank\", zb_years_count, zb_results) "
   ]
  },
  {
   "source": [
    "It seems that the data I processed into databases are consistent with the data observed on the sources and that the processing were completed flawlessly. \n",
    "\n",
    "It's time to move on."
   ],
   "cell_type": "markdown",
   "metadata": {}
  },
  {
   "source": [
    "### (T)ransform\n",
    "\n",
    "I'm aiming one single pandas.DataFrame with the counts of papers for each one of the three data sources, grouped per journal, with years on the columns. Thus, it's a MultiIndex dataframe (journal x Source/Year). But to achieve this, I want first check the following aspects of these data for all three sources:\n",
    "\n",
    "1. Check for duplicates\n",
    "2. Check the amount of NaN on the to-be-used 'year' columns\n",
    "3. Group by journal and check the data quality of the journals' names\n"
   ],
   "cell_type": "markdown",
   "metadata": {}
  },
  {
   "source": [
    "#### Exploratory Analyses: Before Transform\n"
   ],
   "cell_type": "markdown",
   "metadata": {}
  },
  {
   "source": [
    "##### Web of Science/Zoological Records"
   ],
   "cell_type": "markdown",
   "metadata": {}
  },
  {
   "cell_type": "code",
   "execution_count": 177,
   "metadata": {},
   "outputs": [
    {
     "output_type": "execute_result",
     "data": {
      "text/plain": "Index([                                     'Publication Type',\n                          'Zoological Record Accession Number',\n                                               'Document Type',\n                                                       'Title',\n                                               'Foreign Title',\n                                                     'Authors',\n                                                      'Source',\n                                                      'Volume',\n                                                   'Page Span',\n                                            'Publication Date',\n                                              'Year Published',\n                                                    'Language',\n                                 'Usage Count (Last 180 Days)',\n                                    'Usage Count (Since 2013)',\n                                                    'Abstract',\n                                              'Author Address',\n                                              'E-mail Address',\n       'ORCID Identifier (Open Researcher and Contributor ID)',\n                                              'Research Areas',\n                 'International Standard Serial Number (ISSN)',\n                                                 'Broad Terms',\n                                            'Descriptors Data',\n                                                  'Taxa Notes',\n                                                  'Super Taxa',\n                                                 'Systematics',\n                                   'Unique Article Identifier',\n                              'Date this report was generated',\n                                                       'Issue',\n                                       'Open Access Indicator',\n                             'Digital Object Identifier (DOI)',\n                                         'ResearcherID Number',\n                                                  'Supplement',\n                                                 'Journal URL',\n                                                    'Item URL',\n                                                       'Notes',\n                                                          None,\n                                                'Book Authors',\n                                                   'Publisher',\n                                           'Publisher Address',\n                   'International Standard Book Number (ISBN)',\n                                                     'Editors',\n                                               'Group Authors'],\n      dtype='object')"
     },
     "metadata": {},
     "execution_count": 177
    }
   ],
   "source": [
    "# First, check the available columns again\n",
    "wos.columns"
   ]
  },
  {
   "source": [
    "###### Duplicates\n",
    "\n",
    "With this I can see that the column 'Digital Object Identifier (DOI)' might contain a persistent, unique identifier, but not all papers will have it. So I'll perform two different checks for duplicates for this source:\n",
    "\n",
    "1. Based on 'Digital Object Identifier (DOI)'\n",
    "2. Based on the columns: 'Source', 'Year Published', 'Volume', 'Issue', 'Page Span'"
   ],
   "cell_type": "markdown",
   "metadata": {}
  },
  {
   "cell_type": "code",
   "execution_count": 266,
   "metadata": {},
   "outputs": [
    {
     "output_type": "execute_result",
     "data": {
      "text/plain": "False    7964\nTrue        4\ndtype: int64"
     },
     "metadata": {},
     "execution_count": 266
    }
   ],
   "source": [
    "# Method 01 - DOI\n",
    "\n",
    "# First, select the ones that has DOIs\n",
    "wos_duplicates = wos.dropna(subset=['Digital Object Identifier (DOI)'], how='all', inplace=False)\n",
    "\n",
    "# Then, search for duplicates. 'True' will indicate the existence of them.\n",
    "wos_duplicates.duplicated(subset=['Digital Object Identifier (DOI)'], keep=False).value_counts()"
   ]
  },
  {
   "cell_type": "code",
   "execution_count": 267,
   "metadata": {},
   "outputs": [
    {
     "output_type": "execute_result",
     "data": {
      "text/plain": "      Publication Type Zoological Record Accession Number Document Type  \\\n77                   J                    ZOOR14704030516       Article   \n10549                J                    ZOOR14707054161       Article   \n11930                J                    ZOOR14705036582       Article   \n12433                J                    ZOOR14705041437       Article   \n\n                                                   Title Foreign Title  \\\n77     A New Genus of the Spider Family Caponiidae (A...           NaN   \n10549  Apseudes talpa revisited (Crustacea; Tanaidace...           NaN   \n11930  The Goblin Spider Genus Aprusia Simon, 1893 (A...           NaN   \n12433  Tanaidaceans (Crustacea) from the Central Paci...           NaN   \n\n                                                 Authors  \\\n77     Sanchez-Ruiz, Alexander (alex@bioeco.ciges.inf...   \n10549  Larsen, Kim (tanaids@hotmail.com), Bertocci, I...   \n11930  Grismado, Cristian J. (grismado@macn.gov.ar), ...   \n12433                  Larsen, Kim (tanaids@hotmail.com)   \n\n                          Source Volume Page Span Publication Date  ...  \\\n77     American Museum Novitates   3705      1-44      Dec 29 2010  ...   \n10549                    Zootaxa   2886     19-30      23 May 2011  ...   \n11930  American Museum Novitates   3706      1-21       Feb 3 2011  ...   \n12433                    ZooKeys     87     19-41             2011  ...   \n\n                                             Journal URL  \\\n77                                                   NaN   \n10549  http://www.mapress.com/zootaxa/list/2011/2886....   \n11930                                                NaN   \n12433  http://www.pensoft.net/journals/zookeys/http:/...   \n\n                                                Item URL Notes       NaN  \\\n77                                                   NaN   NaN       NaN   \n10549  http://www.mapress.com/zootaxa/2011/2/zt02886p...   NaN  21594100   \n11930                                                NaN   NaN       NaN   \n12433  http://www.pensoft.net/journal_home_page.php?j...   NaN  21594100   \n\n      Book Authors Publisher Publisher Address  \\\n77             NaN       NaN               NaN   \n10549          NaN       NaN               NaN   \n11930          NaN       NaN               NaN   \n12433          NaN       NaN               NaN   \n\n      International Standard Book Number (ISBN) Editors Group Authors  \n77                                          NaN     NaN           NaN  \n10549                                       NaN     NaN           NaN  \n11930                                       NaN     NaN           NaN  \n12433                                       NaN     NaN           NaN  \n\n[4 rows x 42 columns]",
      "text/html": "<div>\n<style scoped>\n    .dataframe tbody tr th:only-of-type {\n        vertical-align: middle;\n    }\n\n    .dataframe tbody tr th {\n        vertical-align: top;\n    }\n\n    .dataframe thead th {\n        text-align: right;\n    }\n</style>\n<table border=\"1\" class=\"dataframe\">\n  <thead>\n    <tr style=\"text-align: right;\">\n      <th></th>\n      <th>Publication Type</th>\n      <th>Zoological Record Accession Number</th>\n      <th>Document Type</th>\n      <th>Title</th>\n      <th>Foreign Title</th>\n      <th>Authors</th>\n      <th>Source</th>\n      <th>Volume</th>\n      <th>Page Span</th>\n      <th>Publication Date</th>\n      <th>...</th>\n      <th>Journal URL</th>\n      <th>Item URL</th>\n      <th>Notes</th>\n      <th>NaN</th>\n      <th>Book Authors</th>\n      <th>Publisher</th>\n      <th>Publisher Address</th>\n      <th>International Standard Book Number (ISBN)</th>\n      <th>Editors</th>\n      <th>Group Authors</th>\n    </tr>\n  </thead>\n  <tbody>\n    <tr>\n      <th>77</th>\n      <td>J</td>\n      <td>ZOOR14704030516</td>\n      <td>Article</td>\n      <td>A New Genus of the Spider Family Caponiidae (A...</td>\n      <td>NaN</td>\n      <td>Sanchez-Ruiz, Alexander (alex@bioeco.ciges.inf...</td>\n      <td>American Museum Novitates</td>\n      <td>3705</td>\n      <td>1-44</td>\n      <td>Dec 29 2010</td>\n      <td>...</td>\n      <td>NaN</td>\n      <td>NaN</td>\n      <td>NaN</td>\n      <td>NaN</td>\n      <td>NaN</td>\n      <td>NaN</td>\n      <td>NaN</td>\n      <td>NaN</td>\n      <td>NaN</td>\n      <td>NaN</td>\n    </tr>\n    <tr>\n      <th>10549</th>\n      <td>J</td>\n      <td>ZOOR14707054161</td>\n      <td>Article</td>\n      <td>Apseudes talpa revisited (Crustacea; Tanaidace...</td>\n      <td>NaN</td>\n      <td>Larsen, Kim (tanaids@hotmail.com), Bertocci, I...</td>\n      <td>Zootaxa</td>\n      <td>2886</td>\n      <td>19-30</td>\n      <td>23 May 2011</td>\n      <td>...</td>\n      <td>http://www.mapress.com/zootaxa/list/2011/2886....</td>\n      <td>http://www.mapress.com/zootaxa/2011/2/zt02886p...</td>\n      <td>NaN</td>\n      <td>21594100</td>\n      <td>NaN</td>\n      <td>NaN</td>\n      <td>NaN</td>\n      <td>NaN</td>\n      <td>NaN</td>\n      <td>NaN</td>\n    </tr>\n    <tr>\n      <th>11930</th>\n      <td>J</td>\n      <td>ZOOR14705036582</td>\n      <td>Article</td>\n      <td>The Goblin Spider Genus Aprusia Simon, 1893 (A...</td>\n      <td>NaN</td>\n      <td>Grismado, Cristian J. (grismado@macn.gov.ar), ...</td>\n      <td>American Museum Novitates</td>\n      <td>3706</td>\n      <td>1-21</td>\n      <td>Feb 3 2011</td>\n      <td>...</td>\n      <td>NaN</td>\n      <td>NaN</td>\n      <td>NaN</td>\n      <td>NaN</td>\n      <td>NaN</td>\n      <td>NaN</td>\n      <td>NaN</td>\n      <td>NaN</td>\n      <td>NaN</td>\n      <td>NaN</td>\n    </tr>\n    <tr>\n      <th>12433</th>\n      <td>J</td>\n      <td>ZOOR14705041437</td>\n      <td>Article</td>\n      <td>Tanaidaceans (Crustacea) from the Central Paci...</td>\n      <td>NaN</td>\n      <td>Larsen, Kim (tanaids@hotmail.com)</td>\n      <td>ZooKeys</td>\n      <td>87</td>\n      <td>19-41</td>\n      <td>2011</td>\n      <td>...</td>\n      <td>http://www.pensoft.net/journals/zookeys/http:/...</td>\n      <td>http://www.pensoft.net/journal_home_page.php?j...</td>\n      <td>NaN</td>\n      <td>21594100</td>\n      <td>NaN</td>\n      <td>NaN</td>\n      <td>NaN</td>\n      <td>NaN</td>\n      <td>NaN</td>\n      <td>NaN</td>\n    </tr>\n  </tbody>\n</table>\n<p>4 rows × 42 columns</p>\n</div>"
     },
     "metadata": {},
     "execution_count": 267
    }
   ],
   "source": [
    "# Checking these four duplicates...\n",
    "wos_duplicates[wos_duplicates.duplicated(subset=['Digital Object Identifier (DOI)'], keep=False)]"
   ]
  },
  {
   "cell_type": "code",
   "execution_count": 268,
   "metadata": {},
   "outputs": [
    {
     "output_type": "execute_result",
     "data": {
      "text/plain": "77               10.1206/3705.2\n10549    10.3897/zookeys.87.784\n11930            10.1206/3705.2\n12433    10.3897/zookeys.87.784\nName: Digital Object Identifier (DOI), dtype: object"
     },
     "metadata": {},
     "execution_count": 268
    }
   ],
   "source": [
    "# They doesn't seem to be duplicates. Check their DOIs\n",
    "wos_duplicates[wos_duplicates.duplicated(subset=['Digital Object Identifier (DOI)'], keep=False)]['Digital Object Identifier (DOI)']"
   ]
  },
  {
   "source": [
    "They have the same DOI, but they are clearly different papers (if you look into title, authors, and everything else!) So, **false-positives**, despite the same DOIs. Moving on..."
   ],
   "cell_type": "markdown",
   "metadata": {}
  },
  {
   "cell_type": "code",
   "execution_count": 269,
   "metadata": {},
   "outputs": [],
   "source": [
    "# Method 02\n",
    "\n",
    "# Stores records that is not NaN on all selected fields\n",
    "wos_duplicates = wos.dropna(subset=['Source', 'Year Published', 'Volume', 'Issue', 'Page Span'], how='all', inplace=False)"
   ]
  },
  {
   "cell_type": "code",
   "execution_count": 270,
   "metadata": {},
   "outputs": [
    {
     "output_type": "execute_result",
     "data": {
      "text/plain": "0"
     },
     "metadata": {},
     "execution_count": 270
    }
   ],
   "source": [
    "# Compare the lenght of the original df with this recently created one. Zero means no record that met the criteria was found\n",
    "wos_duplicates.shape[0] - wos.shape[0]"
   ]
  },
  {
   "cell_type": "code",
   "execution_count": 283,
   "metadata": {},
   "outputs": [
    {
     "output_type": "execute_result",
     "data": {
      "text/plain": "False    80194\nTrue       258\ndtype: int64"
     },
     "metadata": {},
     "execution_count": 283
    }
   ],
   "source": [
    "# If there are no all-NaNs, then, check for duplicates\n",
    "wos_duplicates.duplicated(subset=['Source', 'Year Published', 'Volume', 'Issue', 'Page Span'], keep=False).value_counts()"
   ]
  },
  {
   "cell_type": "code",
   "execution_count": 272,
   "metadata": {},
   "outputs": [
    {
     "output_type": "execute_result",
     "data": {
      "text/plain": "      Publication Type Zoological Record Accession Number Document Type  \\\n1296                 J                    ZOOR15410067947       Article   \n2504                 J                    ZOOR14801000011       Article   \n2505                 J                    ZOOR14801000012       Article   \n5670                 J                    ZOOR15009042744       Article   \n5671                 J                    ZOOR15009042745       Article   \n...                ...                                ...           ...   \n80071                J                    ZOOR15604029227       Article   \n80119                J                    ZOOR15607047778       Article   \n80121                J                    ZOOR15607048143       Article   \n80122                J                    ZOOR15607047772       Article   \n80123                J                    ZOOR15607047402       Article   \n\n                                                   Title  \\\n1296   Bryozoans from the Jurginskaya Formation (Fame...   \n2504   THE GENUS PSORTHASPIS (HYMENOPTERA: POMPILIDAE...   \n2505   Three new species of Hyphessobrycon group hete...   \n5670   THE GENUS PSORTHASPIS (HYMENOPTERA: POMPILIDAE...   \n5671   Three new species of Hyphessobrycon group hete...   \n...                                                  ...   \n80071  Description of a new species of the genus Acro...   \n80119  Cercyon Leach, 1817 (Coleoptera: Hydrophilidae...   \n80121  Veliidae (Insecta: Heteroptera: Gerromorpha) f...   \n80122  Three new species of Bruggmanniella Tavares, 1...   \n80123  Diolcogaster choi sp. nov. from Brazil, a new ...   \n\n                                           Foreign Title  \\\n1296                                                 NaN   \n2504                                                 NaN   \n2505   Tres nuevas especies de Hyphessobrycon grupo h...   \n5670                                                 NaN   \n5671   TRES NUEVAS ESPECIES DE Hyphessobrycon GRUPO h...   \n...                                                  ...   \n80071                                                NaN   \n80119                                                NaN   \n80121                                                NaN   \n80122                                                NaN   \n80123                                                NaN   \n\n                                                 Authors  \\\n1296             Tolokonnikova, Zoya (zalatoi@yandex.ru)   \n2504   Rodriquez, Juanita (juanitarodrigueza@gmail.co...   \n2505   Garcia-Alzate, Carlos A. (cagarcia@uniquindio....   \n5670   Rodriguez, Juanita (juanitarodrigueza@gmail.co...   \n5671   Garcia-Alzate, Carlos A. (cagarcia@uniquindio....   \n...                                                  ...   \n80071  Okamoto, Makoto (epigonidae@gmail.com), Willia...   \n80119  Clarkson, Bruno, Mise, Kleber M., Almeida, Luc...   \n80121  Morales, Irina (irina.morales@uptc.edu.co), Mo...   \n80122  Rodrigues, Alene Ramos (alenerodrigues@yahoo.c...   \n80123  Salgado-Neto, Geraldo (gsalgado@bol.com.br), M...   \n\n                                  Source Volume Page Span Publication Date  \\\n1296                            Geologos     16   139-152         Oct 2010   \n2504                            Caldasia     32   435-441    July-Dec 2010   \n2505                            Caldasia     32   443-461    July-Dec 2010   \n5670                            Caldasia     32   435-441             2010   \n5671                            Caldasia     32   443-461             2010   \n...                                  ...    ...       ...              ...   \n80071            Ichthyological Research     67     39-49         Jan 2020   \n80119  Revista Brasileira de Entomologia     64       1-8             2020   \n80121  Revista Brasileira de Entomologia     64       1-6             2020   \n80122  Revista Brasileira de Entomologia     64       1-8             2020   \n80123  Revista Brasileira de Entomologia     64       1-6             2020   \n\n       ... Journal URL Item URL Notes  NaN Book Authors Publisher  \\\n1296   ...         NaN      NaN   NaN  NaN          NaN       NaN   \n2504   ...         NaN      NaN   NaN  NaN          NaN       NaN   \n2505   ...         NaN      NaN   NaN  NaN          NaN       NaN   \n5670   ...         NaN      NaN   NaN  NaN          NaN       NaN   \n5671   ...         NaN      NaN   NaN  NaN          NaN       NaN   \n...    ...         ...      ...   ...  ...          ...       ...   \n80071  ...         NaN      NaN   NaN  NaN          NaN       NaN   \n80119  ...         NaN      NaN   NaN  NaN          NaN       NaN   \n80121  ...         NaN      NaN   NaN  NaN          NaN       NaN   \n80122  ...         NaN      NaN   NaN  NaN          NaN       NaN   \n80123  ...         NaN      NaN   NaN  NaN          NaN       NaN   \n\n      Publisher Address International Standard Book Number (ISBN) Editors  \\\n1296                NaN                                       NaN     NaN   \n2504                NaN                                       NaN     NaN   \n2505                NaN                                       NaN     NaN   \n5670                NaN                                       NaN     NaN   \n5671                NaN                                       NaN     NaN   \n...                 ...                                       ...     ...   \n80071               NaN                                       NaN     NaN   \n80119               NaN                                       NaN     NaN   \n80121               NaN                                       NaN     NaN   \n80122               NaN                                       NaN     NaN   \n80123               NaN                                       NaN     NaN   \n\n      Group Authors  \n1296            NaN  \n2504            NaN  \n2505            NaN  \n5670            NaN  \n5671            NaN  \n...             ...  \n80071           NaN  \n80119           NaN  \n80121           NaN  \n80122           NaN  \n80123           NaN  \n\n[258 rows x 42 columns]",
      "text/html": "<div>\n<style scoped>\n    .dataframe tbody tr th:only-of-type {\n        vertical-align: middle;\n    }\n\n    .dataframe tbody tr th {\n        vertical-align: top;\n    }\n\n    .dataframe thead th {\n        text-align: right;\n    }\n</style>\n<table border=\"1\" class=\"dataframe\">\n  <thead>\n    <tr style=\"text-align: right;\">\n      <th></th>\n      <th>Publication Type</th>\n      <th>Zoological Record Accession Number</th>\n      <th>Document Type</th>\n      <th>Title</th>\n      <th>Foreign Title</th>\n      <th>Authors</th>\n      <th>Source</th>\n      <th>Volume</th>\n      <th>Page Span</th>\n      <th>Publication Date</th>\n      <th>...</th>\n      <th>Journal URL</th>\n      <th>Item URL</th>\n      <th>Notes</th>\n      <th>NaN</th>\n      <th>Book Authors</th>\n      <th>Publisher</th>\n      <th>Publisher Address</th>\n      <th>International Standard Book Number (ISBN)</th>\n      <th>Editors</th>\n      <th>Group Authors</th>\n    </tr>\n  </thead>\n  <tbody>\n    <tr>\n      <th>1296</th>\n      <td>J</td>\n      <td>ZOOR15410067947</td>\n      <td>Article</td>\n      <td>Bryozoans from the Jurginskaya Formation (Fame...</td>\n      <td>NaN</td>\n      <td>Tolokonnikova, Zoya (zalatoi@yandex.ru)</td>\n      <td>Geologos</td>\n      <td>16</td>\n      <td>139-152</td>\n      <td>Oct 2010</td>\n      <td>...</td>\n      <td>NaN</td>\n      <td>NaN</td>\n      <td>NaN</td>\n      <td>NaN</td>\n      <td>NaN</td>\n      <td>NaN</td>\n      <td>NaN</td>\n      <td>NaN</td>\n      <td>NaN</td>\n      <td>NaN</td>\n    </tr>\n    <tr>\n      <th>2504</th>\n      <td>J</td>\n      <td>ZOOR14801000011</td>\n      <td>Article</td>\n      <td>THE GENUS PSORTHASPIS (HYMENOPTERA: POMPILIDAE...</td>\n      <td>NaN</td>\n      <td>Rodriquez, Juanita (juanitarodrigueza@gmail.co...</td>\n      <td>Caldasia</td>\n      <td>32</td>\n      <td>435-441</td>\n      <td>July-Dec 2010</td>\n      <td>...</td>\n      <td>NaN</td>\n      <td>NaN</td>\n      <td>NaN</td>\n      <td>NaN</td>\n      <td>NaN</td>\n      <td>NaN</td>\n      <td>NaN</td>\n      <td>NaN</td>\n      <td>NaN</td>\n      <td>NaN</td>\n    </tr>\n    <tr>\n      <th>2505</th>\n      <td>J</td>\n      <td>ZOOR14801000012</td>\n      <td>Article</td>\n      <td>Three new species of Hyphessobrycon group hete...</td>\n      <td>Tres nuevas especies de Hyphessobrycon grupo h...</td>\n      <td>Garcia-Alzate, Carlos A. (cagarcia@uniquindio....</td>\n      <td>Caldasia</td>\n      <td>32</td>\n      <td>443-461</td>\n      <td>July-Dec 2010</td>\n      <td>...</td>\n      <td>NaN</td>\n      <td>NaN</td>\n      <td>NaN</td>\n      <td>NaN</td>\n      <td>NaN</td>\n      <td>NaN</td>\n      <td>NaN</td>\n      <td>NaN</td>\n      <td>NaN</td>\n      <td>NaN</td>\n    </tr>\n    <tr>\n      <th>5670</th>\n      <td>J</td>\n      <td>ZOOR15009042744</td>\n      <td>Article</td>\n      <td>THE GENUS PSORTHASPIS (HYMENOPTERA: POMPILIDAE...</td>\n      <td>NaN</td>\n      <td>Rodriguez, Juanita (juanitarodrigueza@gmail.co...</td>\n      <td>Caldasia</td>\n      <td>32</td>\n      <td>435-441</td>\n      <td>2010</td>\n      <td>...</td>\n      <td>NaN</td>\n      <td>NaN</td>\n      <td>NaN</td>\n      <td>NaN</td>\n      <td>NaN</td>\n      <td>NaN</td>\n      <td>NaN</td>\n      <td>NaN</td>\n      <td>NaN</td>\n      <td>NaN</td>\n    </tr>\n    <tr>\n      <th>5671</th>\n      <td>J</td>\n      <td>ZOOR15009042745</td>\n      <td>Article</td>\n      <td>Three new species of Hyphessobrycon group hete...</td>\n      <td>TRES NUEVAS ESPECIES DE Hyphessobrycon GRUPO h...</td>\n      <td>Garcia-Alzate, Carlos A. (cagarcia@uniquindio....</td>\n      <td>Caldasia</td>\n      <td>32</td>\n      <td>443-461</td>\n      <td>2010</td>\n      <td>...</td>\n      <td>NaN</td>\n      <td>NaN</td>\n      <td>NaN</td>\n      <td>NaN</td>\n      <td>NaN</td>\n      <td>NaN</td>\n      <td>NaN</td>\n      <td>NaN</td>\n      <td>NaN</td>\n      <td>NaN</td>\n    </tr>\n    <tr>\n      <th>...</th>\n      <td>...</td>\n      <td>...</td>\n      <td>...</td>\n      <td>...</td>\n      <td>...</td>\n      <td>...</td>\n      <td>...</td>\n      <td>...</td>\n      <td>...</td>\n      <td>...</td>\n      <td>...</td>\n      <td>...</td>\n      <td>...</td>\n      <td>...</td>\n      <td>...</td>\n      <td>...</td>\n      <td>...</td>\n      <td>...</td>\n      <td>...</td>\n      <td>...</td>\n      <td>...</td>\n    </tr>\n    <tr>\n      <th>80071</th>\n      <td>J</td>\n      <td>ZOOR15604029227</td>\n      <td>Article</td>\n      <td>Description of a new species of the genus Acro...</td>\n      <td>NaN</td>\n      <td>Okamoto, Makoto (epigonidae@gmail.com), Willia...</td>\n      <td>Ichthyological Research</td>\n      <td>67</td>\n      <td>39-49</td>\n      <td>Jan 2020</td>\n      <td>...</td>\n      <td>NaN</td>\n      <td>NaN</td>\n      <td>NaN</td>\n      <td>NaN</td>\n      <td>NaN</td>\n      <td>NaN</td>\n      <td>NaN</td>\n      <td>NaN</td>\n      <td>NaN</td>\n      <td>NaN</td>\n    </tr>\n    <tr>\n      <th>80119</th>\n      <td>J</td>\n      <td>ZOOR15607047778</td>\n      <td>Article</td>\n      <td>Cercyon Leach, 1817 (Coleoptera: Hydrophilidae...</td>\n      <td>NaN</td>\n      <td>Clarkson, Bruno, Mise, Kleber M., Almeida, Luc...</td>\n      <td>Revista Brasileira de Entomologia</td>\n      <td>64</td>\n      <td>1-8</td>\n      <td>2020</td>\n      <td>...</td>\n      <td>NaN</td>\n      <td>NaN</td>\n      <td>NaN</td>\n      <td>NaN</td>\n      <td>NaN</td>\n      <td>NaN</td>\n      <td>NaN</td>\n      <td>NaN</td>\n      <td>NaN</td>\n      <td>NaN</td>\n    </tr>\n    <tr>\n      <th>80121</th>\n      <td>J</td>\n      <td>ZOOR15607048143</td>\n      <td>Article</td>\n      <td>Veliidae (Insecta: Heteroptera: Gerromorpha) f...</td>\n      <td>NaN</td>\n      <td>Morales, Irina (irina.morales@uptc.edu.co), Mo...</td>\n      <td>Revista Brasileira de Entomologia</td>\n      <td>64</td>\n      <td>1-6</td>\n      <td>2020</td>\n      <td>...</td>\n      <td>NaN</td>\n      <td>NaN</td>\n      <td>NaN</td>\n      <td>NaN</td>\n      <td>NaN</td>\n      <td>NaN</td>\n      <td>NaN</td>\n      <td>NaN</td>\n      <td>NaN</td>\n      <td>NaN</td>\n    </tr>\n    <tr>\n      <th>80122</th>\n      <td>J</td>\n      <td>ZOOR15607047772</td>\n      <td>Article</td>\n      <td>Three new species of Bruggmanniella Tavares, 1...</td>\n      <td>NaN</td>\n      <td>Rodrigues, Alene Ramos (alenerodrigues@yahoo.c...</td>\n      <td>Revista Brasileira de Entomologia</td>\n      <td>64</td>\n      <td>1-8</td>\n      <td>2020</td>\n      <td>...</td>\n      <td>NaN</td>\n      <td>NaN</td>\n      <td>NaN</td>\n      <td>NaN</td>\n      <td>NaN</td>\n      <td>NaN</td>\n      <td>NaN</td>\n      <td>NaN</td>\n      <td>NaN</td>\n      <td>NaN</td>\n    </tr>\n    <tr>\n      <th>80123</th>\n      <td>J</td>\n      <td>ZOOR15607047402</td>\n      <td>Article</td>\n      <td>Diolcogaster choi sp. nov. from Brazil, a new ...</td>\n      <td>NaN</td>\n      <td>Salgado-Neto, Geraldo (gsalgado@bol.com.br), M...</td>\n      <td>Revista Brasileira de Entomologia</td>\n      <td>64</td>\n      <td>1-6</td>\n      <td>2020</td>\n      <td>...</td>\n      <td>NaN</td>\n      <td>NaN</td>\n      <td>NaN</td>\n      <td>NaN</td>\n      <td>NaN</td>\n      <td>NaN</td>\n      <td>NaN</td>\n      <td>NaN</td>\n      <td>NaN</td>\n      <td>NaN</td>\n    </tr>\n  </tbody>\n</table>\n<p>258 rows × 42 columns</p>\n</div>"
     },
     "metadata": {},
     "execution_count": 272
    }
   ],
   "source": [
    "# A lot! Checking these 258...\n",
    "wos_duplicates[wos_duplicates.duplicated(subset=['Source', 'Year Published', 'Volume', 'Issue', 'Page Span'], keep=False)]"
   ]
  },
  {
   "cell_type": "code",
   "execution_count": 273,
   "metadata": {},
   "outputs": [
    {
     "output_type": "execute_result",
     "data": {
      "text/plain": "A new species of the ant genus Leptogenys Roger, 1861 (Hymenoptera:, Formicidae) from India.                                                                                                                       3\nAustraloheros sanguineus sp n. - a new cichlid species from the rio, Cubatao basin, southern Brazil (Cichlidae: Heroini).                                                                                          2\nA new genus and species of pinworm (Nematoda, Oxyuridae) from the gray, mouse opossum, Tlacuatzin canescens.                                                                                                       2\nNew species of Neotropical Acanthocinini (Coleoptera, Cerambycidae,, Lamiinae).                                                                                                                                    2\nRedefinition of the genus Scarabacariphis Masan and new morphological, data for S. geotrupes comb. nov (Ishikawa) (Acari: Mesostigmata:, Eviphididae).                                                             2\n                                                                                                                                                                                                                  ..\nMorphology, morphogenesis, and molecular phylogeny of a new freshwater, ciliate, Gonostomum jangbogoensis n. sp. (Ciliophora, Hypotricha), from, Victoria Land, Antarctica.                                        1\nMorphological and genetic diversity of Rhipicephalus sanguineus sensu, lato from the New and Old Worlds.                                                                                                           1\nA relictual troglomorphic harvestman discovered in a volcanic cave of, western Argentina: Otilioleptes marcelae, new genus, new species, and, Otilioleptidae, new family (Arachnida, Opiliones, Gonyleptoidea).    1\nA description and the life cycle of Bathylaimus anatolii sp. n., (Nematoda: Tripyloididae) from the Sea of Japan.                                                                                                  1\nIdentification of the pupal parasitoid wasps of grape berry moth Lobesia, botrana (Denis & Schiffermuller) (Lep., Tortricidae) in Orumieh, vineyards.                                                              1\nName: Title, Length: 193, dtype: int64"
     },
     "metadata": {},
     "execution_count": 273
    }
   ],
   "source": [
    "# Checking of there are real titles on these 258 'duplicates'\n",
    "wos_duplicates[wos_duplicates.duplicated(subset=['Source', 'Year Published', 'Volume', 'Issue', 'Page Span'], keep=False)]['Title'].value_counts()"
   ]
  },
  {
   "source": [
    "Some indeed seems to be duplicates... with more than one occurrence of the title. But a lot seems to be metadata issues. Better investigate."
   ],
   "cell_type": "markdown",
   "metadata": {}
  },
  {
   "cell_type": "code",
   "execution_count": 281,
   "metadata": {},
   "outputs": [
    {
     "output_type": "execute_result",
     "data": {
      "text/plain": "The tetrapod fauna of the upper Permian Naobaogou Formation of China: 5., Caodeyao liuyufengi gen. et sp. nov., a new peculiar therocephalian.                                                                             1\nNew nomenclatural and taxonomic acts, and Comments (2015).                                                                                                                                                                 1\nAtypical Wing Venation in Dialictus and Hemihalictus and Its, Implications for Subgeneric Classification of Lasioglossum.                                                                                                  1\nA new nematode species, Chromadorina tangaroa sp. nov. (Chromadorida:, Chromadoridae) from the hull of a research vessel, New Zealand.                                                                                     1\nCalicotyle hydrolagi n. sp. (Monogenea: Monocotylidae) infecting the, deep-sea Eastern Pacific black ghost shark Hydrolagus melanophasma from, the Atacama Trench, with comments on host specificity of Calicotyle spp.    1\n                                                                                                                                                                                                                          ..\nMorphology, morphogenesis, and molecular phylogeny of a new freshwater, ciliate, Gonostomum jangbogoensis n. sp. (Ciliophora, Hypotricha), from, Victoria Land, Antarctica.                                                1\nMorphological and genetic diversity of Rhipicephalus sanguineus sensu, lato from the New and Old Worlds.                                                                                                                   1\nA relictual troglomorphic harvestman discovered in a volcanic cave of, western Argentina: Otilioleptes marcelae, new genus, new species, and, Otilioleptidae, new family (Arachnida, Opiliones, Gonyleptoidea).            1\nA description and the life cycle of Bathylaimus anatolii sp. n., (Nematoda: Tripyloididae) from the Sea of Japan.                                                                                                          1\nIdentification of the pupal parasitoid wasps of grape berry moth Lobesia, botrana (Denis & Schiffermuller) (Lep., Tortricidae) in Orumieh, vineyards.                                                                      1\nName: Title, Length: 129, dtype: int64"
     },
     "metadata": {},
     "execution_count": 281
    }
   ],
   "source": [
    "# Checking how many of these have no repeated titles, meaning, could be metadata issues alone\n",
    "wos_duplicates_title_counts = wos_duplicates[wos_duplicates.duplicated(subset=['Source', 'Year Published', 'Volume', 'Issue', 'Page Span'], keep=False)]['Title'].value_counts()\n",
    "\n",
    "wos_duplicates_single_titles = wos_duplicates_title_counts[wos_duplicates_title_counts.where(wos_duplicates_title_counts < 2).notna()]\n",
    "\n",
    "wos_duplicates_single_titles"
   ]
  },
  {
   "cell_type": "code",
   "execution_count": 287,
   "metadata": {},
   "outputs": [
    {
     "output_type": "execute_result",
     "data": {
      "text/plain": "129"
     },
     "metadata": {},
     "execution_count": 287
    }
   ],
   "source": [
    "# How many of these 'duplicates' have repeated titles?\n",
    "wos_duplicates.duplicated(subset=['Source', 'Year Published', 'Volume', 'Issue', 'Page Span'], keep=False).value_counts()[1] - wos_duplicates_single_titles.shape[0]"
   ]
  },
  {
   "cell_type": "code",
   "execution_count": 290,
   "metadata": {},
   "outputs": [
    {
     "output_type": "execute_result",
     "data": {
      "text/plain": "                                                   Title       Source  \\\n37746  New nomenclatural and taxonomic acts, and Comm...  Snudebiller   \n\n      Year Published Volume Issue Page Span  \n37746           2015     16   NaN       1-8  ",
      "text/html": "<div>\n<style scoped>\n    .dataframe tbody tr th:only-of-type {\n        vertical-align: middle;\n    }\n\n    .dataframe tbody tr th {\n        vertical-align: top;\n    }\n\n    .dataframe thead th {\n        text-align: right;\n    }\n</style>\n<table border=\"1\" class=\"dataframe\">\n  <thead>\n    <tr style=\"text-align: right;\">\n      <th></th>\n      <th>Title</th>\n      <th>Source</th>\n      <th>Year Published</th>\n      <th>Volume</th>\n      <th>Issue</th>\n      <th>Page Span</th>\n    </tr>\n  </thead>\n  <tbody>\n    <tr>\n      <th>37746</th>\n      <td>New nomenclatural and taxonomic acts, and Comm...</td>\n      <td>Snudebiller</td>\n      <td>2015</td>\n      <td>16</td>\n      <td>NaN</td>\n      <td>1-8</td>\n    </tr>\n  </tbody>\n</table>\n</div>"
     },
     "metadata": {},
     "execution_count": 290
    }
   ],
   "source": [
    "# Getting info on one of the duplicates with non-repeated titles \n",
    "wos_duplicates[wos_duplicates['Title'] == 'New nomenclatural and taxonomic acts, and Comments (2015).'][['Title', 'Source', 'Year Published', 'Volume', 'Issue', 'Page Span']]"
   ]
  },
  {
   "cell_type": "code",
   "execution_count": 293,
   "metadata": {},
   "outputs": [
    {
     "output_type": "execute_result",
     "data": {
      "text/plain": "      Publication Type Zoological Record Accession Number Document Type  \\\n37742                J                    ZOOR15210068284       Article   \n37744                J                    ZOOR15210068264       Article   \n37746                J                    ZOOR15210068286       Article   \n\n                                                   Title Foreign Title  \\\n37742  Auletobius (Canarauletes) garajonay sp.n. from...           NaN   \n37744  Torneuma korwitzi sp.n. from Madeira (Coleopte...           NaN   \n37746  New nomenclatural and taxonomic acts, and Comm...           NaN   \n\n                                                 Authors       Source Volume  \\\n37742             Stueben, Peter E. (P.Stueben@curci.de)  Snudebiller     16   \n37744  Stueben, Peter E. (P.Stueben@curci.de), Schuet...  Snudebiller     16   \n37746  Stueben, Peter E. (P.Stueben@curci.de), Bayer,...  Snudebiller     16   \n\n      Page Span Publication Date  ... Journal URL Item URL Notes  NaN  \\\n37742       1-8  1 December 2015  ...         NaN      NaN   NaN  NaN   \n37744       1-8  1 December 2015  ...         NaN      NaN   NaN  NaN   \n37746       1-8  1 December 2015  ...         NaN      NaN   NaN  NaN   \n\n      Book Authors Publisher Publisher Address  \\\n37742          NaN       NaN               NaN   \n37744          NaN       NaN               NaN   \n37746          NaN       NaN               NaN   \n\n      International Standard Book Number (ISBN) Editors Group Authors  \n37742                                       NaN     NaN           NaN  \n37744                                       NaN     NaN           NaN  \n37746                                       NaN     NaN           NaN  \n\n[3 rows x 42 columns]",
      "text/html": "<div>\n<style scoped>\n    .dataframe tbody tr th:only-of-type {\n        vertical-align: middle;\n    }\n\n    .dataframe tbody tr th {\n        vertical-align: top;\n    }\n\n    .dataframe thead th {\n        text-align: right;\n    }\n</style>\n<table border=\"1\" class=\"dataframe\">\n  <thead>\n    <tr style=\"text-align: right;\">\n      <th></th>\n      <th>Publication Type</th>\n      <th>Zoological Record Accession Number</th>\n      <th>Document Type</th>\n      <th>Title</th>\n      <th>Foreign Title</th>\n      <th>Authors</th>\n      <th>Source</th>\n      <th>Volume</th>\n      <th>Page Span</th>\n      <th>Publication Date</th>\n      <th>...</th>\n      <th>Journal URL</th>\n      <th>Item URL</th>\n      <th>Notes</th>\n      <th>NaN</th>\n      <th>Book Authors</th>\n      <th>Publisher</th>\n      <th>Publisher Address</th>\n      <th>International Standard Book Number (ISBN)</th>\n      <th>Editors</th>\n      <th>Group Authors</th>\n    </tr>\n  </thead>\n  <tbody>\n    <tr>\n      <th>37742</th>\n      <td>J</td>\n      <td>ZOOR15210068284</td>\n      <td>Article</td>\n      <td>Auletobius (Canarauletes) garajonay sp.n. from...</td>\n      <td>NaN</td>\n      <td>Stueben, Peter E. (P.Stueben@curci.de)</td>\n      <td>Snudebiller</td>\n      <td>16</td>\n      <td>1-8</td>\n      <td>1 December 2015</td>\n      <td>...</td>\n      <td>NaN</td>\n      <td>NaN</td>\n      <td>NaN</td>\n      <td>NaN</td>\n      <td>NaN</td>\n      <td>NaN</td>\n      <td>NaN</td>\n      <td>NaN</td>\n      <td>NaN</td>\n      <td>NaN</td>\n    </tr>\n    <tr>\n      <th>37744</th>\n      <td>J</td>\n      <td>ZOOR15210068264</td>\n      <td>Article</td>\n      <td>Torneuma korwitzi sp.n. from Madeira (Coleopte...</td>\n      <td>NaN</td>\n      <td>Stueben, Peter E. (P.Stueben@curci.de), Schuet...</td>\n      <td>Snudebiller</td>\n      <td>16</td>\n      <td>1-8</td>\n      <td>1 December 2015</td>\n      <td>...</td>\n      <td>NaN</td>\n      <td>NaN</td>\n      <td>NaN</td>\n      <td>NaN</td>\n      <td>NaN</td>\n      <td>NaN</td>\n      <td>NaN</td>\n      <td>NaN</td>\n      <td>NaN</td>\n      <td>NaN</td>\n    </tr>\n    <tr>\n      <th>37746</th>\n      <td>J</td>\n      <td>ZOOR15210068286</td>\n      <td>Article</td>\n      <td>New nomenclatural and taxonomic acts, and Comm...</td>\n      <td>NaN</td>\n      <td>Stueben, Peter E. (P.Stueben@curci.de), Bayer,...</td>\n      <td>Snudebiller</td>\n      <td>16</td>\n      <td>1-8</td>\n      <td>1 December 2015</td>\n      <td>...</td>\n      <td>NaN</td>\n      <td>NaN</td>\n      <td>NaN</td>\n      <td>NaN</td>\n      <td>NaN</td>\n      <td>NaN</td>\n      <td>NaN</td>\n      <td>NaN</td>\n      <td>NaN</td>\n      <td>NaN</td>\n    </tr>\n  </tbody>\n</table>\n<p>3 rows × 42 columns</p>\n</div>"
     },
     "metadata": {},
     "execution_count": 293
    }
   ],
   "source": [
    "# Checking if this duplicate with non-repeated titles have instead some metadata problems\n",
    "wos_duplicates[wos_duplicates['Source'] == 'Snudebiller'][wos_duplicates['Year Published'] == '2015'][wos_duplicates['Volume'] == '16'][wos_duplicates['Page Span'] == '1-8']"
   ]
  },
  {
   "source": [
    "Though call! They have the same author and metadata, but not the same title."
   ],
   "cell_type": "markdown",
   "metadata": {}
  },
  {
   "cell_type": "code",
   "execution_count": 294,
   "metadata": {},
   "outputs": [
    {
     "output_type": "execute_result",
     "data": {
      "text/plain": "37742    NaN\n37744    NaN\n37746    NaN\nName: Digital Object Identifier (DOI), dtype: object"
     },
     "metadata": {},
     "execution_count": 294
    }
   ],
   "source": [
    "# Checking for DOIs...\n",
    "wos_duplicates[wos_duplicates['Source'] == 'Snudebiller'][wos_duplicates['Year Published'] == '2015'][wos_duplicates['Volume'] == '16'][wos_duplicates['Page Span'] == '1-8']['Digital Object Identifier (DOI)']"
   ]
  },
  {
   "source": [
    "No DOIs, and, this situation where everything else but title is the same. I'm making a tough call here, but I'll decide to exclude these potential duplicates too."
   ],
   "cell_type": "markdown",
   "metadata": {}
  },
  {
   "source": [
    "###### 'year' NaNs\n",
    "\n",
    "This is a more straight forward check... simply count NaNs on a specific column, 'Year Published'."
   ],
   "cell_type": "markdown",
   "metadata": {}
  },
  {
   "cell_type": "code",
   "execution_count": 186,
   "metadata": {},
   "outputs": [
    {
     "output_type": "execute_result",
     "data": {
      "text/plain": "False    80452\nName: Year Published, dtype: int64"
     },
     "metadata": {},
     "execution_count": 186
    }
   ],
   "source": [
    "# Counting NaNs on 'Year Published'\n",
    "wos['Year Published'].isna().value_counts()"
   ]
  },
  {
   "source": [
    "Wow! Seems that there is not a single row without the year of publication. That's quit amazing.\n",
    "\n",
    "![](https://i.imgur.com/uM1TOIt.png)"
   ],
   "cell_type": "markdown",
   "metadata": {}
  },
  {
   "source": [
    "###### journals' names\n",
    "\n",
    "I just want to have a quick look into the (possible) mess that the journals' names in this source might be. I'm not specting that much of mess, to be honest.\n"
   ],
   "cell_type": "markdown",
   "metadata": {}
  },
  {
   "cell_type": "code",
   "execution_count": 187,
   "metadata": {},
   "outputs": [
    {
     "output_type": "execute_result",
     "data": {
      "text/plain": "2650"
     },
     "metadata": {},
     "execution_count": 187
    }
   ],
   "source": [
    "# Group the wos dataframe by group, getting only 'Year Published' as return\n",
    "wos_journals = wos.groupby('Source').count()['Year Published'].sort_values(ascending=False)\n",
    "\n",
    "# Check the number of journals\n",
    "wos_journals.shape[0]"
   ]
  },
  {
   "source": [
    "This is a LOT OF JOURNALS! I'm surprised. So, decided to check a bit further by:\n",
    "\n",
    "1. Check the ones with one single occurrence, to see if there are any non-journals included in the dataset\n",
    "2. Check if there are typos involving one of the most, if not the most popular journal: Zootaxa"
   ],
   "cell_type": "markdown",
   "metadata": {}
  },
  {
   "cell_type": "code",
   "execution_count": 188,
   "metadata": {},
   "outputs": [
    {
     "output_type": "execute_result",
     "data": {
      "text/plain": "Biological Research',\n 'The carrion beetles of China (Coleoptera: Silphidae).',\n 'The blackflies (Diptera: Simuliidae) of Brazil. [Aquatic Biodiversity in, Latin America. Volume 6.]',\n 'Arnoldia Zimbabwe',\n 'Anadolu Universitesi Bilim ve Teknoloji Dergisi C Yasam Bilimleri ve, Biyoteknoloji',\n 'Ardea',\n 'Vestnik Moskovskogo Universiteta Seriya XVI Biologiya',\n 'Arctiid moths of India. Volume 1.',\n 'Arctic Antarctic and Alpine Research',\n 'Veroeffentlichungen des Museums fuer Naturkunde Chemnitz',\n 'The Howard and Moore complete checklist of the birds of the world. 4th, edtion. Volume two: passerines.',\n 'The Witt Catalogue. A taxonomic atlas of the Eurasian and North African, Noctuoidea: volume 4: Plusiinae II.',\n 'Rhyzobius (Coleoptera: Coccinellidae) a revision of the world species., [Fauna Mundi Volume 2.]',\n '[The Turonian of the Uchaux and Ceze massifs (S.E. France): global, migration of ammonites and implications for international zonation,, rudists and massif correlations.]. [Memoires de la Classe des Sciences,, coll. in -4o, t. 2.]',\n '[The Cetoniinae of Sabah.]. [Collection Ex Natura Vol 1.]',\n 'Abalone: world-wide Haliotidae.',\n 'Revista Caatinga',\n 'River Research and Applications',\n 'Revista Brasileira de Geociencias',\n 'Zoologicheskie Issledovania',\n 'Zoological Bibliography',\n 'Boletin del Museo Entomologico Francisco Luis Gallego',\n 'Acta Ethologica',\n '[The subfamily Chasmopinae (Trilobita, pterygometopidae) from, Baltoscandian glacial erratic boulders as well as Baltoscandia and, neighbouring areas.].',\n 'Revision of the Palearctic Chaetocnema species. (Coleoptera:, Chrysomelidae: Galerucinae: Alticini).',\n 'ZooNotes',\n 'Russian Geology and Geophysics',\n 'Acta Geologica Slovaca',\n 'Abhandlungen aus dem Westfaelischen Museum fuer Naturkunde',\n 'Revista Cientifica - Maracaibo',\n 'Revista Cientifica UDO Agricola',\n '[Afrotropical Melolonthinae (Scarabaeoidea, Melolonthidae). Commented, genera and catalogue.].',\n 'Biology Direct',\n 'Acta Carsologica',\n 'Revista FAVE Ciencias Veterinarias',\n 'Abhandlungen und Berichte fuer Naturkunde',\n 'Archives of Razi Institute',\n 'The cicadas of Thailand. Volume 2: taxonomy and sonic ethology. [Siri, Scientific Press Monograph Series Volume 5.]',\n 'Reptile Rap',\n 'Anatomia Histologia Embryologia',\n 'The Dolichodoridae of the World. Identification of the family, Dolichodoridae: (Nematoda: Tylenchida).',\n 'Ursus',\n 'The description of a new genus and twenty-three new species of, Metarbelidae (Lepidoptera: Cossoidea) from the lowland tropical rain, forests of the Guineo-Congolian region with notes on habitats and, biogeography.',\n 'Acta Veterinaria (Belgrade)',\n 'Transactions of the American Fisheries Society',\n 'Tichodroma',\n 'Aquatic Conservation',\n 'Tieraerztliche Praxis Ausgabe G Grosstiere-Nutztiere',\n 'Tiger beetles of the Madagascan region (Madagascar, the Comoros,, Seychelles, Mascarenes and other islands). Taxonomic revision of the 17, genera occurring in the region (Coleoptera: Cicindelidae).',\n 'Aquaculture Nutrition',\n \"Annali dell'Istituto Superiore di Sanita\",\n 'Annals of Agricultural and Environmental Medicine',\n 'Tokushima Daigaku So-go Kagakubu Shizen Kagaku Kenkyu',\n 'Transactions of the Missouri Academy of Science',\n 'Theriogenology',\n 'Tropical fruit flies (Tephritidae: Dacinae) of South-East Asia:, Indomalaya to North-West Australasia.',\n 'Transactions of the Royal Society of Tropical Medicine and Hygiene',\n 'Treatise on Zoology - Anatomy, Taxonomy, Biology. The Gregarines. Volume, 1.',\n 'Ants of Africa and Madagascar: a guide to the genera.',\n 'Anthropozoologica',\n 'Anthropological Science',\n 'An annotated catalogue of the ground beetles (Coleoptera: Caraboidea) of, Sikhote-Alin.',\n 'Biological Letters',\n 'The Cryptorhynchinae of the Western Palearctic.',\n 'Ampulex',\n 'Vavilovskii Zhurnal Genetiki i Selektsii',\n 'Uzbekskii Biologicheskii Zhurnal',\n 'Anhui Nongye Daxue Xuebao',\n 'The cone shells of Florida: an illustrated key and a review of the, recent species.',\n 'The Witt Catalogue. A taxonomic atlas of the Eurasian and North African, Noctuoidea. Volume 6: Noctuinae I.',\n 'The Geometrid moths of Europe. Volume 3: Larentiinae I.',\n 'Archives des Sciences (Geneva)',\n 'Amphibians of Suriname. [Fauna of Suriname Volume 1.]',\n 'Asian Journal of Biological Sciences',\n 'Asian Journal of Animal and Veterinary Advances',\n 'Taxa',\n 'Asian Fisheries Science',\n 'Ammonites: a geological journey around the Appenine mountains. Lower, Jurassic.',\n 'Vestnik Tomskogo Gosudarstvennogo Universiteta Biologiya',\n 'Taxonomic revision of Megalorhina Westwood and subgeneric classification, of Mecynorhina Hope (Coleoptera: Scarabaeidae: Cetoniinae).',\n 'Amphibian and Reptile Conservation',\n 'Tetrahedron',\n 'The Eupithecia of China: A Revision.',\n 'The Ants of Fiji.',\n 'The Cerithiopsidae (Caenogastropoda: Triphoroidea) of Espiritu Santo -, Vanuatu (South Pacific Ocean).',\n 'The Coleoptera of the Salvage Islands.',\n 'The Criconematidae of the world. Identification of the Family, Criconematidae (Nematoda).',\n 'Annotated catalogue of the insects of Russian Far East. Volume I., Hymenoptera.',\n 'Acta Entomologica Chilena',\n 'Bionomina',\n 'Science Journal of Kanagawa University',\n 'Science Report of the Toyohashi Museum of Natural History',\n 'Research in Marine Sciences',\n 'Brazilian Journal of Morphological Sciences',\n 'A revision of subspecies structure of Dorcadion (Cribridorcadion), scabricolle (Dalman, 1817) (Coleoptera, Cerambycidae).',\n 'Science Asia',\n 'A revision of subspecies structure of Dorcadion (Cribridorcadion) nobile, Hampe, 1852 (Coleoptera, Cerambycidae) with description of two new, subspecies.',\n 'Acta Sedimentologica Sinica',\n 'Research Journal of Biological Sciences',\n 'Science International (Lahore)',\n 'Xinyang Shifan Xueyuan Xuebao Ziran Kexue Ban',\n 'A conchological iconography. The families Conilithidae and Conidae: the, cones of the eastern Pacific.',\n 'A revision of the genus Arbelodes Karsch (Lepidoptera: Cossoidea:, Metarbelidae) from southeast-central and southern Africa with the, description of thirteen new species.',\n 'Biodiversity',\n 'Scanning electron microscopic studies on several otopheidomenid mites, (Acari: Otopheidomenidae).',\n 'Bosque',\n 'Schriften des Naturwissenschaftlichen Vereins fuer Schleswig-Holstein',\n 'Acta Oecologica',\n 'Bonner Zoologische Monographien',\n 'Bonnoprani - Bangladesh Wildlife Bulletin',\n 'Bioacoustics',\n 'Xyleborini of New Guinea, a taxonomic monograph (Coleoptera:, Curculionidae: Scolytinae). [Thomas Say Publications in Entomology:, Monographs.]',\n 'Research Journal of Fisheries and Hydrobiology',\n 'Zeitschrift des Koelner Zoo',\n 'Zhongguo Xuexichongbing Fangzhi Zazhi',\n 'Bioinspiration & Biomimetics',\n 'Bonn Zoological Bulletin Supplementum',\n 'Restoration Ecology',\n 'Zitteliana Reihe B Abhandlungen der Bayerischen Staatssammlung fuer, Palaeontologie und Geologie',\n 'Zeitschrift fuer Feldherpetologie',\n 'Satuniidae Mundi: saturniid moths of the world. Part II.',\n 'Biogeography and biodiversity of Western Atlantic mollusks.',\n 'Review of the Anillina of Greece (Coleoptera, Carabidae, Bembidiini)., [Biodiversity Journal Monograph 1.]',\n 'Zhejiang Daxue Xuebao Nongye Yu Shengming Kexue Ban',\n 'Bioformosa',\n 'Reviews in Aquaculture',\n 'Revision of genera of the parasitic mite family Macronyssidae, (Mesostigmata: Dermanyssoidea) of the world.',\n 'Acta Musei Brukenthal',\n 'AES Bioflux',\n 'Bioikos',\n 'Biodiversity of Western Rhodopes (Bulgaria and Greece) II. [Pensoft, Series Faunistica No 102.]',\n 'Salus',\n 'Acta Musei Beskidensis',\n 'Revision of genus Paraphytoseius Swirski and Shechter, 1961 (Acari:, Phytoseiidae).',\n '[Revision of the Phymatoceratinae of the Middle and Upper Toarcian in, France and the world.].',\n 'Schubartiana',\n 'ABAH Bioflux',\n 'Zoo Biology',\n 'A world catalogue of Chironomidae (Diptera). Part 2. Orthocladiinae, (Section B).',\n 'Bird Conservation International',\n 'BirdingASIA',\n 'Zoo Indonesia',\n '[Chloropholus of Madagascar (Coleoptera, Curculionidae, Hyperinae).]., [Collection Ex Natura Vol. 6.]',\n 'Acta Adriatica',\n 'Boletim do Museu Nacional Nova Serie Geologia',\n 'Acta Agriculturae Universitatis Jiangxiensis',\n 'Bohemia Centralis',\n 'Bocagiana (Funchal)',\n 'Bivalve seashells of tropical West America: marine bivalve mollusks from, Baja California to northern Peru. Part 2. [Studies in Biodiversity, Number 4.]',\n '[Revision of Africans Anthene (Lepidoptera, Lycaenidae).].',\n 'Acta Anthropologica Sinica',\n 'Bivalve seashells of tropical West America: marine bivalve mollusks from, Baja California to northern Peru. Part 1. [Studies in Biodiversity, Number 4.]',\n 'Revista Portuguesa de Ciencias Veterinarias',\n '[South American Cerambycidae (Coleoptera). Subfamily Lamiinae,, Hemilophini Thomson, 1868. Part I.]. [Taxonomia Volume 13.]',\n '[Mammals of restingas and mangroves of Brazil.]. [Museu Nacional Serie, Livros 39.]',\n 'Revista Scientia Parasitologica',\n '[Lizards, crocodiles and tortoises of western Africa and the Sahara.].',\n 'Boletin BIGA',\n 'Revista de la Universidad del Valle de Guatemala',\n 'Revista del Museo de La Plata Seccion Paleontologia',\n '[Agrilus, Agriloides and Autarcontes of French Guyana.]. [Collection Ex, Natura Vol. 2.]',\n 'Acta Botanica Croatica',\n 'Boletin de Malariologia y Salud Ambiental',\n 'Revista Facultad de Ciencias Basicas Universidad Militar Nueva Granada',\n 'Research materials of terrestrial molluscas in China.',\n 'Research in Zoology',\n 'Yuzuncu Yil Universitesi Tarim Bilimleri Dergisi',\n 'AASP Contributions Series',\n 'Brazilian Journal of Aquatic Science and Technology',\n '[The tree frogs of Cameroon. (Amphibia Anura).].',\n 'Zbornik Matitse Srpske za Prirodne Nauke',\n 'Revista Brasileira de Ciencia Veterinaria',\n 'Boletin del Museo de Entomologia de la Universidad del Valle',\n '[South American Cerambycidae (Coleoptera). Taxonomy. Volume XI., Subfamily Parandrinae Blanchard, 1845. Subfamily Disteniinae Thomson,, 1861.].',\n 'Revista de Etologia',\n 'Biotropia',\n 'Revista Ibero-Latinoamericana de Parasitologia',\n 'Acta Biologica Indica',\n 'Boletin de Biodiversidad de Chile',\n '[Cerambycidae of Borneo, subfamily Cerambycinae (I): tribes, Callichromatini, Compsocerini, Mythodini, Thraniini, Stenopterini,, Dejanirini and Trachyderini.]. [Collection Ex Natura Vol. 4.]',\n '[Sponges of the Brazilian oceanic islands.]. [Museu Nacional Serie, Livros 44.]',\n 'Revista de Investigacion Marina',\n 'Revista de Investigaciones Agropecuarias',\n 'Revista de Investigaciones Marinas',\n 'Biosciences Biotechnology Research Asia',\n '[Cerambycidae Dorcasominae of Madagascar.]. [Collection Ex Natura Vol., 3.]',\n 'Trends in Parasitology',\n 'Trudy Karelskogo Nauchnogo Centra Rossiiskoi Akademii Nauk',\n 'Theoretical Ecology',\n 'Fauna Ukrayiny',\n 'Fauna Sinica Insecta Vol. 52. Lepidoptera Pieridae.',\n 'Jurnal Sains Kesihatan Malaysia',\n 'Fauna Iberica. Vol. 41. Annelida. Polychaeta IV.',\n 'Fauna Iberica. Vol. 40. Coleoptera, Coccinellidae.',\n 'Fauna Iberica. Vol. 39. Pycnogonida.',\n 'Fauna Iberica. Vol. 38. Mollusca, Solenogastres, Caudofoveata,, Monoplacophora.',\n 'Fauna Iberica. Vol. 37. Lepidoptera: Papilionoidea.',\n 'Fauna Iberica. Vol. 36. Annelida: Polychaeta III. [Fauna Iberica.]',\n \"Fauna d'Italia\",\n 'Fauna Entomologica Scandinavica',\n 'Kasetsart University Fisheries Research Bulletin',\n 'Facetta',\n 'Journal of the Black Sea-Mediterranean Environment',\n 'Journal of Zhejiang University Science B',\n 'Florida Scientist',\n 'Fossil and recent Muricidae of the world. Part Muricinae.',\n 'Journal of Integrative Plant Biology',\n 'Fundacion Miguel Lillo Miscelanea',\n 'Journal of Mediterranean Earth Sciences',\n 'Karnataka Journal of Agricultural Sciences',\n 'Fauna of Madhya Pradesh (including Chhattisgarh). Part - 3. [State Fauna, Series, 15.]',\n 'Jurnal Biologi Indonesia',\n 'Fauna of Russia and neighbouring countries. New series, No. 149., Insecta: Hemiptera: Arthroidignatha. Homoptera: Coccinea:, Pseudococcidae. Palaearctic mealybugs (Homoptera: Coccinea:, Pseudococcidae). Part 2. Subfamily Pseudococcinae.',\n 'Australian Longhorn Beetles (Coleoptera: Cerambycidae). Volume 1., Introduction and Subfamily Lamiinae.',\n 'Species diversity and distribution of inland fishes in China.',\n 'Speleolog',\n 'Australian Field Ornithology',\n 'Spider wasps (Hymenoptera: Pompilidae) of the Russian Far East.',\n 'Australian Biodiversity Record',\n 'Stag beetles of China II.',\n \"Vyestsi Natsyyanal'nai Akademii Navuk Byelarusi Syeryya Biyalahichnykh, Navuk\",\n 'Ornithologia',\n 'Reef fishes of the East Indies. Andaman Sea, Myanmar, Thailand,, Indonesia, Christmas Island, Singapore, Malaysia, Brunei, Philippines,, Papua New Guinea, Solomon Islands. Volume III.',\n 'Kaupia Darmstaedter Beitraege zur Naturgeschichte',\n 'Fisheries Oceanography',\n 'Journal of the National Science Foundation of Sri Lanka',\n 'Fish and Fisheries',\n 'Journal of the Northwest Normal University Natural Sciences',\n 'Journal of the Royal Society Interface',\n 'Fibigeriana. Volume 1. The Vartian Collection. Part I. Noctuoidea.',\n 'Journal of the World Aquaculture Society',\n 'Faune de Madagascar',\n 'Jurnal Biologi',\n 'Fauna of Uttarakhand (part-2): insects. [State Fauna Series, 18.]',\n 'Journal of Paleontological Sciences',\n 'Frog Leg',\n 'Freshwater dinoflagellates of North America.',\n 'Journal of Photochemistry and Photobiology B Biology',\n 'Lepidoptera (Copenhagen)',\n 'Lesne Prace Badawcze',\n 'Environmental Management',\n 'Lilloa',\n 'Environment Conservation Journal',\n 'Limosa',\n 'Entomology in Focus',\n 'Living World',\n 'Lizards of Peninsular Malaysia, Singapore, and their adjacent, Archipelagos. Their description, distribution, and natural history.',\n 'Longicorn beetles (Coleoptera, Cerambycoidea) of Russia and adjacent, countries. Part 1.',\n 'Luminescence',\n 'Magallania',\n 'Mainzer Naturwissenschaftliches Archiv Beiheft',\n 'Makropode',\n 'MalaCo',\n 'Malacofauna Pliocenica Toscana, Vol. 8: Pyramidelloidea, Gray J.E. 1840.',\n 'Malacofauna Pliocenica Toscana. Vol. 9, Gastropoda fine, Scaphopoda.',\n 'Malacologica Bohemoslovaca',\n 'Malacological Review',\n 'Entomologica (Bari)',\n 'Malakologiai Tajekoztato',\n 'Leipziger Geowissenschaften',\n 'Aleocharine beetles (Coleoptera, Staphylinidae) of the province of, Newfoundland and Labrador, Canada. [Pensoft Series Faunistica No 98.]',\n 'Environmental Toxicology',\n 'Meditsinskaya Parazitologiya i Parazitarnye Bolezni',\n 'Journal of Plant Research',\n 'Journal of Pollination Ecology',\n 'Journal of Protozoology Research',\n 'Fossils (Tokyo)',\n 'Journal of Siberian Federal University Biology',\n 'Fossil acanthopterygian fishes (Teleostei, Acanthopterygii). [Fossil, vertebrates of Russia and adjacent countries.]',\n 'Journal of Wildlife and Biodiversity',\n 'Journal of Sichuan Normal University (Natural Science)',\n 'Journal of Stored Products Research',\n 'Journal of Sustainability Science and Management',\n 'Forest Science',\n 'Forest Research',\n 'Forensic Science International',\n 'Journal of Tropical Biology and Conservation',\n 'Folia Musei Historico-Naturalis Bakonyiensis',\n 'Journal of Urban Ecology',\n 'Folia Heyrovskyana Supplementum',\n 'Journal of Vertebrate Biology',\n 'Journal of Wetlands Biodiversity',\n 'FABICIB',\n 'Kempffiana',\n 'Key to freshwater gastropods of Western Siberia (Mollusca: Gastropda)., V. 1. Gastropoda: Pulmonata. Fasc 1. Families Acroloxidae and, Lymnaeidae.',\n 'Southwest China Journal of Agricultural Sciences',\n 'Southeastern Fishes Council Proceedings',\n 'Albertiana',\n 'Bangladesh Journal of Botany',\n 'Tropical Ecology',\n 'Shirakami-Sanchi Bulletin of the Shirakami Institute for Environmental, Sciences Hirosaki University',\n 'Voprosy Virusologii',\n 'Badania Fizjograficzne Seria C Zoologia',\n 'African Journal of Wildlife Research',\n 'Slovak Raptor Journal',\n 'BMC Research Notes',\n 'Water Air and Soil Pollution',\n 'Afrotherian Conservation',\n 'BMC Genetics',\n 'Agricultural and Biological Research',\n 'BMC Ecology',\n 'Agricultural and Forest Entomology',\n 'Avocetta',\n 'Avian Research',\n 'Avian Pathology',\n 'Wader Study',\n 'Basic and Applied Herpetology',\n 'Veterinary Medicine International',\n 'Scripta Musei Geologici Seminarii Barcinonensis Series Malacologica',\n 'Shinrin Sogo Kenkyujo Kenkyu Hokoku',\n 'Scientific Publications of the Science Museum of Minnesota',\n 'Small Carnivore Conservation',\n 'Veterinaria Mexico',\n 'The freshwater bivalves of China.',\n 'Aquila',\n 'Archaeopteryx',\n 'Archaeofauna',\n 'Animal Conservation',\n 'The living and fossil busycon whelks: iconic mollusks of eastern North, America.',\n 'The lizards, crocodiles, and turtles of Honduras: systematics,, distribution, and conservation. [Bulletin of the Museum of Comparative, Zoology Special Publications Series, No. 2.]',\n 'Arachnida and Myriapoda of the Seychelles islands. [Seychelles fauna, monographs.]',\n \"Animal Keepers' Forum\",\n 'University of British Columbia Fisheries Centre Research Reports',\n \"Uccelli d'Italia\",\n 'Trudy VNIRO',\n 'Turkiye Jeoloji Bulteni',\n 'The mayflies of Europe (Ephemeroptera).',\n 'Tulane Studies in Zoology and Botany',\n 'Tsitologiya',\n 'The moths of North America. Fascicle 8.1. Tortricoidea. Tortricidae, (part) Tortricinae (part) Sparganothini and Atteriini.',\n 'The plant bugs, or Miridae, (Hemiptera: Heteroptera), of Cuba. [Pensoft, Series Faunistica No. 92]',\n 'The subfamily Steninae Macleay, 1825 (Coleoptera: Staphylinidae) of, Japan Part 1. Dianous and Stenus (S. comma group to S. guttalis group).',\n 'The symbolic species evolved. [Biosemiotics Volume 6.]',\n 'Asian Journal of Biological and Life Sciences',\n 'Tachinid Times',\n 'Marine Ornithology',\n 'Scientific World Journal',\n 'Xinjiang Nongye Daxue Xuebao',\n 'Atlas of the Late Cretaceous ammonites of the Saratov Volga region.',\n 'Studia Universitatis Vasile Goldis Arad Seria Stiintele Vietii',\n 'Agroproductividad',\n 'Studies in Mycology',\n 'Suleyman Demirel Universitesi Egirdir Su Urunleri Fakultesi Dergisi',\n 'Association Geologique Auboise Bulletin Annuel',\n 'Ambiente & Agua',\n 'Assessment of species diversity in the Atlantic maritime ecozone.',\n 'Aspilota-group in natural parks of Valencia and European Dinotrema, revision.Vol. 1.',\n 'Asociacion Paleontologica Argentina Publicacion Especial',\n 'Veterinary Ophthalmology',\n 'Studia Geologica Polonica',\n 'Studia Dipterologica Supplement',\n 'Stilt',\n 'Steenstrupia',\n 'South African Journal of Wildlife Research',\n 'Australian longhorn beetles (Coleoptera: Cerambycidae). Volume 2,, subfamily Cerambycinae. [Australian Longhorn Beetles Series]',\n 'Australian land snails. Volume 2. A field guide to southern, central and, western species.',\n 'Australian land snails. Volume 1. A field guide to eastern Australian, species.',\n 'Alavesia',\n 'South-Western Journal of Horticulture Biology and Environment',\n 'Atoll Research Bulletin',\n 'Acta Veterinaria Brasilica',\n 'Studia Universitatis Babes-Bolyai Geologia',\n 'Alula (Roma)',\n 'Acta Veterinaria et Zootechnica Sinica',\n 'Acta ZooBot Austria',\n 'World Aquaculture',\n 'Scorpions of Cuba.',\n 'World Applied Sciences Journal',\n 'West African Journal of Applied Ecology',\n 'Semana',\n 'Wissenschaftliches Jahrbuch der Tiroler Landesmuseen',\n 'Behavioural Processes',\n 'Wiadomosci Entomologiczne',\n 'Advances in Marine Biology',\n 'Aegialiini and Eremazini of the World (Coleoptera: Scarabaeidae):, iconography.',\n 'Shanghai Haiyang Daxue Xuebao',\n 'Wetlands',\n 'Agrilus (Coleoptera, Buprestidae) of East Asia.',\n 'Agronomia Mesoamericana',\n 'Aves (Liege)',\n 'Victorian Entomologist',\n 'Vietnamese new mollusks: sea shells, landsnails, cephalopods.',\n 'Atti della Societa Toscana di Scienze Naturali Residente in Pisa Memorie, Serie B',\n 'Altenburger Naturwissenschaftliche Forschungen',\n 'Atti della Accademia Nazionale dei Lincei Classe di Scienze Fisiche, Matematiche e Naturali Rendiconti Lincei Scienze Fisiche e Naturali',\n 'A conchological iconography. The Family Volutidae: the endemic Far East, Asian subfamily Fulgorariinae Pilsbry & Olsson, 1954: a revision of the, Recent species.']"
     },
     "metadata": {},
     "execution_count": 188
    }
   ],
   "source": [
    "# Take a look at the journals with less than 2 occurrences as we might see some non-journals here\n",
    "list(wos_journals[~wos_journals.where(wos_journals < 2).isna()].sort_values().index)"
   ]
  },
  {
   "cell_type": "code",
   "execution_count": 189,
   "metadata": {},
   "outputs": [
    {
     "output_type": "execute_result",
     "data": {
      "text/plain": "Source\nZootaxa                                                   16906\nActa Zootaxonomica Sinica                                   441\nArquivo Brasileiro de Medicina Veterinaria e Zootecnia       12\nVeterinaria e Zootecnia                                       4\nActa Veterinaria et Zootechnica Sinica                        1\nName: Year Published, dtype: int64"
     },
     "metadata": {},
     "execution_count": 189
    }
   ],
   "source": [
    "# Checking for possible typos involving Zootaxa's name\n",
    "wos_journals[['Zoot'.lower() in s.lower() for s in wos_journals.index]]"
   ]
  },
  {
   "source": [
    "We can see that there are a LOT of different journals in this dataset, but not all of them are actual journals, there are mistakes, random enough to be extremely hard -- or impossible -- to come up with an automate way of cleaning at this point.\n",
    "\n",
    "On the bright side, there aren't many typos with the most common journal on the dataset, which is a good indication that we are not missing a lot of data due to this issue."
   ],
   "cell_type": "markdown",
   "metadata": {}
  },
  {
   "source": [
    "Summary of transformations needed in this dataset (Web of Science/Zoological Records):\n",
    "\n",
    "1. Remove duplicates based on 'Source', 'Year Published', 'Volume', 'Issue', 'Page Span' columns\n",
    "2. Select only 'Source' and 'Year Published' columns\n",
    "3. Rename these two columns to 'Journal' and 'Year'\n",
    "4. Add a column named 'Source', with all rows = 'WoS/Zoological Records'"
   ],
   "cell_type": "markdown",
   "metadata": {}
  },
  {
   "source": [
    "##### TratmentBank (Plazi)"
   ],
   "cell_type": "markdown",
   "metadata": {}
  },
  {
   "cell_type": "code",
   "execution_count": 190,
   "metadata": {},
   "outputs": [
    {
     "output_type": "execute_result",
     "data": {
      "text/plain": "Index(['id', 'authors', 'year', 'title', 'journal', 'volume', 'issue',\n       'start_page', 'end_page', 'num_treats'],\n      dtype='object')"
     },
     "metadata": {},
     "execution_count": 190
    }
   ],
   "source": [
    "# First, check the available columns again\n",
    "tb.columns"
   ]
  },
  {
   "source": [
    "###### Duplicates\n",
    "\n",
    "There aren't many things that we can easily compare other than adopting the second strategy applied for WoS dataset. Thus:\n",
    "\n",
    "1. Based on the columns: 'journal', 'year', 'volume', 'issue', 'start_page'\n",
    "\n",
    "It's worth to mention that I'm deliberately avoiding using 'title' for this because I strongly believe that the more complex, variable, a field is, the more likely to have typos and other variance. As such, 'title' isn't a good fit to check for duplicates, for instance."
   ],
   "cell_type": "markdown",
   "metadata": {}
  },
  {
   "cell_type": "code",
   "execution_count": 258,
   "metadata": {},
   "outputs": [
    {
     "output_type": "execute_result",
     "data": {
      "text/plain": "False    18763\nTrue       192\ndtype: int64"
     },
     "metadata": {},
     "execution_count": 258
    }
   ],
   "source": [
    "# Check for duplicates using the defined strategy\n",
    "\n",
    "# First, remove possible rowns with NaNs in all of these fields:\n",
    "tb_duplicates = tb.dropna(subset=['journal', 'year', 'volume', 'issue', 'start_page'], how='all', inplace=False)\n",
    "\n",
    "# Then, applied strategy\n",
    "tb_duplicates.duplicated(subset=['journal', 'year', 'volume', 'issue', 'start_page'], keep=False).value_counts()"
   ]
  },
  {
   "cell_type": "code",
   "execution_count": 259,
   "metadata": {},
   "outputs": [
    {
     "output_type": "execute_result",
     "data": {
      "text/plain": "          id                                            authors  year  \\\n329      330                            Min, Gao & Zhang, Yalin  2013   \n357      358  Miranda, Vinicius Rocha & Rodrigues, Andrielle...  2020   \n452      453  Molineri, Carlos & Granados-Martinez, Cristian E.  2019   \n504      505  Monteiro, Nilton Juvencio Santiago & Esposito,...  2017   \n642      643    Mostafa R. Sharaf & Joe Monks & Andrew Polaszek  2016   \n...      ...                                                ...   ...   \n18571  18572         Martynov, Alexander V. & Godunko, Roman J.  2017   \n18603  18604             Maruyama, Munetoshi & Kamezawa, Hiromu  2013   \n18868  18869              Abolafia, Joaquín & Shokoohi, Ebrahim  2017   \n18916  18917  Adeldoost, Yaser & Heydari, Ramin & Pedram, Majid  2015   \n18946  18947               Aguila, Rayner Núñez & Davis, Don R.  2016   \n\n                                                   title  \\\n329    Review of the leafhopper genus Oniella Matsumu...   \n357    A new species of Ophryotrocha (Annelida: Dorvi...   \n452    Two new species of Campsurus Eaton (Ephemeropt...   \n504    New species and new records of Calycomyza Hend...   \n642    A remarkable new species of the genus Lepisiot...   \n...                                                  ...   \n18571  Mayflies of the Caucasus Mountains. IV. New sp...   \n18603  Adinopsis nippon, a new species of marsh-dwell...   \n18868  Description of Stegelletina lingulata sp. n. (...   \n18916  Morphological and molecular characterization o...   \n18946  Antillopsyche sessilis, new genus and species,...   \n\n                          journal volume issue start_page end_page num_treats  \n329                       Zootaxa   3693     1          0        0          1  \n357            Pap. Avulsos Zool.     60     0          1        8          1  \n452                       Zootaxa   4543     1          0        0          2  \n504                       Zootaxa   4338     3          0        0          2  \n642    Journal of Natural History     50    29          1       13          1  \n...                           ...    ...   ...        ...      ...        ...  \n18571                     Zootaxa   4231     1          0        0          1  \n18603                     Zootaxa   3669     1          0        0          1  \n18868                     Zootaxa   4358     3          0        0          1  \n18916                     Zootaxa   4040     1          0        0          1  \n18946                     Zootaxa   4066     1          0        0          1  \n\n[192 rows x 10 columns]",
      "text/html": "<div>\n<style scoped>\n    .dataframe tbody tr th:only-of-type {\n        vertical-align: middle;\n    }\n\n    .dataframe tbody tr th {\n        vertical-align: top;\n    }\n\n    .dataframe thead th {\n        text-align: right;\n    }\n</style>\n<table border=\"1\" class=\"dataframe\">\n  <thead>\n    <tr style=\"text-align: right;\">\n      <th></th>\n      <th>id</th>\n      <th>authors</th>\n      <th>year</th>\n      <th>title</th>\n      <th>journal</th>\n      <th>volume</th>\n      <th>issue</th>\n      <th>start_page</th>\n      <th>end_page</th>\n      <th>num_treats</th>\n    </tr>\n  </thead>\n  <tbody>\n    <tr>\n      <th>329</th>\n      <td>330</td>\n      <td>Min, Gao &amp; Zhang, Yalin</td>\n      <td>2013</td>\n      <td>Review of the leafhopper genus Oniella Matsumu...</td>\n      <td>Zootaxa</td>\n      <td>3693</td>\n      <td>1</td>\n      <td>0</td>\n      <td>0</td>\n      <td>1</td>\n    </tr>\n    <tr>\n      <th>357</th>\n      <td>358</td>\n      <td>Miranda, Vinicius Rocha &amp; Rodrigues, Andrielle...</td>\n      <td>2020</td>\n      <td>A new species of Ophryotrocha (Annelida: Dorvi...</td>\n      <td>Pap. Avulsos Zool.</td>\n      <td>60</td>\n      <td>0</td>\n      <td>1</td>\n      <td>8</td>\n      <td>1</td>\n    </tr>\n    <tr>\n      <th>452</th>\n      <td>453</td>\n      <td>Molineri, Carlos &amp; Granados-Martinez, Cristian E.</td>\n      <td>2019</td>\n      <td>Two new species of Campsurus Eaton (Ephemeropt...</td>\n      <td>Zootaxa</td>\n      <td>4543</td>\n      <td>1</td>\n      <td>0</td>\n      <td>0</td>\n      <td>2</td>\n    </tr>\n    <tr>\n      <th>504</th>\n      <td>505</td>\n      <td>Monteiro, Nilton Juvencio Santiago &amp; Esposito,...</td>\n      <td>2017</td>\n      <td>New species and new records of Calycomyza Hend...</td>\n      <td>Zootaxa</td>\n      <td>4338</td>\n      <td>3</td>\n      <td>0</td>\n      <td>0</td>\n      <td>2</td>\n    </tr>\n    <tr>\n      <th>642</th>\n      <td>643</td>\n      <td>Mostafa R. Sharaf &amp; Joe Monks &amp; Andrew Polaszek</td>\n      <td>2016</td>\n      <td>A remarkable new species of the genus Lepisiot...</td>\n      <td>Journal of Natural History</td>\n      <td>50</td>\n      <td>29</td>\n      <td>1</td>\n      <td>13</td>\n      <td>1</td>\n    </tr>\n    <tr>\n      <th>...</th>\n      <td>...</td>\n      <td>...</td>\n      <td>...</td>\n      <td>...</td>\n      <td>...</td>\n      <td>...</td>\n      <td>...</td>\n      <td>...</td>\n      <td>...</td>\n      <td>...</td>\n    </tr>\n    <tr>\n      <th>18571</th>\n      <td>18572</td>\n      <td>Martynov, Alexander V. &amp; Godunko, Roman J.</td>\n      <td>2017</td>\n      <td>Mayflies of the Caucasus Mountains. IV. New sp...</td>\n      <td>Zootaxa</td>\n      <td>4231</td>\n      <td>1</td>\n      <td>0</td>\n      <td>0</td>\n      <td>1</td>\n    </tr>\n    <tr>\n      <th>18603</th>\n      <td>18604</td>\n      <td>Maruyama, Munetoshi &amp; Kamezawa, Hiromu</td>\n      <td>2013</td>\n      <td>Adinopsis nippon, a new species of marsh-dwell...</td>\n      <td>Zootaxa</td>\n      <td>3669</td>\n      <td>1</td>\n      <td>0</td>\n      <td>0</td>\n      <td>1</td>\n    </tr>\n    <tr>\n      <th>18868</th>\n      <td>18869</td>\n      <td>Abolafia, Joaquín &amp; Shokoohi, Ebrahim</td>\n      <td>2017</td>\n      <td>Description of Stegelletina lingulata sp. n. (...</td>\n      <td>Zootaxa</td>\n      <td>4358</td>\n      <td>3</td>\n      <td>0</td>\n      <td>0</td>\n      <td>1</td>\n    </tr>\n    <tr>\n      <th>18916</th>\n      <td>18917</td>\n      <td>Adeldoost, Yaser &amp; Heydari, Ramin &amp; Pedram, Majid</td>\n      <td>2015</td>\n      <td>Morphological and molecular characterization o...</td>\n      <td>Zootaxa</td>\n      <td>4040</td>\n      <td>1</td>\n      <td>0</td>\n      <td>0</td>\n      <td>1</td>\n    </tr>\n    <tr>\n      <th>18946</th>\n      <td>18947</td>\n      <td>Aguila, Rayner Núñez &amp; Davis, Don R.</td>\n      <td>2016</td>\n      <td>Antillopsyche sessilis, new genus and species,...</td>\n      <td>Zootaxa</td>\n      <td>4066</td>\n      <td>1</td>\n      <td>0</td>\n      <td>0</td>\n      <td>1</td>\n    </tr>\n  </tbody>\n</table>\n<p>192 rows × 10 columns</p>\n</div>"
     },
     "metadata": {},
     "execution_count": 259
    }
   ],
   "source": [
    "# Take a carefull look into some of these so-called duplicates\n",
    "tb_duplicates[tb_duplicates.duplicated(subset=['journal', 'year', 'volume', 'issue', 'start_page'], keep=False)]"
   ]
  },
  {
   "cell_type": "code",
   "execution_count": 260,
   "metadata": {},
   "outputs": [
    {
     "output_type": "execute_result",
     "data": {
      "text/plain": "          id                       authors  year  \\\n329      330       Min, Gao & Zhang, Yalin  2013   \n14918  14919  Huerta, Heron & Dzul, Felipe  2013   \n\n                                                   title  journal volume  \\\n329    Review of the leafhopper genus Oniella Matsumu...  Zootaxa   3693   \n14918  First record of the genus Abrhexosa Freeman fr...  Zootaxa   3693   \n\n      issue start_page end_page num_treats  \n329       1          0        0          1  \n14918     1          0        0          3  ",
      "text/html": "<div>\n<style scoped>\n    .dataframe tbody tr th:only-of-type {\n        vertical-align: middle;\n    }\n\n    .dataframe tbody tr th {\n        vertical-align: top;\n    }\n\n    .dataframe thead th {\n        text-align: right;\n    }\n</style>\n<table border=\"1\" class=\"dataframe\">\n  <thead>\n    <tr style=\"text-align: right;\">\n      <th></th>\n      <th>id</th>\n      <th>authors</th>\n      <th>year</th>\n      <th>title</th>\n      <th>journal</th>\n      <th>volume</th>\n      <th>issue</th>\n      <th>start_page</th>\n      <th>end_page</th>\n      <th>num_treats</th>\n    </tr>\n  </thead>\n  <tbody>\n    <tr>\n      <th>329</th>\n      <td>330</td>\n      <td>Min, Gao &amp; Zhang, Yalin</td>\n      <td>2013</td>\n      <td>Review of the leafhopper genus Oniella Matsumu...</td>\n      <td>Zootaxa</td>\n      <td>3693</td>\n      <td>1</td>\n      <td>0</td>\n      <td>0</td>\n      <td>1</td>\n    </tr>\n    <tr>\n      <th>14918</th>\n      <td>14919</td>\n      <td>Huerta, Heron &amp; Dzul, Felipe</td>\n      <td>2013</td>\n      <td>First record of the genus Abrhexosa Freeman fr...</td>\n      <td>Zootaxa</td>\n      <td>3693</td>\n      <td>1</td>\n      <td>0</td>\n      <td>0</td>\n      <td>3</td>\n    </tr>\n  </tbody>\n</table>\n</div>"
     },
     "metadata": {},
     "execution_count": 260
    }
   ],
   "source": [
    "# Looking the first record on that list, to see if we can find its duplicate\n",
    "tb_duplicates[tb_duplicates['journal'] == 'Zootaxa'][tb_duplicates['volume'] == '3693'][tb_duplicates['issue'] == '1'][tb_duplicates['start_page'] == '0']"
   ]
  },
  {
   "source": [
    "Ok, this is clearly NOT a duplication, but a metadata issue. Let's check another one."
   ],
   "cell_type": "markdown",
   "metadata": {}
  },
  {
   "cell_type": "code",
   "execution_count": 261,
   "metadata": {},
   "outputs": [
    {
     "output_type": "execute_result",
     "data": {
      "text/plain": "          id                                          authors  year  \\\n642      643  Mostafa R. Sharaf & Joe Monks & Andrew Polaszek  2016   \n14903  14904   Huei-Ping Shen & Chih-Han Chang & Wen-Jay Chih  2016   \n\n                                                   title  \\\n642    A remarkable new species of the genus Lepisiot...   \n14903  Amynthas (Megascolecidae: Oligochaeta) from so...   \n\n                          journal volume issue start_page end_page num_treats  \n642    Journal of Natural History     50    29          1       13          1  \n14903  Journal of Natural History     50    29          1       22          1  ",
      "text/html": "<div>\n<style scoped>\n    .dataframe tbody tr th:only-of-type {\n        vertical-align: middle;\n    }\n\n    .dataframe tbody tr th {\n        vertical-align: top;\n    }\n\n    .dataframe thead th {\n        text-align: right;\n    }\n</style>\n<table border=\"1\" class=\"dataframe\">\n  <thead>\n    <tr style=\"text-align: right;\">\n      <th></th>\n      <th>id</th>\n      <th>authors</th>\n      <th>year</th>\n      <th>title</th>\n      <th>journal</th>\n      <th>volume</th>\n      <th>issue</th>\n      <th>start_page</th>\n      <th>end_page</th>\n      <th>num_treats</th>\n    </tr>\n  </thead>\n  <tbody>\n    <tr>\n      <th>642</th>\n      <td>643</td>\n      <td>Mostafa R. Sharaf &amp; Joe Monks &amp; Andrew Polaszek</td>\n      <td>2016</td>\n      <td>A remarkable new species of the genus Lepisiot...</td>\n      <td>Journal of Natural History</td>\n      <td>50</td>\n      <td>29</td>\n      <td>1</td>\n      <td>13</td>\n      <td>1</td>\n    </tr>\n    <tr>\n      <th>14903</th>\n      <td>14904</td>\n      <td>Huei-Ping Shen &amp; Chih-Han Chang &amp; Wen-Jay Chih</td>\n      <td>2016</td>\n      <td>Amynthas (Megascolecidae: Oligochaeta) from so...</td>\n      <td>Journal of Natural History</td>\n      <td>50</td>\n      <td>29</td>\n      <td>1</td>\n      <td>22</td>\n      <td>1</td>\n    </tr>\n  </tbody>\n</table>\n</div>"
     },
     "metadata": {},
     "execution_count": 261
    }
   ],
   "source": [
    "# Looking the first record on that list, to see if we can find its duplicate\n",
    "tb_duplicates[tb_duplicates['journal'] == 'Journal of Natural History'][tb_duplicates['volume'] == '50'][tb_duplicates['issue'] == '29'][tb_duplicates['start_page'] == '1']"
   ]
  },
  {
   "source": [
    "Again, very likely another metadata issue, but two different entities. I think we should keep the so-called 'duplicates' for this dataset."
   ],
   "cell_type": "markdown",
   "metadata": {}
  },
  {
   "source": [
    "###### 'year' NaNs\n",
    "\n",
    "This is a more straight forward check... simply count NaNs on a specific column, 'year'."
   ],
   "cell_type": "markdown",
   "metadata": {}
  },
  {
   "cell_type": "code",
   "execution_count": 205,
   "metadata": {},
   "outputs": [
    {
     "output_type": "execute_result",
     "data": {
      "text/plain": "False    18955\nName: year, dtype: int64"
     },
     "metadata": {},
     "execution_count": 205
    }
   ],
   "source": [
    "# Check the amount of NaN on column 'year'\n",
    "tb['year'].isna().value_counts()"
   ]
  },
  {
   "source": [
    "Again! Not a problematic field here!"
   ],
   "cell_type": "markdown",
   "metadata": {}
  },
  {
   "source": [
    "###### journals' names\n",
    "\n",
    "I just want to have a quick look into the (possible) mess that the journals' names in this source might be. I think this should be the most accurated source."
   ],
   "cell_type": "markdown",
   "metadata": {}
  },
  {
   "cell_type": "code",
   "execution_count": 206,
   "metadata": {},
   "outputs": [],
   "source": [
    "# Group the wos dataframe by group, getting only 'Year Published' as return\n",
    "tb_journals = tb.groupby('journal').count()['year'].sort_values(ascending=False)"
   ]
  },
  {
   "cell_type": "code",
   "execution_count": 207,
   "metadata": {},
   "outputs": [
    {
     "output_type": "execute_result",
     "data": {
      "text/plain": "196"
     },
     "metadata": {},
     "execution_count": 207
    }
   ],
   "source": [
    "# Check the number of journals\n",
    "tb_journals.shape[0]"
   ]
  },
  {
   "source": [
    "BIG difference here. From over 2500 to 196. TreatmentBank seems to be not only a much smaller database but less diverse too."
   ],
   "cell_type": "markdown",
   "metadata": {}
  },
  {
   "cell_type": "code",
   "execution_count": 208,
   "metadata": {},
   "outputs": [
    {
     "output_type": "execute_result",
     "data": {
      "text/plain": "['Communications Biology',\n 'Journal Of The Kansas Entomological Society',\n 'Journal of Bryology',\n 'Israel Journal Of Entomology',\n 'Florida Entomologist',\n 'New Journal of Botany',\n 'Occasional Papers, Museum of Texas Tech University',\n 'Zootax',\n 'Zoologischer Anzeiger',\n 'Zoological Research',\n 'Zoological Journal of the Linnean Society',\n 'Zookeys',\n 'J. Parasitol.',\n 'ZooTaxa',\n 'UPLB Museum Publications in Natural History',\n 'Tropical Zoology',\n 'The Veliger',\n 'The Journal of Research on the Lepidoptera',\n 'Taxon',\n 'Systematics and Biodiversity',\n 'Systematic Parasitology',\n 'Stuttgarter Beiträge zur Naturkunde A, Neue Serie',\n 'Soil Organisms',\n 'Serket',\n 'Orgamisms, Diversity & Evolution',\n 'Vestnik Zoologii',\n 'Oriental Insects',\n 'J. Entomol. Res. Soc.',\n 'J Zool Syst Evol Res',\n 'Nature Communications',\n \"Mémoires du Muséum national d'Histoire naturelle\",\n 'Mycol Progress',\n 'Mitteilungen der Münchner Entomologischen Gesellschaft',\n 'Memoirs of the Queensland Museu Nature',\n 'Memoirs of Museum Victoria',\n 'Magnolia Press',\n 'LANKESTERIANA',\n 'Kew Bulletin',\n 'Journal of the Ocean Science Scoiety',\n 'Journal of Systematic Palaeontology',\n 'J. Agr. Sci. Tech.',\n 'Journal of Paleontology',\n 'Journal of Insect Biodiversity',\n 'Journal of Entomological and Acarological Research',\n 'eLife e09560',\n 'Forktail',\n 'Handbook of the Birds of the Wold Special volume: new species and global index',\n 'Heteropterus Revista de Entomología',\n 'Historical Biology',\n 'Iheringia, Série Zoologia',\n 'Indian Journal of Arachnology',\n 'Neotropical Biology and Conservation',\n 'International Journal of Systematic and Evolutionary Microbiology',\n 'Journal of Molluscan Studies',\n 'PLOS ONE',\n 'PLoS One',\n 'Paleontologia Electronica',\n 'Arachnology Letters',\n 'Arachnology',\n 'Annales Zoologici (Warszawa)',\n 'Amphibian & Reptile Conservation',\n 'American Museum Novitates',\n 'American Journal of Primatology',\n 'American Entomologist',\n 'Adansonia, sér. 3',\n 'Acta Zoologica Bulgarica',\n 'Acta Entomologica Slovenica',\n 'Acta Arachnologica Sinica',\n 'Arquivos Entomolóxicos',\n 'Acta Arachnologica',\n 'Caucasian Entomological Bulletin',\n 'zoosystema',\n 'Entomological Science',\n 'Current Biology',\n 'Contributions to Natural History',\n 'European Journal of Protistology',\n 'Entomologica Americana',\n 'Cladistics',\n 'Contributions to Entomology',\n 'ENTOMOLOGICAL NEWS',\n 'European Jornal of Taxonomy',\n 'Arthropod Fauna of the UAE',\n 'Australian Journal of Entomology',\n 'Castanea',\n 'BMC Biology',\n 'Parasitological Research',\n 'Novon',\n 'Parasitology International',\n 'Persoonia',\n 'Plant Ecology and Evolution',\n 'Plos One',\n 'Revista peruana de biología',\n 'Salvador Moyà-Solà',\n 'Scientific reports',\n 'Peerj',\n 'Far Eeastern Entomologist',\n 'Journal of Cave and Karst Studies',\n 'Basteria',\n 'Bulletin of the British Arachnological Society',\n 'Bulletin of Malacology, Taiwan',\n 'Bulletin Of The American Museum Of Natural History',\n 'Bull. Br. arachnol. Soc.',\n 'Brittonia',\n 'Botany',\n 'Bol. R. Soc. Esp. Hist. Nat',\n 'Biodiversity, Biogeography and Nature Conservation in Wallacea and New Guinea, Volume 3',\n 'Biodiversity journal',\n 'Biodiversity Journal',\n 'Belgian Journal of Entomology',\n 'Beiträge zur Entomologie = Contributions to Entomology',\n 'Nauplius',\n '1']"
     },
     "metadata": {},
     "execution_count": 208
    }
   ],
   "source": [
    "# Take a look at the journals with less than 2 occurrences as we might see some non-journals here\n",
    "list(tb_journals[~tb_journals.where(tb_journals < 2).isna()].sort_values().index)"
   ]
  },
  {
   "source": [
    "There are fewer entries that are not real journals (for example, 'Handbook of the Birds of the Wold Special volume: new species and global index') than on wos dataset. It also doesn't seem to be a big problem in this dataset.\n"
   ],
   "cell_type": "markdown",
   "metadata": {}
  },
  {
   "cell_type": "code",
   "execution_count": 212,
   "metadata": {},
   "outputs": [
    {
     "output_type": "execute_result",
     "data": {
      "text/plain": "journal\nZootaxa    13134\nZooTaxa        1\nZootax         1\nName: year, dtype: int64"
     },
     "metadata": {},
     "execution_count": 212
    }
   ],
   "source": [
    "# Checking for possible typos involving Zootaxa's name\n",
    "tb_journals[['Zoot'.lower() in s.lower() for s in tb_journals.index]]"
   ]
  },
  {
   "cell_type": "code",
   "execution_count": 210,
   "metadata": {},
   "outputs": [
    {
     "output_type": "execute_result",
     "data": {
      "text/plain": "journal\nZooKeys    3183\nZookeys       1\nName: year, dtype: int64"
     },
     "metadata": {},
     "execution_count": 210
    }
   ],
   "source": [
    "# Definitely non-significant, but I decided to check 'ZooKeys' too\n",
    "tb_journals[['Zook'.lower() in s.lower() for s in tb_journals.index]]"
   ]
  },
  {
   "cell_type": "code",
   "execution_count": 211,
   "metadata": {},
   "outputs": [
    {
     "output_type": "execute_result",
     "data": {
      "text/plain": "journal\nEuropean Journal of Taxonomy    564\nEuropean Jornal of Taxonomy       1\nTaxon                             1\nName: year, dtype: int64"
     },
     "metadata": {},
     "execution_count": 211
    }
   ],
   "source": [
    "# And European Journal of Taxonomy\n",
    "tb_journals[['Taxon'.lower() in s.lower() for s in tb_journals.index]]"
   ]
  },
  {
   "source": [
    "It's clear to me that journals' names is not a problem in this dataset."
   ],
   "cell_type": "markdown",
   "metadata": {}
  },
  {
   "source": [
    "Summary of transformations needed in this dataset (TreatmentBank):\n",
    "\n",
    "1. Select only 'journal' and 'year' columns\n",
    "2. Rename these two columns to 'Journal' and 'Year', with capital initial letters\n",
    "3. Add a column named 'Source', with all rows = 'TreatmentBank'"
   ],
   "cell_type": "markdown",
   "metadata": {}
  },
  {
   "source": [
    "##### Zoobank\n"
   ],
   "cell_type": "markdown",
   "metadata": {}
  },
  {
   "cell_type": "code",
   "execution_count": 213,
   "metadata": {},
   "outputs": [
    {
     "output_type": "execute_result",
     "data": {
      "text/plain": "Index(['id', 'authors', 'year', 'title', 'journal', 'bibref_details', 'volume',\n       'issue', 'start_page', 'end_page', 'from_year'],\n      dtype='object')"
     },
     "metadata": {},
     "execution_count": 213
    }
   ],
   "source": [
    "# First, let's check columns' names\n",
    "zb.columns"
   ]
  },
  {
   "source": [
    "###### Duplicates\n",
    "\n",
    "This dataset is very similar, in terms of structure, than the previous one. There aren't many things that we can easily compare other than adopting the second strategy applied for WoS dataset. Thus:\n",
    "\n",
    "1. Based on the columns: 'journal', 'bibref_details'\n",
    "\n",
    "The column 'bibref_details' carries the info for colume, issue, start and end_pages combined. Thus, it's a good place to check for duplicates."
   ],
   "cell_type": "markdown",
   "metadata": {}
  },
  {
   "cell_type": "code",
   "execution_count": 262,
   "metadata": {},
   "outputs": [
    {
     "output_type": "execute_result",
     "data": {
      "text/plain": "False    39360\nTrue      9525\ndtype: int64"
     },
     "metadata": {},
     "execution_count": 262
    }
   ],
   "source": [
    "# Check for duplicates using the defined strategy\n",
    "\n",
    "# First, remove possible rowns with NaNs in all of these fields:\n",
    "zb_duplicates = zb[~zb[['journal', 'bibref_details']].isna()]\n",
    "zb_duplicates = zb.dropna(subset=['journal', 'bibref_details'], how='all', inplace=False)\n",
    "\n",
    "# Then, applied strategy\n",
    "zb_duplicates.duplicated(subset=['journal', 'bibref_details'], keep=False).value_counts()"
   ]
  },
  {
   "source": [
    "Wow. That's a LOT of potential duplicates. Better check this more carefully.\n",
    "\n",
    "![](https://i.imgur.com/dG0WSvp.png)"
   ],
   "cell_type": "markdown",
   "metadata": {}
  },
  {
   "source": [
    "# Take a carefull look into some of these so-called duplicates\n",
    "zb_duplicates[zb_duplicates.duplicated(subset=['journal', 'bibref_details'], keep=False)]"
   ],
   "cell_type": "code",
   "metadata": {},
   "execution_count": 263,
   "outputs": [
    {
     "output_type": "execute_result",
     "data": {
      "text/plain": "          id                                            authors  year  \\\n2          3                                   Ahyong, Shane T.  2010   \n6          7  Aldawood, Abdulrahman S., Mostafa R. Sharaf & ...  2010   \n14        15                                    Altuna, Álvaro.  2017   \n15        16  Álvarez, Fernando, Thomas M. Iliffe & José L. ...  2014   \n16        17                           Ambrus, R. & W. Grosser.  2012   \n...      ...                                                ...   ...   \n48878  48879  Żyła, Dagmara, Shȗhei Yamamoto & Josh Jenkins ...  2019   \n48879  48880                Антонов, А. Л. & И. В. Костомарова.  2019   \n48880  48881                                    Важенина, Н. В.  2019   \n48883  48884                                    Озерский, П. В.  2019   \n48884  48885                                    Озерский, П. В.  2019   \n\n                                                   title  \\\n2      The marine fauna of New Zealand: king crabs of...   \n6                                   Monomorium moathi sp   \n14     Deep-water scleractinian corals (Cnidaria: Ant...   \n15     A new species of the alpheid shrimp genus Tria...   \n16     Additions and corrections to the new Catalogue...   \n...                                                  ...   \n48878  Total-evidence approach reveals an extinct lin...   \n48879  МИКИЖА PARASALMO MYKISS (SALMONIDAE) У ГРАНИЦ ...   \n48880  Динамика населения герпетобионтных жесткокрылы...   \n48883  К распространению некоторых видов кузнечиков (...   \n48884  К распространению некоторых видов кузнечиков (...   \n\n                          journal    bibref_details volume issue start_page  \\\n2                              No                                             \n6                               n                                             \n14                        Zootaxa  4353(2): 257–293   4353     2        257   \n15                        Zootaxa    3768(1): 88–94   3768     1         88   \n16                     Löbl and A                                             \n...                           ...               ...    ...   ...        ...   \n48878               Palaeontology                                             \n48879                                                                         \n48880  Amurian Zoological Journal    11(4): 314-326     11     4        314   \n48883  Amurian Zoological Journal    11(3): 240-246     11     3        240   \n48884  Amurian Zoological Journal    11(3): 240-246     11     3        240   \n\n      end_page from_year  \n2                   2010  \n6                   2010  \n14         293      2010  \n15          94      2010  \n16                  2010  \n...        ...       ...  \n48878               2019  \n48879               2019  \n48880      326      2019  \n48883      246      2019  \n48884      246      2019  \n\n[9525 rows x 11 columns]",
      "text/html": "<div>\n<style scoped>\n    .dataframe tbody tr th:only-of-type {\n        vertical-align: middle;\n    }\n\n    .dataframe tbody tr th {\n        vertical-align: top;\n    }\n\n    .dataframe thead th {\n        text-align: right;\n    }\n</style>\n<table border=\"1\" class=\"dataframe\">\n  <thead>\n    <tr style=\"text-align: right;\">\n      <th></th>\n      <th>id</th>\n      <th>authors</th>\n      <th>year</th>\n      <th>title</th>\n      <th>journal</th>\n      <th>bibref_details</th>\n      <th>volume</th>\n      <th>issue</th>\n      <th>start_page</th>\n      <th>end_page</th>\n      <th>from_year</th>\n    </tr>\n  </thead>\n  <tbody>\n    <tr>\n      <th>2</th>\n      <td>3</td>\n      <td>Ahyong, Shane T.</td>\n      <td>2010</td>\n      <td>The marine fauna of New Zealand: king crabs of...</td>\n      <td>No</td>\n      <td></td>\n      <td></td>\n      <td></td>\n      <td></td>\n      <td></td>\n      <td>2010</td>\n    </tr>\n    <tr>\n      <th>6</th>\n      <td>7</td>\n      <td>Aldawood, Abdulrahman S., Mostafa R. Sharaf &amp; ...</td>\n      <td>2010</td>\n      <td>Monomorium moathi sp</td>\n      <td>n</td>\n      <td></td>\n      <td></td>\n      <td></td>\n      <td></td>\n      <td></td>\n      <td>2010</td>\n    </tr>\n    <tr>\n      <th>14</th>\n      <td>15</td>\n      <td>Altuna, Álvaro.</td>\n      <td>2017</td>\n      <td>Deep-water scleractinian corals (Cnidaria: Ant...</td>\n      <td>Zootaxa</td>\n      <td>4353(2): 257–293</td>\n      <td>4353</td>\n      <td>2</td>\n      <td>257</td>\n      <td>293</td>\n      <td>2010</td>\n    </tr>\n    <tr>\n      <th>15</th>\n      <td>16</td>\n      <td>Álvarez, Fernando, Thomas M. Iliffe &amp; José L. ...</td>\n      <td>2014</td>\n      <td>A new species of the alpheid shrimp genus Tria...</td>\n      <td>Zootaxa</td>\n      <td>3768(1): 88–94</td>\n      <td>3768</td>\n      <td>1</td>\n      <td>88</td>\n      <td>94</td>\n      <td>2010</td>\n    </tr>\n    <tr>\n      <th>16</th>\n      <td>17</td>\n      <td>Ambrus, R. &amp; W. Grosser.</td>\n      <td>2012</td>\n      <td>Additions and corrections to the new Catalogue...</td>\n      <td>Löbl and A</td>\n      <td></td>\n      <td></td>\n      <td></td>\n      <td></td>\n      <td></td>\n      <td>2010</td>\n    </tr>\n    <tr>\n      <th>...</th>\n      <td>...</td>\n      <td>...</td>\n      <td>...</td>\n      <td>...</td>\n      <td>...</td>\n      <td>...</td>\n      <td>...</td>\n      <td>...</td>\n      <td>...</td>\n      <td>...</td>\n      <td>...</td>\n    </tr>\n    <tr>\n      <th>48878</th>\n      <td>48879</td>\n      <td>Żyła, Dagmara, Shȗhei Yamamoto &amp; Josh Jenkins ...</td>\n      <td>2019</td>\n      <td>Total-evidence approach reveals an extinct lin...</td>\n      <td>Palaeontology</td>\n      <td></td>\n      <td></td>\n      <td></td>\n      <td></td>\n      <td></td>\n      <td>2019</td>\n    </tr>\n    <tr>\n      <th>48879</th>\n      <td>48880</td>\n      <td>Антонов, А. Л. &amp; И. В. Костомарова.</td>\n      <td>2019</td>\n      <td>МИКИЖА PARASALMO MYKISS (SALMONIDAE) У ГРАНИЦ ...</td>\n      <td></td>\n      <td></td>\n      <td></td>\n      <td></td>\n      <td></td>\n      <td></td>\n      <td>2019</td>\n    </tr>\n    <tr>\n      <th>48880</th>\n      <td>48881</td>\n      <td>Важенина, Н. В.</td>\n      <td>2019</td>\n      <td>Динамика населения герпетобионтных жесткокрылы...</td>\n      <td>Amurian Zoological Journal</td>\n      <td>11(4): 314-326</td>\n      <td>11</td>\n      <td>4</td>\n      <td>314</td>\n      <td>326</td>\n      <td>2019</td>\n    </tr>\n    <tr>\n      <th>48883</th>\n      <td>48884</td>\n      <td>Озерский, П. В.</td>\n      <td>2019</td>\n      <td>К распространению некоторых видов кузнечиков (...</td>\n      <td>Amurian Zoological Journal</td>\n      <td>11(3): 240-246</td>\n      <td>11</td>\n      <td>3</td>\n      <td>240</td>\n      <td>246</td>\n      <td>2019</td>\n    </tr>\n    <tr>\n      <th>48884</th>\n      <td>48885</td>\n      <td>Озерский, П. В.</td>\n      <td>2019</td>\n      <td>К распространению некоторых видов кузнечиков (...</td>\n      <td>Amurian Zoological Journal</td>\n      <td>11(3): 240-246</td>\n      <td>11</td>\n      <td>3</td>\n      <td>240</td>\n      <td>246</td>\n      <td>2019</td>\n    </tr>\n  </tbody>\n</table>\n<p>9525 rows × 11 columns</p>\n</div>"
     },
     "metadata": {},
     "execution_count": 263
    }
   ]
  },
  {
   "source": [
    "I can already see a real duplication on the IDs 48884 and 48885. As I have the 'from_year' column, I actually went back to [Zoobank#2019](http://zoobank.org/Search?search_term=2019) and found these two guys duplicated... \n",
    "\n",
    "![](https://i.imgur.com/HHyM254.png)\n",
    "\n",
    "So we have duplicates. Let's check one more."
   ],
   "cell_type": "markdown",
   "metadata": {}
  },
  {
   "cell_type": "code",
   "execution_count": 298,
   "metadata": {},
   "outputs": [
    {
     "output_type": "execute_result",
     "data": {
      "text/plain": "        id                                            authors  year  \\\n15      16  Álvarez, Fernando, Thomas M. Iliffe & José L. ...  2014   \n1294  1295  Álvarez, Fernando, Thomas M. Iliffe & José L. ...  2014   \n\n                                                  title  journal  \\\n15    A new species of the alpheid shrimp genus Tria...  Zootaxa   \n1294  A new species of the alpheid shrimp genus Tria...  Zootaxa   \n\n      bibref_details volume issue start_page end_page from_year  \n15    3768(1): 88–94   3768     1         88       94      2010  \n1294  3768(1): 88–94   3768     1         88       94      2014  ",
      "text/html": "<div>\n<style scoped>\n    .dataframe tbody tr th:only-of-type {\n        vertical-align: middle;\n    }\n\n    .dataframe tbody tr th {\n        vertical-align: top;\n    }\n\n    .dataframe thead th {\n        text-align: right;\n    }\n</style>\n<table border=\"1\" class=\"dataframe\">\n  <thead>\n    <tr style=\"text-align: right;\">\n      <th></th>\n      <th>id</th>\n      <th>authors</th>\n      <th>year</th>\n      <th>title</th>\n      <th>journal</th>\n      <th>bibref_details</th>\n      <th>volume</th>\n      <th>issue</th>\n      <th>start_page</th>\n      <th>end_page</th>\n      <th>from_year</th>\n    </tr>\n  </thead>\n  <tbody>\n    <tr>\n      <th>15</th>\n      <td>16</td>\n      <td>Álvarez, Fernando, Thomas M. Iliffe &amp; José L. ...</td>\n      <td>2014</td>\n      <td>A new species of the alpheid shrimp genus Tria...</td>\n      <td>Zootaxa</td>\n      <td>3768(1): 88–94</td>\n      <td>3768</td>\n      <td>1</td>\n      <td>88</td>\n      <td>94</td>\n      <td>2010</td>\n    </tr>\n    <tr>\n      <th>1294</th>\n      <td>1295</td>\n      <td>Álvarez, Fernando, Thomas M. Iliffe &amp; José L. ...</td>\n      <td>2014</td>\n      <td>A new species of the alpheid shrimp genus Tria...</td>\n      <td>Zootaxa</td>\n      <td>3768(1): 88–94</td>\n      <td>3768</td>\n      <td>1</td>\n      <td>88</td>\n      <td>94</td>\n      <td>2014</td>\n    </tr>\n  </tbody>\n</table>\n</div>"
     },
     "metadata": {},
     "execution_count": 298
    }
   ],
   "source": [
    "# Randomnly checking for another case of duplication...\n",
    "zb_duplicates[zb_duplicates['bibref_details'] == '3768(1): 88–94']"
   ]
  },
  {
   "source": [
    "This one is even more interesting as their 'from_year' are different! Let me see if I can find them on Zoobank...\n",
    "\n",
    "[Zoobank#2010](http://zoobank.org/Search?search_term=2010)\n",
    "\n",
    "![](https://i.imgur.com/qEV24g4.png)\n",
    "\n",
    "[Zoobank#2014](http://zoobank.org/Search?search_term=2014)\n",
    "\n",
    "![](https://i.imgur.com/EFY6Cxn.png)\n",
    "\n",
    "Yep, duplicate! And a weird one! Because how come a paper that was only published in 2014 appeared registred in 2010? **Better remove them all!**"
   ],
   "cell_type": "markdown",
   "metadata": {}
  },
  {
   "source": [
    "###### 'year' NaNs\n",
    "\n",
    "This is a more straight forward check... simply count NaNs on a specific column, 'year'."
   ],
   "cell_type": "markdown",
   "metadata": {}
  },
  {
   "cell_type": "code",
   "execution_count": 299,
   "metadata": {},
   "outputs": [
    {
     "output_type": "execute_result",
     "data": {
      "text/plain": "False    48885\nName: year, dtype: int64"
     },
     "metadata": {},
     "execution_count": 299
    }
   ],
   "source": [
    "# Check the amount of NaN on column 'year'\n",
    "zb['year'].isna().value_counts()"
   ]
  },
  {
   "source": [
    "For a dataset built on a massive web scraping effort on a not reliably structured website, that just made my day.\n",
    "\n",
    "![](https://media.giphy.com/media/OK27wINdQS5YQ/giphy-downsized.gif)\n"
   ],
   "cell_type": "markdown",
   "metadata": {}
  },
  {
   "source": [
    "###### journals' names\n",
    "\n",
    "I just want to have a quick look into the (possible) mess that the journals' names in this source might be. I think this must be the least accurate as the data wasn't structured enough for a safe extraction of the journals' names."
   ],
   "cell_type": "markdown",
   "metadata": {}
  },
  {
   "cell_type": "code",
   "execution_count": 300,
   "metadata": {},
   "outputs": [],
   "source": [
    "# Group the wos dataframe by group, getting only 'Year Published' as return\n",
    "zb_journals = zb.groupby('journal').count()['year'].sort_values(ascending=False)"
   ]
  },
  {
   "cell_type": "code",
   "execution_count": 301,
   "metadata": {},
   "outputs": [
    {
     "output_type": "execute_result",
     "data": {
      "text/plain": "3981"
     },
     "metadata": {},
     "execution_count": 301
    }
   ],
   "source": [
    "# Check the number of journals\n",
    "zb_journals.shape[0]"
   ]
  },
  {
   "source": [
    "Wayy too many. Probably there are a LOT of errors. As this was a result of web scraping on a badly structured HTML, I probably sill have highly ranked mistakes too."
   ],
   "cell_type": "markdown",
   "metadata": {}
  },
  {
   "cell_type": "code",
   "execution_count": 302,
   "metadata": {},
   "outputs": [
    {
     "output_type": "execute_result",
     "data": {
      "text/plain": "it and E',\n 'pseudogaster (Dahl,',\n 'pseudolobata Kondo & Gullan',\n 'procerus Kuiter,',\n 'profundus (Crustacea: Decapoda: Paguridae)',\n 'prolixa sp',\n 'prophanaeus (C',\n 'putnamae, with a revised key to Indo-Pacific species of Sphyraena lacking gill rakers (Sphyraenidae)',\n 'pusilla species-group from Queensland, Australia (Coleoptera: Buprestidae)',\n 'pusilla (Mertens,',\n 'punctatonuchalis and C',\n 'pseudogranulosus, a new cryptic species of Long-toed Water Beetles (Coleoptera: Dryopidae) from Indochinese peninsula, and proposal of a new synonym for Praehelichus sericatus (Waterhouse,',\n 'punctata from northern Western Ghats of India',\n 'pulverata Christoph,',\n 'pulchra (Araneae: Salticidae: Plexippina) in Brazil',\n 'pulcherrimus, two new riffle beetle species from Borneo, and discussion about elmid plastron structures (Coleoptera: Elmidae)',\n 'pteridis from the Ryukyu Islands',\n 'pseudouniformis Brame,',\n 'pseudostylifer sp',\n 'pseudospicatus (Diptera: Dolichopodidae): morphological and molecular data',\n 'pseudorobustus (Steiner,',\n 'pumilae Inouye (Hemiptera, Aphididae, Lachninae)',\n 'niger and indirect evidence for species-specific mimicry (Araneae: Corinnidae: Castianeirinae)',\n 'nigricapitis',\n 'multipunctata (Rondani,',\n 'nipponicus (Hymenoptera: Chalcidoidea: Mymaridae)',\n 'nipponensis and G',\n 'nioensis sp',\n 'nikolajevi (Hemiptera: Aphididae)—aphid species new to Iran',\n 'nigroviridis from the Andean highlands of Central Chile (Iguania, Liolaemidae)',\n 'nigroviridis',\n 'nigrociliatus group',\n 'nigrobinotatus (Berg), description of a new species and an updated identification key for the genus',\n 'no',\n 'nov, from Qinghai, China',\n 'minor (Thorne,',\n 'octhoniai and D',\n 'org',\n 'opticaspis from Japan',\n 'opalina (Warren,',\n 'okutanii and B',\n 'okinawanus Matsumura (Coleoptera: Lampyridae: Luciolinae) from the Ryûkyû Islands, Southwestern Japan',\n 'okinavensis Namiye,',\n 'nov: a new deep-water cichlid (Teleostei: Cichlidae) from Lake Tanganyika',\n 'officinalis and M',\n 'notia Schintlmeister,',\n 'notostigma (Teleostei: Nemacheilidae)',\n 'browni sp',\n 'brookii Gray,',\n 'bromi (Kostjukov)  and A',\n 'brincki',\n 'ilamensis and P',\n 'imbricata, and updated key  (Hemiptera: Cicadellidae: Cicadellini)',\n 'imitator (Miranda-Ribeiro,',\n 'pyrrhulipennella group (Lepidoptera: Coleophoridae) from the South-Eastern Alps',\n 'nov, sp',\n 'nov, from Guizhou, China',\n 'nov, a new substitute name for Usingeria Coetzee & Segerman,',\n 'nov, a new lanternshark (Squaliformes: Etmopteridae) from the Philippine Islands, with a revised key to the Etmopterus lucifer clade',\n 'nov, a new chromidotilapiine cichlid genus (Pisces: Perciformes) from West Africa',\n 'nov helps to resolve taxonomic confusion in species of the sea anemone Epiactis (Actiniaria, Actiniidae)',\n 'nov - an endemic species of Urticaceae from Vanuatu and Solomon Islands hitherto misplaced in Boehmeria',\n 'nov - A',\n 'nov (Crustacea: Thecostraca: Ascothoracida) from off South-East Taiwan with notes on morphology and distribution',\n 'nov (Annelida, Syllidae, Autolytinae), the first known polychaete miner tunnelling into the tunic of an ascidian',\n 'nov, an additional new species (Hemiptera: Heteroptera: Veliidae) from Suriname',\n 'of Papua Province, Indonesia',\n 'of Greece (Gastropoda: Hydrobioidea: Bythinelliidae)',\n 'of Earthworms (Oligochaeta : Megascolecidae) from North Eastern Region of India using DNA bar-coding approach',\n 'montium (Squamata, Gekkonidae) with description of three new species',\n 'monticola',\n 'montanus Cope',\n 'monjerai (Matsui and Jaafar,',\n 'nigrihamita Li & Yang',\n 'modromus Motschulsky,',\n 'modestus (Vinciguerra',\n 'moctezuma  (Dyar & Knab) and new record for Tx',\n 'montium Species Group’) with Descriptions of Two New Species from Madagascar',\n 'mnong Stark,',\n 'miyakoense Komai & Fujita,',\n 'misakiensis (Sakai,',\n 'miringoera Vanzolini,',\n 'mirationis Tanaka  (Teleostei: Pomacentridae)',\n 'miraflores',\n 'multifarius',\n 'multifasciatus species group from the Lulua Basin (Kasaï drainage), Democratic Republic of Congo',\n 'multilineata (Lutz) (Diptera: Ceratopogonidae)',\n 'miyoshii, G',\n 'montivaga group (Plecoptera: Perlidae) from China',\n 'mori (Lepidoptera: Bombycidae) in Japan and Taiwan',\n 'morio (Coleoptera, Carabidae, Omphreini)',\n 'obtusa (Fuchs,',\n 'nov: a new record genus and new species of (Scorpiones, Buthidae) from China',\n 'obscura bronzina (Aves: Cracidae)',\n 'oblongispina Papp',\n 'obliquisulcata n',\n 'obliquisigna (Hampson,',\n 'obcidens n',\n 'nuntia (Savigny in Lamarck,',\n 'numidiensis, two new species of barbels from the Mediterranean Sea basin in North Africa (Te ostei: Cyprinidae)',\n 'nudithoracicus’, the sequel: Unnecessary and unscientific names lead to rapid synonymization and taxonomic time wasting—A response to Arunachalam et al',\n 'nudithoracicus, with the description of a new species of Psilorhynchus from northeastern India (Ostariophysi: Psilorhynchidae)',\n 'nov; with a description of the deutonymph of Callidosoma tiki',\n 'nigriverticella complex in the S',\n 'nigriventris (Signoret,',\n 'nigripennis Szépligeti,',\n 'montanus',\n 'mucronatus Lee (Hymenoptera, Ichneumonidae, Acaenitinae) New to Japan',\n 'muchimuk',\n 'morphotype incurvatus: Description and genetics of  a new Orthocladiinae (Diptera: Chironomidae) larval morphotype from  the Tibetan Plateau',\n 'bulbus from southern China (Araneae: Salticidae)',\n 'Re-examination of the male genitalia of types deposited at the Russian Academy of Sciences',\n 'Re-describing Astylus vittaticollis (Blanchard,',\n 'Raffles Bulletin of Zoology(',\n 'Wappes',\n 'Vladimír Švihla, CSc',\n 'Vita malacologica',\n 'roboreus (Reeve',\n 'Vincent,',\n 'Viets (Hydrachnidia: Arrenuridae)',\n 'Viets (Acari: Hydrachnidia, Torrenticolidae) from Russia',\n 'Vieraea',\n 'Zitteliana: Mitteilungen der Bayerischen Staatssammlung für Paläontologie und Geologie, Reihe A(',\n 'Veröffentlichungen des Museums für Naturkunde Chemnitz',\n 'With notes on Eoseviulisoma Brolemann,',\n 'Woon-Young Chun from Hainan Island, China (Lepidoptera, Papilionoidea)',\n 'World News of Natural Sciences',\n 'World Resources Institute, Washington, D',\n 'Zitteliana: Mitteilungen der Bayerischen Staatssammlung für Paläontologie und Geologie, Reihe A A(',\n 'Zitteliana: Mitteilungen der Bayerischen Staatssammlung für Paläontologie und Geologie, Reihe A',\n 'Zitteliana: Abhandlungen der Bayerischen Staatssammlung für Paläontologie und Geologie A(',\n 'Zitteliana: Abhandlungen der Bayerischen Staatssammlung für Paläontologie und Geologie',\n 'robusta (Hymenoptera, Eurytomidae): complementary host exploitation strategies of coexisting parasitoids and their impact on the host Urophora cardui',\n 'Zhivye i biokosnye sistemy(',\n 'Wellcome Open Research',\n 'Western Birds',\n '[',\n 'querencia and new diagnosis for the genus',\n 'qui (Collembola: Entomobryidae)',\n 'quiche species group',\n 'races under stressful climatic conditions of central Saudi Arabia',\n 'ractodes (Hymenoptera, Ichneumonidae,  Cryptinae), II: the A',\n 'ZooBank',\n 'Zona Tropical, Ithica, NY',\n 'West-European Hydrobiidae, Part',\n 'Vertebrata Palasiatica',\n 'With notes on \"P',\n 'With description of six new species and discussion of South Island, New Zealand biogeography',\n 'With a genus-level reclassification of Afrotropical genera of the family (Diplopoda: Polydesmida)',\n 'With Notes on Some Poorly-known Floridian Species',\n 'Wilhelm, New Guinea, with new records from the Bird´s Head Peninsula',\n 'Wiley-Blackwell, West Sussex',\n 'Wildfowl',\n 'White (Coleoptera: Cerambycidae) from China and Taiwan',\n 'Wenhsin Lin',\n '[Account Title] Mammalian Species',\n 'ZELAYA (',\n 'Yong-Chong Hong: a Chinese pioneering palaeoentomologist',\n 'Scientific Papers, Natural History Museum, University of Kansas(',\n 'Science Report of the Toyohashi Museum of Natural History(',\n 'Science Press, Beijing  C',\n 'Science Press, Beijing',\n 'Science Advances',\n 'Scholars Academic Journal of Biosciences (SAJB)',\n 'Scoop',\n 'Schistanthe) through the Malayan archipelago: Evidence from nuclear gene sequences',\n 'sauteri species group',\n 'Schaufuss from the Philippines (Coleoptera: Staphylinidae: Scydmaeninae)',\n 'Sauria',\n 'Satô et Okushima,',\n 'Satô (Coleoptera: Elmidae)',\n 'Satyrinae de la puna xerofítica, con la descripción de dos nuevos taxones y tres nuevos registros para Perú (Lepidoptera: Nymphalidae)',\n 'Sankarankutty, and a replacement name for Jonesius Sankarankutty,',\n 'saxatilis group from the Rio Juruena and upper Rio Paraguai basins in Brazil, with an updated diagnosis and biogeographical comments on the group (Teleostei: Cichlidae)',\n 'Sahlberg, two flat bug species new  for Central Europe (Hemiptera, Heteroptera, Aradidae)',\n 'Sclerotia Ballantyne,  a new genus of fireflies with back swimming larvae',\n 'Scarabaeoidea: Lucanidae and Passalidae',\n 'Yoshiobodes camerunensis sp',\n 'Scientific Reports SREP',\n 'satyrus sp',\n 'Yale University Press, New Haven Conn',\n 'Y',\n 'XXXIII',\n 'XXXII',\n 'XXX',\n 'XXVI',\n 'XXV',\n 'XXIV',\n 'Scientific Reports:',\n 'XXI',\n 'XIX',\n 'Wray',\n 'World journal of applied science and research',\n 'The bigeminata species group,  with descriptions of seven new species',\n 'The ammonite subfamily Mantelliceratinae Hyatt,',\n 'Revista Geológica de América Central',\n 'sawadai  group from China (Coleoptera: Dytiscidae: Agabinae)',\n 'Scientific reports(',\n 'XLIX',\n '[Unspecified Publisher]',\n '[Unspecified Publisher] Vol',\n '[Unspecified Publisher], Halle (Saale)',\n 'The shallow-water Tanaidomorpha from the Cape Verde archipelago',\n 'Transactions of the Royal Society of South Africa',\n 'Transactions of the American Philosophical Society',\n 'Toponyms predict recolonization and extinction patterns for large carnivores',\n 'Tingidae, Nabidae, Aradidae, Lygaeoidea, Pyrrhocoridae, Alydidae, with bibliographical inventory (Hemiptera)',\n 'Théry from Angola in',\n 'Thysananthus discretus Sukkharak et Gradst',\n 'Three new species, new and additional records, with distributional checklist (Coleoptera: Staphylinidae: Staphylininae: Xantholinini)',\n 'The sakaiella species group, with descriptions of  fifteen new species',\n 'Three new species from North India and Nepal, and additional records (Coleoptera: Staphylinidae: Paederinae)',\n 'Three new Lycorina species and additional distribution records',\n 'Thorell from Southeast Asia',\n 'Thomson,',\n 'The unstriped forms with descriptions of three new species and the redescriptions of I',\n 'The unistriatella species group, with descriptions of seven new species',\n 'The trilineata species group, with descriptions of four new species',\n 'The suzukiella group, with descriptions of eight new species',\n 'The subdivision of the genera Regina Baird and Girard,',\n 'Three new species and additional records, including the first records of the genus from Vietnam (Coleoptera: Staphylinidae: Paederinae)',\n 'The species-group names of bees (Hymenoptera: Apoidea, Apiformes) described from Crimea, North Caucasus, European part of Russia and Ural',\n 'The phylogeny of stygobiotic Sadlerianinae Szarowska,',\n 'The case of Pseudamnicola (Corrosella) (Mollusca: Caenogastropoda: Hydrobiidae)',\n 'The genus Pilizetes (Acari, Oribatida, Galumnidae)',\n 'The genus Pergalumna (Acari, Oribatida, Galumnidae), with description  of three new species and a key to known species from the Ethiopian region',\n 'The genus Paraheligmonelloides Fukumoto, Kamiya & Suzuki,',\n 'The genus Odilia Durette-Desset,',\n 'The genus Machadocepheus (first part) Machadocepheus leoneae sp',\n 'The genus Lejeunea Libert (',\n 'The genus Chapmanina, its species and world distribution',\n 'The genera Agrilus Curtis,',\n 'The memory of Prof',\n 'Tre nuovi Cychrini della Cina e descrizione del maschio di Cychropsis (Shuocychropsis) casalei (Cavazzuti,',\n 'The family Laelapidae s',\n 'The family Hydroptilidae, with descriptions of five new species',\n 'The family Hirstionyssidae (Acari: Mesostigmata: Gamasina)',\n 'The family Haemogamasidae (Acari: Mesostigmata: Gamasina)',\n 'The desmoceratoid ammonite genera Moretella Collignon,',\n 'The densimacularis species group,  with descriptions of four new species',\n 'The complex of Attagenus capensis with description of five new species',\n 'The case of a rhinoceros from Sumatra in the Zoological Museum Hamburg',\n 'The genera  Aspidiobatella Cook, Australorivacarus Viets, Gondwanabates Imamura  and Rhynchaustrobates Cook (Acari: Hydrachnidia)',\n 'The species that infest domestic animals and humans',\n 'The species of Agardhiella from the eastern part of the Balkan Peninsula (Gastropoda: Pulmonata: Pupilloidea)',\n 'The species described by W',\n 'rivulatus (Teleostei: Cichlidae)',\n 'ZooNova',\n 'robertsi Kurahashi,',\n 'Zoology in the Middle East(',\n 'Zoology in the Middle East:',\n 'radiata (Kulczynski,',\n 'radialis Moore (Lepidoptera: Notodontidae, Ceirinae)',\n 'abuhurayri sp',\n 'Zoologia Caboverdiana',\n 'abolafiai sp',\n 'abdominalis (Neuroptera, Chrysopidae)',\n 'abdominalis',\n 'abditus Inger, Orlov & Darevsky,',\n 'a senior synonym of Sebastella littoralis, and a valid species of Scorpaenodes (Actinopterygii: Scorpaenidae)',\n ']) in Europe and first records from Switzerland and Liechtenstein',\n ']',\n '[Unspecified Publisher]: xx,',\n '[Unspecified Publisher]: xii,',\n 'abdominis Huang and C',\n 'rigida from Japan',\n 'rex n',\n 'retractus and reevaluation of the genus',\n 'robusta Izecksohn,',\n 'Verlag Dr',\n 'VermEcology,Japan',\n 'res',\n 'rank) from the Nye Mudstone (Oregon, U',\n 'Zoology Script',\n 'Zoologisches Forschungsmuseum Alexander Koenig – Leibniz-Institut für die Biodiversität der Tiere, Bonn, Germany',\n 'reflexa Chace,',\n 'Zoologische Mededelingen, Leiden(',\n 'Zoologische Mededelingen , Leiden',\n 'Zoologische Garten',\n 'Zoologicheskii Zhurnal',\n 'regulus) complex',\n 'reichenovii in Tanzania',\n 'Zoological Journal of the Linnean Society: zlz',\n 'Zonstein,',\n 'Zoological Journal of the Linnean Society: [',\n 'Zoological Journal of the Linnean Society xx(xx):',\n 'Zoological Journal of the Linnean Society XX:',\n 'Scott (Copepoda, Harpacticoida, Laophontodinae)\\xa0– discovering a species complex by morphology',\n 'The genus Pyrophanes Olivier with two new species',\n 'The ammonite genera Mojsisovicsia Steinmann,',\n 'South Western Journal ofHorticulture, Biology and Environment',\n 'The Raffles Bulletin of Zoology, Supplement(',\n 'rostrata (Squamata: Pygopodidae), with a description of a new species from the Lake MacLeod region, Western Australia',\n 'The Quekett Journal of Microscopy',\n 'The Quebrada Rambala drainage, with description of',\n 'The Palaeontological Association Newsletter(',\n 'The Palaeobotanist',\n 'The Oriental genus Purusha Distant,',\n 'The Open Zoology Journal',\n 'The Santonian-Campanian ammonite genus Eulophoceras Hyatt,',\n 'The Open Ornithology Journal',\n 'The Marine Biologist',\n 'The Leptocheliidae  (Crustacea: Peracarida: Tanaidacea), with four new species',\n 'Taxonomy and chorology of new or little known taxa of Continental New Guinea and neighboring islands (Insecta, Heteroptera, Miridae)',\n 'Taxonomic study of Micronoctuini',\n 'Spanish Journal of Palaeontology',\n 'Staphylinidae: Staphylininae: Staphylinini: Philonthina',\n 'Studies on the Taiwanese Lepturinae, III',\n 'Studies on Neotropical Fauna and Environment:',\n 'The North Queensland Naturalist',\n 'Studies and reports of District Museum Prague-East, Taxonomical Series',\n 'The Science of Nature:',\n 'The Taxonomic Report of the International Lepidoptera Survey, Vol',\n 'The Auk: Ornithological Advances,',\n 'The Anatomical Record',\n 'The American Journal of Science, Series',\n 'The Albian ammonite genus Douvilleiceras de Grossouvre,',\n 'Thaleropis ionia (Anadolu Şehzadesi)',\n 'Tetrastichinae)  (Hymenoptera: Chalcidoidea) of Israel',\n 'Tethyan vicatiance, genetic diversity and ecological specialization',\n 'Terrestrial Arthropod Reviews',\n 'The Taxonomic Report of The International Lepidoptera Survey,',\n 'Taxonomy, biogeography, and bioinvasion',\n 'The Journal of Basic and Applied  Zoology',\n 'The Journal of Basic and Applied Zoology',\n 'The Journal of the Linnean Society of London, Zoology',\n 'The ammonite Subfamily Stoliczkaiinae Breistroffer,',\n 'The ammonite Subfamily Desmoceratinae Zittel,',\n 'The Wilson Journal of Ornithology',\n 'The Weta: news bulletin of the Entomological Society of New Zealand',\n 'The University of the South Pacific,  Fiji:',\n 'The ISME Journal',\n 'The Australian genera Olonia Stål,',\n 'Studia Palaeocheloniologica,',\n 'Struik Nature, Cape Town, South Africa',\n 'Tap chi Sinh hoc',\n 'Tanganika Magazyn',\n 'Taiwania',\n 'rubripinnis',\n 'Taipingshan, Taiwan',\n 'Tab Rasmussen, Anthony R',\n 'Systematics and biodiversity:',\n 'rubrovenosum  (Stål,',\n 'rotunda Chen',\n 'ruffus (Laurenti,',\n 'rufocinctus',\n 'rufus (cypriniformes: cyprinidae), three new fish species from Kerala, India',\n 'Systematic Botany Monographs',\n 'sabanillaensis from the  southwestern Atlantic Ocean',\n 'Syrian Journal of Agricultural Research',\n 'Synkrotima tsalakpmenoi sp',\n 'Svatopluk Bílý, CSc',\n 'Sudan',\n 'Systematic and illustrated Catalogue of the Heterocera (Lepidoptera) of Africa, volume',\n 'Studi Trentini di Scienze Naturali',\n 'Tapulao, Luzon Island, Philippines',\n 'Subgenera Calomycomya, Cymomya, Neomycomya and Pavomya subg',\n 'Stratigraphy',\n 'Strand (Coleoptera, Chrysomelidae, Cassidinae, Gonophorini) of Taiwan',\n 'Stolidobranchia, Styelidae',\n 'Stolidobranchia, Pyuridae and Molgulidae',\n 'Staphylinidae: Euaesthetinae, Leptotyphlinae,  Megalopsidiinae, Oxyporinae and Steninae',\n 'Taraxacum',\n 'Squat lobsters as symbionts and in chemo-autotrophic environments',\n 'Springer, Dordrecht | Heidelberg | New York | London',\n 'Subgenera Cesamya and Mycomyopsis',\n 'Springer, Dordrecht',\n 'sarawacensis Jäch including a description of the larva and new distribution data for A',\n 'Sperm storage and synchronized breeding, identified via the world’s first captive breedings of Australian Copperhead Snakes (Austrelaps Worrell,',\n 'Species with antennal club of more than three antennomeres',\n 'sarcoptera (Butler) (Lepidoptera, Nymphalidae,\\xa0Limenitidinae,\\xa0Adoliadini)',\n 'Special Publications , Museum of Texas Tech University, Lubbock, Texas, USA',\n 'Special Bulletin of the Coleopterological Society of Japan',\n 'Study of a collection sample deposited at the Russian Academy of Sciences, with descriptions of new species and a checklist',\n 'Subfamilies Bagoinae, Conoderinae and Curculioninae',\n 'Springer',\n 'Taxonomy and chorology of new or little known taxa of Andean and Neotropical Regions (Heteroptera: Miridae)',\n 'The Biological Bulletin',\n 'The Coleopterists Buleltin',\n 'SWAMINATHAN (',\n 'SWAMINATHAN  (',\n 'Revista de la Academia Canaria de Ciencias',\n 'Revue de Paléobiologie',\n 'Revista gaditana de Entomología Vii(',\n 'schmidti Kulczyński,',\n 'Revista gaditana de Entomología VII:',\n 'scripta from chicken turtle, Deirochelys reticularia, (Emydidae), with an emendation and molecular phylogeny of Spirorchis',\n 'Sahlberg (Coleoptera: Staphylinidae:  Aleocharinae) in the Korean Peninsula',\n 'Revista gaditana de Entomología VI(',\n 'Revista gaditana de Entomología IX(',\n 'Revista gaditana de Entomología IV(',\n 'Revista de la Asociación Colombiana de Ciencias Biológicas',\n 'Revista de Zoología, Universidad Nacional Autónoma de México',\n 'STUDIA GEOLOGICA SALMANTICENSIA especial',\n 'Revista de Investigaciones de la Universidad del Quindío',\n 'Revista de Ecología Latinoamericana [=Journal of Latinoamerican Ecology]',\n 'Revista de Biologia Tropical',\n 'Revista gaditana de Entomología V(',\n 'Revista de Agricultura, Piracicaba',\n 'Scott, with a new phylogenetic hypothesis regarding the relationships of the Laophontoidea T',\n 'Scutigeromorpha and Scolopendromorpha',\n 'saturata, and a key to the species of the genus (Insecta, Hemiptera, Cicadellidae, Cicadellini)',\n 'Some nomenclatorial acts and faunistic records',\n 'Smithsonian Institution Scholarly Press, Washington, D',\n 'Smithsonian Contributions to Zoology',\n 'Smithsonian Contributions to Paleobiology(',\n ...]"
     },
     "metadata": {},
     "execution_count": 302
    }
   ],
   "source": [
    "# Take a look at the journals with less than 2 occurrences as we might see some non-journals here\n",
    "list(zb_journals[~zb_journals.where(zb_journals < 2).isna()].sort_values().index)"
   ]
  },
  {
   "source": [
    "As expected, most of these are not journals, which is a different situation found on the two precedent datasets."
   ],
   "cell_type": "markdown",
   "metadata": {}
  },
  {
   "cell_type": "code",
   "execution_count": 312,
   "metadata": {},
   "outputs": [
    {
     "output_type": "execute_result",
     "data": {
      "text/plain": "journal\nZootaxa                                           16093\nZooKeys                                            4047\nnov                                                1661\nJournal of Threatened Taxa                          921\nn                                                   797\nsp                                                  581\nSystematic & applied acarology                      551\nEuropean Journal of Taxonomy(                       484\nPublic Library of Science, ONE                      430\nFar Eastern Entomologist(                           365\nRaffles Bulletin of Zoology                         352\n                                                    347\nActa Entomologica Musei Nationalis Pragae           316\nJournal of Hymenoptera Research                     310\nJapanese Journal of Systematic Entomology           272\nJournal of Systematic Palaeontology                 256\nInsecta mundi(                                      251\nBiodiversity Data Journal                           232\nComparative Cytogenetics                            232\nPeerJ                                               230\nBulletin of Zoological Nomenclature                 229\nZoosymposia                                         218\nRevista Chilena de Entomologia                      216\nInsecta Mundi(                                      211\nJournal of Natural History                          208\nAustralasian Journal of Herpetology                 202\nNature Conservation                                 191\nCaucasian Entomological Bulletin                    176\nZoologia                                            173\net sp                                               172\nJapanese Journal of systematic entomology           155\nZoosystematics and Evolution                        151\ngen                                                 150\nJournal of Insect Biodiversity and Systematics      149\nJournal of Vertebrate Paleontology                  148\nZoological Journal of the Linnean Society           145\nAcarologia                                          144\nNauplius                                            144\nEversmannia                                         143\nIchthyological Research                             141\nName: year, dtype: int64"
     },
     "metadata": {},
     "execution_count": 312
    }
   ],
   "source": [
    "# Take a look at the top 100 journals in this dataset\n",
    "zb_journals.head(40)"
   ]
  },
  {
   "source": [
    "Well, the fact that the journal 'blank' got 347 hits is not a good sign. As expected, many issues here too.\n",
    "\n",
    "![](https://media.giphy.com/media/3oEjI80DSa1grNPTDq/giphy.gif)"
   ],
   "cell_type": "markdown",
   "metadata": {}
  },
  {
   "cell_type": "code",
   "execution_count": 306,
   "metadata": {},
   "outputs": [
    {
     "output_type": "execute_result",
     "data": {
      "text/plain": "journal\nZootaxa                                                                               16093\nZootaxa,                                                                                119\nZootaxa(                                                                                 66\nActa Zootaxonomica Sinica                                                                 8\ncuriosa group (Odonata: Platystictidae)  Zootaxa,                                         2\nZootaxa:                                                                                  2\ndefectus Ferris  (Hemiptera: Pseudococcidae) distinct species? Zootaxa                    1\nPart III: North America and Greenland by Kaczmarek, Michalczyk & McInnes  (Zootaxa        1\nName: year, dtype: int64"
     },
     "metadata": {},
     "execution_count": 306
    }
   ],
   "source": [
    "# Checking for possible typos involving Zootaxa's name. Also expecting many...\n",
    "zb_journals[['Zoot'.lower() in s.lower() for s in zb_journals.index]]"
   ]
  },
  {
   "cell_type": "code",
   "execution_count": 307,
   "metadata": {},
   "outputs": [
    {
     "output_type": "execute_result",
     "data": {
      "text/plain": "journal\nZooKeys     4047\nZooKeys(      11\nZooKeys:       4\nZookeys        2\nName: year, dtype: int64"
     },
     "metadata": {},
     "execution_count": 307
    }
   ],
   "source": [
    "# Checking for possible typos involving ZooKeys's name.\n",
    "zb_journals[['Zook'.lower() in s.lower() for s in zb_journals.index]]"
   ]
  },
  {
   "cell_type": "code",
   "execution_count": 308,
   "metadata": {},
   "outputs": [
    {
     "output_type": "execute_result",
     "data": {
      "text/plain": "journal\nEuropean Journal of Taxonomy(                                                                                                                              484\nEuropean journal of taxonomy(                                                                                                                               54\nEuropean Journal of Taxonomy                                                                                                                                24\nTaxon                                                                                                                                                        8\nActa Zootaxonomica Sinica                                                                                                                                    8\nStudies and reports, Taxonomical series                                                                                                                      5\nEntomotaxonomia                                                                                                                                              5\nFibigeriana Supplement,  Book series of Taxonomy and Faunistics                                                                                              3\nXenophora taxonomy                                                                                                                                           3\nHoser, taxonomy publications to end                                                                                                                          2\nStudies and reports of District Museum Prague-East Taxonomical Series                                                                                        2\nStudies and Reports, Taxonomical Series                                                                                                                      2\nThe Taxonomic Report of the International Lepidoptera Survey                                                                                                 2\nXenophora Taxonomy                                                                                                                                           2\nFour new species from the Russian Far East with taxonomic notes                                                                                              1\nLIMACINA (GASTROPODA: GYMNOSOMATA) IN THE SOUTHERN OKHOTSK SEA, JAPAN, WITH REMARKS ON THE TAXONOMY OF THE GENUS                                             1\nsula: A review of enigmatic taxonomic names linked to Gibbosula laosensis (Lea,                                                                              1\nA taxonomic revision                                                                                                                                         1\nA taxonomic review                                                                                                                                           1\n(Hemiptera: Pseudococcidae), with taxonomic notes on some congeneric taxa                                                                                    1\nDescription d’un nouveau taxon ; répartition et spécificité des sous-genres Ethioctenophthalmus, Geoctenophthalmus et Idioctenophthalmus                     1\n(Coleoptera, Buprestidae) from the USA, including a key and taxonomic notes on other congeneric Nearctic taxa                                                1\nConfusing taxonomy of four widespread European taxa (Opiliones: Sclerosomatidae)                                                                             1\nEuropean journal of taxonomy                                                                                                                                 1\nEuropean Journal of Taxonomy:                                                                                                                                1\nDoering on land and freshwater shells from Argentina and a note on his taxon Clessinia (Odontostomidae)                                                      1\nctoris longibarbus, a new styglophic labeonine species (Teleostei: Cyprinidae) from South China, with a note on the taxonomy of R                            1\nnov helps to resolve taxonomic confusion in species of the sea anemone Epiactis (Actiniaria, Actiniidae)                                                     1\nnudithoracicus’, the sequel: Unnecessary and unscientific names lead to rapid synonymization and taxonomic time wasting—A response to Arunachalam et al      1\nin the Okavango Panhandle, Botswana, with comments on this taxon                                                                                             1\nRedescription and taxonomic revision                                                                                                                         1\nProceedings of the Royal Entomological Society of London, Series B, Taxonomy                                                                                 1\nNeoduvalius from Montenegro with taxonomical remarks on the genus Duvalius (Coleoptera, Carabidae, Trechini)                                                 1\nUn problema ocasionado por mala praxis en taxonomía (Thysanoptera: Thripidae)                                                                                1\nSatyrinae de la puna xerofítica, con la descripción de dos nuevos taxones y tres nuevos registros para Perú (Lepidoptera: Nymphalidae)                       1\nTaxonomy and chorology of new or little known taxa of Andean and Neotropical Regions (Heteroptera: Miridae)                                                  1\nTaxonomy, biogeography, and bioinvasion                                                                                                                      1\nThe Taxonomic Report of the International Lepidoptera Survey, Vol                                                                                            1\nThe Taxonomic Report of The International Lepidoptera Survey,                                                                                                1\nTaxonomy and chorology of new or little known taxa of Continental New Guinea and neighboring islands (Insecta, Heteroptera, Miridae)                         1\nTaxonomic study of Micronoctuini                                                                                                                             1\nStudies and reports of District Museum Prague-East, Taxonomical Series                                                                                       1\nName: year, dtype: int64"
     },
     "metadata": {},
     "execution_count": 308
    }
   ],
   "source": [
    "# Checking for possible typos involving European Journal of Taxonomy's name.\n",
    "zb_journals[['Taxon'.lower() in s.lower() for s in zb_journals.index]]"
   ]
  },
  {
   "source": [
    "As expected, we do have more problems with typos in this database - but I guess not enough to be a concern if we are looking at the top 10, 20 journals only. So, moving on!"
   ],
   "cell_type": "markdown",
   "metadata": {}
  },
  {
   "source": [
    "Summary of transformations needed in this dataset (Zoobank):\n",
    "\n",
    "1. Remove duplicates based on 'journal' and 'bibref_details' columns\n",
    "2. Remove rows that contains higher ranked non-jounals, such as \"nov\", \"n\", etc.\n",
    "3. Select only 'journal' and 'year' columns\n",
    "4. Rename these two columns to 'Journal' and 'Year', with capital initial letters\n",
    "5. Add a column named 'Source', with all rows = 'Zoobank'"
   ],
   "cell_type": "markdown",
   "metadata": {}
  },
  {
   "source": [
    "#### Transform\n",
    "\n"
   ],
   "cell_type": "markdown",
   "metadata": {}
  },
  {
   "source": [
    "#### SHERPA/RoMEO\n",
    "At this point, I'm not sure if I'll include it.\n"
   ],
   "cell_type": "markdown",
   "metadata": {}
  },
  {
   "source": [
    "#### Exploratory Analyses: After Transform\n"
   ],
   "cell_type": "markdown",
   "metadata": {}
  },
  {
   "source": [
    "### (L)oad\n"
   ],
   "cell_type": "markdown",
   "metadata": {}
  },
  {
   "source": [
    "## Analysis\n"
   ],
   "cell_type": "markdown",
   "metadata": {}
  },
  {
   "source": [
    "### Exploratory Analyses: Final\n"
   ],
   "cell_type": "markdown",
   "metadata": {}
  },
  {
   "source": [
    "### Question #1\n"
   ],
   "cell_type": "markdown",
   "metadata": {}
  },
  {
   "source": [
    "### Question #2\n"
   ],
   "cell_type": "markdown",
   "metadata": {}
  },
  {
   "source": [
    "### Question #3"
   ],
   "cell_type": "markdown",
   "metadata": {}
  },
  {
   "source": [
    "### Question #4"
   ],
   "cell_type": "markdown",
   "metadata": {}
  },
  {
   "source": [
    "### Question #5"
   ],
   "cell_type": "markdown",
   "metadata": {}
  },
  {
   "source": [
    "## Conclusion"
   ],
   "cell_type": "markdown",
   "metadata": {}
  },
  {
   "source": [
    "## References\n",
    "I'm not sure if i'll maintain this section or only add these to the README.md"
   ],
   "cell_type": "markdown",
   "metadata": {}
  }
 ]
}