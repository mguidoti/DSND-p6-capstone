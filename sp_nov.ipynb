{
 "metadata": {
  "language_info": {
   "codemirror_mode": {
    "name": "ipython",
    "version": 3
   },
   "file_extension": ".py",
   "mimetype": "text/x-python",
   "name": "python",
   "nbconvert_exporter": "python",
   "pygments_lexer": "ipython3",
   "version": "3.7.7-final"
  },
  "orig_nbformat": 2,
  "kernelspec": {
   "name": "python37764bitp6capstonepipenv5669ae6087ed4b09baa5acbea9b4f0de",
   "display_name": "Python 3.7.7 64-bit ('p6-capstone': pipenv)"
  }
 },
 "nbformat": 4,
 "nbformat_minor": 2,
 "cells": [
  {
   "source": [
    "# General"
   ],
   "cell_type": "markdown",
   "metadata": {}
  },
  {
   "source": [
    "## Importing Libraries and Modules"
   ],
   "cell_type": "markdown",
   "metadata": {}
  },
  {
   "cell_type": "code",
   "execution_count": 15,
   "metadata": {},
   "outputs": [],
   "source": [
    "import pandas as pd\n",
    "import matplotlib as plt\n",
    "\n",
    "import pickle\n",
    "\n",
    "from sqlalchemy import create_engine\n",
    "\n",
    "import etl.extract.tb as tb_proc \n",
    "import etl.extract.wos as wos_parser"
   ]
  },
  {
   "source": [
    "## CRISP-DM"
   ],
   "cell_type": "markdown",
   "metadata": {}
  },
  {
   "source": [
    "## ETL"
   ],
   "cell_type": "markdown",
   "metadata": {}
  },
  {
   "source": [
    "### (E)xtraction\n"
   ],
   "cell_type": "markdown",
   "metadata": {}
  },
  {
   "source": [
    "#### Web of Science/Zoological Records\n",
    "WoS do not provide an API, as far as I know, and has strict access policies across the board of all of their products. Thus, I downloaded the search results using their GUI, manually, and coded a parser from scratch that loads the data from the 150+ files into a SQLite database.\n",
    "\n",
    "The specifics on how I queried this system is in the report, Methods section."
   ],
   "cell_type": "markdown",
   "metadata": {}
  },
  {
   "cell_type": "code",
   "execution_count": 2,
   "metadata": {},
   "outputs": [],
   "source": [
    "# Parse data, creates df\n",
    "wos = wos_parser.create_df()\n",
    "\n",
    "# This is commented out because it generates a over 200Mb file that I couldn't push to GitHub, but I left it commented off here to show that I've worked on this\n",
    "\n",
    "#wos_parser.to_pickle(wos, 'data/wos.p')\n",
    "\n",
    "# As an last minute alternative, I'm using this command here to save the pandas.DataFrame into a SQLite database\n",
    "\n",
    "#TODO I've to work on this."
   ]
  },
  {
   "cell_type": "code",
   "execution_count": 3,
   "metadata": {},
   "outputs": [
    {
     "output_type": "execute_result",
     "data": {
      "text/plain": "  Publication Type Zoological Record Accession Number Document Type  \\\n0                J                    ZOOR14707048981       Article   \n1                J                    ZOOR14707048982       Article   \n2                J                    ZOOR14707048983       Article   \n3                J                    ZOOR14707048985       Article   \n4                J                    ZOOR14707048986       Article   \n\n                                               Title  \\\n0  Orthopterans of the Reserva Biologica Alberto ...   \n1  Further considerations on the genus Ananteris ...   \n2  Description of a new species of the genus Mela...   \n3  New arachnids from Puerto Rico (Arachnida: Amb...   \n4  Description of new hypogean taxa of Laparoceru...   \n\n                                       Foreign Title  \\\n0  Ortopteros de la Reserva Biologica Alberto Man...   \n1                                                NaN   \n2  Descripcion de una nueva especie del genero Me...   \n3  Nuevos aracnidos de Puerto Rico (Arachnida: Am...   \n4  Descripcion de nuevos Laparocerus hipogeos de ...   \n\n                                             Authors             Source  \\\n0                    Barranco, Pablo (pbvega@ual.es)  Boletin de la SEA   \n1  Lourenco, Wilson R. (arache@mnhn.fr), Duhem, B...  Boletin de la SEA   \n2             Ferrer, Julio, Tovar, Alejandro Castro  Boletin de la SEA   \n3            de Armas, Luis F. (zoologia.ies@ama.cu)  Boletin de la SEA   \n4  Machado, Antonio (a.machado@telefonica.net), G...  Boletin de la SEA   \n\n  Volume Page Span Publication Date  ... Journal URL Item URL Notes  NaN  \\\n0     47     21-32      31 Dec 2010  ...         NaN      NaN   NaN  NaN   \n1     47     33-38      31 Dec 2010  ...         NaN      NaN   NaN  NaN   \n2     47     39-44      31 Dec 2010  ...         NaN      NaN   NaN  NaN   \n3     47     55-64      31 Dec 2010  ...         NaN      NaN   NaN  NaN   \n4     47     65-69      31 Dec 2010  ...         NaN      NaN   NaN  NaN   \n\n  Book Authors Publisher Publisher Address  \\\n0          NaN       NaN               NaN   \n1          NaN       NaN               NaN   \n2          NaN       NaN               NaN   \n3          NaN       NaN               NaN   \n4          NaN       NaN               NaN   \n\n  International Standard Book Number (ISBN) Editors Group Authors  \n0                                       NaN     NaN           NaN  \n1                                       NaN     NaN           NaN  \n2                                       NaN     NaN           NaN  \n3                                       NaN     NaN           NaN  \n4                                       NaN     NaN           NaN  \n\n[5 rows x 42 columns]",
      "text/html": "<div>\n<style scoped>\n    .dataframe tbody tr th:only-of-type {\n        vertical-align: middle;\n    }\n\n    .dataframe tbody tr th {\n        vertical-align: top;\n    }\n\n    .dataframe thead th {\n        text-align: right;\n    }\n</style>\n<table border=\"1\" class=\"dataframe\">\n  <thead>\n    <tr style=\"text-align: right;\">\n      <th></th>\n      <th>Publication Type</th>\n      <th>Zoological Record Accession Number</th>\n      <th>Document Type</th>\n      <th>Title</th>\n      <th>Foreign Title</th>\n      <th>Authors</th>\n      <th>Source</th>\n      <th>Volume</th>\n      <th>Page Span</th>\n      <th>Publication Date</th>\n      <th>...</th>\n      <th>Journal URL</th>\n      <th>Item URL</th>\n      <th>Notes</th>\n      <th>NaN</th>\n      <th>Book Authors</th>\n      <th>Publisher</th>\n      <th>Publisher Address</th>\n      <th>International Standard Book Number (ISBN)</th>\n      <th>Editors</th>\n      <th>Group Authors</th>\n    </tr>\n  </thead>\n  <tbody>\n    <tr>\n      <th>0</th>\n      <td>J</td>\n      <td>ZOOR14707048981</td>\n      <td>Article</td>\n      <td>Orthopterans of the Reserva Biologica Alberto ...</td>\n      <td>Ortopteros de la Reserva Biologica Alberto Man...</td>\n      <td>Barranco, Pablo (pbvega@ual.es)</td>\n      <td>Boletin de la SEA</td>\n      <td>47</td>\n      <td>21-32</td>\n      <td>31 Dec 2010</td>\n      <td>...</td>\n      <td>NaN</td>\n      <td>NaN</td>\n      <td>NaN</td>\n      <td>NaN</td>\n      <td>NaN</td>\n      <td>NaN</td>\n      <td>NaN</td>\n      <td>NaN</td>\n      <td>NaN</td>\n      <td>NaN</td>\n    </tr>\n    <tr>\n      <th>1</th>\n      <td>J</td>\n      <td>ZOOR14707048982</td>\n      <td>Article</td>\n      <td>Further considerations on the genus Ananteris ...</td>\n      <td>NaN</td>\n      <td>Lourenco, Wilson R. (arache@mnhn.fr), Duhem, B...</td>\n      <td>Boletin de la SEA</td>\n      <td>47</td>\n      <td>33-38</td>\n      <td>31 Dec 2010</td>\n      <td>...</td>\n      <td>NaN</td>\n      <td>NaN</td>\n      <td>NaN</td>\n      <td>NaN</td>\n      <td>NaN</td>\n      <td>NaN</td>\n      <td>NaN</td>\n      <td>NaN</td>\n      <td>NaN</td>\n      <td>NaN</td>\n    </tr>\n    <tr>\n      <th>2</th>\n      <td>J</td>\n      <td>ZOOR14707048983</td>\n      <td>Article</td>\n      <td>Description of a new species of the genus Mela...</td>\n      <td>Descripcion de una nueva especie del genero Me...</td>\n      <td>Ferrer, Julio, Tovar, Alejandro Castro</td>\n      <td>Boletin de la SEA</td>\n      <td>47</td>\n      <td>39-44</td>\n      <td>31 Dec 2010</td>\n      <td>...</td>\n      <td>NaN</td>\n      <td>NaN</td>\n      <td>NaN</td>\n      <td>NaN</td>\n      <td>NaN</td>\n      <td>NaN</td>\n      <td>NaN</td>\n      <td>NaN</td>\n      <td>NaN</td>\n      <td>NaN</td>\n    </tr>\n    <tr>\n      <th>3</th>\n      <td>J</td>\n      <td>ZOOR14707048985</td>\n      <td>Article</td>\n      <td>New arachnids from Puerto Rico (Arachnida: Amb...</td>\n      <td>Nuevos aracnidos de Puerto Rico (Arachnida: Am...</td>\n      <td>de Armas, Luis F. (zoologia.ies@ama.cu)</td>\n      <td>Boletin de la SEA</td>\n      <td>47</td>\n      <td>55-64</td>\n      <td>31 Dec 2010</td>\n      <td>...</td>\n      <td>NaN</td>\n      <td>NaN</td>\n      <td>NaN</td>\n      <td>NaN</td>\n      <td>NaN</td>\n      <td>NaN</td>\n      <td>NaN</td>\n      <td>NaN</td>\n      <td>NaN</td>\n      <td>NaN</td>\n    </tr>\n    <tr>\n      <th>4</th>\n      <td>J</td>\n      <td>ZOOR14707048986</td>\n      <td>Article</td>\n      <td>Description of new hypogean taxa of Laparoceru...</td>\n      <td>Descripcion de nuevos Laparocerus hipogeos de ...</td>\n      <td>Machado, Antonio (a.machado@telefonica.net), G...</td>\n      <td>Boletin de la SEA</td>\n      <td>47</td>\n      <td>65-69</td>\n      <td>31 Dec 2010</td>\n      <td>...</td>\n      <td>NaN</td>\n      <td>NaN</td>\n      <td>NaN</td>\n      <td>NaN</td>\n      <td>NaN</td>\n      <td>NaN</td>\n      <td>NaN</td>\n      <td>NaN</td>\n      <td>NaN</td>\n      <td>NaN</td>\n    </tr>\n  </tbody>\n</table>\n<p>5 rows × 42 columns</p>\n</div>"
     },
     "metadata": {},
     "execution_count": 3
    }
   ],
   "source": [
    "# Checking if it loaded\n",
    "wos.head()"
   ]
  },
  {
   "source": [
    "#### TreatmentBank (Plazi)\n",
    "TreatmentBank has a powerful API with GUI. I used it to built the target query, and copied/pasted their URL into my code. From there I processed the results, adding them into a SQLite database. "
   ],
   "cell_type": "markdown",
   "metadata": {}
  },
  {
   "cell_type": "code",
   "execution_count": 6,
   "metadata": {
    "tags": []
   },
   "outputs": [],
   "source": [
    "# Process the hard-coded API call and creates a database from it\n",
    "# I'm commenting out because the SQLite db was provided and it contains a snapshot of the data I analyzed. As this includes an API call, running this now might get new data, changing my results\n",
    "\n",
    "#tb_proc.create_db(tb_proc.get_data())\n",
    "\n",
    "# Alternatively, I can simply load the .db\n",
    "db_connect = create_engine('sqlite:///data/tb.db')\n",
    "\n",
    "tb = pd.read_sql(\"docs\", con=db_connect)"
   ]
  },
  {
   "cell_type": "code",
   "execution_count": 7,
   "metadata": {},
   "outputs": [
    {
     "output_type": "execute_result",
     "data": {
      "text/plain": "   id                                            authors  year  \\\n0   1  Fernandez-Triana, Jose L & Whitfield, James B ...  2014   \n1   2      Barrales-Alcala, Diego A. & Francke, Oscar F.  2018   \n2   3  Guevara-Guerrero, Gonzalo & Bonito, Gregory & ...  2018   \n3   4  Balke, Michael & Ruthensteiner, Bernhard & War...  2015   \n4   5          Costa, Wilson J. E. M. & Amorim, Pedro F.  2018   \n\n                                               title  \\\n0  First record of the genus Venanus (Hymenoptera...   \n1  A new Sky Island species of Vaejovis C. L. Koc...   \n2  Tuberaztecorum sp. nov., a truffle species fro...   \n3  Two new species of Limbodessus diving beetles ...   \n4  Cryptic species diversity in the Hypsolebiasma...   \n\n                     journal volume issue start_page end_page num_treats  \n0  Biodiversity Data Journal      2     0       4167     4167          4  \n1                    ZooKeys    760     0         37       53          2  \n2                   MycoKeys     30     0         61       72          2  \n3  Biodiversity Data Journal      3     0       7096     7096          4  \n4                    ZooKeys    777     0        141      158          4  ",
      "text/html": "<div>\n<style scoped>\n    .dataframe tbody tr th:only-of-type {\n        vertical-align: middle;\n    }\n\n    .dataframe tbody tr th {\n        vertical-align: top;\n    }\n\n    .dataframe thead th {\n        text-align: right;\n    }\n</style>\n<table border=\"1\" class=\"dataframe\">\n  <thead>\n    <tr style=\"text-align: right;\">\n      <th></th>\n      <th>id</th>\n      <th>authors</th>\n      <th>year</th>\n      <th>title</th>\n      <th>journal</th>\n      <th>volume</th>\n      <th>issue</th>\n      <th>start_page</th>\n      <th>end_page</th>\n      <th>num_treats</th>\n    </tr>\n  </thead>\n  <tbody>\n    <tr>\n      <th>0</th>\n      <td>1</td>\n      <td>Fernandez-Triana, Jose L &amp; Whitfield, James B ...</td>\n      <td>2014</td>\n      <td>First record of the genus Venanus (Hymenoptera...</td>\n      <td>Biodiversity Data Journal</td>\n      <td>2</td>\n      <td>0</td>\n      <td>4167</td>\n      <td>4167</td>\n      <td>4</td>\n    </tr>\n    <tr>\n      <th>1</th>\n      <td>2</td>\n      <td>Barrales-Alcala, Diego A. &amp; Francke, Oscar F.</td>\n      <td>2018</td>\n      <td>A new Sky Island species of Vaejovis C. L. Koc...</td>\n      <td>ZooKeys</td>\n      <td>760</td>\n      <td>0</td>\n      <td>37</td>\n      <td>53</td>\n      <td>2</td>\n    </tr>\n    <tr>\n      <th>2</th>\n      <td>3</td>\n      <td>Guevara-Guerrero, Gonzalo &amp; Bonito, Gregory &amp; ...</td>\n      <td>2018</td>\n      <td>Tuberaztecorum sp. nov., a truffle species fro...</td>\n      <td>MycoKeys</td>\n      <td>30</td>\n      <td>0</td>\n      <td>61</td>\n      <td>72</td>\n      <td>2</td>\n    </tr>\n    <tr>\n      <th>3</th>\n      <td>4</td>\n      <td>Balke, Michael &amp; Ruthensteiner, Bernhard &amp; War...</td>\n      <td>2015</td>\n      <td>Two new species of Limbodessus diving beetles ...</td>\n      <td>Biodiversity Data Journal</td>\n      <td>3</td>\n      <td>0</td>\n      <td>7096</td>\n      <td>7096</td>\n      <td>4</td>\n    </tr>\n    <tr>\n      <th>4</th>\n      <td>5</td>\n      <td>Costa, Wilson J. E. M. &amp; Amorim, Pedro F.</td>\n      <td>2018</td>\n      <td>Cryptic species diversity in the Hypsolebiasma...</td>\n      <td>ZooKeys</td>\n      <td>777</td>\n      <td>0</td>\n      <td>141</td>\n      <td>158</td>\n      <td>4</td>\n    </tr>\n  </tbody>\n</table>\n</div>"
     },
     "metadata": {},
     "execution_count": 7
    }
   ],
   "source": [
    "# Checking if it loaded\n",
    "tb.head()"
   ]
  },
  {
   "source": [
    "#### Zoobank\n",
    "As explained, I performed a web scraping to collect data from Zoobank. For this, I used a Scrapy project, with custom Item, ItemLoader, in- and output processors and ItemPipeline. These can't quite be run from here, as far as I know, I can only create a CrawlerProcess that won't have these functionalities. This was then saved into a SQLite database, which is alternatively loaded here."
   ],
   "cell_type": "markdown",
   "metadata": {}
  },
  {
   "cell_type": "code",
   "execution_count": 8,
   "metadata": {},
   "outputs": [],
   "source": [
    "# Load the .db created from the web scraping\n",
    "db_connect = create_engine('sqlite:///data/zb.db')\n",
    "\n",
    "zb = pd.read_sql(\"docs\", con=db_connect)"
   ]
  },
  {
   "cell_type": "code",
   "execution_count": 9,
   "metadata": {},
   "outputs": [
    {
     "output_type": "execute_result",
     "data": {
      "text/plain": "   id                                            authors  year  \\\n0   1  Achatz, Johannes G., Matthew D. Hooge, A. Wall...  2010   \n1   2   Affilastro, Andrés A. O. & Ignacio Garcia-Mauro.  2010   \n2   3                                   Ahyong, Shane T.  2010   \n3   4  Ahyong, Shane T., Keiji Baba, Enrique Macphers...  2010   \n4   5                     Aibek, Ulykpan & Seiki Yamane.  2010   \n\n                                               title  \\\n0  Systematic revision of acoels with 9+0 sperm u...   \n1  A new Bothriurus (Scorpiones, Bothriuridae) fr...   \n2  The marine fauna of New Zealand: king crabs of...   \n3  A new classification of the Galatheoidea (Crus...   \n4  Discovery of the Subgenera Austrolasius and De...   \n\n                                             journal  bibref_details volume  \\\n0  Journal of Zoological Systematics and Evolutio...     48(1): 9-32     48   \n1                                            Zootaxa     2488: 52-64   2488   \n2                                                 No                          \n3                                            Zootaxa     2676: 57-68   2676   \n4          Japanese Journal of systematic entomology  16(2): 197-202     16   \n\n  issue start_page end_page from_year  \n0     1          9       32      2010  \n1               52       64      2010  \n2                                2010  \n3               57       68      2010  \n4     2        197      202      2010  ",
      "text/html": "<div>\n<style scoped>\n    .dataframe tbody tr th:only-of-type {\n        vertical-align: middle;\n    }\n\n    .dataframe tbody tr th {\n        vertical-align: top;\n    }\n\n    .dataframe thead th {\n        text-align: right;\n    }\n</style>\n<table border=\"1\" class=\"dataframe\">\n  <thead>\n    <tr style=\"text-align: right;\">\n      <th></th>\n      <th>id</th>\n      <th>authors</th>\n      <th>year</th>\n      <th>title</th>\n      <th>journal</th>\n      <th>bibref_details</th>\n      <th>volume</th>\n      <th>issue</th>\n      <th>start_page</th>\n      <th>end_page</th>\n      <th>from_year</th>\n    </tr>\n  </thead>\n  <tbody>\n    <tr>\n      <th>0</th>\n      <td>1</td>\n      <td>Achatz, Johannes G., Matthew D. Hooge, A. Wall...</td>\n      <td>2010</td>\n      <td>Systematic revision of acoels with 9+0 sperm u...</td>\n      <td>Journal of Zoological Systematics and Evolutio...</td>\n      <td>48(1): 9-32</td>\n      <td>48</td>\n      <td>1</td>\n      <td>9</td>\n      <td>32</td>\n      <td>2010</td>\n    </tr>\n    <tr>\n      <th>1</th>\n      <td>2</td>\n      <td>Affilastro, Andrés A. O. &amp; Ignacio Garcia-Mauro.</td>\n      <td>2010</td>\n      <td>A new Bothriurus (Scorpiones, Bothriuridae) fr...</td>\n      <td>Zootaxa</td>\n      <td>2488: 52-64</td>\n      <td>2488</td>\n      <td></td>\n      <td>52</td>\n      <td>64</td>\n      <td>2010</td>\n    </tr>\n    <tr>\n      <th>2</th>\n      <td>3</td>\n      <td>Ahyong, Shane T.</td>\n      <td>2010</td>\n      <td>The marine fauna of New Zealand: king crabs of...</td>\n      <td>No</td>\n      <td></td>\n      <td></td>\n      <td></td>\n      <td></td>\n      <td></td>\n      <td>2010</td>\n    </tr>\n    <tr>\n      <th>3</th>\n      <td>4</td>\n      <td>Ahyong, Shane T., Keiji Baba, Enrique Macphers...</td>\n      <td>2010</td>\n      <td>A new classification of the Galatheoidea (Crus...</td>\n      <td>Zootaxa</td>\n      <td>2676: 57-68</td>\n      <td>2676</td>\n      <td></td>\n      <td>57</td>\n      <td>68</td>\n      <td>2010</td>\n    </tr>\n    <tr>\n      <th>4</th>\n      <td>5</td>\n      <td>Aibek, Ulykpan &amp; Seiki Yamane.</td>\n      <td>2010</td>\n      <td>Discovery of the Subgenera Austrolasius and De...</td>\n      <td>Japanese Journal of systematic entomology</td>\n      <td>16(2): 197-202</td>\n      <td>16</td>\n      <td>2</td>\n      <td>197</td>\n      <td>202</td>\n      <td>2010</td>\n    </tr>\n  </tbody>\n</table>\n</div>"
     },
     "metadata": {},
     "execution_count": 9
    }
   ],
   "source": [
    "# Checking if it loaded\n",
    "zb.head()"
   ]
  },
  {
   "source": [
    "#### Exploratory Analyses: Extraction Tests\n",
    "Here I will make a series of tests to check if I'm getting all the data that I was supposed to be getting. For that, I'm going to use Python's assert, and some manual observations.\n"
   ],
   "cell_type": "markdown",
   "metadata": {}
  },
  {
   "source": [
    "##### Web of Science/Zoological Records\n",
    "These were the observed results from the WoS GUI, per year:\n",
    "\n",
    "- 2010: 7207 results\n",
    "- 2011: 7480 results\n",
    "- 2012: 7604 results\n",
    "- 2013: 7655 results\n",
    "- 2014: 7456 results\n",
    "- 2015: 7983 results\n",
    "- 2016: 7859 results\n",
    "- 2017: 8023 results\n",
    "- 2018: 7973 results\n",
    "- 2019: 7664 results\n",
    "- 2020: 3548 results\n"
   ],
   "cell_type": "markdown",
   "metadata": {}
  },
  {
   "cell_type": "code",
   "execution_count": 10,
   "metadata": {},
   "outputs": [],
   "source": [
    "# Create a dict with year: official results, to be used on a data consistency test\n",
    "wos_results = {\n",
    "    '2010': 7207,\n",
    "    '2011': 7480,\n",
    "    '2012': 7604,\n",
    "    '2013': 7655,\n",
    "    '2014': 7456,\n",
    "    '2015': 7983,\n",
    "    '2016': 7859,\n",
    "    '2017': 8023,\n",
    "    '2018': 7973,\n",
    "    '2019': 7664,\n",
    "    '2020': 3548,\n",
    "}"
   ]
  },
  {
   "cell_type": "code",
   "execution_count": 36,
   "metadata": {},
   "outputs": [
    {
     "output_type": "execute_result",
     "data": {
      "text/plain": "Index([                                     'Publication Type',\n                          'Zoological Record Accession Number',\n                                               'Document Type',\n                                                       'Title',\n                                               'Foreign Title',\n                                                     'Authors',\n                                                      'Source',\n                                                      'Volume',\n                                                   'Page Span',\n                                            'Publication Date',\n                                              'Year Published',\n                                                    'Language',\n                                 'Usage Count (Last 180 Days)',\n                                    'Usage Count (Since 2013)',\n                                                    'Abstract',\n                                              'Author Address',\n                                              'E-mail Address',\n       'ORCID Identifier (Open Researcher and Contributor ID)',\n                                              'Research Areas',\n                 'International Standard Serial Number (ISSN)',\n                                                 'Broad Terms',\n                                            'Descriptors Data',\n                                                  'Taxa Notes',\n                                                  'Super Taxa',\n                                                 'Systematics',\n                                   'Unique Article Identifier',\n                              'Date this report was generated',\n                                                       'Issue',\n                                       'Open Access Indicator',\n                             'Digital Object Identifier (DOI)',\n                                         'ResearcherID Number',\n                                                  'Supplement',\n                                                 'Journal URL',\n                                                    'Item URL',\n                                                       'Notes',\n                                                          None,\n                                                'Book Authors',\n                                                   'Publisher',\n                                           'Publisher Address',\n                   'International Standard Book Number (ISBN)',\n                                                     'Editors',\n                                               'Group Authors'],\n      dtype='object')"
     },
     "metadata": {},
     "execution_count": 36
    }
   ],
   "source": [
    "# Checkout column names to get the right one: 'Year Published'\n",
    "wos.columns"
   ]
  },
  {
   "cell_type": "code",
   "execution_count": 12,
   "metadata": {},
   "outputs": [],
   "source": [
    "# Create a pandas.Series with the ordered counts of the 'Year Published' column\n",
    "wos_years_count = wos['Year Published'].value_counts().sort_index()"
   ]
  },
  {
   "cell_type": "code",
   "execution_count": 47,
   "metadata": {
    "tags": []
   },
   "outputs": [],
   "source": [
    "def test_data(source, series_wos, dict_real_wos):\n",
    "    \"\"\"Test unit for the Web of Science/Zoological Records data extraction\n",
    "\n",
    "        Args:\n",
    "            source (str): Name of the source\n",
    "            series_wos (pandas.Series): Contains the value counts per year from the extracted data\n",
    "            dict_real_wos (dict): Contains the actual observed results from WoS GUI\n",
    "    \"\"\"\n",
    "    wos_total_results = sum(dict_real_wos.values())\n",
    "\n",
    "    print('-'*74)                   # Begin with my cool divider\n",
    "    print(\"Testing for... {}\".format(source.upper()))\n",
    "    print('-'*74)                   # Print a cool divider\n",
    "\n",
    "    # Assertions about the total counts\n",
    "    try:\n",
    "        assert(wos_total_results == series_wos.sum())\n",
    "        print(\"SUCCESS! Total count was equal between the processed and official results!\")\n",
    "    except:\n",
    "        print(\"FAILED! There is a difference of {} records between the processed and official results!\".format(series_wos.sum() - wos_total_results))\n",
    "\n",
    "    print('-'*74)                   # Print a cool divider\n",
    "\n",
    "    # # Assertions about the individual years\n",
    "    for key in wos_results:\n",
    "        try:\n",
    "            assert(dict_real_wos[key] == series_wos[key])\n",
    "            print(\"SUCCESS! the year {} seems to be fine!\".format(key))\n",
    "        except:\n",
    "            print(\"FAILED! The year {} got a difference of {} between the processed and official results\".format(key, series_wos[key] - dict_real_wos[key]))\n",
    "    \n",
    "    print('-'*74)                   # Finish with my cool divider\n",
    "\n"
   ]
  },
  {
   "cell_type": "code",
   "execution_count": 48,
   "metadata": {
    "tags": []
   },
   "outputs": [
    {
     "output_type": "stream",
     "name": "stdout",
     "text": "--------------------------------------------------------------------------\nTesting for... WOS/ZOOLOGICAL RECORDS\n--------------------------------------------------------------------------\nSUCCESS! Total count was equal between the processed and official results!\n--------------------------------------------------------------------------\nSUCCESS! the year 2010 seems to be fine!\nSUCCESS! the year 2011 seems to be fine!\nSUCCESS! the year 2012 seems to be fine!\nSUCCESS! the year 2013 seems to be fine!\nSUCCESS! the year 2014 seems to be fine!\nSUCCESS! the year 2015 seems to be fine!\nSUCCESS! the year 2016 seems to be fine!\nSUCCESS! the year 2017 seems to be fine!\nSUCCESS! the year 2018 seems to be fine!\nSUCCESS! the year 2019 seems to be fine!\nSUCCESS! the year 2020 seems to be fine!\n--------------------------------------------------------------------------\n"
    }
   ],
   "source": [
    "# Calling the test with WoS/Zoological Record data\n",
    "test_data(\"WoS/Zoological Records\", wos_years_count, wos_results)"
   ]
  },
  {
   "source": [
    "##### TreatmentBank\n",
    "I can't make new API calls. The reason why is that as the data is live I might risk to get more data than I have got when I first run this, which could cause different results. \n",
    "\n",
    "That's why I saved a .pickle file with the entire response of the API on the routine call, besides the .db resulting of the processing of this data. As such, I can compare the total number of records in both (and per year!) to check if my processing missed something or not, using the same function applied to WoS data."
   ],
   "cell_type": "markdown",
   "metadata": {}
  },
  {
   "cell_type": "code",
   "execution_count": 43,
   "metadata": {},
   "outputs": [],
   "source": [
    "# Creating a dict with the counts of records per year, based on the total response saved from the API call to TreatmentBank\n",
    "\n",
    "# Open .pickle\n",
    "with open('data/tb_response.p', 'rb') as p_file:\n",
    "        tb_response = pickle.load(p_file)\n",
    "\n",
    "tb_response_years_count = dict()\n",
    "\n",
    "# Iterate over the full response, and create the counting\n",
    "for result in tb_response['data']:\n",
    "    try:\n",
    "        tb_response_years_count[result['BibYear']] += 1\n",
    "    except:\n",
    "        tb_response_years_count[result['BibYear']] = 1"
   ]
  },
  {
   "cell_type": "code",
   "execution_count": 46,
   "metadata": {},
   "outputs": [],
   "source": [
    "# Create a pandas.Series with the ordered counts of the 'year' column\n",
    "tb_years_count = tb['year'].value_counts().sort_index()"
   ]
  },
  {
   "cell_type": "code",
   "execution_count": 49,
   "metadata": {
    "tags": []
   },
   "outputs": [
    {
     "output_type": "stream",
     "name": "stdout",
     "text": "--------------------------------------------------------------------------\nTesting for... TREATMENTBANK\n--------------------------------------------------------------------------\nSUCCESS! Total count was equal between the processed and official results!\n--------------------------------------------------------------------------\nSUCCESS! the year 2010 seems to be fine!\nSUCCESS! the year 2011 seems to be fine!\nSUCCESS! the year 2012 seems to be fine!\nSUCCESS! the year 2013 seems to be fine!\nSUCCESS! the year 2014 seems to be fine!\nSUCCESS! the year 2015 seems to be fine!\nSUCCESS! the year 2016 seems to be fine!\nSUCCESS! the year 2017 seems to be fine!\nSUCCESS! the year 2018 seems to be fine!\nSUCCESS! the year 2019 seems to be fine!\nSUCCESS! the year 2020 seems to be fine!\n--------------------------------------------------------------------------\n"
    }
   ],
   "source": [
    "# Calling the test with TreatmentBank data\n",
    "test_data(\"TreatmentBank\", tb_years_count, tb_response_years_count)"
   ]
  },
  {
   "source": [
    "##### Zoobank\n",
    "These were the observed results from the Zoobank, per year:\n",
    "\n",
    "- 2010: 1128 results\n",
    "- 2011: 1430 results\n",
    "- 2012: 2482 results\n",
    "- 2013: 4293 results\n",
    "- 2014: 4829 results\n",
    "- 2015: 5552 results\n",
    "- 2016: 5732 results\n",
    "- 2017: 6098 results\n",
    "- 2018: 6401 results\n",
    "- 2019: 6386 results\n",
    "- 2020: 4554 results"
   ],
   "cell_type": "markdown",
   "metadata": {}
  },
  {
   "cell_type": "code",
   "execution_count": 59,
   "metadata": {},
   "outputs": [],
   "source": [
    "# Create a dict with year: official results, to be used on a data consistency test\n",
    "zb_results = {\n",
    "    '2010': 1128,\n",
    "    '2011': 1430,\n",
    "    '2012': 2482,\n",
    "    '2013': 4293,\n",
    "    '2014': 4829,\n",
    "    '2015': 5552,\n",
    "    '2016': 5732,\n",
    "    '2017': 6098,\n",
    "    '2018': 6401,\n",
    "    '2019': 6386,\n",
    "    '2020': 4554,\n",
    "}"
   ]
  },
  {
   "cell_type": "code",
   "execution_count": 54,
   "metadata": {},
   "outputs": [
    {
     "output_type": "execute_result",
     "data": {
      "text/plain": "['id',\n 'authors',\n 'year',\n 'title',\n 'journal',\n 'bibref_details',\n 'volume',\n 'issue',\n 'start_page',\n 'end_page',\n 'from_year']"
     },
     "metadata": {},
     "execution_count": 54
    }
   ],
   "source": [
    "# Check the existing columns in this dataframe\n",
    "list(zb.columns)"
   ]
  },
  {
   "source": [
    "Here there is one interesting caveat. Zoobank allow users to register papers from the past, and when queried by year, it shows not the publications published on that year, but the publications **registred** on that year. \n",
    "\n",
    "As such, we might have all sort of years in the column 'year'."
   ],
   "cell_type": "markdown",
   "metadata": {}
  },
  {
   "cell_type": "code",
   "execution_count": 56,
   "metadata": {},
   "outputs": [
    {
     "output_type": "execute_result",
     "data": {
      "text/plain": "1847       2\n1877       2\n1878       1\n1880       2\n1881       1\n1883       1\n1887       2\n1888       2\n1889       3\n1894       1\n1896       2\n1898       2\n1902       1\n1905       1\n1917       1\n1919       3\n1923       1\n1927       3\n1932       1\n1933       1\n1936       1\n1937       5\n1951       4\n1952       3\n1960       1\n1962       1\n1967       1\n1969       1\n1972       2\n1986       1\n1989       1\n1996       2\n1999       4\n2001       1\n2002       1\n2003       9\n2004       1\n2008       1\n2009       4\n2010    1023\n2011    1318\n2012    2387\n2013    4253\n2014    4774\n2015    5550\n2016    5779\n2017    6119\n2018    6434\n2019    6497\n2020    4674\nName: year, dtype: int64"
     },
     "metadata": {},
     "execution_count": 56
    }
   ],
   "source": [
    "# Create a pandas.Series with the ordered counts of the 'year' column\n",
    "zb_years_count = zb['year'].value_counts().sort_index()\n",
    "\n",
    "# Check results\n",
    "zb_years_count"
   ]
  },
  {
   "source": [
    "To address this situation, I included a column on zb.db called 'from_year', which extracts the year being queried on the response.url, inside the parser() of the spider used to scrape Zoobank, and add to this column. \n",
    "\n",
    "This means that we can get the total (included) per year, to compare with the official results."
   ],
   "cell_type": "markdown",
   "metadata": {}
  },
  {
   "cell_type": "code",
   "execution_count": 57,
   "metadata": {},
   "outputs": [
    {
     "output_type": "execute_result",
     "data": {
      "text/plain": "2010    1128\n2011    1430\n2012    2482\n2013    4293\n2014    4829\n2015    5552\n2016    5732\n2017    6098\n2018    6401\n2019    6386\n2020    4554\nName: from_year, dtype: int64"
     },
     "metadata": {},
     "execution_count": 57
    }
   ],
   "source": [
    "# Create a pandas.Series with the ordered counts of the 'Year Published' column\n",
    "zb_years_count = zb['from_year'].value_counts().sort_index()\n",
    "\n",
    "# Check results\n",
    "zb_years_count"
   ]
  },
  {
   "cell_type": "code",
   "execution_count": 60,
   "metadata": {
    "tags": []
   },
   "outputs": [
    {
     "output_type": "stream",
     "name": "stdout",
     "text": "--------------------------------------------------------------------------\nTesting for... ZOOBANK\n--------------------------------------------------------------------------\nSUCCESS! Total count was equal between the processed and official results!\n--------------------------------------------------------------------------\nSUCCESS! the year 2010 seems to be fine!\nSUCCESS! the year 2011 seems to be fine!\nSUCCESS! the year 2012 seems to be fine!\nSUCCESS! the year 2013 seems to be fine!\nSUCCESS! the year 2014 seems to be fine!\nSUCCESS! the year 2015 seems to be fine!\nSUCCESS! the year 2016 seems to be fine!\nSUCCESS! the year 2017 seems to be fine!\nSUCCESS! the year 2018 seems to be fine!\nSUCCESS! the year 2019 seems to be fine!\nSUCCESS! the year 2020 seems to be fine!\n--------------------------------------------------------------------------\n"
    }
   ],
   "source": [
    "# Now that I have both dictionary with official results and the pandas.Series with the processed results, I can call the unit test function\n",
    "test_data(\"Zoobank\", zb_years_count, zb_results) "
   ]
  },
  {
   "source": [
    "It seems that the data I processed into databases are consistent with the data observed from the sources. The processing stages were done flawlessly. \n",
    "\n",
    "It's time to move on."
   ],
   "cell_type": "markdown",
   "metadata": {}
  },
  {
   "source": [
    "### (T)ransform\n"
   ],
   "cell_type": "markdown",
   "metadata": {}
  },
  {
   "source": [
    "#### Web of Science/Zoological Records\n"
   ],
   "cell_type": "markdown",
   "metadata": {}
  },
  {
   "source": [
    "#### TreatmentBank (Plazi)\n"
   ],
   "cell_type": "markdown",
   "metadata": {}
  },
  {
   "source": [
    "#### Zoobank\n"
   ],
   "cell_type": "markdown",
   "metadata": {}
  },
  {
   "source": [
    "#### SHERPA/RoMEO\n",
    "At this point, I'm not sure if I'll include it.\n"
   ],
   "cell_type": "markdown",
   "metadata": {}
  },
  {
   "source": [
    "#### Exploratory Analyses: Transform\n"
   ],
   "cell_type": "markdown",
   "metadata": {}
  },
  {
   "source": [
    "### (L)oad\n"
   ],
   "cell_type": "markdown",
   "metadata": {}
  },
  {
   "source": [
    "## Analysis\n"
   ],
   "cell_type": "markdown",
   "metadata": {}
  },
  {
   "source": [
    "### Exploratory Analyses: Final\n"
   ],
   "cell_type": "markdown",
   "metadata": {}
  },
  {
   "source": [
    "### Question #1\n"
   ],
   "cell_type": "markdown",
   "metadata": {}
  },
  {
   "source": [
    "### Question #2\n"
   ],
   "cell_type": "markdown",
   "metadata": {}
  },
  {
   "source": [
    "### Question #3"
   ],
   "cell_type": "markdown",
   "metadata": {}
  },
  {
   "source": [
    "### Question #4"
   ],
   "cell_type": "markdown",
   "metadata": {}
  },
  {
   "source": [
    "### Question #5"
   ],
   "cell_type": "markdown",
   "metadata": {}
  },
  {
   "source": [
    "## Conclusion"
   ],
   "cell_type": "markdown",
   "metadata": {}
  },
  {
   "source": [
    "## References\n",
    "I'm not sure if i'll maintain this section or only add these to the README.md"
   ],
   "cell_type": "markdown",
   "metadata": {}
  }
 ]
}